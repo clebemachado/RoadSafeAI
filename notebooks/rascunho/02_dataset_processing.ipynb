{
  "cells": [
    {
      "cell_type": "markdown",
      "metadata": {
        "id": "6TC1N4jltm7Y"
      },
      "source": [
        "# **Unificação de dados de Dados de Acidentes de Trânsito no Brasil (2007-2024)**\n",
        "\n",
        "Este notebook descreve o processo de de pré-processamento dos dados coletados  sobre acidentes de trânsito no Brasil, utilizando informações fornecidas pelo Departamento Nacional de Trânsito (DETRAN)."
      ]
    },
    {
      "cell_type": "code",
      "execution_count": 2,
      "metadata": {
        "id": "dJHAwhritlqb"
      },
      "outputs": [
        {
          "data": {
            "text/plain": [
              "{'Diretórios de Entrada': './files/raw/',\n",
              " 'Diretórios de Saída': './files/processed/'}"
            ]
          },
          "execution_count": 2,
          "metadata": {},
          "output_type": "execute_result"
        }
      ],
      "source": [
        "# Estabelecendo o diretório raiz do projeto\n",
        "notebook_path = Path.cwd()\n",
        "project_root = notebook_path.parent\n",
        "sys.path.append(str(project_root / \"src\"))\n",
        "\n",
        "# Importando bibliotecas necessárias\n",
        "import sys\n",
        "import os\n",
        "from pathlib import Path\n",
        "import pandas as pd\n",
        "import matplotlib.pyplot as plt\n",
        "import seaborn as sns\n",
        "from config.config_project import ConfigProject\n",
        "from preprocessing.merge_datasets import DatasetMerger\n",
        "from preprocessing.file_read_pandas import PandasReadFile\n",
        "from preprocessing.dataframe_manipulation import DataFrameManipulation\n",
        "\n",
        "# Carregando a configuração do projeto\n",
        "config = ConfigProject()\n",
        "\n",
        "\n",
        "\n",
        "# Exibindo a configuração do projeto\n",
        "config_info = {\n",
        "    \"Diretórios de Entrada\": config.get(\"paths.save_files\"),\n",
        "    \"Diretórios de Saída\": config.get(\"paths.output_files\")\n",
        "}\n",
        "config_info\n"
      ]
    },
    {
      "cell_type": "markdown",
      "metadata": {
        "id": "4vs3IpbOuHiK"
      },
      "source": [
        "### Explicação da Configuração do Projeto\n",
        "Antes de começar a manipulação dos dados, é importante garantir que o módulo está configurado corretamente para localizar os arquivos de entrada e saída. A configuração é carregada através da classe `ConfigProject`, que busca os diretórios definidos no arquivo de configuração."
      ]
    },
    {
      "cell_type": "code",
      "execution_count": 3,
      "metadata": {
        "id": "maddABOhuR1P"
      },
      "outputs": [
        {
          "data": {
            "text/plain": [
              "{'Diretórios de Entrada': './files/raw/',\n",
              " 'Diretórios de Saída': './files/processed/'}"
            ]
          },
          "execution_count": 3,
          "metadata": {},
          "output_type": "execute_result"
        }
      ],
      "source": [
        "# Exibindo a configuração carregada do arquivo\n",
        "config_info\n"
      ]
    },
    {
      "cell_type": "markdown",
      "metadata": {
        "id": "CZMVl0V8uV63"
      },
      "source": [
        "## **Leitura dos Arquivos CSV**\n",
        "Agora, vamos verificar os arquivos CSV disponíveis no diretório de entrada. Usaremos a classe `PandasReadFile` para ler esses arquivos."
      ]
    },
    {
      "cell_type": "code",
      "execution_count": 4,
      "metadata": {
        "id": "KDysIXhVukUL"
      },
      "outputs": [
        {
          "name": "stdout",
          "output_type": "stream",
          "text": [
            "Arquivos encontrados:\n",
            "- datatran2007.csv\n",
            "- datatran2008.csv\n",
            "- datatran2009.csv\n",
            "- datatran2010.csv\n",
            "- datatran2011.csv\n",
            "- datatran2012.csv\n",
            "- datatran2013.csv\n",
            "- datatran2014.csv\n",
            "- datatran2015.csv\n",
            "- datatran2016.csv\n",
            "- datatran2017.csv\n",
            "- datatran2018.csv\n",
            "- datatran2019.csv\n",
            "- datatran2020.csv\n",
            "- datatran2021.csv\n",
            "- datatran2022.csv\n",
            "- datatran2023.csv\n",
            "- datatran2024.csv\n"
          ]
        }
      ],
      "source": [
        "# Inicializando a classe para ler arquivos\n",
        "merger = DatasetMerger()\n",
        "\n",
        "# Verificando os arquivos CSV disponíveis para os anos de interesse\n",
        "available_files = sorted(Path(merger.data_dir).glob('datatran*.csv'))\n",
        "print(\"Arquivos encontrados:\")\n",
        "for file in available_files:\n",
        "    print(f\"- {file.name}\")\n"
      ]
    },
    {
      "cell_type": "markdown",
      "metadata": {
        "id": "kxe1b_xzulzq"
      },
      "source": [
        "## **Analisando um Arquivo Específico**\n",
        "Vamos analisar um arquivo específico para entender como os dados estão estruturados."
      ]
    },
    {
      "cell_type": "code",
      "execution_count": 5,
      "metadata": {
        "id": "HEF0ixZVurJe"
      },
      "outputs": [
        {
          "name": "stdout",
          "output_type": "stream",
          "text": [
            "\n",
            "Analisando datatran2007.csv:\n",
            "\n",
            "Dimensões: (127675, 26)\n",
            "\n",
            "Colunas presentes:\n",
            "- id\n",
            "- data_inversa\n",
            "- dia_semana\n",
            "- horario\n",
            "- uf\n",
            "- br\n",
            "- km\n",
            "- municipio\n",
            "- causa_acidente\n",
            "- tipo_acidente\n",
            "- classificacao_acidente\n",
            "- fase_dia\n",
            "- sentido_via\n",
            "- condicao_metereologica\n",
            "- tipo_pista\n",
            "- tracado_via\n",
            "- uso_solo\n",
            "- ano\n",
            "- pessoas\n",
            "- mortos\n",
            "- feridos_leves\n",
            "- feridos_graves\n",
            "- ilesos\n",
            "- ignorados\n",
            "- feridos\n",
            "- veiculos\n",
            "\n",
            "Primeiras linhas:\n"
          ]
        },
        {
          "name": "stderr",
          "output_type": "stream",
          "text": [
            "c:\\Users\\joseb\\OneDrive\\Documentos\\GitHub\\RoadSafeAI\\src\\preprocessing\\file_read_pandas.py:15: DtypeWarning: Columns (5,6) have mixed types. Specify dtype option on import or set low_memory=False.\n",
            "  return pd.read_csv(file_path, encoding='cp1252', sep=';')\n"
          ]
        },
        {
          "data": {
            "text/html": [
              "<div>\n",
              "<style scoped>\n",
              "    .dataframe tbody tr th:only-of-type {\n",
              "        vertical-align: middle;\n",
              "    }\n",
              "\n",
              "    .dataframe tbody tr th {\n",
              "        vertical-align: top;\n",
              "    }\n",
              "\n",
              "    .dataframe thead th {\n",
              "        text-align: right;\n",
              "    }\n",
              "</style>\n",
              "<table border=\"1\" class=\"dataframe\">\n",
              "  <thead>\n",
              "    <tr style=\"text-align: right;\">\n",
              "      <th></th>\n",
              "      <th>id</th>\n",
              "      <th>data_inversa</th>\n",
              "      <th>dia_semana</th>\n",
              "      <th>horario</th>\n",
              "      <th>uf</th>\n",
              "      <th>br</th>\n",
              "      <th>km</th>\n",
              "      <th>municipio</th>\n",
              "      <th>causa_acidente</th>\n",
              "      <th>tipo_acidente</th>\n",
              "      <th>...</th>\n",
              "      <th>uso_solo</th>\n",
              "      <th>ano</th>\n",
              "      <th>pessoas</th>\n",
              "      <th>mortos</th>\n",
              "      <th>feridos_leves</th>\n",
              "      <th>feridos_graves</th>\n",
              "      <th>ilesos</th>\n",
              "      <th>ignorados</th>\n",
              "      <th>feridos</th>\n",
              "      <th>veiculos</th>\n",
              "    </tr>\n",
              "  </thead>\n",
              "  <tbody>\n",
              "    <tr>\n",
              "      <th>0</th>\n",
              "      <td>10</td>\n",
              "      <td>11/06/2007</td>\n",
              "      <td>Segunda</td>\n",
              "      <td>15:30:00</td>\n",
              "      <td>MG</td>\n",
              "      <td>381</td>\n",
              "      <td>623.2</td>\n",
              "      <td>OLIVEIRA</td>\n",
              "      <td>Falta de atenção</td>\n",
              "      <td>Colisão frontal</td>\n",
              "      <td>...</td>\n",
              "      <td>Rural</td>\n",
              "      <td>2007</td>\n",
              "      <td>9</td>\n",
              "      <td>0</td>\n",
              "      <td>4</td>\n",
              "      <td>0</td>\n",
              "      <td>5</td>\n",
              "      <td>0</td>\n",
              "      <td>4</td>\n",
              "      <td>6</td>\n",
              "    </tr>\n",
              "    <tr>\n",
              "      <th>1</th>\n",
              "      <td>10</td>\n",
              "      <td>11/06/2007</td>\n",
              "      <td>Segunda</td>\n",
              "      <td>15:30:00</td>\n",
              "      <td>MG</td>\n",
              "      <td>381</td>\n",
              "      <td>623.2</td>\n",
              "      <td>OLIVEIRA</td>\n",
              "      <td>Falta de atenção</td>\n",
              "      <td>Colisão frontal</td>\n",
              "      <td>...</td>\n",
              "      <td>Rural</td>\n",
              "      <td>2007</td>\n",
              "      <td>9</td>\n",
              "      <td>0</td>\n",
              "      <td>4</td>\n",
              "      <td>0</td>\n",
              "      <td>5</td>\n",
              "      <td>0</td>\n",
              "      <td>4</td>\n",
              "      <td>6</td>\n",
              "    </tr>\n",
              "    <tr>\n",
              "      <th>2</th>\n",
              "      <td>1032898</td>\n",
              "      <td>13/08/2007</td>\n",
              "      <td>Segunda</td>\n",
              "      <td>14:25:00</td>\n",
              "      <td>MG</td>\n",
              "      <td>40</td>\n",
              "      <td>585.5</td>\n",
              "      <td>ITABIRITO</td>\n",
              "      <td>Outras</td>\n",
              "      <td>Saída de Pista</td>\n",
              "      <td>...</td>\n",
              "      <td>Rural</td>\n",
              "      <td>2007</td>\n",
              "      <td>3</td>\n",
              "      <td>0</td>\n",
              "      <td>0</td>\n",
              "      <td>1</td>\n",
              "      <td>2</td>\n",
              "      <td>0</td>\n",
              "      <td>1</td>\n",
              "      <td>1</td>\n",
              "    </tr>\n",
              "    <tr>\n",
              "      <th>3</th>\n",
              "      <td>1051130</td>\n",
              "      <td>12/02/2007</td>\n",
              "      <td>Segunda</td>\n",
              "      <td>02:10:00</td>\n",
              "      <td>MA</td>\n",
              "      <td>135</td>\n",
              "      <td>11.0</td>\n",
              "      <td>SAO LUIS</td>\n",
              "      <td>Animais na Pista</td>\n",
              "      <td>Atropelamento de animal</td>\n",
              "      <td>...</td>\n",
              "      <td>Urbano</td>\n",
              "      <td>2007</td>\n",
              "      <td>5</td>\n",
              "      <td>2</td>\n",
              "      <td>2</td>\n",
              "      <td>1</td>\n",
              "      <td>0</td>\n",
              "      <td>0</td>\n",
              "      <td>3</td>\n",
              "      <td>1</td>\n",
              "    </tr>\n",
              "    <tr>\n",
              "      <th>4</th>\n",
              "      <td>1066824</td>\n",
              "      <td>20/11/2007</td>\n",
              "      <td>Terça</td>\n",
              "      <td>05:30:00</td>\n",
              "      <td>CE</td>\n",
              "      <td>222</td>\n",
              "      <td>30.8</td>\n",
              "      <td>CAUCAIA</td>\n",
              "      <td>Defeito mecânico em veículo</td>\n",
              "      <td>Capotamento</td>\n",
              "      <td>...</td>\n",
              "      <td>Rural</td>\n",
              "      <td>2007</td>\n",
              "      <td>1</td>\n",
              "      <td>0</td>\n",
              "      <td>1</td>\n",
              "      <td>0</td>\n",
              "      <td>0</td>\n",
              "      <td>0</td>\n",
              "      <td>1</td>\n",
              "      <td>1</td>\n",
              "    </tr>\n",
              "  </tbody>\n",
              "</table>\n",
              "<p>5 rows × 26 columns</p>\n",
              "</div>"
            ],
            "text/plain": [
              "        id data_inversa dia_semana   horario  uf   br     km  municipio  \\\n",
              "0       10   11/06/2007    Segunda  15:30:00  MG  381  623.2   OLIVEIRA   \n",
              "1       10   11/06/2007    Segunda  15:30:00  MG  381  623.2   OLIVEIRA   \n",
              "2  1032898   13/08/2007    Segunda  14:25:00  MG   40  585.5  ITABIRITO   \n",
              "3  1051130   12/02/2007    Segunda  02:10:00  MA  135   11.0   SAO LUIS   \n",
              "4  1066824   20/11/2007      Terça  05:30:00  CE  222   30.8    CAUCAIA   \n",
              "\n",
              "                causa_acidente            tipo_acidente  ... uso_solo   ano  \\\n",
              "0             Falta de atenção          Colisão frontal  ...    Rural  2007   \n",
              "1             Falta de atenção          Colisão frontal  ...    Rural  2007   \n",
              "2                       Outras           Saída de Pista  ...    Rural  2007   \n",
              "3             Animais na Pista  Atropelamento de animal  ...   Urbano  2007   \n",
              "4  Defeito mecânico em veículo              Capotamento  ...    Rural  2007   \n",
              "\n",
              "  pessoas mortos feridos_leves feridos_graves ilesos  ignorados  feridos  \\\n",
              "0       9      0             4              0      5          0        4   \n",
              "1       9      0             4              0      5          0        4   \n",
              "2       3      0             0              1      2          0        1   \n",
              "3       5      2             2              1      0          0        3   \n",
              "4       1      0             1              0      0          0        1   \n",
              "\n",
              "   veiculos  \n",
              "0         6  \n",
              "1         6  \n",
              "2         1  \n",
              "3         1  \n",
              "4         1  \n",
              "\n",
              "[5 rows x 26 columns]"
            ]
          },
          "metadata": {},
          "output_type": "display_data"
        },
        {
          "name": "stdout",
          "output_type": "stream",
          "text": [
            "\n",
            "Analisando datatran2024.csv:\n",
            "\n",
            "Dimensões: (73114, 30)\n",
            "\n",
            "Colunas presentes:\n",
            "- id\n",
            "- data_inversa\n",
            "- dia_semana\n",
            "- horario\n",
            "- uf\n",
            "- br\n",
            "- km\n",
            "- municipio\n",
            "- causa_acidente\n",
            "- tipo_acidente\n",
            "- classificacao_acidente\n",
            "- fase_dia\n",
            "- sentido_via\n",
            "- condicao_metereologica\n",
            "- tipo_pista\n",
            "- tracado_via\n",
            "- uso_solo\n",
            "- pessoas\n",
            "- mortos\n",
            "- feridos_leves\n",
            "- feridos_graves\n",
            "- ilesos\n",
            "- ignorados\n",
            "- feridos\n",
            "- veiculos\n",
            "- latitude\n",
            "- longitude\n",
            "- regional\n",
            "- delegacia\n",
            "- uop\n",
            "\n",
            "Primeiras linhas:\n"
          ]
        },
        {
          "data": {
            "text/html": [
              "<div>\n",
              "<style scoped>\n",
              "    .dataframe tbody tr th:only-of-type {\n",
              "        vertical-align: middle;\n",
              "    }\n",
              "\n",
              "    .dataframe tbody tr th {\n",
              "        vertical-align: top;\n",
              "    }\n",
              "\n",
              "    .dataframe thead th {\n",
              "        text-align: right;\n",
              "    }\n",
              "</style>\n",
              "<table border=\"1\" class=\"dataframe\">\n",
              "  <thead>\n",
              "    <tr style=\"text-align: right;\">\n",
              "      <th></th>\n",
              "      <th>id</th>\n",
              "      <th>data_inversa</th>\n",
              "      <th>dia_semana</th>\n",
              "      <th>horario</th>\n",
              "      <th>uf</th>\n",
              "      <th>br</th>\n",
              "      <th>km</th>\n",
              "      <th>municipio</th>\n",
              "      <th>causa_acidente</th>\n",
              "      <th>tipo_acidente</th>\n",
              "      <th>...</th>\n",
              "      <th>feridos_graves</th>\n",
              "      <th>ilesos</th>\n",
              "      <th>ignorados</th>\n",
              "      <th>feridos</th>\n",
              "      <th>veiculos</th>\n",
              "      <th>latitude</th>\n",
              "      <th>longitude</th>\n",
              "      <th>regional</th>\n",
              "      <th>delegacia</th>\n",
              "      <th>uop</th>\n",
              "    </tr>\n",
              "  </thead>\n",
              "  <tbody>\n",
              "    <tr>\n",
              "      <th>0</th>\n",
              "      <td>571789.0</td>\n",
              "      <td>2024-01-01</td>\n",
              "      <td>segunda-feira</td>\n",
              "      <td>03:56:00</td>\n",
              "      <td>ES</td>\n",
              "      <td>101</td>\n",
              "      <td>38</td>\n",
              "      <td>CONCEICAO DA BARRA</td>\n",
              "      <td>Ultrapassagem Indevida</td>\n",
              "      <td>Colisão lateral sentido oposto</td>\n",
              "      <td>...</td>\n",
              "      <td>1</td>\n",
              "      <td>1</td>\n",
              "      <td>1</td>\n",
              "      <td>1</td>\n",
              "      <td>3</td>\n",
              "      <td>-18,48261</td>\n",
              "      <td>-39,92379</td>\n",
              "      <td>SPRF-ES</td>\n",
              "      <td>DEL04-ES</td>\n",
              "      <td>UOP02-DEL04-ES</td>\n",
              "    </tr>\n",
              "    <tr>\n",
              "      <th>1</th>\n",
              "      <td>571804.0</td>\n",
              "      <td>2024-01-01</td>\n",
              "      <td>segunda-feira</td>\n",
              "      <td>04:50:00</td>\n",
              "      <td>PI</td>\n",
              "      <td>343</td>\n",
              "      <td>185</td>\n",
              "      <td>PIRIPIRI</td>\n",
              "      <td>Manobra de mudança de faixa</td>\n",
              "      <td>Colisão frontal</td>\n",
              "      <td>...</td>\n",
              "      <td>0</td>\n",
              "      <td>1</td>\n",
              "      <td>0</td>\n",
              "      <td>0</td>\n",
              "      <td>2</td>\n",
              "      <td>-4,29603281</td>\n",
              "      <td>-41,76732659</td>\n",
              "      <td>SPRF-PI</td>\n",
              "      <td>DEL02-PI</td>\n",
              "      <td>UOP01-DEL02-PI</td>\n",
              "    </tr>\n",
              "    <tr>\n",
              "      <th>2</th>\n",
              "      <td>571806.0</td>\n",
              "      <td>2024-01-01</td>\n",
              "      <td>segunda-feira</td>\n",
              "      <td>04:30:00</td>\n",
              "      <td>BA</td>\n",
              "      <td>116</td>\n",
              "      <td>578</td>\n",
              "      <td>BREJOES</td>\n",
              "      <td>Ingestão de álcool pelo condutor</td>\n",
              "      <td>Colisão frontal</td>\n",
              "      <td>...</td>\n",
              "      <td>0</td>\n",
              "      <td>1</td>\n",
              "      <td>2</td>\n",
              "      <td>0</td>\n",
              "      <td>4</td>\n",
              "      <td>-13,07158302</td>\n",
              "      <td>-39,9611107</td>\n",
              "      <td>SPRF-BA</td>\n",
              "      <td>DEL03-BA</td>\n",
              "      <td>UOP02-DEL03-BA</td>\n",
              "    </tr>\n",
              "    <tr>\n",
              "      <th>3</th>\n",
              "      <td>571818.0</td>\n",
              "      <td>2024-01-01</td>\n",
              "      <td>segunda-feira</td>\n",
              "      <td>06:30:00</td>\n",
              "      <td>SE</td>\n",
              "      <td>101</td>\n",
              "      <td>18</td>\n",
              "      <td>MALHADA DOS BOIS</td>\n",
              "      <td>Reação tardia ou ineficiente do condutor</td>\n",
              "      <td>Saída de leito carroçável</td>\n",
              "      <td>...</td>\n",
              "      <td>1</td>\n",
              "      <td>0</td>\n",
              "      <td>2</td>\n",
              "      <td>1</td>\n",
              "      <td>3</td>\n",
              "      <td>-10,35601949</td>\n",
              "      <td>-36,90552235</td>\n",
              "      <td>SPRF-SE</td>\n",
              "      <td>DEL02-SE</td>\n",
              "      <td>UOP02-DEL02-SE</td>\n",
              "    </tr>\n",
              "    <tr>\n",
              "      <th>4</th>\n",
              "      <td>571838.0</td>\n",
              "      <td>2024-01-01</td>\n",
              "      <td>segunda-feira</td>\n",
              "      <td>05:00:00</td>\n",
              "      <td>MT</td>\n",
              "      <td>364</td>\n",
              "      <td>240</td>\n",
              "      <td>RONDONOPOLIS</td>\n",
              "      <td>Condutor deixou de manter distância do veículo...</td>\n",
              "      <td>Colisão traseira</td>\n",
              "      <td>...</td>\n",
              "      <td>0</td>\n",
              "      <td>2</td>\n",
              "      <td>1</td>\n",
              "      <td>0</td>\n",
              "      <td>3</td>\n",
              "      <td>-16,17914141</td>\n",
              "      <td>-54,78905337</td>\n",
              "      <td>SPRF-MT</td>\n",
              "      <td>DEL02-MT</td>\n",
              "      <td>UOP01-DEL02-MT</td>\n",
              "    </tr>\n",
              "  </tbody>\n",
              "</table>\n",
              "<p>5 rows × 30 columns</p>\n",
              "</div>"
            ],
            "text/plain": [
              "         id data_inversa     dia_semana   horario  uf   br   km  \\\n",
              "0  571789.0   2024-01-01  segunda-feira  03:56:00  ES  101   38   \n",
              "1  571804.0   2024-01-01  segunda-feira  04:50:00  PI  343  185   \n",
              "2  571806.0   2024-01-01  segunda-feira  04:30:00  BA  116  578   \n",
              "3  571818.0   2024-01-01  segunda-feira  06:30:00  SE  101   18   \n",
              "4  571838.0   2024-01-01  segunda-feira  05:00:00  MT  364  240   \n",
              "\n",
              "            municipio                                     causa_acidente  \\\n",
              "0  CONCEICAO DA BARRA                             Ultrapassagem Indevida   \n",
              "1            PIRIPIRI                        Manobra de mudança de faixa   \n",
              "2             BREJOES                   Ingestão de álcool pelo condutor   \n",
              "3    MALHADA DOS BOIS           Reação tardia ou ineficiente do condutor   \n",
              "4        RONDONOPOLIS  Condutor deixou de manter distância do veículo...   \n",
              "\n",
              "                    tipo_acidente  ... feridos_graves ilesos ignorados  \\\n",
              "0  Colisão lateral sentido oposto  ...              1      1         1   \n",
              "1                 Colisão frontal  ...              0      1         0   \n",
              "2                 Colisão frontal  ...              0      1         2   \n",
              "3       Saída de leito carroçável  ...              1      0         2   \n",
              "4                Colisão traseira  ...              0      2         1   \n",
              "\n",
              "  feridos veiculos      latitude     longitude  regional  delegacia  \\\n",
              "0       1        3     -18,48261     -39,92379   SPRF-ES   DEL04-ES   \n",
              "1       0        2   -4,29603281  -41,76732659   SPRF-PI   DEL02-PI   \n",
              "2       0        4  -13,07158302   -39,9611107   SPRF-BA   DEL03-BA   \n",
              "3       1        3  -10,35601949  -36,90552235   SPRF-SE   DEL02-SE   \n",
              "4       0        3  -16,17914141  -54,78905337   SPRF-MT   DEL02-MT   \n",
              "\n",
              "              uop  \n",
              "0  UOP02-DEL04-ES  \n",
              "1  UOP01-DEL02-PI  \n",
              "2  UOP02-DEL03-BA  \n",
              "3  UOP02-DEL02-SE  \n",
              "4  UOP01-DEL02-MT  \n",
              "\n",
              "[5 rows x 30 columns]"
            ]
          },
          "metadata": {},
          "output_type": "display_data"
        }
      ],
      "source": [
        "# Função para analisar o dataset\n",
        "def analyze_dataset(file_path):\n",
        "    print(f\"\\nAnalisando {file_path.name}:\")\n",
        "    df = PandasReadFile.read_csv_file(file_path)\n",
        "\n",
        "    # Exibindo informações sobre o DataFrame\n",
        "    print(f\"\\nDimensões: {df.shape}\")\n",
        "    print(f\"\\nColunas presentes:\")\n",
        "    for col in df.columns:\n",
        "        print(f\"- {col}\")\n",
        "\n",
        "    print(f\"\\nPrimeiras linhas:\")\n",
        "    display(df.head())\n",
        "\n",
        "    return df\n",
        "\n",
        "# Analisando o primeiro e último arquivo\n",
        "oldest_file = min(available_files)\n",
        "newest_file = max(available_files)\n",
        "\n",
        "df_old = analyze_dataset(oldest_file)\n",
        "df_new = analyze_dataset(newest_file)\n"
      ]
    },
    {
      "cell_type": "markdown",
      "metadata": {
        "id": "KVbvrKLbuvsw"
      },
      "source": [
        "Aqui, usamos a função **`analyze_dataset`** para carregar e mostrar os detalhes do primeiro e do último arquivo CSV encontrado no diretório. Exibimos as dimensões do DataFrame, as colunas presentes e as primeiras linhas para uma visualização inicial dos dados."
      ]
    },
    {
      "cell_type": "markdown",
      "metadata": {
        "id": "eNeGhCQ7u2Ys"
      },
      "source": [
        "## **Unificação dos Dados**\n",
        "Agora vamos começar o processo de unificação dos datasets. Usaremos a classe `**DatasetMerger**` para unir os dados de diferentes anos."
      ]
    },
    {
      "cell_type": "code",
      "execution_count": 6,
      "metadata": {
        "id": "i_kPiFNku9E-"
      },
      "outputs": [
        {
          "name": "stderr",
          "output_type": "stream",
          "text": [
            "2025-01-30 16:53:55,611 - preprocessing.merge_datasets - INFO - 18 arquivos CSV encontrados para o período 2007-2024.\n",
            "2025-01-30 16:53:55,612 - preprocessing.merge_datasets - INFO - Processando dataset do ano 2007: datatran2007.csv\n"
          ]
        },
        {
          "name": "stdout",
          "output_type": "stream",
          "text": [
            "Iniciando processo de unificação...\n",
            "FileName: datatran2007.csv\n",
            "FileName: datatran2008.csv\n",
            "FileName: datatran2009.csv\n",
            "FileName: datatran2010.csv\n",
            "FileName: datatran2011.csv\n",
            "FileName: datatran2012.csv\n",
            "FileName: datatran2013.csv\n",
            "FileName: datatran2014.csv\n",
            "FileName: datatran2015.csv\n",
            "FileName: datatran2016.csv\n",
            "FileName: datatran2017.csv\n",
            "FileName: datatran2018.csv\n",
            "FileName: datatran2019.csv\n",
            "FileName: datatran2020.csv\n",
            "FileName: datatran2021.csv\n",
            "FileName: datatran2022.csv\n",
            "FileName: datatran2023.csv\n",
            "FileName: datatran2024.csv\n",
            "FileName: datatran2007.csv\n"
          ]
        },
        {
          "name": "stderr",
          "output_type": "stream",
          "text": [
            "c:\\Users\\joseb\\OneDrive\\Documentos\\GitHub\\RoadSafeAI\\src\\preprocessing\\file_read_pandas.py:15: DtypeWarning: Columns (5,6) have mixed types. Specify dtype option on import or set low_memory=False.\n",
            "  return pd.read_csv(file_path, encoding='cp1252', sep=';')\n",
            "2025-01-30 16:53:56,143 - preprocessing.merge_datasets - INFO - Processando dataset do ano 2008: datatran2008.csv\n"
          ]
        },
        {
          "name": "stdout",
          "output_type": "stream",
          "text": [
            "FileName: datatran2008.csv\n"
          ]
        },
        {
          "name": "stderr",
          "output_type": "stream",
          "text": [
            "c:\\Users\\joseb\\OneDrive\\Documentos\\GitHub\\RoadSafeAI\\src\\preprocessing\\file_read_pandas.py:15: DtypeWarning: Columns (5,6) have mixed types. Specify dtype option on import or set low_memory=False.\n",
            "  return pd.read_csv(file_path, encoding='cp1252', sep=';')\n",
            "2025-01-30 16:53:56,717 - preprocessing.merge_datasets - INFO - Processando dataset do ano 2009: datatran2009.csv\n"
          ]
        },
        {
          "name": "stdout",
          "output_type": "stream",
          "text": [
            "FileName: datatran2009.csv\n"
          ]
        },
        {
          "name": "stderr",
          "output_type": "stream",
          "text": [
            "2025-01-30 16:53:57,164 - preprocessing.merge_datasets - INFO - Processando dataset do ano 2010: datatran2010.csv\n"
          ]
        },
        {
          "name": "stdout",
          "output_type": "stream",
          "text": [
            "FileName: datatran2010.csv\n"
          ]
        },
        {
          "name": "stderr",
          "output_type": "stream",
          "text": [
            "2025-01-30 16:53:57,672 - preprocessing.merge_datasets - INFO - Processando dataset do ano 2011: datatran2011.csv\n"
          ]
        },
        {
          "name": "stdout",
          "output_type": "stream",
          "text": [
            "FileName: datatran2011.csv\n"
          ]
        },
        {
          "name": "stderr",
          "output_type": "stream",
          "text": [
            "2025-01-30 16:53:58,202 - preprocessing.merge_datasets - INFO - Processando dataset do ano 2012: datatran2012.csv\n"
          ]
        },
        {
          "name": "stdout",
          "output_type": "stream",
          "text": [
            "FileName: datatran2012.csv\n"
          ]
        },
        {
          "name": "stderr",
          "output_type": "stream",
          "text": [
            "c:\\Users\\joseb\\OneDrive\\Documentos\\GitHub\\RoadSafeAI\\src\\preprocessing\\file_read_pandas.py:15: DtypeWarning: Columns (5,6) have mixed types. Specify dtype option on import or set low_memory=False.\n",
            "  return pd.read_csv(file_path, encoding='cp1252', sep=';')\n",
            "2025-01-30 16:53:59,004 - preprocessing.merge_datasets - INFO - Processando dataset do ano 2013: datatran2013.csv\n"
          ]
        },
        {
          "name": "stdout",
          "output_type": "stream",
          "text": [
            "FileName: datatran2013.csv\n"
          ]
        },
        {
          "name": "stderr",
          "output_type": "stream",
          "text": [
            "2025-01-30 16:53:59,531 - preprocessing.merge_datasets - INFO - Processando dataset do ano 2014: datatran2014.csv\n"
          ]
        },
        {
          "name": "stdout",
          "output_type": "stream",
          "text": [
            "FileName: datatran2014.csv\n"
          ]
        },
        {
          "name": "stderr",
          "output_type": "stream",
          "text": [
            "2025-01-30 16:54:00,050 - preprocessing.merge_datasets - INFO - Processando dataset do ano 2015: datatran2015.csv\n"
          ]
        },
        {
          "name": "stdout",
          "output_type": "stream",
          "text": [
            "FileName: datatran2015.csv\n"
          ]
        },
        {
          "name": "stderr",
          "output_type": "stream",
          "text": [
            "2025-01-30 16:54:00,410 - preprocessing.merge_datasets - INFO - Processando dataset do ano 2016: datatran2016.csv\n"
          ]
        },
        {
          "name": "stdout",
          "output_type": "stream",
          "text": [
            "FileName: datatran2016.csv\n"
          ]
        },
        {
          "name": "stderr",
          "output_type": "stream",
          "text": [
            "2025-01-30 16:54:00,752 - preprocessing.merge_datasets - INFO - Processando dataset do ano 2017: datatran2017.csv\n"
          ]
        },
        {
          "name": "stdout",
          "output_type": "stream",
          "text": [
            "FileName: datatran2017.csv\n"
          ]
        },
        {
          "name": "stderr",
          "output_type": "stream",
          "text": [
            "2025-01-30 16:54:01,313 - preprocessing.merge_datasets - INFO - Processando dataset do ano 2018: datatran2018.csv\n"
          ]
        },
        {
          "name": "stdout",
          "output_type": "stream",
          "text": [
            "FileName: datatran2018.csv\n"
          ]
        },
        {
          "name": "stderr",
          "output_type": "stream",
          "text": [
            "2025-01-30 16:54:01,700 - preprocessing.merge_datasets - INFO - Processando dataset do ano 2019: datatran2019.csv\n"
          ]
        },
        {
          "name": "stdout",
          "output_type": "stream",
          "text": [
            "FileName: datatran2019.csv\n"
          ]
        },
        {
          "name": "stderr",
          "output_type": "stream",
          "text": [
            "2025-01-30 16:54:02,099 - preprocessing.merge_datasets - INFO - Processando dataset do ano 2020: datatran2020.csv\n"
          ]
        },
        {
          "name": "stdout",
          "output_type": "stream",
          "text": [
            "FileName: datatran2020.csv\n"
          ]
        },
        {
          "name": "stderr",
          "output_type": "stream",
          "text": [
            "2025-01-30 16:54:02,501 - preprocessing.merge_datasets - INFO - Processando dataset do ano 2021: datatran2021.csv\n"
          ]
        },
        {
          "name": "stdout",
          "output_type": "stream",
          "text": [
            "FileName: datatran2021.csv\n"
          ]
        },
        {
          "name": "stderr",
          "output_type": "stream",
          "text": [
            "2025-01-30 16:54:02,914 - preprocessing.merge_datasets - INFO - Processando dataset do ano 2022: datatran2022.csv\n"
          ]
        },
        {
          "name": "stdout",
          "output_type": "stream",
          "text": [
            "FileName: datatran2022.csv\n"
          ]
        },
        {
          "name": "stderr",
          "output_type": "stream",
          "text": [
            "2025-01-30 16:54:03,304 - preprocessing.merge_datasets - INFO - Processando dataset do ano 2023: datatran2023.csv\n"
          ]
        },
        {
          "name": "stdout",
          "output_type": "stream",
          "text": [
            "FileName: datatran2023.csv\n"
          ]
        },
        {
          "name": "stderr",
          "output_type": "stream",
          "text": [
            "2025-01-30 16:54:03,752 - preprocessing.merge_datasets - INFO - Processando dataset do ano 2024: datatran2024.csv\n"
          ]
        },
        {
          "name": "stdout",
          "output_type": "stream",
          "text": [
            "FileName: datatran2024.csv\n",
            "\n",
            "Dataset unificado criado com sucesso!\n",
            "Dimensões finais: (2122296, 25)\n"
          ]
        }
      ],
      "source": [
        "# Definindo os parâmetros para a unificação\n",
        "start_year = 2007\n",
        "end_year = 2024\n",
        "include_extra_columns = False\n",
        "\n",
        "# Unificando os datasets para o período definido\n",
        "print(\"Iniciando processo de unificação...\")\n",
        "merged_df = merger._merge_datasets(start_year, end_year, include_extra_columns)\n",
        "\n",
        "# Exibindo as dimensões do dataset unificado\n",
        "print(f\"\\nDataset unificado criado com sucesso!\")\n",
        "print(f\"Dimensões finais: {merged_df.shape}\")\n"
      ]
    },
    {
      "cell_type": "markdown",
      "metadata": {
        "id": "vbZ6zD-kvAa0"
      },
      "source": [
        "A unificação dos dados é feita a partir de arquivos CSV de diferentes anos. A função **`_merge_datasets`** percorre os arquivos de entrada, processa cada dataset e os concatena em um único DataFrame. Dependendo da configuração, as colunas adicionais (como latitude e longitude) podem ser incluídas."
      ]
    },
    {
      "cell_type": "markdown",
      "metadata": {
        "id": "cAExZTVmvFTX"
      },
      "source": [
        "## **Salvando o Dataset Unificado**\n",
        "Após a unificação dos dados, salvamos o dataset final em um arquivo CSV. Também geramos um arquivo de metadados que descreve o dataset unificado."
      ]
    },
    {
      "cell_type": "code",
      "execution_count": 7,
      "metadata": {
        "id": "4aU5pAJMvOV4"
      },
      "outputs": [
        {
          "name": "stderr",
          "output_type": "stream",
          "text": [
            "2025-01-30 16:54:33,394 - preprocessing.merge_datasets - INFO - Dataset unificado salvo em C:\\Users\\joseb\\OneDrive\\Documentos\\GitHub\\RoadSafeAI\\files\\processed\\datatran_merged.csv\n",
            "2025-01-30 16:54:33,406 - preprocessing.merge_datasets - INFO - Metadados salvos em C:\\Users\\joseb\\OneDrive\\Documentos\\GitHub\\RoadSafeAI\\files\\processed\\metadata.txt\n"
          ]
        },
        {
          "name": "stdout",
          "output_type": "stream",
          "text": [
            "Dataset salvo com sucesso!\n",
            "\n",
            "Tamanho do arquivo: 380.58 MB\n"
          ]
        }
      ],
      "source": [
        "# Salvando o dataset unificado\n",
        "merger.save_merged_dataset(merged_df)\n",
        "print(\"Dataset salvo com sucesso!\")\n",
        "\n",
        "# Verificando o tamanho do arquivo gerado\n",
        "output_file = Path(merger.output_dir) / 'datatran_merged.csv'\n",
        "file_size_mb = output_file.stat().st_size / (1024 * 1024)\n",
        "print(f\"\\nTamanho do arquivo: {file_size_mb:.2f} MB\")\n"
      ]
    },
    {
      "cell_type": "markdown",
      "metadata": {
        "id": "FZdbXGbkvTCs"
      },
      "source": [
        "## **Exibindo o Dataset Final**\n",
        "Agora que o dataset foi salvo com sucesso, vamos carregar o arquivo e exibir as primeiras linhas para garantir que tudo esteja correto."
      ]
    },
    {
      "cell_type": "code",
      "execution_count": 8,
      "metadata": {
        "id": "dHz7auCwvX31"
      },
      "outputs": [
        {
          "name": "stdout",
          "output_type": "stream",
          "text": [
            "\n",
            "Primeiras linhas do dataset unificado:\n"
          ]
        },
        {
          "data": {
            "text/html": [
              "<div>\n",
              "<style scoped>\n",
              "    .dataframe tbody tr th:only-of-type {\n",
              "        vertical-align: middle;\n",
              "    }\n",
              "\n",
              "    .dataframe tbody tr th {\n",
              "        vertical-align: top;\n",
              "    }\n",
              "\n",
              "    .dataframe thead th {\n",
              "        text-align: right;\n",
              "    }\n",
              "</style>\n",
              "<table border=\"1\" class=\"dataframe\">\n",
              "  <thead>\n",
              "    <tr style=\"text-align: right;\">\n",
              "      <th></th>\n",
              "      <th>id</th>\n",
              "      <th>data_inversa</th>\n",
              "      <th>dia_semana</th>\n",
              "      <th>horario</th>\n",
              "      <th>uf</th>\n",
              "      <th>br</th>\n",
              "      <th>km</th>\n",
              "      <th>municipio</th>\n",
              "      <th>causa_acidente</th>\n",
              "      <th>tipo_acidente</th>\n",
              "      <th>...</th>\n",
              "      <th>tracado_via</th>\n",
              "      <th>uso_solo</th>\n",
              "      <th>pessoas</th>\n",
              "      <th>mortos</th>\n",
              "      <th>feridos_leves</th>\n",
              "      <th>feridos_graves</th>\n",
              "      <th>ilesos</th>\n",
              "      <th>ignorados</th>\n",
              "      <th>feridos</th>\n",
              "      <th>veiculos</th>\n",
              "    </tr>\n",
              "  </thead>\n",
              "  <tbody>\n",
              "    <tr>\n",
              "      <th>0</th>\n",
              "      <td>175827.0</td>\n",
              "      <td>2007-01-01</td>\n",
              "      <td>Segunda</td>\n",
              "      <td>17:30:00</td>\n",
              "      <td>MG</td>\n",
              "      <td>381.0</td>\n",
              "      <td>485.0</td>\n",
              "      <td>BETIM</td>\n",
              "      <td>Falta de atenção</td>\n",
              "      <td>Colisão traseira</td>\n",
              "      <td>...</td>\n",
              "      <td>Cruzamento</td>\n",
              "      <td>Urbano</td>\n",
              "      <td>2</td>\n",
              "      <td>0</td>\n",
              "      <td>0</td>\n",
              "      <td>0</td>\n",
              "      <td>2</td>\n",
              "      <td>0</td>\n",
              "      <td>0</td>\n",
              "      <td>2</td>\n",
              "    </tr>\n",
              "    <tr>\n",
              "      <th>1</th>\n",
              "      <td>174220.0</td>\n",
              "      <td>2007-01-01</td>\n",
              "      <td>Segunda</td>\n",
              "      <td>14:15:00</td>\n",
              "      <td>RJ</td>\n",
              "      <td>40.0</td>\n",
              "      <td>43.9</td>\n",
              "      <td>AREAL</td>\n",
              "      <td>Velocidade incompatível</td>\n",
              "      <td>Saída de Pista</td>\n",
              "      <td>...</td>\n",
              "      <td>Curva</td>\n",
              "      <td>Rural</td>\n",
              "      <td>1</td>\n",
              "      <td>0</td>\n",
              "      <td>0</td>\n",
              "      <td>0</td>\n",
              "      <td>1</td>\n",
              "      <td>0</td>\n",
              "      <td>0</td>\n",
              "      <td>1</td>\n",
              "    </tr>\n",
              "    <tr>\n",
              "      <th>2</th>\n",
              "      <td>175540.0</td>\n",
              "      <td>2007-01-01</td>\n",
              "      <td>Segunda</td>\n",
              "      <td>16:00:00</td>\n",
              "      <td>PE</td>\n",
              "      <td>101.0</td>\n",
              "      <td>32.0</td>\n",
              "      <td>IGARASSU</td>\n",
              "      <td>Não guardar distância de segurança</td>\n",
              "      <td>Colisão lateral</td>\n",
              "      <td>...</td>\n",
              "      <td>Reta</td>\n",
              "      <td>Rural</td>\n",
              "      <td>2</td>\n",
              "      <td>0</td>\n",
              "      <td>0</td>\n",
              "      <td>0</td>\n",
              "      <td>2</td>\n",
              "      <td>0</td>\n",
              "      <td>0</td>\n",
              "      <td>2</td>\n",
              "    </tr>\n",
              "    <tr>\n",
              "      <th>3</th>\n",
              "      <td>175544.0</td>\n",
              "      <td>2007-01-01</td>\n",
              "      <td>Segunda</td>\n",
              "      <td>12:00:00</td>\n",
              "      <td>MG</td>\n",
              "      <td>50.0</td>\n",
              "      <td>0.2</td>\n",
              "      <td>ARAGUARI</td>\n",
              "      <td>Outras</td>\n",
              "      <td>Saída de Pista</td>\n",
              "      <td>...</td>\n",
              "      <td>Curva</td>\n",
              "      <td>Rural</td>\n",
              "      <td>4</td>\n",
              "      <td>0</td>\n",
              "      <td>3</td>\n",
              "      <td>1</td>\n",
              "      <td>0</td>\n",
              "      <td>0</td>\n",
              "      <td>4</td>\n",
              "      <td>1</td>\n",
              "    </tr>\n",
              "    <tr>\n",
              "      <th>4</th>\n",
              "      <td>175545.0</td>\n",
              "      <td>2007-01-01</td>\n",
              "      <td>Segunda</td>\n",
              "      <td>08:40:00</td>\n",
              "      <td>MG</td>\n",
              "      <td>381.0</td>\n",
              "      <td>397.4</td>\n",
              "      <td>NOVA UNIAO</td>\n",
              "      <td>Outras</td>\n",
              "      <td>Saída de Pista</td>\n",
              "      <td>...</td>\n",
              "      <td>Curva</td>\n",
              "      <td>Rural</td>\n",
              "      <td>1</td>\n",
              "      <td>0</td>\n",
              "      <td>0</td>\n",
              "      <td>0</td>\n",
              "      <td>1</td>\n",
              "      <td>0</td>\n",
              "      <td>0</td>\n",
              "      <td>1</td>\n",
              "    </tr>\n",
              "  </tbody>\n",
              "</table>\n",
              "<p>5 rows × 25 columns</p>\n",
              "</div>"
            ],
            "text/plain": [
              "         id data_inversa dia_semana   horario  uf     br     km   municipio  \\\n",
              "0  175827.0   2007-01-01    Segunda  17:30:00  MG  381.0  485.0       BETIM   \n",
              "1  174220.0   2007-01-01    Segunda  14:15:00  RJ   40.0   43.9       AREAL   \n",
              "2  175540.0   2007-01-01    Segunda  16:00:00  PE  101.0   32.0    IGARASSU   \n",
              "3  175544.0   2007-01-01    Segunda  12:00:00  MG   50.0    0.2    ARAGUARI   \n",
              "4  175545.0   2007-01-01    Segunda  08:40:00  MG  381.0  397.4  NOVA UNIAO   \n",
              "\n",
              "                       causa_acidente     tipo_acidente  ... tracado_via  \\\n",
              "0                    Falta de atenção  Colisão traseira  ...  Cruzamento   \n",
              "1             Velocidade incompatível    Saída de Pista  ...       Curva   \n",
              "2  Não guardar distância de segurança   Colisão lateral  ...        Reta   \n",
              "3                              Outras    Saída de Pista  ...       Curva   \n",
              "4                              Outras    Saída de Pista  ...       Curva   \n",
              "\n",
              "  uso_solo pessoas mortos feridos_leves feridos_graves ilesos  ignorados  \\\n",
              "0   Urbano       2      0             0              0      2          0   \n",
              "1    Rural       1      0             0              0      1          0   \n",
              "2    Rural       2      0             0              0      2          0   \n",
              "3    Rural       4      0             3              1      0          0   \n",
              "4    Rural       1      0             0              0      1          0   \n",
              "\n",
              "   feridos  veiculos  \n",
              "0        0         2  \n",
              "1        0         1  \n",
              "2        0         2  \n",
              "3        4         1  \n",
              "4        0         1  \n",
              "\n",
              "[5 rows x 25 columns]"
            ]
          },
          "metadata": {},
          "output_type": "display_data"
        }
      ],
      "source": [
        "# Carregando o arquivo salvo\n",
        "df_merged = pd.read_csv(output_file, sep=\";\")\n",
        "print(\"\\nPrimeiras linhas do dataset unificado:\")\n",
        "display(df_merged.head())\n"
      ]
    },
    {
      "cell_type": "markdown",
      "metadata": {
        "id": "MLiXU-5tvb37"
      },
      "source": [
        "# **Metadados do Dataset**\n",
        "Junto com o arquivo CSV, também geramos um arquivo de metadados contendo informações sobre o dataset, como o número de registros, o período de dados e a última atualização."
      ]
    },
    {
      "cell_type": "code",
      "execution_count": 9,
      "metadata": {
        "id": "wW9z4ibPve5P"
      },
      "outputs": [
        {
          "name": "stdout",
          "output_type": "stream",
          "text": [
            "\n",
            "Metadados do Dataset:\n",
            "total_registros: 2122296\n",
            "periodo: 2007-01-01 a 2024-12-31\n",
            "ultima_atualizacao: 2025-01-30 16:54:33\n",
            "colunas: ['id', 'data_inversa', 'dia_semana', 'horario', 'uf', 'br', 'km', 'municipio', 'causa_acidente', 'tipo_acidente', 'classificacao_acidente', 'fase_dia', 'sentido_via', 'condicao_metereologica', 'tipo_pista', 'tracado_via', 'uso_solo', 'pessoas', 'mortos', 'feridos_leves', 'feridos_graves', 'ilesos', 'ignorados', 'feridos', 'veiculos']\n",
            "\n"
          ]
        }
      ],
      "source": [
        "# Exibindo o conteúdo dos metadados\n",
        "metadata_path = Path(merger.output_dir) / 'metadata.txt'\n",
        "with open(metadata_path, 'r', encoding='utf-8') as f:\n",
        "    metadata = f.read()\n",
        "\n",
        "print(\"\\nMetadados do Dataset:\")\n",
        "print(metadata)\n"
      ]
    },
    {
      "cell_type": "markdown",
      "metadata": {
        "id": "JbwWaAiCvoQv"
      },
      "source": [
        "Este notebook ofereceu uma explicação passo a passo do módulo de unificação de dados e fornece uma interface interativa para visualização dos resultados, tornando o processo mais transparente e fácil de acompanhar."
      ]
    }
  ],
  "metadata": {
    "colab": {
      "provenance": []
    },
    "kernelspec": {
      "display_name": ".venv",
      "language": "python",
      "name": "python3"
    },
    "language_info": {
      "codemirror_mode": {
        "name": "ipython",
        "version": 3
      },
      "file_extension": ".py",
      "mimetype": "text/x-python",
      "name": "python",
      "nbconvert_exporter": "python",
      "pygments_lexer": "ipython3",
      "version": "3.12.0"
    }
  },
  "nbformat": 4,
  "nbformat_minor": 0
}
