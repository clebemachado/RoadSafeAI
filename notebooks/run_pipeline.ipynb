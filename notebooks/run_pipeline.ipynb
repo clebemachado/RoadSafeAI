{
 "cells": [
  {
   "cell_type": "code",
   "execution_count": 1,
   "metadata": {},
   "outputs": [],
   "source": [
    "import sys\n",
    "import os\n",
    "from pathlib import Path\n",
    "import pandas as pd\n",
    "import matplotlib.pyplot as plt\n",
    "import seaborn as sns\n",
    "import logging\n"
   ]
  },
  {
   "cell_type": "code",
   "execution_count": 2,
   "metadata": {},
   "outputs": [],
   "source": [
    "logging.basicConfig(\n",
    "    level=logging.INFO,\n",
    "    format='%(asctime)s - %(name)s - %(levelname)s - %(message)s'\n",
    ")\n",
    "logger = logging.getLogger(__name__)"
   ]
  },
  {
   "cell_type": "code",
   "execution_count": 3,
   "metadata": {},
   "outputs": [],
   "source": [
    "notebook_path = Path.cwd()\n",
    "project_root = str(notebook_path.parent) + \"\\\\src\"\n",
    "sys.path.append(project_root)"
   ]
  },
  {
   "cell_type": "code",
   "execution_count": 4,
   "metadata": {},
   "outputs": [
    {
     "data": {
      "text/plain": [
       "'d:\\\\projetos\\\\roadSafeAi\\\\RoadSafeAI\\\\src'"
      ]
     },
     "execution_count": 4,
     "metadata": {},
     "output_type": "execute_result"
    }
   ],
   "source": [
    "project_root"
   ]
  },
  {
   "cell_type": "code",
   "execution_count": 5,
   "metadata": {},
   "outputs": [],
   "source": [
    "from create_pipeline import create_complete_pipeline"
   ]
  },
  {
   "cell_type": "code",
   "execution_count": 6,
   "metadata": {},
   "outputs": [
    {
     "name": "stderr",
     "output_type": "stream",
     "text": [
      "2025-01-31 08:44:26,868 - create_pipeline - INFO - Iniciando merge dos datasets...\n",
      "2025-01-31 08:44:26,870 - preprocessing.merge_datasets - INFO - 18 arquivos CSV encontrados para o período 2007-2024.\n",
      "2025-01-31 08:44:26,870 - preprocessing.merge_datasets - INFO - Processando dataset do ano 2007: datatran2007.csv\n"
     ]
    },
    {
     "name": "stdout",
     "output_type": "stream",
     "text": [
      "FileName: datatran2007.csv\n",
      "FileName: datatran2008.csv\n",
      "FileName: datatran2009.csv\n",
      "FileName: datatran2010.csv\n",
      "FileName: datatran2011.csv\n",
      "FileName: datatran2012.csv\n",
      "FileName: datatran2013.csv\n",
      "FileName: datatran2014.csv\n",
      "FileName: datatran2015.csv\n",
      "FileName: datatran2016.csv\n",
      "FileName: datatran2017.csv\n",
      "FileName: datatran2018.csv\n",
      "FileName: datatran2019.csv\n",
      "FileName: datatran2020.csv\n",
      "FileName: datatran2021.csv\n",
      "FileName: datatran2022.csv\n",
      "FileName: datatran2023.csv\n",
      "FileName: datatran2024.csv\n",
      "FileName: datatran2007.csv\n"
     ]
    },
    {
     "name": "stderr",
     "output_type": "stream",
     "text": [
      "d:\\projetos\\roadSafeAi\\RoadSafeAI\\src\\preprocessing\\file_read_pandas.py:15: DtypeWarning: Columns (5,6) have mixed types. Specify dtype option on import or set low_memory=False.\n",
      "  return pd.read_csv(file_path, encoding='cp1252', sep=';')\n",
      "2025-01-31 08:44:27,296 - preprocessing.merge_datasets - INFO - Processando dataset do ano 2008: datatran2008.csv\n"
     ]
    },
    {
     "name": "stdout",
     "output_type": "stream",
     "text": [
      "FileName: datatran2008.csv\n"
     ]
    },
    {
     "name": "stderr",
     "output_type": "stream",
     "text": [
      "d:\\projetos\\roadSafeAi\\RoadSafeAI\\src\\preprocessing\\file_read_pandas.py:15: DtypeWarning: Columns (5,6) have mixed types. Specify dtype option on import or set low_memory=False.\n",
      "  return pd.read_csv(file_path, encoding='cp1252', sep=';')\n",
      "2025-01-31 08:44:27,822 - preprocessing.merge_datasets - INFO - Processando dataset do ano 2009: datatran2009.csv\n"
     ]
    },
    {
     "name": "stdout",
     "output_type": "stream",
     "text": [
      "FileName: datatran2009.csv\n"
     ]
    },
    {
     "name": "stderr",
     "output_type": "stream",
     "text": [
      "2025-01-31 08:44:28,179 - preprocessing.merge_datasets - INFO - Processando dataset do ano 2010: datatran2010.csv\n"
     ]
    },
    {
     "name": "stdout",
     "output_type": "stream",
     "text": [
      "FileName: datatran2010.csv\n"
     ]
    },
    {
     "name": "stderr",
     "output_type": "stream",
     "text": [
      "2025-01-31 08:44:28,583 - preprocessing.merge_datasets - INFO - Processando dataset do ano 2011: datatran2011.csv\n"
     ]
    },
    {
     "name": "stdout",
     "output_type": "stream",
     "text": [
      "FileName: datatran2011.csv\n"
     ]
    },
    {
     "name": "stderr",
     "output_type": "stream",
     "text": [
      "2025-01-31 08:44:29,010 - preprocessing.merge_datasets - INFO - Processando dataset do ano 2012: datatran2012.csv\n"
     ]
    },
    {
     "name": "stdout",
     "output_type": "stream",
     "text": [
      "FileName: datatran2012.csv\n"
     ]
    },
    {
     "name": "stderr",
     "output_type": "stream",
     "text": [
      "d:\\projetos\\roadSafeAi\\RoadSafeAI\\src\\preprocessing\\file_read_pandas.py:15: DtypeWarning: Columns (5,6) have mixed types. Specify dtype option on import or set low_memory=False.\n",
      "  return pd.read_csv(file_path, encoding='cp1252', sep=';')\n",
      "2025-01-31 08:44:29,612 - preprocessing.merge_datasets - INFO - Processando dataset do ano 2013: datatran2013.csv\n"
     ]
    },
    {
     "name": "stdout",
     "output_type": "stream",
     "text": [
      "FileName: datatran2013.csv\n"
     ]
    },
    {
     "name": "stderr",
     "output_type": "stream",
     "text": [
      "2025-01-31 08:44:30,031 - preprocessing.merge_datasets - INFO - Processando dataset do ano 2014: datatran2014.csv\n"
     ]
    },
    {
     "name": "stdout",
     "output_type": "stream",
     "text": [
      "FileName: datatran2014.csv\n"
     ]
    },
    {
     "name": "stderr",
     "output_type": "stream",
     "text": [
      "2025-01-31 08:44:30,421 - preprocessing.merge_datasets - INFO - Processando dataset do ano 2015: datatran2015.csv\n"
     ]
    },
    {
     "name": "stdout",
     "output_type": "stream",
     "text": [
      "FileName: datatran2015.csv\n"
     ]
    },
    {
     "name": "stderr",
     "output_type": "stream",
     "text": [
      "2025-01-31 08:44:30,702 - preprocessing.merge_datasets - INFO - Processando dataset do ano 2016: datatran2016.csv\n"
     ]
    },
    {
     "name": "stdout",
     "output_type": "stream",
     "text": [
      "FileName: datatran2016.csv\n"
     ]
    },
    {
     "name": "stderr",
     "output_type": "stream",
     "text": [
      "2025-01-31 08:44:30,968 - preprocessing.merge_datasets - INFO - Processando dataset do ano 2017: datatran2017.csv\n"
     ]
    },
    {
     "name": "stdout",
     "output_type": "stream",
     "text": [
      "FileName: datatran2017.csv\n"
     ]
    },
    {
     "name": "stderr",
     "output_type": "stream",
     "text": [
      "2025-01-31 08:44:31,334 - preprocessing.merge_datasets - INFO - Processando dataset do ano 2018: datatran2018.csv\n"
     ]
    },
    {
     "name": "stdout",
     "output_type": "stream",
     "text": [
      "FileName: datatran2018.csv\n"
     ]
    },
    {
     "name": "stderr",
     "output_type": "stream",
     "text": [
      "2025-01-31 08:44:31,631 - preprocessing.merge_datasets - INFO - Processando dataset do ano 2019: datatran2019.csv\n"
     ]
    },
    {
     "name": "stdout",
     "output_type": "stream",
     "text": [
      "FileName: datatran2019.csv\n"
     ]
    },
    {
     "name": "stderr",
     "output_type": "stream",
     "text": [
      "2025-01-31 08:44:31,916 - preprocessing.merge_datasets - INFO - Processando dataset do ano 2020: datatran2020.csv\n"
     ]
    },
    {
     "name": "stdout",
     "output_type": "stream",
     "text": [
      "FileName: datatran2020.csv\n"
     ]
    },
    {
     "name": "stderr",
     "output_type": "stream",
     "text": [
      "2025-01-31 08:44:32,182 - preprocessing.merge_datasets - INFO - Processando dataset do ano 2021: datatran2021.csv\n"
     ]
    },
    {
     "name": "stdout",
     "output_type": "stream",
     "text": [
      "FileName: datatran2021.csv\n"
     ]
    },
    {
     "name": "stderr",
     "output_type": "stream",
     "text": [
      "2025-01-31 08:44:32,471 - preprocessing.merge_datasets - INFO - Processando dataset do ano 2022: datatran2022.csv\n"
     ]
    },
    {
     "name": "stdout",
     "output_type": "stream",
     "text": [
      "FileName: datatran2022.csv\n"
     ]
    },
    {
     "name": "stderr",
     "output_type": "stream",
     "text": [
      "2025-01-31 08:44:32,741 - preprocessing.merge_datasets - INFO - Processando dataset do ano 2023: datatran2023.csv\n"
     ]
    },
    {
     "name": "stdout",
     "output_type": "stream",
     "text": [
      "FileName: datatran2023.csv\n"
     ]
    },
    {
     "name": "stderr",
     "output_type": "stream",
     "text": [
      "2025-01-31 08:44:33,025 - preprocessing.merge_datasets - INFO - Processando dataset do ano 2024: datatran2024.csv\n"
     ]
    },
    {
     "name": "stdout",
     "output_type": "stream",
     "text": [
      "FileName: datatran2024.csv\n"
     ]
    },
    {
     "name": "stderr",
     "output_type": "stream",
     "text": [
      "2025-01-31 08:44:49,275 - preprocessing.merge_datasets - INFO - Dataset unificado salvo em D:\\projetos\\roadSafeAi\\RoadSafeAI\\files\\processed\\datatran_merged_base_2007_2024.csv\n",
      "2025-01-31 08:44:49,285 - preprocessing.merge_datasets - INFO - Metadados salvos em D:\\projetos\\roadSafeAi\\RoadSafeAI\\files\\processed\\metadata.txt\n",
      "2025-01-31 08:44:49,287 - preprocessing.merge_datasets - INFO - 8 arquivos CSV encontrados para o período 2017-2024.\n",
      "2025-01-31 08:44:49,288 - preprocessing.merge_datasets - INFO - Processando dataset do ano 2017: datatran2017.csv\n"
     ]
    },
    {
     "name": "stdout",
     "output_type": "stream",
     "text": [
      "FileName: datatran2007.csv\n",
      "FileName: datatran2008.csv\n",
      "FileName: datatran2009.csv\n",
      "FileName: datatran2010.csv\n",
      "FileName: datatran2011.csv\n",
      "FileName: datatran2012.csv\n",
      "FileName: datatran2013.csv\n",
      "FileName: datatran2014.csv\n",
      "FileName: datatran2015.csv\n",
      "FileName: datatran2016.csv\n",
      "FileName: datatran2017.csv\n",
      "FileName: datatran2018.csv\n",
      "FileName: datatran2019.csv\n",
      "FileName: datatran2020.csv\n",
      "FileName: datatran2021.csv\n",
      "FileName: datatran2022.csv\n",
      "FileName: datatran2023.csv\n",
      "FileName: datatran2024.csv\n",
      "FileName: datatran2017.csv\n"
     ]
    },
    {
     "name": "stderr",
     "output_type": "stream",
     "text": [
      "2025-01-31 08:44:49,954 - preprocessing.merge_datasets - INFO - Processando dataset do ano 2018: datatran2018.csv\n"
     ]
    },
    {
     "name": "stdout",
     "output_type": "stream",
     "text": [
      "FileName: datatran2018.csv\n"
     ]
    },
    {
     "name": "stderr",
     "output_type": "stream",
     "text": [
      "2025-01-31 08:44:50,304 - preprocessing.merge_datasets - INFO - Processando dataset do ano 2019: datatran2019.csv\n"
     ]
    },
    {
     "name": "stdout",
     "output_type": "stream",
     "text": [
      "FileName: datatran2019.csv\n"
     ]
    },
    {
     "name": "stderr",
     "output_type": "stream",
     "text": [
      "2025-01-31 08:44:50,633 - preprocessing.merge_datasets - INFO - Processando dataset do ano 2020: datatran2020.csv\n"
     ]
    },
    {
     "name": "stdout",
     "output_type": "stream",
     "text": [
      "FileName: datatran2020.csv\n"
     ]
    },
    {
     "name": "stderr",
     "output_type": "stream",
     "text": [
      "2025-01-31 08:44:50,998 - preprocessing.merge_datasets - INFO - Processando dataset do ano 2021: datatran2021.csv\n"
     ]
    },
    {
     "name": "stdout",
     "output_type": "stream",
     "text": [
      "FileName: datatran2021.csv\n"
     ]
    },
    {
     "name": "stderr",
     "output_type": "stream",
     "text": [
      "2025-01-31 08:44:51,312 - preprocessing.merge_datasets - INFO - Processando dataset do ano 2022: datatran2022.csv\n"
     ]
    },
    {
     "name": "stdout",
     "output_type": "stream",
     "text": [
      "FileName: datatran2022.csv\n"
     ]
    },
    {
     "name": "stderr",
     "output_type": "stream",
     "text": [
      "2025-01-31 08:44:51,633 - preprocessing.merge_datasets - INFO - Processando dataset do ano 2023: datatran2023.csv\n"
     ]
    },
    {
     "name": "stdout",
     "output_type": "stream",
     "text": [
      "FileName: datatran2023.csv\n"
     ]
    },
    {
     "name": "stderr",
     "output_type": "stream",
     "text": [
      "2025-01-31 08:44:51,968 - preprocessing.merge_datasets - INFO - Processando dataset do ano 2024: datatran2024.csv\n"
     ]
    },
    {
     "name": "stdout",
     "output_type": "stream",
     "text": [
      "FileName: datatran2024.csv\n"
     ]
    },
    {
     "name": "stderr",
     "output_type": "stream",
     "text": [
      "2025-01-31 08:44:57,471 - preprocessing.merge_datasets - INFO - Dataset unificado salvo em D:\\projetos\\roadSafeAi\\RoadSafeAI\\files\\processed\\datatran_merged_complete_2017_2024.csv\n",
      "2025-01-31 08:44:57,475 - preprocessing.merge_datasets - INFO - Metadados salvos em D:\\projetos\\roadSafeAi\\RoadSafeAI\\files\\processed\\metadata.txt\n",
      "2025-01-31 08:44:57,476 - create_pipeline - INFO - Dataset base:\n",
      "2025-01-31 08:44:57,477 - create_pipeline - INFO - Shape: (2122296, 25)\n",
      "2025-01-31 08:44:57,487 - create_pipeline - INFO - Período: 2007-01-01 00:00:00 a 2024-12-31 00:00:00\n",
      "2025-01-31 08:44:57,488 - create_pipeline - INFO - Colunas: ['id', 'data_inversa', 'dia_semana', 'horario', 'uf', 'br', 'km', 'municipio', 'causa_acidente', 'tipo_acidente', 'classificacao_acidente', 'fase_dia', 'sentido_via', 'condicao_metereologica', 'tipo_pista', 'tracado_via', 'uso_solo', 'pessoas', 'mortos', 'feridos_leves', 'feridos_graves', 'ilesos', 'ignorados', 'feridos', 'veiculos']\n",
      "2025-01-31 08:44:57,489 - create_pipeline - INFO - Dataset complete:\n",
      "2025-01-31 08:44:57,490 - create_pipeline - INFO - Shape: (560096, 30)\n",
      "2025-01-31 08:44:57,493 - create_pipeline - INFO - Período: 2017-01-01 00:00:00 a 2024-12-31 00:00:00\n",
      "2025-01-31 08:44:57,493 - create_pipeline - INFO - Colunas: ['id', 'data_inversa', 'dia_semana', 'horario', 'uf', 'br', 'km', 'municipio', 'causa_acidente', 'tipo_acidente', 'classificacao_acidente', 'fase_dia', 'sentido_via', 'condicao_metereologica', 'tipo_pista', 'tracado_via', 'uso_solo', 'pessoas', 'mortos', 'feridos_leves', 'feridos_graves', 'ilesos', 'ignorados', 'feridos', 'veiculos', 'latitude', 'longitude', 'regional', 'delegacia', 'uop']\n",
      "2025-01-31 08:44:57,494 - create_pipeline - INFO - Iniciando limpeza dos datasets...\n",
      "2025-01-31 08:44:57,495 - create_pipeline - INFO - Limpando dataset base...\n",
      "2025-01-31 08:45:00,506 - preprocessing.data_cleaning - INFO - Removidos 0 registros duplicados.\n",
      "2025-01-31 08:45:01,037 - preprocessing.data_cleaning - INFO - Valores ausentes antes do tratamento: 79\n",
      "2025-01-31 08:45:02,823 - preprocessing.data_cleaning - INFO - Linhas onde apenas tipo_acidente era nulo: 40\n",
      "2025-01-31 08:45:02,824 - preprocessing.data_cleaning - INFO - Registros no dataset original: 2122296\n",
      "2025-01-31 08:45:02,824 - preprocessing.data_cleaning - INFO - Registros após tratamento: 2122270\n",
      "2025-01-31 08:45:02,825 - preprocessing.data_cleaning - INFO - Registros removidos: 26\n",
      "2025-01-31 08:45:36,974 - create_pipeline - INFO - Dataset base limpo salvo em dados_limpos_base_2007_2024.csv\n",
      "2025-01-31 08:45:36,977 - create_pipeline - INFO - Dataset base após limpeza:\n",
      "2025-01-31 08:45:36,978 - create_pipeline - INFO - Shape: (2122270, 25)\n",
      "2025-01-31 08:45:37,595 - create_pipeline - INFO - Valores nulos: 0\n",
      "2025-01-31 08:45:37,595 - create_pipeline - INFO - Limpando dataset complete...\n",
      "2025-01-31 08:45:38,324 - preprocessing.data_cleaning - INFO - Removidos 0 registros duplicados.\n",
      "2025-01-31 08:45:38,515 - preprocessing.data_cleaning - INFO - Valores ausentes antes do tratamento: 688\n",
      "2025-01-31 08:45:39,063 - preprocessing.data_cleaning - INFO - Linhas onde apenas tipo_acidente era nulo: 40\n",
      "2025-01-31 08:45:39,064 - preprocessing.data_cleaning - INFO - Registros no dataset original: 560096\n",
      "2025-01-31 08:45:39,065 - preprocessing.data_cleaning - INFO - Registros após tratamento: 559691\n",
      "2025-01-31 08:45:39,065 - preprocessing.data_cleaning - INFO - Registros removidos: 405\n",
      "2025-01-31 08:45:51,302 - create_pipeline - INFO - Dataset complete limpo salvo em dados_limpos_complete_2017_2024.csv\n",
      "2025-01-31 08:45:51,303 - create_pipeline - INFO - Dataset complete após limpeza:\n",
      "2025-01-31 08:45:51,303 - create_pipeline - INFO - Shape: (559691, 30)\n",
      "2025-01-31 08:45:51,516 - create_pipeline - INFO - Valores nulos: 0\n",
      "2025-01-31 08:45:51,612 - __main__ - INFO - \n",
      "Resultados finais - Dataset base:\n",
      "2025-01-31 08:45:51,613 - __main__ - INFO - Shape final: (2122270, 25)\n",
      "2025-01-31 08:45:51,621 - __main__ - INFO - Período: 2007-01-01 00:00:00 a 2024-12-31 00:00:00\n",
      "2025-01-31 08:45:51,622 - __main__ - INFO - Total de registros: 2122270\n",
      "2025-01-31 08:45:51,623 - __main__ - INFO - \n",
      "Distribuição por classificação:\n",
      "2025-01-31 08:45:51,701 - __main__ - INFO - classificacao_acidente\n",
      "Sem Vítimas            1022431\n",
      "Com Vítimas Feridas     987084\n",
      "Com Vítimas Fatais      101070\n",
      "Ignorado                 11660\n",
      "(null)                      25\n",
      "Name: count, dtype: int64\n",
      "2025-01-31 08:45:51,702 - __main__ - INFO - \n",
      "Resultados finais - Dataset complete:\n",
      "2025-01-31 08:45:51,703 - __main__ - INFO - Shape final: (559691, 30)\n",
      "2025-01-31 08:45:51,705 - __main__ - INFO - Período: 2017-01-01 00:00:00 a 2024-12-31 00:00:00\n",
      "2025-01-31 08:45:51,706 - __main__ - INFO - Total de registros: 559691\n",
      "2025-01-31 08:45:51,707 - __main__ - INFO - \n",
      "Distribuição por classificação:\n",
      "2025-01-31 08:45:51,728 - __main__ - INFO - classificacao_acidente\n",
      "Com Vítimas Feridas    406526\n",
      "Sem Vítimas            114963\n",
      "Com Vítimas Fatais      38202\n",
      "Name: count, dtype: int64\n"
     ]
    }
   ],
   "source": [
    "pipeline = create_complete_pipeline(collect_new_data=False)\n",
    "        \n",
    "results = pipeline.fit_transform(pd.DataFrame())\n",
    "        \n",
    "# Log dos resultados finais\n",
    "for dataset_type, df in results.items():\n",
    "    logger.info(f\"\\nResultados finais - Dataset {dataset_type}:\")\n",
    "    logger.info(f\"Shape final: {df.shape}\")\n",
    "    logger.info(f\"Período: {df['data_inversa'].min()} a {df['data_inversa'].max()}\")\n",
    "    logger.info(f\"Total de registros: {len(df)}\")\n",
    "    \n",
    "    # Opcional: análises adicionais\n",
    "    logger.info(\"\\nDistribuição por classificação:\")\n",
    "    logger.info(df['classificacao_acidente'].value_counts())"
   ]
  },
  {
   "cell_type": "code",
   "execution_count": null,
   "metadata": {},
   "outputs": [],
   "source": []
  },
  {
   "cell_type": "code",
   "execution_count": null,
   "metadata": {},
   "outputs": [],
   "source": []
  }
 ],
 "metadata": {
  "kernelspec": {
   "display_name": "env",
   "language": "python",
   "name": "python3"
  },
  "language_info": {
   "codemirror_mode": {
    "name": "ipython",
    "version": 3
   },
   "file_extension": ".py",
   "mimetype": "text/x-python",
   "name": "python",
   "nbconvert_exporter": "python",
   "pygments_lexer": "ipython3",
   "version": "3.9.0"
  }
 },
 "nbformat": 4,
 "nbformat_minor": 2
}
