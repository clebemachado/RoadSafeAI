{
  "cells": [
    {
      "cell_type": "markdown",
      "metadata": {
        "id": "HaanMLOGc_n6"
      },
      "source": [
        "# **Coleta de Dados de Acidentes de Trânsito no Brasil (2007-2024)**"
      ]
    },
    {
      "cell_type": "markdown",
      "metadata": {
        "id": "b1WIn9zJdNL-"
      },
      "source": [
        "Este notebook descreve o processo de coleta de dados sobre acidentes de trânsito no Brasil, utilizando informações fornecidas pelo Departamento Nacional de Trânsito (DETRAN). O objetivo é automatizar a coleta de arquivos CSV e organizá-los para análise e processamento posterior."
      ]
    },
    {
      "cell_type": "markdown",
      "metadata": {
        "id": "GlWL7PhcdUXV"
      },
      "source": [
        "# 1. Importação de Bibliotecas e Configuração Inicial\n",
        "\n",
        "Primeiramente, vamos importar as bibliotecas necessárias e configurar o ambiente de logging, que nos ajudará a monitorar o progresso e possíveis erros durante a execução."
      ]
    },
    {
      "cell_type": "code",
      "execution_count": 1,
      "metadata": {
        "id": "CMwbGaoec-ms"
      },
      "outputs": [
        {
          "name": "stderr",
          "output_type": "stream",
          "text": [
            "C:\\Users\\joseb\\AppData\\Local\\Temp\\ipykernel_28968\\4288788791.py:1: DeprecationWarning: \n",
            "Pyarrow will become a required dependency of pandas in the next major release of pandas (pandas 3.0),\n",
            "(to allow more performant data types, such as the Arrow string type, and better interoperability with other libraries)\n",
            "but was not found to be installed on your system.\n",
            "If this would cause problems for you,\n",
            "please provide us feedback at https://github.com/pandas-dev/pandas/issues/54466\n",
            "        \n",
            "  import pandas as pd\n"
          ]
        }
      ],
      "source": [
        "import pandas as pd\n",
        "import shutil\n",
        "from pathlib import Path\n",
        "import logging\n"
      ]
    },
    {
      "cell_type": "markdown",
      "metadata": {
        "id": "0UvUleYIdciG"
      },
      "source": [
        "## Configuração do Log\n",
        "A configuração do log permite que você registre mensagens em diferentes níveis (informação, erro, etc.), o que facilita o rastreamento da execução do processo.\n"
      ]
    },
    {
      "cell_type": "code",
      "execution_count": 2,
      "metadata": {
        "id": "9lR4Z_zNdqPr"
      },
      "outputs": [],
      "source": [
        "logging.basicConfig(\n",
        "    level=logging.INFO,\n",
        "    format='%(asctime)s - %(name)s - %(levelname)s - %(message)s'\n",
        ")\n",
        "logger = logging.getLogger(__name__)"
      ]
    },
    {
      "cell_type": "markdown",
      "metadata": {
        "id": "-L7PzYyhds8q"
      },
      "source": [
        "## Configuração do Log\n",
        "A configuração do log permite que você registre mensagens em diferentes níveis (informação, erro, etc.), o que facilita o rastreamento da execução do processo."
      ]
    },
    {
      "cell_type": "code",
      "execution_count": 3,
      "metadata": {
        "id": "OJ75d6T9d1CS"
      },
      "outputs": [],
      "source": [
        "logging.basicConfig(\n",
        "    level=logging.INFO,\n",
        "    format='%(asctime)s - %(name)s - %(levelname)s - %(message)s'\n",
        ")\n",
        "logger = logging.getLogger(__name__)\n"
      ]
    },
    {
      "cell_type": "markdown",
      "metadata": {
        "id": "NJyLK8sOdvCL"
      },
      "source": [
        "# 2. Definição das Constantes\n",
        "\n",
        "Aqui, definimos algumas constantes que serão utilizadas ao longo do código. Elas ajudam a manter o código mais legível e organizado."
      ]
    },
    {
      "cell_type": "code",
      "execution_count": 4,
      "metadata": {
        "id": "jYUxr01Gd882"
      },
      "outputs": [],
      "source": [
        "COLUMN_DESCRIPTION = \"DESCRIPTION\"\n",
        "COLUMN_URL = \"URL\"\n",
        "COLUMN_YEAR = \"YEAR\"\n",
        "COLUMN_FILE_NAME = \"FILE_NAME\"\n",
        "MESSAGE_ERROR_FILE_EXIST = '/files já existe. Não será feito novo download'\n",
        "FILTER_TEXT_DOCUMENT_CSV_ACIDENTES = 'Documento CSV de Acidentes '\n",
        "FILTER_TEXT_ALL_CASES = \"Todas as causas e\"\n",
        "FILTER_GROUP_FOR_PEOPLE = \"Agrupados por pessoa\"\n",
        "PATH_SAVE_FILE_YAML = \"paths.save_files\"\n",
        "URL_REPLACE = \"https://drive.usercontent.google.com/u/0/uc?id=ID_FILE&export=download\"\n"
      ]
    },
    {
      "cell_type": "markdown",
      "metadata": {
        "id": "68wPPvfteBKP"
      },
      "source": [
        "## 3. Funções para Coleta e Processamento de Dados\n",
        "\n",
        "### Função para Verificar se a Pasta de Arquivos Já Existe\n",
        "\n",
        "Antes de iniciar o download dos arquivos, precisamos verificar se a pasta de arquivos já existe. Caso contrário, a pasta será criada."
      ]
    },
    {
      "cell_type": "code",
      "execution_count": 5,
      "metadata": {
        "id": "doCTTwJReAUS"
      },
      "outputs": [],
      "source": [
        "def __verify_if_file_folder_exist(force_download):\n",
        "    folder_files = root_path / \"files\"\n",
        "    if force_download and folder_files.exists() and folder_files.is_dir():\n",
        "        shutil.rmtree(folder_files)\n",
        "        return False\n",
        "    return folder_files.is_dir()\n"
      ]
    },
    {
      "cell_type": "markdown",
      "metadata": {
        "id": "CDEcoIyleKJh"
      },
      "source": [
        "### Função para Obter os Dados do Detran\n",
        "Esta função obtém os dados do DETRAN em formato HTML e converte-os para um DataFrame."
      ]
    },
    {
      "cell_type": "code",
      "execution_count": 6,
      "metadata": {
        "id": "TEfJ6h8OePi_"
      },
      "outputs": [],
      "source": [
        "def __getDataFrame():\n",
        "    url = config.get(\"database.detran\")\n",
        "    df = pd.read_html(url, extract_links=\"body\")\n",
        "    df = df[1]  # Pega a segunda tabela\n",
        "    df = df.iloc[1:-1]  # Exclui a primeira e última linha\n",
        "    df.columns = [COLUMN_DESCRIPTION, COLUMN_URL]\n",
        "    return df\n"
      ]
    },
    {
      "cell_type": "markdown",
      "metadata": {
        "id": "dbF6fsdxeTsY"
      },
      "source": [
        "### Função para Limpar o DataFrame\n",
        "\n",
        "Aqui, realizamos a limpeza do DataFrame, ajustando as colunas e removendo informações indesejadas."
      ]
    },
    {
      "cell_type": "code",
      "execution_count": 7,
      "metadata": {
        "id": "ElX2prdme4sE"
      },
      "outputs": [],
      "source": [
        "def __clean_dataframe(df):\n",
        "    df.loc[:, \"URL\"] = df[\"URL\"].apply(lambda x: x[1].split(\"/\")[-3])\n",
        "    df.loc[:, \"URL\"] = df[\"URL\"].apply(lambda x: URL_REPLACE.replace(\"ID_FILE\", x))\n",
        "    df.loc[:, COLUMN_DESCRIPTION] = df[COLUMN_DESCRIPTION].apply(lambda x: x[0])\n",
        "    df.loc[:, COLUMN_DESCRIPTION] = df[COLUMN_DESCRIPTION].str.replace(FILTER_TEXT_DOCUMENT_CSV_ACIDENTES, '', regex=False)\n",
        "    df[COLUMN_YEAR] = df[COLUMN_DESCRIPTION].str.extract(r'(\\d{4})')\n",
        "    return df\n"
      ]
    },
    {
      "cell_type": "markdown",
      "metadata": {
        "id": "P3oi0TLge9mX"
      },
      "source": [
        "## Função para Remover Linhas com Dados Repetidos\n",
        "\n",
        "Esta função é responsável por remover qualquer dado repetido ou não agrupado corretamente."
      ]
    },
    {
      "cell_type": "code",
      "execution_count": 8,
      "metadata": {
        "id": "Okc_0OmCfEX4"
      },
      "outputs": [],
      "source": [
        "def __remove_rows_with_data_repeat(df):\n",
        "    def filtrar_links(df_g):\n",
        "        if df_g[COLUMN_DESCRIPTION].str.contains('Todas as causas e', na=False).any():\n",
        "            return df_g[df_g[COLUMN_DESCRIPTION].str.contains('Todas as causas e', na=False)]\n",
        "        else:\n",
        "            return df_g\n",
        "    return df.groupby(COLUMN_YEAR).apply(filtrar_links, include_groups=True).reset_index(drop=True)\n"
      ]
    },
    {
      "cell_type": "markdown",
      "metadata": {
        "id": "lZi6PBF-eVUI"
      },
      "source": [
        "### Função para Gerar Nomes de Arquivos\n",
        "A função abaixo gera nomes para os arquivos com base nas descrições das colunas, facilitando a organização dos dados.\n",
        "\n"
      ]
    },
    {
      "cell_type": "code",
      "execution_count": 9,
      "metadata": {
        "id": "SFEHh0eAfOMw"
      },
      "outputs": [],
      "source": [
        "def __generate_column_name_file(df):\n",
        "    def get_name_file(col):\n",
        "        year = col[:4]\n",
        "        if FILTER_TEXT_ALL_CASES in col:\n",
        "            return f\"{year}_geral\"\n",
        "        elif FILTER_GROUP_FOR_PEOPLE in col:\n",
        "            return f\"{year}_agg_pessoa\"\n",
        "        else:\n",
        "            return f\"{year}_agg_ocorrencia\"\n",
        "    df.loc[:, COLUMN_FILE_NAME] = df[COLUMN_DESCRIPTION].apply(get_name_file)\n"
      ]
    },
    {
      "cell_type": "markdown",
      "metadata": {
        "id": "qBhnpH42fPTF"
      },
      "source": [
        "### Função para Baixar e Salvar os Arquivos\n",
        "Esta função faz o download dos arquivos CSV e os salva na pasta especificada."
      ]
    },
    {
      "cell_type": "code",
      "execution_count": 10,
      "metadata": {
        "id": "RwgFjnByfT9V"
      },
      "outputs": [],
      "source": [
        "def __download_and_save_files(df):\n",
        "    errors = []\n",
        "    for index, row in df.iterrows():\n",
        "        url = row[COLUMN_URL]\n",
        "        file_name = row[COLUMN_FILE_NAME]\n",
        "        year = row[COLUMN_YEAR]\n",
        "        if \"_agg_ocorrencia\" not in file_name:\n",
        "            continue\n",
        "        file_name_save = f\"datatran{year}\"\n",
        "        download_folder = Path(__file__).parent.parent.parent / config.get(PATH_SAVE_FILE_YAML)\n",
        "        file_is_save = FileDownloader.download_and_save(url, file_name_save, \".csv\", download_folder)\n",
        "        if not file_is_save:\n",
        "            errors.append(year)\n",
        "    for y in errors:\n",
        "        logger.error(f\"Dataset para o ano {y} não realizado.\")\n"
      ]
    },
    {
      "cell_type": "markdown",
      "metadata": {
        "id": "HD-nc-rnfVv8"
      },
      "source": [
        "### Função Principal para Coletar Dados\n",
        "\n",
        "Por fim, temos a função principal que coordena todo o processo de coleta e processamento de dados."
      ]
    },
    {
      "cell_type": "code",
      "execution_count": 11,
      "metadata": {
        "id": "UCoFt2zjfbwa"
      },
      "outputs": [],
      "source": [
        "def execute_data_collection(force_download=False):\n",
        "    \"\"\" Método principal para executar o fluxo de coleta e processamento de dados. \"\"\"\n",
        "    if __verify_if_file_folder_exist(force_download):\n",
        "        logging.warning(f\"Folder já existe. Não será feito novo download.\")\n",
        "        return logging.info(\"Iniciando coleta de dados\")\n",
        "    df = __getDataFrame()\n",
        "    __clean_dataframe(df)\n",
        "    __generate_column_name_file(df)\n",
        "    __download_and_save_files(df)\n",
        "    logging.info(\"Finalizando coleta de dados\")\n"
      ]
    },
    {
      "cell_type": "markdown",
      "metadata": {
        "id": "SkYCsHz8fsaP"
      },
      "source": [
        "### 4. Execução do Processo de Coleta de Dados\n",
        "\n",
        "Agora, vamos executar o processo de coleta de dados. Isso irá iniciar o download e salvar os arquivos necessários."
      ]
    },
    {
      "cell_type": "code",
      "execution_count": null,
      "metadata": {
        "id": "BqN2rp96fwpI"
      },
      "outputs": [],
      "source": [
        "execute_data_collection()\n"
      ]
    }
  ],
  "metadata": {
    "colab": {
      "provenance": []
    },
    "kernelspec": {
      "display_name": ".venv",
      "language": "python",
      "name": "python3"
    },
    "language_info": {
      "codemirror_mode": {
        "name": "ipython",
        "version": 3
      },
      "file_extension": ".py",
      "mimetype": "text/x-python",
      "name": "python",
      "nbconvert_exporter": "python",
      "pygments_lexer": "ipython3",
      "version": "3.12.0"
    }
  },
  "nbformat": 4,
  "nbformat_minor": 0
}
