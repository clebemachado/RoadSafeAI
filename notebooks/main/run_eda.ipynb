{
 "cells": [
  {
   "cell_type": "code",
   "execution_count": 1,
   "metadata": {},
   "outputs": [],
   "source": [
    "import sys\n",
    "import os\n",
    "from pathlib import Path\n",
    "import pandas as pd\n",
    "import matplotlib.pyplot as plt\n",
    "import seaborn as sns\n",
    "import logging"
   ]
  },
  {
   "cell_type": "code",
   "execution_count": 2,
   "metadata": {},
   "outputs": [],
   "source": [
    "logging.basicConfig(\n",
    "    level=logging.INFO,\n",
    "    format='%(asctime)s - %(name)s - %(levelname)s - %(message)s'\n",
    ")\n",
    "logger = logging.getLogger(__name__)"
   ]
  },
  {
   "cell_type": "code",
   "execution_count": 3,
   "metadata": {},
   "outputs": [],
   "source": [
    "notebook_path = Path.cwd()\n",
    "project_root = str(notebook_path.parent.parent) + \"\\\\src\"\n",
    "sys.path.append(project_root)"
   ]
  },
  {
   "cell_type": "code",
   "execution_count": 4,
   "metadata": {},
   "outputs": [
    {
     "data": {
      "text/plain": [
       "'d:\\\\projetos\\\\roadSafeAi\\\\RoadSafeAI\\\\src'"
      ]
     },
     "execution_count": 4,
     "metadata": {},
     "output_type": "execute_result"
    }
   ],
   "source": [
    "project_root"
   ]
  },
  {
   "cell_type": "code",
   "execution_count": 5,
   "metadata": {},
   "outputs": [],
   "source": [
    "from eda.exploratory_analysis import AnaliseExploratoria"
   ]
  },
  {
   "cell_type": "code",
   "execution_count": 6,
   "metadata": {},
   "outputs": [
    {
     "name": "stderr",
     "output_type": "stream",
     "text": [
      "d:\\projetos\\roadSafeAi\\RoadSafeAI\\env\\lib\\site-packages\\requests\\__init__.py:86: RequestsDependencyWarning: Unable to find acceptable character detection dependency (chardet or charset_normalizer).\n",
      "  warnings.warn(\n",
      "2025-02-14 00:10:53,414 - pipelines.preprocessing_pipeline.PreprocessingPipeline - INFO - COLLECT NEW DATA: True\n",
      "2025-02-14 00:10:53,416 - pipelines.preprocessing_pipeline.PreprocessingPipeline - INFO - Iniciando pipeline completo de pré-processamento (usando dataset base)...\n",
      "2025-02-14 00:10:53,417 - preprocessing.transformers.data_collection_transformer.DataCollectionTransformer - INFO - Iniciando coleta de dados...\n",
      "2025-02-14 00:10:53,419 - root - WARNING - Folder RoadSafeAI/files já existe. Não será feito novo download\n",
      "2025-02-14 00:10:53,420 - preprocessing.transformers.data_collection_transformer.DataCollectionTransformer - INFO - Coleta de dados concluída com sucesso\n",
      "2025-02-14 00:10:53,421 - preprocessing.transformers.dataset_merger_transformer.DatasetMergerTransformer - INFO - Iniciando união dos datasets (usando dataset base)...\n",
      "2025-02-14 00:10:53,422 - data_collection.merge_datasets - INFO - 18 arquivos CSV encontrados para o período 2007-2024.\n",
      "2025-02-14 00:10:53,423 - data_collection.merge_datasets - INFO - Processando dataset do ano 2007: datatran2007.csv\n"
     ]
    },
    {
     "name": "stdout",
     "output_type": "stream",
     "text": [
      "FileName: datatran2007.csv\n",
      "FileName: datatran2008.csv\n",
      "FileName: datatran2009.csv\n",
      "FileName: datatran2010.csv\n",
      "FileName: datatran2011.csv\n",
      "FileName: datatran2012.csv\n",
      "FileName: datatran2013.csv\n",
      "FileName: datatran2014.csv\n",
      "FileName: datatran2015.csv\n",
      "FileName: datatran2016.csv\n",
      "FileName: datatran2017.csv\n",
      "FileName: datatran2018.csv\n",
      "FileName: datatran2019.csv\n",
      "FileName: datatran2020.csv\n",
      "FileName: datatran2021.csv\n",
      "FileName: datatran2022.csv\n",
      "FileName: datatran2023.csv\n",
      "FileName: datatran2024.csv\n",
      "FileName: datatran2007.csv\n"
     ]
    },
    {
     "name": "stderr",
     "output_type": "stream",
     "text": [
      "d:\\projetos\\roadSafeAi\\RoadSafeAI\\src\\data_collection\\file_read_pandas.py:16: DtypeWarning: Columns (5,6) have mixed types. Specify dtype option on import or set low_memory=False.\n",
      "  return pd.read_csv(file_path, encoding='cp1252', sep=';')\n",
      "2025-02-14 00:10:53,716 - data_collection.merge_datasets - INFO - Processando dataset do ano 2008: datatran2008.csv\n"
     ]
    },
    {
     "name": "stdout",
     "output_type": "stream",
     "text": [
      "FileName: datatran2008.csv\n"
     ]
    },
    {
     "name": "stderr",
     "output_type": "stream",
     "text": [
      "d:\\projetos\\roadSafeAi\\RoadSafeAI\\src\\data_collection\\file_read_pandas.py:16: DtypeWarning: Columns (5,6) have mixed types. Specify dtype option on import or set low_memory=False.\n",
      "  return pd.read_csv(file_path, encoding='cp1252', sep=';')\n",
      "2025-02-14 00:10:54,043 - data_collection.merge_datasets - INFO - Processando dataset do ano 2009: datatran2009.csv\n"
     ]
    },
    {
     "name": "stdout",
     "output_type": "stream",
     "text": [
      "FileName: datatran2009.csv\n"
     ]
    },
    {
     "name": "stderr",
     "output_type": "stream",
     "text": [
      "2025-02-14 00:10:54,448 - data_collection.merge_datasets - INFO - Processando dataset do ano 2010: datatran2010.csv\n"
     ]
    },
    {
     "name": "stdout",
     "output_type": "stream",
     "text": [
      "FileName: datatran2010.csv\n"
     ]
    },
    {
     "name": "stderr",
     "output_type": "stream",
     "text": [
      "2025-02-14 00:10:54,853 - data_collection.merge_datasets - INFO - Processando dataset do ano 2011: datatran2011.csv\n"
     ]
    },
    {
     "name": "stdout",
     "output_type": "stream",
     "text": [
      "FileName: datatran2011.csv\n"
     ]
    },
    {
     "name": "stderr",
     "output_type": "stream",
     "text": [
      "2025-02-14 00:10:55,292 - data_collection.merge_datasets - INFO - Processando dataset do ano 2012: datatran2012.csv\n"
     ]
    },
    {
     "name": "stdout",
     "output_type": "stream",
     "text": [
      "FileName: datatran2012.csv\n"
     ]
    },
    {
     "name": "stderr",
     "output_type": "stream",
     "text": [
      "d:\\projetos\\roadSafeAi\\RoadSafeAI\\src\\data_collection\\file_read_pandas.py:16: DtypeWarning: Columns (5,6) have mixed types. Specify dtype option on import or set low_memory=False.\n",
      "  return pd.read_csv(file_path, encoding='cp1252', sep=';')\n",
      "2025-02-14 00:10:55,709 - data_collection.merge_datasets - INFO - Processando dataset do ano 2013: datatran2013.csv\n"
     ]
    },
    {
     "name": "stdout",
     "output_type": "stream",
     "text": [
      "FileName: datatran2013.csv\n"
     ]
    },
    {
     "name": "stderr",
     "output_type": "stream",
     "text": [
      "2025-02-14 00:10:56,126 - data_collection.merge_datasets - INFO - Processando dataset do ano 2014: datatran2014.csv\n"
     ]
    },
    {
     "name": "stdout",
     "output_type": "stream",
     "text": [
      "FileName: datatran2014.csv\n"
     ]
    },
    {
     "name": "stderr",
     "output_type": "stream",
     "text": [
      "2025-02-14 00:10:56,518 - data_collection.merge_datasets - INFO - Processando dataset do ano 2015: datatran2015.csv\n"
     ]
    },
    {
     "name": "stdout",
     "output_type": "stream",
     "text": [
      "FileName: datatran2015.csv\n"
     ]
    },
    {
     "name": "stderr",
     "output_type": "stream",
     "text": [
      "2025-02-14 00:10:56,800 - data_collection.merge_datasets - INFO - Processando dataset do ano 2016: datatran2016.csv\n"
     ]
    },
    {
     "name": "stdout",
     "output_type": "stream",
     "text": [
      "FileName: datatran2016.csv\n"
     ]
    },
    {
     "name": "stderr",
     "output_type": "stream",
     "text": [
      "2025-02-14 00:10:57,029 - data_collection.merge_datasets - INFO - Processando dataset do ano 2017: datatran2017.csv\n"
     ]
    },
    {
     "name": "stdout",
     "output_type": "stream",
     "text": [
      "FileName: datatran2017.csv\n"
     ]
    },
    {
     "name": "stderr",
     "output_type": "stream",
     "text": [
      "2025-02-14 00:10:57,415 - data_collection.merge_datasets - INFO - Processando dataset do ano 2018: datatran2018.csv\n"
     ]
    },
    {
     "name": "stdout",
     "output_type": "stream",
     "text": [
      "FileName: datatran2018.csv\n"
     ]
    },
    {
     "name": "stderr",
     "output_type": "stream",
     "text": [
      "2025-02-14 00:10:57,714 - data_collection.merge_datasets - INFO - Processando dataset do ano 2019: datatran2019.csv\n"
     ]
    },
    {
     "name": "stdout",
     "output_type": "stream",
     "text": [
      "FileName: datatran2019.csv\n"
     ]
    },
    {
     "name": "stderr",
     "output_type": "stream",
     "text": [
      "2025-02-14 00:10:58,006 - data_collection.merge_datasets - INFO - Processando dataset do ano 2020: datatran2020.csv\n"
     ]
    },
    {
     "name": "stdout",
     "output_type": "stream",
     "text": [
      "FileName: datatran2020.csv\n"
     ]
    },
    {
     "name": "stderr",
     "output_type": "stream",
     "text": [
      "2025-02-14 00:10:58,275 - data_collection.merge_datasets - INFO - Processando dataset do ano 2021: datatran2021.csv\n"
     ]
    },
    {
     "name": "stdout",
     "output_type": "stream",
     "text": [
      "FileName: datatran2021.csv\n"
     ]
    },
    {
     "name": "stderr",
     "output_type": "stream",
     "text": [
      "2025-02-14 00:10:58,558 - data_collection.merge_datasets - INFO - Processando dataset do ano 2022: datatran2022.csv\n"
     ]
    },
    {
     "name": "stdout",
     "output_type": "stream",
     "text": [
      "FileName: datatran2022.csv\n"
     ]
    },
    {
     "name": "stderr",
     "output_type": "stream",
     "text": [
      "2025-02-14 00:10:58,840 - data_collection.merge_datasets - INFO - Processando dataset do ano 2023: datatran2023.csv\n"
     ]
    },
    {
     "name": "stdout",
     "output_type": "stream",
     "text": [
      "FileName: datatran2023.csv\n"
     ]
    },
    {
     "name": "stderr",
     "output_type": "stream",
     "text": [
      "2025-02-14 00:10:59,109 - data_collection.merge_datasets - INFO - Processando dataset do ano 2024: datatran2024.csv\n"
     ]
    },
    {
     "name": "stdout",
     "output_type": "stream",
     "text": [
      "FileName: datatran2024.csv\n"
     ]
    },
    {
     "name": "stderr",
     "output_type": "stream",
     "text": [
      "2025-02-14 00:10:59,435 - data_collection.merge_datasets - INFO - Total de registros do Maranhão: 34153\n",
      "2025-02-14 00:10:59,692 - data_collection.merge_datasets - INFO - Dataset do Maranhão unificado salvo em D:\\projetos\\roadSafeAi\\RoadSafeAI\\files\\processed\\maranhao\\datatran_ma_merged_base_2007_2024.csv\n",
      "2025-02-14 00:10:59,694 - data_collection.merge_datasets - INFO - Metadados do Maranhão salvos em D:\\projetos\\roadSafeAi\\RoadSafeAI\\files\\processed\\maranhao\\metadata_ma.txt\n",
      "2025-02-14 00:10:59,696 - data_collection.merge_datasets - INFO - 8 arquivos CSV encontrados para o período 2017-2024.\n",
      "2025-02-14 00:10:59,697 - data_collection.merge_datasets - INFO - Processando dataset do ano 2017: datatran2017.csv\n"
     ]
    },
    {
     "name": "stdout",
     "output_type": "stream",
     "text": [
      "FileName: datatran2007.csv\n",
      "FileName: datatran2008.csv\n",
      "FileName: datatran2009.csv\n",
      "FileName: datatran2010.csv\n",
      "FileName: datatran2011.csv\n",
      "FileName: datatran2012.csv\n",
      "FileName: datatran2013.csv\n",
      "FileName: datatran2014.csv\n",
      "FileName: datatran2015.csv\n",
      "FileName: datatran2016.csv\n",
      "FileName: datatran2017.csv\n",
      "FileName: datatran2018.csv\n",
      "FileName: datatran2019.csv\n",
      "FileName: datatran2020.csv\n",
      "FileName: datatran2021.csv\n",
      "FileName: datatran2022.csv\n",
      "FileName: datatran2023.csv\n",
      "FileName: datatran2024.csv\n",
      "FileName: datatran2017.csv\n"
     ]
    },
    {
     "name": "stderr",
     "output_type": "stream",
     "text": [
      "2025-02-14 00:11:00,069 - data_collection.merge_datasets - INFO - Processando dataset do ano 2018: datatran2018.csv\n"
     ]
    },
    {
     "name": "stdout",
     "output_type": "stream",
     "text": [
      "FileName: datatran2018.csv\n"
     ]
    },
    {
     "name": "stderr",
     "output_type": "stream",
     "text": [
      "2025-02-14 00:11:00,355 - data_collection.merge_datasets - INFO - Processando dataset do ano 2019: datatran2019.csv\n"
     ]
    },
    {
     "name": "stdout",
     "output_type": "stream",
     "text": [
      "FileName: datatran2019.csv\n"
     ]
    },
    {
     "name": "stderr",
     "output_type": "stream",
     "text": [
      "2025-02-14 00:11:00,651 - data_collection.merge_datasets - INFO - Processando dataset do ano 2020: datatran2020.csv\n"
     ]
    },
    {
     "name": "stdout",
     "output_type": "stream",
     "text": [
      "FileName: datatran2020.csv\n"
     ]
    },
    {
     "name": "stderr",
     "output_type": "stream",
     "text": [
      "2025-02-14 00:11:00,956 - data_collection.merge_datasets - INFO - Processando dataset do ano 2021: datatran2021.csv\n"
     ]
    },
    {
     "name": "stdout",
     "output_type": "stream",
     "text": [
      "FileName: datatran2021.csv\n"
     ]
    },
    {
     "name": "stderr",
     "output_type": "stream",
     "text": [
      "2025-02-14 00:11:01,238 - data_collection.merge_datasets - INFO - Processando dataset do ano 2022: datatran2022.csv\n"
     ]
    },
    {
     "name": "stdout",
     "output_type": "stream",
     "text": [
      "FileName: datatran2022.csv\n"
     ]
    },
    {
     "name": "stderr",
     "output_type": "stream",
     "text": [
      "2025-02-14 00:11:01,513 - data_collection.merge_datasets - INFO - Processando dataset do ano 2023: datatran2023.csv\n"
     ]
    },
    {
     "name": "stdout",
     "output_type": "stream",
     "text": [
      "FileName: datatran2023.csv\n"
     ]
    },
    {
     "name": "stderr",
     "output_type": "stream",
     "text": [
      "2025-02-14 00:11:01,859 - data_collection.merge_datasets - INFO - Processando dataset do ano 2024: datatran2024.csv\n"
     ]
    },
    {
     "name": "stdout",
     "output_type": "stream",
     "text": [
      "FileName: datatran2024.csv\n"
     ]
    },
    {
     "name": "stderr",
     "output_type": "stream",
     "text": [
      "2025-02-14 00:11:02,188 - data_collection.merge_datasets - INFO - Total de registros do Maranhão: 9609\n",
      "2025-02-14 00:11:02,279 - data_collection.merge_datasets - INFO - Dataset do Maranhão unificado salvo em D:\\projetos\\roadSafeAi\\RoadSafeAI\\files\\processed\\maranhao\\datatran_ma_merged_complete_2017_2024.csv\n",
      "2025-02-14 00:11:02,281 - data_collection.merge_datasets - INFO - Metadados do Maranhão salvos em D:\\projetos\\roadSafeAi\\RoadSafeAI\\files\\processed\\maranhao\\metadata_ma.txt\n",
      "2025-02-14 00:11:02,282 - preprocessing.transformers.dataset_merger_transformer.DatasetMergerTransformer - INFO - Dataset base selecionado:\n",
      "2025-02-14 00:11:02,282 - preprocessing.transformers.dataset_merger_transformer.DatasetMergerTransformer - INFO - Dimensões: (34153, 25)\n",
      "2025-02-14 00:11:02,283 - preprocessing.transformers.dataset_merger_transformer.DatasetMergerTransformer - INFO - Período: 2007-01-01 00:00:00 até 2024-12-31 00:00:00\n",
      "2025-02-14 00:11:02,284 - preprocessing.transformers.dataset_merger_transformer.DatasetMergerTransformer - INFO - Colunas: ['id', 'data_inversa', 'dia_semana', 'horario', 'uf', 'br', 'km', 'municipio', 'causa_acidente', 'tipo_acidente', 'classificacao_acidente', 'fase_dia', 'sentido_via', 'condicao_metereologica', 'tipo_pista', 'tracado_via', 'uso_solo', 'pessoas', 'mortos', 'feridos_leves', 'feridos_graves', 'ilesos', 'ignorados', 'feridos', 'veiculos']\n",
      "2025-02-14 00:11:02,286 - preprocessing.transformers.data_cleaning_transformer.DataCleaningTransformer - INFO - Iniciando limpeza de dados...\n",
      "2025-02-14 00:11:02,287 - preprocessing.data_cleaning_01.DataCleaning - INFO - Iniciando processo de limpeza do dataset... Shape: (34153, 25)\n",
      "2025-02-14 00:11:02,290 - preprocessing.data_cleaning_01.DataCleaning - INFO - Colunas removidas: ['id', 'uf', 'tracado_via', 'feridos', 'fase_dia']\n",
      "2025-02-14 00:11:02,291 - preprocessing.data_cleaning_01.DataCleaning - INFO - QUANTIDADE DE LINHAS: (34153, 20)\n",
      "d:\\projetos\\roadSafeAi\\RoadSafeAI\\src\\preprocessing\\data_cleaning_01.py:64: UserWarning: Boolean Series key will be reindexed to match DataFrame index.\n",
      "  df_clean = df_clean[~mascara_espacos['remove']]\n",
      "2025-02-14 00:11:02,458 - preprocessing.data_cleaning_01.DataCleaning - INFO - Estatísticas de limpeza:\n",
      "2025-02-14 00:11:02,459 - preprocessing.data_cleaning_01.DataCleaning - INFO - - Linhas no dataset original: 34153\n",
      "2025-02-14 00:11:02,459 - preprocessing.data_cleaning_01.DataCleaning - INFO - - Linhas removidas: 3\n",
      "2025-02-14 00:11:02,460 - preprocessing.data_cleaning_01.DataCleaning - INFO - - Percentual removido: 0.0088%\n",
      "2025-02-14 00:11:02,461 - preprocessing.data_cleaning_01.DataCleaning - INFO - - Linhas no dataset final: 34150\n",
      "2025-02-14 00:11:02,490 - preprocessing.data_cleaning_01.DataCleaning - INFO - Removidos 13 registros duplicados.\n",
      "2025-02-14 00:11:02,492 - preprocessing.data_cleaning_01.DataCleaning - INFO - Processo de limpeza concluído com sucesso!\n",
      "2025-02-14 00:11:02,494 - preprocessing.transformers.data_standardize_transformer.DataStandardizeTransformer - INFO - Iniciando padronização de dados...\n",
      "2025-02-14 00:11:02,495 - preprocessing.data_standardize_02.DataStandardize - INFO - Iniciando padronização do dataset...\n",
      "2025-02-14 00:11:02,531 - preprocessing.data_standardize_02.DataStandardize - INFO - Coluna km padronizada. Range: [0, 684]\n",
      "2025-02-14 00:11:02,561 - preprocessing.data_standardize_02.DataStandardize - INFO - Coluna pessoas padronizada. Range: [1, 54]\n",
      "2025-02-14 00:11:02,592 - preprocessing.data_standardize_02.DataStandardize - INFO - Coluna mortos padronizada. Range: [0, 11]\n",
      "2025-02-14 00:11:02,622 - preprocessing.data_standardize_02.DataStandardize - INFO - Coluna feridos_leves padronizada. Range: [0, 37]\n",
      "2025-02-14 00:11:02,657 - preprocessing.data_standardize_02.DataStandardize - INFO - Coluna feridos_graves padronizada. Range: [0, 20]\n",
      "2025-02-14 00:11:02,689 - preprocessing.data_standardize_02.DataStandardize - INFO - Coluna ilesos padronizada. Range: [0, 49]\n",
      "2025-02-14 00:11:02,720 - preprocessing.data_standardize_02.DataStandardize - INFO - Coluna ignorados padronizada. Range: [0, 35]\n",
      "2025-02-14 00:11:02,749 - preprocessing.data_standardize_02.DataStandardize - INFO - Coluna veiculos padronizada. Range: [1, 17]\n",
      "2025-02-14 00:11:02,751 - preprocessing.data_standardize_02.DataStandardize - INFO - Valores numéricos padronizados\n",
      "2025-02-14 00:11:02,769 - preprocessing.data_standardize_02.DataStandardize - INFO - Coluna data_inversa convertida para datetime e renomeada para 'data'\n",
      "2025-02-14 00:11:02,783 - preprocessing.data_standardize_02.DataStandardize - INFO - Distribuição dos períodos do dia:\n",
      "2025-02-14 00:11:02,785 - preprocessing.data_standardize_02.DataStandardize - INFO - - tarde: 11467\n",
      "2025-02-14 00:11:02,786 - preprocessing.data_standardize_02.DataStandardize - INFO - - manha: 9587\n",
      "2025-02-14 00:11:02,787 - preprocessing.data_standardize_02.DataStandardize - INFO - - noite: 9393\n",
      "2025-02-14 00:11:02,787 - preprocessing.data_standardize_02.DataStandardize - INFO - - madrugada: 3690\n",
      "2025-02-14 00:11:02,789 - preprocessing.data_standardize_02.DataStandardize - INFO - Valores temporais padronizados\n",
      "2025-02-14 00:11:02,796 - preprocessing.data_standardize_02.DataStandardize - INFO - Valores únicos originais em uso_solo: ['Rural' 'Urbano' 'Não' 'Sim']\n",
      "2025-02-14 00:11:02,803 - preprocessing.data_standardize_02.DataStandardize - INFO - Valores únicos após padronização em uso_solo: ['Não' 'Sim']\n",
      "2025-02-14 00:11:02,805 - preprocessing.data_standardize_02.DataStandardize - INFO - Coluna uso_solo padronizada\n",
      "2025-02-14 00:11:02,813 - preprocessing.data_standardize_02.DataStandardize - INFO - Valores únicos originais em dia_semana: ['Segunda' 'Quinta' 'Domingo' 'Terça' 'Sexta' 'Quarta' 'Sábado' 'domingo'\n",
      " 'segunda-feira' 'terça-feira' 'quarta-feira' 'quinta-feira' 'sexta-feira'\n",
      " 'sábado']\n",
      "2025-02-14 00:11:02,825 - preprocessing.data_standardize_02.DataStandardize - INFO - Valores únicos após padronização em dia_semana: ['segunda-feira' 'quinta-feira' 'domingo' 'terca-feira' 'sexta-feira'\n",
      " 'quarta-feira' 'sabado']\n",
      "2025-02-14 00:11:02,828 - preprocessing.data_standardize_02.DataStandardize - INFO - Coluna dia_semana padronizada\n",
      "2025-02-14 00:11:02,831 - preprocessing.transformers.feature_engineering_transformer.FeatureEngineeringTransformer - INFO - Iniciando engenharia de features...\n",
      "2025-02-14 00:11:02,832 - preprocessing.feature_engineering_03.FeatureEngineering - INFO - Iniciando criação de novas features...\n",
      "2025-02-14 00:11:02,855 - preprocessing.feature_engineering_03.FeatureEngineering - INFO - Distribuição dos períodos do dia:\n",
      "2025-02-14 00:11:02,860 - preprocessing.feature_engineering_03.FeatureEngineering - INFO - Removendo horario exato, adotado periodo do dia:\n",
      "2025-02-14 00:11:02,861 - preprocessing.feature_engineering_03.FeatureEngineering - INFO - - tarde: 11467 registros\n",
      "2025-02-14 00:11:02,862 - preprocessing.feature_engineering_03.FeatureEngineering - INFO - - manha: 9587 registros\n",
      "2025-02-14 00:11:02,862 - preprocessing.feature_engineering_03.FeatureEngineering - INFO - - noite: 9393 registros\n",
      "2025-02-14 00:11:02,863 - preprocessing.feature_engineering_03.FeatureEngineering - INFO - - madrugada: 3690 registros\n",
      "2025-02-14 00:11:02,863 - preprocessing.feature_engineering_03.FeatureEngineering - INFO - Feature 'periodo_dia' criada com sucesso\n",
      "2025-02-14 00:11:03,235 - preprocessing.feature_engineering_03.FeatureEngineering - INFO - Distribuição das gravidades dos acidentes:\n",
      "2025-02-14 00:11:03,236 - preprocessing.feature_engineering_03.FeatureEngineering - INFO - - leve: 14641 registros\n",
      "2025-02-14 00:11:03,237 - preprocessing.feature_engineering_03.FeatureEngineering - INFO - - moderado: 13480 registros\n",
      "2025-02-14 00:11:03,237 - preprocessing.feature_engineering_03.FeatureEngineering - INFO - - fatal: 3886 registros\n",
      "2025-02-14 00:11:03,238 - preprocessing.feature_engineering_03.FeatureEngineering - INFO - - grave: 2130 registros\n",
      "2025-02-14 00:11:03,239 - preprocessing.feature_engineering_03.FeatureEngineering - INFO - Feature 'gravidade_acidente' criada com sucesso\n",
      "2025-02-14 00:11:03,256 - preprocessing.feature_engineering_03.FeatureEngineering - INFO - Distribuição final das causas agrupadas:\n",
      "2025-02-14 00:11:03,257 - preprocessing.feature_engineering_03.FeatureEngineering - INFO - - falha_atencao: 11127 registros\n",
      "2025-02-14 00:11:03,257 - preprocessing.feature_engineering_03.FeatureEngineering - INFO - - outros: 11088 registros\n",
      "2025-02-14 00:11:03,258 - preprocessing.feature_engineering_03.FeatureEngineering - INFO - - comportamento_risco: 5384 registros\n",
      "2025-02-14 00:11:03,258 - preprocessing.feature_engineering_03.FeatureEngineering - INFO - - fatores_externos_animais: 1987 registros\n",
      "2025-02-14 00:11:03,259 - preprocessing.feature_engineering_03.FeatureEngineering - INFO - - problemas_tecnicos_via: 1292 registros\n",
      "2025-02-14 00:11:03,260 - preprocessing.feature_engineering_03.FeatureEngineering - INFO - - problemas_tecnicos_veiculo: 1231 registros\n",
      "2025-02-14 00:11:03,261 - preprocessing.feature_engineering_03.FeatureEngineering - INFO - - condutor_alcool_drogas: 1114 registros\n",
      "2025-02-14 00:11:03,261 - preprocessing.feature_engineering_03.FeatureEngineering - INFO - - condutor_fadiga: 884 registros\n",
      "2025-02-14 00:11:03,262 - preprocessing.feature_engineering_03.FeatureEngineering - INFO - - fatores_ambientais: 30 registros\n",
      "2025-02-14 00:11:03,263 - preprocessing.feature_engineering_03.FeatureEngineering - INFO - Feature 'causa_acidente_grupo' criada com sucesso\n",
      "2025-02-14 00:11:03,264 - preprocessing.feature_engineering_03.FeatureEngineering - INFO - Todas as features foram criadas com sucesso!\n",
      "2025-02-14 00:11:03,435 - preprocessing.feature_engineering_03.FeatureEngineering - INFO - Dataset processado salvo em: d:\\projetos\\roadSafeAi\\RoadSafeAI\\files\\processed\\datatran_ma_processado.csv\n",
      "2025-02-14 00:11:03,438 - preprocessing.transformers.data_encoding_transformer.DataEncodingTransformer - INFO - Ajustando codificador de dados...\n",
      "2025-02-14 00:11:03,439 - preprocessing.data_encoding_04.DataEncoding - INFO - Iniciando fit dos encoders...\n",
      "2025-02-14 00:11:03,449 - preprocessing.data_encoding_04.DataEncoding - INFO - Removidas as colunas: ['feridos_graves', 'mortos', 'feridos_leves', 'ilesos']\n",
      "2025-02-14 00:11:03,456 - preprocessing.data_encoding_04.DataEncoding - INFO - Coluna municipio: 110 valores únicos\n",
      "2025-02-14 00:11:03,459 - preprocessing.data_encoding_04.DataEncoding - INFO - Coluna causa_acidente: 92 valores únicos\n",
      "2025-02-14 00:11:03,462 - preprocessing.data_encoding_04.DataEncoding - INFO - Coluna tipo_acidente: 30 valores únicos\n",
      "2025-02-14 00:11:03,465 - preprocessing.data_encoding_04.DataEncoding - INFO - Coluna classificacao_acidente: 4 valores únicos\n",
      "2025-02-14 00:11:03,468 - preprocessing.data_encoding_04.DataEncoding - INFO - Coluna sentido_via: 3 valores únicos\n",
      "2025-02-14 00:11:03,470 - preprocessing.data_encoding_04.DataEncoding - INFO - Coluna condicao_metereologica: 13 valores únicos\n",
      "2025-02-14 00:11:03,472 - preprocessing.data_encoding_04.DataEncoding - INFO - Coluna tipo_pista: 3 valores únicos\n",
      "2025-02-14 00:11:03,474 - preprocessing.data_encoding_04.DataEncoding - INFO - Coluna uso_solo: 2 valores únicos\n",
      "2025-02-14 00:11:03,476 - preprocessing.data_encoding_04.DataEncoding - INFO - Coluna causa_acidente_grupo: 9 valores únicos\n",
      "2025-02-14 00:11:03,477 - preprocessing.data_encoding_04.DataEncoding - INFO - Label Encoder ajustado para periodo_dia\n",
      "2025-02-14 00:11:03,478 - preprocessing.data_encoding_04.DataEncoding - INFO - Label Encoder ajustado para dia_semana\n",
      "2025-02-14 00:11:03,510 - preprocessing.data_encoding_04.DataEncoding - INFO - OneHot Encoder ajustado para ['classificacao_acidente', 'sentido_via', 'tipo_pista', 'uso_solo']\n",
      "2025-02-14 00:11:03,573 - preprocessing.data_encoding_04.DataEncoding - INFO - Target Encoder ajustado para municipio\n",
      "2025-02-14 00:11:03,655 - preprocessing.data_encoding_04.DataEncoding - INFO - Target Encoder ajustado para causa_acidente\n",
      "2025-02-14 00:11:03,721 - preprocessing.data_encoding_04.DataEncoding - INFO - Target Encoder ajustado para tipo_acidente\n",
      "2025-02-14 00:11:03,784 - preprocessing.data_encoding_04.DataEncoding - INFO - Target Encoder ajustado para condicao_metereologica\n",
      "2025-02-14 00:11:03,846 - preprocessing.data_encoding_04.DataEncoding - INFO - Target Encoder ajustado para causa_acidente_grupo\n",
      "2025-02-14 00:11:03,848 - preprocessing.transformers.data_encoding_transformer.DataEncodingTransformer - INFO - Iniciando codificação de dados...\n",
      "2025-02-14 00:11:03,859 - preprocessing.data_encoding_04.DataEncoding - INFO - Removidas as colunas: ['feridos_graves', 'mortos', 'feridos_leves', 'ilesos']\n",
      "2025-02-14 00:11:03,873 - preprocessing.data_encoding_04.DataEncoding - INFO - Label Encoding aplicado em periodo_dia\n",
      "2025-02-14 00:11:03,887 - preprocessing.data_encoding_04.DataEncoding - INFO - Label Encoding aplicado em dia_semana\n",
      "2025-02-14 00:11:03,926 - preprocessing.data_encoding_04.DataEncoding - INFO - OneHot Encoding aplicado em ['classificacao_acidente', 'sentido_via', 'tipo_pista', 'uso_solo']\n",
      "2025-02-14 00:11:03,935 - preprocessing.data_encoding_04.DataEncoding - INFO - Target Encoding aplicado em municipio\n",
      "2025-02-14 00:11:03,942 - preprocessing.data_encoding_04.DataEncoding - INFO - Target Encoding aplicado em causa_acidente\n",
      "2025-02-14 00:11:03,950 - preprocessing.data_encoding_04.DataEncoding - INFO - Target Encoding aplicado em tipo_acidente\n",
      "2025-02-14 00:11:03,957 - preprocessing.data_encoding_04.DataEncoding - INFO - Target Encoding aplicado em condicao_metereologica\n",
      "2025-02-14 00:11:03,964 - preprocessing.data_encoding_04.DataEncoding - INFO - Target Encoding aplicado em causa_acidente_grupo\n",
      "2025-02-14 00:11:03,967 - pipelines.preprocessing_pipeline.PreprocessingPipeline - INFO - Dimensões após pré-processamento: (34137, 23)\n",
      "2025-02-14 00:11:03,968 - preprocessing.data_split_05.DataSplit - INFO - Iniciando preparação dos dados...\n",
      "2025-02-14 00:11:03,974 - preprocessing.data_split_05.DataSplit - INFO - Colunas removidas: ['data', 'causa_acidente']\n",
      "2025-02-14 00:11:03,976 - preprocessing.data_split_05.DataSplit - INFO - Distribuição inicial das classes:\n",
      "2025-02-14 00:11:03,978 - preprocessing.data_split_05.DataSplit - INFO - \n",
      "Distribuição das classes:\n",
      "2025-02-14 00:11:03,979 - preprocessing.data_split_05.DataSplit - INFO - - Classe leve: 42.89%\n",
      "2025-02-14 00:11:03,980 - preprocessing.data_split_05.DataSplit - INFO - - Classe moderado: 39.49%\n",
      "2025-02-14 00:11:03,980 - preprocessing.data_split_05.DataSplit - INFO - - Classe fatal: 11.38%\n",
      "2025-02-14 00:11:03,981 - preprocessing.data_split_05.DataSplit - INFO - - Classe grave: 6.24%\n",
      "2025-02-14 00:11:04,022 - preprocessing.data_split_05.DataSplit - INFO - \n",
      "Dimensões dos conjuntos:\n",
      "2025-02-14 00:11:04,023 - preprocessing.data_split_05.DataSplit - INFO - - Treino: (20481, 20)\n",
      "2025-02-14 00:11:04,024 - preprocessing.data_split_05.DataSplit - INFO - - Validação: (6828, 20)\n",
      "2025-02-14 00:11:04,024 - preprocessing.data_split_05.DataSplit - INFO - - Teste: (6828, 20)\n",
      "2025-02-14 00:11:04,027 - preprocessing.data_split_05.DataSplit - INFO - \n",
      "Distribuição das classes - Treino:\n",
      "2025-02-14 00:11:04,028 - preprocessing.data_split_05.DataSplit - INFO - - Classe leve: 42.89%\n",
      "2025-02-14 00:11:04,029 - preprocessing.data_split_05.DataSplit - INFO - - Classe moderado: 39.49%\n",
      "2025-02-14 00:11:04,029 - preprocessing.data_split_05.DataSplit - INFO - - Classe fatal: 11.38%\n",
      "2025-02-14 00:11:04,030 - preprocessing.data_split_05.DataSplit - INFO - - Classe grave: 6.24%\n",
      "2025-02-14 00:11:04,031 - preprocessing.data_split_05.DataSplit - INFO - \n",
      "Distribuição das classes - Validação:\n",
      "2025-02-14 00:11:04,032 - preprocessing.data_split_05.DataSplit - INFO - - Classe leve: 42.88%\n",
      "2025-02-14 00:11:04,033 - preprocessing.data_split_05.DataSplit - INFO - - Classe moderado: 39.48%\n",
      "2025-02-14 00:11:04,033 - preprocessing.data_split_05.DataSplit - INFO - - Classe fatal: 11.39%\n",
      "2025-02-14 00:11:04,034 - preprocessing.data_split_05.DataSplit - INFO - - Classe grave: 6.24%\n",
      "2025-02-14 00:11:04,036 - preprocessing.data_split_05.DataSplit - INFO - \n",
      "Distribuição das classes - Teste:\n",
      "2025-02-14 00:11:04,037 - preprocessing.data_split_05.DataSplit - INFO - - Classe leve: 42.90%\n",
      "2025-02-14 00:11:04,038 - preprocessing.data_split_05.DataSplit - INFO - - Classe moderado: 39.48%\n",
      "2025-02-14 00:11:04,039 - preprocessing.data_split_05.DataSplit - INFO - - Classe fatal: 11.38%\n",
      "2025-02-14 00:11:04,040 - preprocessing.data_split_05.DataSplit - INFO - - Classe grave: 6.24%\n",
      "2025-02-14 00:11:04,041 - preprocessing.data_split_05.DataSplit - INFO - Preparação dos dados concluída!\n",
      "2025-02-14 00:11:04,056 - pipelines.preprocessing_pipeline.PreprocessingPipeline - INFO - Tipos de dados após conversão:\n",
      "2025-02-14 00:11:04,057 - pipelines.preprocessing_pipeline.PreprocessingPipeline - INFO - - dia_semana: int32\n",
      "2025-02-14 00:11:04,057 - pipelines.preprocessing_pipeline.PreprocessingPipeline - INFO - - br: float64\n",
      "2025-02-14 00:11:04,058 - pipelines.preprocessing_pipeline.PreprocessingPipeline - INFO - - km: int32\n",
      "2025-02-14 00:11:04,059 - pipelines.preprocessing_pipeline.PreprocessingPipeline - INFO - - municipio: float64\n",
      "2025-02-14 00:11:04,059 - pipelines.preprocessing_pipeline.PreprocessingPipeline - INFO - - tipo_acidente: float64\n",
      "2025-02-14 00:11:04,060 - pipelines.preprocessing_pipeline.PreprocessingPipeline - INFO - - condicao_metereologica: float64\n",
      "2025-02-14 00:11:04,061 - pipelines.preprocessing_pipeline.PreprocessingPipeline - INFO - - pessoas: int32\n",
      "2025-02-14 00:11:04,061 - pipelines.preprocessing_pipeline.PreprocessingPipeline - INFO - - ignorados: int32\n",
      "2025-02-14 00:11:04,062 - pipelines.preprocessing_pipeline.PreprocessingPipeline - INFO - - veiculos: int32\n",
      "2025-02-14 00:11:04,063 - pipelines.preprocessing_pipeline.PreprocessingPipeline - INFO - - ano: int32\n",
      "2025-02-14 00:11:04,064 - pipelines.preprocessing_pipeline.PreprocessingPipeline - INFO - - periodo_dia: int32\n",
      "2025-02-14 00:11:04,064 - pipelines.preprocessing_pipeline.PreprocessingPipeline - INFO - - causa_acidente_grupo: float64\n",
      "2025-02-14 00:11:04,065 - pipelines.preprocessing_pipeline.PreprocessingPipeline - INFO - - classificacao_acidente_Com Vítimas Feridas: float64\n",
      "2025-02-14 00:11:04,066 - pipelines.preprocessing_pipeline.PreprocessingPipeline - INFO - - classificacao_acidente_Ignorado: float64\n",
      "2025-02-14 00:11:04,068 - pipelines.preprocessing_pipeline.PreprocessingPipeline - INFO - - classificacao_acidente_Sem Vítimas: float64\n",
      "2025-02-14 00:11:04,068 - pipelines.preprocessing_pipeline.PreprocessingPipeline - INFO - - sentido_via_Decrescente: float64\n",
      "2025-02-14 00:11:04,070 - pipelines.preprocessing_pipeline.PreprocessingPipeline - INFO - - sentido_via_Não Informado: float64\n",
      "2025-02-14 00:11:04,070 - pipelines.preprocessing_pipeline.PreprocessingPipeline - INFO - - tipo_pista_Múltipla: float64\n",
      "2025-02-14 00:11:04,071 - pipelines.preprocessing_pipeline.PreprocessingPipeline - INFO - - tipo_pista_Simples: float64\n",
      "2025-02-14 00:11:04,071 - pipelines.preprocessing_pipeline.PreprocessingPipeline - INFO - - uso_solo_Sim: float64\n",
      "2025-02-14 00:11:04,072 - pipelines.preprocessing_pipeline.PreprocessingPipeline - INFO - Aplicando estratégia de balanceamento combined...\n",
      "2025-02-14 00:11:04,072 - preprocessing.balancing_strategy.data_balancing_strategy.DataBalancingStrategy - INFO - Aplicando estratégia combinada de sampling...\n",
      "2025-02-14 00:11:04,074 - preprocessing.balancing_strategy.data_balancing_strategy.DataBalancingStrategy - INFO - \n",
      "Distribuição das classes - original:\n",
      "2025-02-14 00:11:04,075 - preprocessing.balancing_strategy.data_balancing_strategy.DataBalancingStrategy - INFO - - Classe leve: 8784 amostras (42.89%)\n",
      "2025-02-14 00:11:04,075 - preprocessing.balancing_strategy.data_balancing_strategy.DataBalancingStrategy - INFO - - Classe moderado: 8088 amostras (39.49%)\n",
      "2025-02-14 00:11:04,076 - preprocessing.balancing_strategy.data_balancing_strategy.DataBalancingStrategy - INFO - - Classe fatal: 2331 amostras (11.38%)\n",
      "2025-02-14 00:11:04,076 - preprocessing.balancing_strategy.data_balancing_strategy.DataBalancingStrategy - INFO - - Classe grave: 1278 amostras (6.24%)\n",
      "2025-02-14 00:11:04,077 - preprocessing.balancing_strategy.data_balancing_strategy.DataBalancingStrategy - INFO - Aplicando Random Oversampling...\n",
      "2025-02-14 00:11:04,079 - preprocessing.balancing_strategy.data_balancing_strategy.DataBalancingStrategy - INFO - \n",
      "Distribuição das classes - antes do oversampling:\n",
      "2025-02-14 00:11:04,081 - preprocessing.balancing_strategy.data_balancing_strategy.DataBalancingStrategy - INFO - - Classe leve: 8784 amostras (42.89%)\n",
      "2025-02-14 00:11:04,082 - preprocessing.balancing_strategy.data_balancing_strategy.DataBalancingStrategy - INFO - - Classe moderado: 8088 amostras (39.49%)\n",
      "2025-02-14 00:11:04,083 - preprocessing.balancing_strategy.data_balancing_strategy.DataBalancingStrategy - INFO - - Classe fatal: 2331 amostras (11.38%)\n",
      "2025-02-14 00:11:04,086 - preprocessing.balancing_strategy.data_balancing_strategy.DataBalancingStrategy - INFO - - Classe grave: 1278 amostras (6.24%)\n",
      "d:\\projetos\\roadSafeAi\\RoadSafeAI\\env\\lib\\site-packages\\sklearn\\base.py:484: FutureWarning: `BaseEstimator._check_n_features` is deprecated in 1.6 and will be removed in 1.7. Use `sklearn.utils.validation._check_n_features` instead.\n",
      "  warnings.warn(\n",
      "d:\\projetos\\roadSafeAi\\RoadSafeAI\\env\\lib\\site-packages\\sklearn\\base.py:493: FutureWarning: `BaseEstimator._check_feature_names` is deprecated in 1.6 and will be removed in 1.7. Use `sklearn.utils.validation._check_feature_names` instead.\n",
      "  warnings.warn(\n",
      "2025-02-14 00:11:04,128 - preprocessing.balancing_strategy.data_balancing_strategy.DataBalancingStrategy - INFO - \n",
      "Distribuição das classes - após oversampling:\n",
      "2025-02-14 00:11:04,129 - preprocessing.balancing_strategy.data_balancing_strategy.DataBalancingStrategy - INFO - - Classe leve: 8784 amostras (25.00%)\n",
      "2025-02-14 00:11:04,129 - preprocessing.balancing_strategy.data_balancing_strategy.DataBalancingStrategy - INFO - - Classe grave: 8784 amostras (25.00%)\n",
      "2025-02-14 00:11:04,130 - preprocessing.balancing_strategy.data_balancing_strategy.DataBalancingStrategy - INFO - - Classe fatal: 8784 amostras (25.00%)\n",
      "2025-02-14 00:11:04,131 - preprocessing.balancing_strategy.data_balancing_strategy.DataBalancingStrategy - INFO - - Classe moderado: 8784 amostras (25.00%)\n",
      "2025-02-14 00:11:04,131 - preprocessing.balancing_strategy.data_balancing_strategy.DataBalancingStrategy - INFO - Aplicando SMOTE...\n",
      "2025-02-14 00:11:04,133 - preprocessing.balancing_strategy.data_balancing_strategy.DataBalancingStrategy - INFO - \n",
      "Distribuição das classes - antes do SMOTE:\n",
      "2025-02-14 00:11:04,133 - preprocessing.balancing_strategy.data_balancing_strategy.DataBalancingStrategy - INFO - - Classe leve: 8784 amostras (25.00%)\n",
      "2025-02-14 00:11:04,134 - preprocessing.balancing_strategy.data_balancing_strategy.DataBalancingStrategy - INFO - - Classe grave: 8784 amostras (25.00%)\n",
      "2025-02-14 00:11:04,135 - preprocessing.balancing_strategy.data_balancing_strategy.DataBalancingStrategy - INFO - - Classe fatal: 8784 amostras (25.00%)\n",
      "2025-02-14 00:11:04,135 - preprocessing.balancing_strategy.data_balancing_strategy.DataBalancingStrategy - INFO - - Classe moderado: 8784 amostras (25.00%)\n",
      "d:\\projetos\\roadSafeAi\\RoadSafeAI\\env\\lib\\site-packages\\sklearn\\base.py:474: FutureWarning: `BaseEstimator._validate_data` is deprecated in 1.6 and will be removed in 1.7. Use `sklearn.utils.validation.validate_data` instead. This function becomes public and is part of the scikit-learn developer API.\n",
      "  warnings.warn(\n",
      "2025-02-14 00:11:04,185 - preprocessing.balancing_strategy.data_balancing_strategy.DataBalancingStrategy - INFO - \n",
      "Distribuição das classes - após SMOTE:\n",
      "2025-02-14 00:11:04,185 - preprocessing.balancing_strategy.data_balancing_strategy.DataBalancingStrategy - INFO - - Classe leve: 8784 amostras (25.00%)\n",
      "2025-02-14 00:11:04,186 - preprocessing.balancing_strategy.data_balancing_strategy.DataBalancingStrategy - INFO - - Classe grave: 8784 amostras (25.00%)\n",
      "2025-02-14 00:11:04,187 - preprocessing.balancing_strategy.data_balancing_strategy.DataBalancingStrategy - INFO - - Classe fatal: 8784 amostras (25.00%)\n",
      "2025-02-14 00:11:04,187 - preprocessing.balancing_strategy.data_balancing_strategy.DataBalancingStrategy - INFO - - Classe moderado: 8784 amostras (25.00%)\n",
      "2025-02-14 00:11:04,191 - __main__ - INFO - \n",
      "Pré-processamento finalizado com sucesso!\n",
      "2025-02-14 00:11:04,191 - __main__ - INFO - Formato dados de treino: (35136, 20)\n",
      "2025-02-14 00:11:04,192 - __main__ - INFO - Formato dados de validação: (6828, 20)\n",
      "2025-02-14 00:11:04,193 - __main__ - INFO - Formato dados de teste: (6828, 20)\n",
      "2025-02-14 00:11:04,193 - __main__ - INFO - \n",
      "Features:\n",
      "2025-02-14 00:11:04,194 - __main__ - INFO - - ordinal_encoded: 2 features\n",
      "2025-02-14 00:11:04,195 - __main__ - INFO - - onehot_encoded: 4 features\n",
      "2025-02-14 00:11:04,195 - __main__ - INFO - - target_encoded: 5 features\n",
      "2025-02-14 00:11:04,196 - __main__ - INFO - - removed_columns: 4 features\n"
     ]
    }
   ],
   "source": [
    "from pipelines.preprocessing_pipeline import PreprocessingPipeline\n",
    "pipeline = PreprocessingPipeline(\n",
    "    collect_new_data=True,\n",
    "    dataset_type='base',\n",
    "    test_size=0.2,\n",
    "    valid_size=0.2,\n",
    "    balance_strategy=\"combined\",\n",
    "    random_state=42\n",
    ")\n",
    "\n",
    "X_train, X_valid, X_test, y_train, y_valid, y_test = pipeline.process_data()\n",
    "\n",
    "feature_names = pipeline.get_feature_names()\n",
    "\n",
    "logger.info(\"\\nPré-processamento finalizado com sucesso!\")\n",
    "logger.info(f\"Formato dados de treino: {X_train.shape}\")\n",
    "logger.info(f\"Formato dados de validação: {X_valid.shape}\")\n",
    "logger.info(f\"Formato dados de teste: {X_test.shape}\")\n",
    "logger.info(\"\\nFeatures:\")\n",
    "for feature_type, features in feature_names.items():\n",
    "    logger.info(f\"- {feature_type}: {len(features)} features\")"
   ]
  },
  {
   "cell_type": "code",
   "execution_count": 7,
   "metadata": {},
   "outputs": [
    {
     "name": "stderr",
     "output_type": "stream",
     "text": [
      "2025-02-14 00:11:08,269 - matplotlib.category - INFO - Using categorical units to plot a list of strings that are all parsable as floats or dates. If these strings should be plotted as numbers, cast to the appropriate data type before plotting.\n",
      "2025-02-14 00:11:08,274 - matplotlib.category - INFO - Using categorical units to plot a list of strings that are all parsable as floats or dates. If these strings should be plotted as numbers, cast to the appropriate data type before plotting.\n"
     ]
    },
    {
     "name": "stdout",
     "output_type": "stream",
     "text": [
      "Todos os gráficos foram salvos no diretório: graficos_acidentes\n"
     ]
    },
    {
     "data": {
      "text/plain": [
       "<Figure size 1200x800 with 0 Axes>"
      ]
     },
     "metadata": {},
     "output_type": "display_data"
    },
    {
     "data": {
      "text/plain": [
       "<Figure size 1200x800 with 0 Axes>"
      ]
     },
     "metadata": {},
     "output_type": "display_data"
    }
   ],
   "source": [
    "df = pd.read_csv('D:\\\\projetos\\\\roadSafeAi\\\\RoadSafeAI\\\\files\\\\processed\\\\datatran_ma_processado.csv')\n",
    "\n",
    "analise = AnaliseExploratoria(output_dir='graficos_acidentes')\n",
    "\n",
    "analise.gerar_todas_analises(df)\n",
    "\n",
    "analise.evolucao_anual(df)\n",
    "analise.distribuicao_dia_semana(df)"
   ]
  },
  {
   "cell_type": "code",
   "execution_count": null,
   "metadata": {},
   "outputs": [],
   "source": []
  }
 ],
 "metadata": {
  "kernelspec": {
   "display_name": "env",
   "language": "python",
   "name": "python3"
  },
  "language_info": {
   "codemirror_mode": {
    "name": "ipython",
    "version": 3
   },
   "file_extension": ".py",
   "mimetype": "text/x-python",
   "name": "python",
   "nbconvert_exporter": "python",
   "pygments_lexer": "ipython3",
   "version": "3.9.0"
  }
 },
 "nbformat": 4,
 "nbformat_minor": 2
}
