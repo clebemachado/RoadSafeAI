{
 "cells": [
  {
   "cell_type": "code",
   "execution_count": 1,
   "metadata": {},
   "outputs": [],
   "source": [
    "import sys\n",
    "import os\n",
    "from pathlib import Path\n",
    "import pandas as pd\n",
    "import matplotlib.pyplot as plt\n",
    "import seaborn as sns\n",
    "import logging"
   ]
  },
  {
   "cell_type": "code",
   "execution_count": 2,
   "metadata": {},
   "outputs": [],
   "source": [
    "logging.basicConfig(\n",
    "    level=logging.INFO,\n",
    "    format='%(asctime)s - %(name)s - %(levelname)s - %(message)s'\n",
    ")\n",
    "logger = logging.getLogger(__name__)"
   ]
  },
  {
   "cell_type": "code",
   "execution_count": 3,
   "metadata": {},
   "outputs": [],
   "source": [
    "notebook_path = Path.cwd()\n",
    "project_root = str(notebook_path.parent.parent) + \"\\\\src\"\n",
    "sys.path.append(project_root)"
   ]
  },
  {
   "cell_type": "code",
   "execution_count": 4,
   "metadata": {},
   "outputs": [
    {
     "data": {
      "text/plain": [
       "'d:\\\\projetos\\\\roadSafeAi\\\\RoadSafeAI\\\\src'"
      ]
     },
     "execution_count": 4,
     "metadata": {},
     "output_type": "execute_result"
    }
   ],
   "source": [
    "project_root"
   ]
  },
  {
   "cell_type": "code",
   "execution_count": 5,
   "metadata": {},
   "outputs": [
    {
     "name": "stderr",
     "output_type": "stream",
     "text": [
      "d:\\projetos\\roadSafeAi\\RoadSafeAI\\env\\lib\\site-packages\\requests\\__init__.py:86: RequestsDependencyWarning: Unable to find acceptable character detection dependency (chardet or charset_normalizer).\n",
      "  warnings.warn(\n"
     ]
    }
   ],
   "source": [
    "from pipeline import PreprocessingPipeline"
   ]
  },
  {
   "cell_type": "code",
   "execution_count": 6,
   "metadata": {},
   "outputs": [
    {
     "name": "stderr",
     "output_type": "stream",
     "text": [
      "2025-02-02 22:59:07,447 - pipeline - INFO - Iniciando pipeline completo de pré-processamento (usando dataset base)...\n",
      "2025-02-02 22:59:07,448 - pipeline - INFO - Iniciando coleta de dados...\n",
      "2025-02-02 22:59:07,449 - root - WARNING - Folder RoadSafeAI/files já existe. Não será feito novo download\n",
      "2025-02-02 22:59:07,450 - pipeline - INFO - Coleta de dados concluída com sucesso\n",
      "2025-02-02 22:59:07,451 - pipeline - INFO - Iniciando união dos datasets (usando dataset base)...\n",
      "2025-02-02 22:59:07,452 - data_collection.merge_datasets - INFO - 18 arquivos CSV encontrados para o período 2007-2024.\n",
      "2025-02-02 22:59:07,453 - data_collection.merge_datasets - INFO - Processando dataset do ano 2007: datatran2007.csv\n"
     ]
    },
    {
     "name": "stdout",
     "output_type": "stream",
     "text": [
      "FileName: datatran2007.csv\n",
      "FileName: datatran2008.csv\n",
      "FileName: datatran2009.csv\n",
      "FileName: datatran2010.csv\n",
      "FileName: datatran2011.csv\n",
      "FileName: datatran2012.csv\n",
      "FileName: datatran2013.csv\n",
      "FileName: datatran2014.csv\n",
      "FileName: datatran2015.csv\n",
      "FileName: datatran2016.csv\n",
      "FileName: datatran2017.csv\n",
      "FileName: datatran2018.csv\n",
      "FileName: datatran2019.csv\n",
      "FileName: datatran2020.csv\n",
      "FileName: datatran2021.csv\n",
      "FileName: datatran2022.csv\n",
      "FileName: datatran2023.csv\n",
      "FileName: datatran2024.csv\n",
      "FileName: datatran2007.csv\n"
     ]
    },
    {
     "name": "stderr",
     "output_type": "stream",
     "text": [
      "d:\\projetos\\roadSafeAi\\RoadSafeAI\\src\\data_collection\\file_read_pandas.py:16: DtypeWarning: Columns (5,6) have mixed types. Specify dtype option on import or set low_memory=False.\n",
      "  return pd.read_csv(file_path, encoding='cp1252', sep=';')\n",
      "2025-02-02 22:59:07,731 - data_collection.merge_datasets - INFO - Processando dataset do ano 2008: datatran2008.csv\n"
     ]
    },
    {
     "name": "stdout",
     "output_type": "stream",
     "text": [
      "FileName: datatran2008.csv\n"
     ]
    },
    {
     "name": "stderr",
     "output_type": "stream",
     "text": [
      "d:\\projetos\\roadSafeAi\\RoadSafeAI\\src\\data_collection\\file_read_pandas.py:16: DtypeWarning: Columns (5,6) have mixed types. Specify dtype option on import or set low_memory=False.\n",
      "  return pd.read_csv(file_path, encoding='cp1252', sep=';')\n",
      "2025-02-02 22:59:08,041 - data_collection.merge_datasets - INFO - Processando dataset do ano 2009: datatran2009.csv\n"
     ]
    },
    {
     "name": "stdout",
     "output_type": "stream",
     "text": [
      "FileName: datatran2009.csv\n"
     ]
    },
    {
     "name": "stderr",
     "output_type": "stream",
     "text": [
      "2025-02-02 22:59:08,379 - data_collection.merge_datasets - INFO - Processando dataset do ano 2010: datatran2010.csv\n"
     ]
    },
    {
     "name": "stdout",
     "output_type": "stream",
     "text": [
      "FileName: datatran2010.csv\n"
     ]
    },
    {
     "name": "stderr",
     "output_type": "stream",
     "text": [
      "2025-02-02 22:59:08,796 - data_collection.merge_datasets - INFO - Processando dataset do ano 2011: datatran2011.csv\n"
     ]
    },
    {
     "name": "stdout",
     "output_type": "stream",
     "text": [
      "FileName: datatran2011.csv\n"
     ]
    },
    {
     "name": "stderr",
     "output_type": "stream",
     "text": [
      "2025-02-02 22:59:09,217 - data_collection.merge_datasets - INFO - Processando dataset do ano 2012: datatran2012.csv\n"
     ]
    },
    {
     "name": "stdout",
     "output_type": "stream",
     "text": [
      "FileName: datatran2012.csv\n"
     ]
    },
    {
     "name": "stderr",
     "output_type": "stream",
     "text": [
      "d:\\projetos\\roadSafeAi\\RoadSafeAI\\src\\data_collection\\file_read_pandas.py:16: DtypeWarning: Columns (5,6) have mixed types. Specify dtype option on import or set low_memory=False.\n",
      "  return pd.read_csv(file_path, encoding='cp1252', sep=';')\n",
      "2025-02-02 22:59:09,619 - data_collection.merge_datasets - INFO - Processando dataset do ano 2013: datatran2013.csv\n"
     ]
    },
    {
     "name": "stdout",
     "output_type": "stream",
     "text": [
      "FileName: datatran2013.csv\n"
     ]
    },
    {
     "name": "stderr",
     "output_type": "stream",
     "text": [
      "2025-02-02 22:59:10,040 - data_collection.merge_datasets - INFO - Processando dataset do ano 2014: datatran2014.csv\n"
     ]
    },
    {
     "name": "stdout",
     "output_type": "stream",
     "text": [
      "FileName: datatran2014.csv\n"
     ]
    },
    {
     "name": "stderr",
     "output_type": "stream",
     "text": [
      "2025-02-02 22:59:10,424 - data_collection.merge_datasets - INFO - Processando dataset do ano 2015: datatran2015.csv\n"
     ]
    },
    {
     "name": "stdout",
     "output_type": "stream",
     "text": [
      "FileName: datatran2015.csv\n"
     ]
    },
    {
     "name": "stderr",
     "output_type": "stream",
     "text": [
      "2025-02-02 22:59:10,698 - data_collection.merge_datasets - INFO - Processando dataset do ano 2016: datatran2016.csv\n"
     ]
    },
    {
     "name": "stdout",
     "output_type": "stream",
     "text": [
      "FileName: datatran2016.csv\n"
     ]
    },
    {
     "name": "stderr",
     "output_type": "stream",
     "text": [
      "2025-02-02 22:59:10,921 - data_collection.merge_datasets - INFO - Processando dataset do ano 2017: datatran2017.csv\n"
     ]
    },
    {
     "name": "stdout",
     "output_type": "stream",
     "text": [
      "FileName: datatran2017.csv\n"
     ]
    },
    {
     "name": "stderr",
     "output_type": "stream",
     "text": [
      "2025-02-02 22:59:11,280 - data_collection.merge_datasets - INFO - Processando dataset do ano 2018: datatran2018.csv\n"
     ]
    },
    {
     "name": "stdout",
     "output_type": "stream",
     "text": [
      "FileName: datatran2018.csv\n"
     ]
    },
    {
     "name": "stderr",
     "output_type": "stream",
     "text": [
      "2025-02-02 22:59:11,555 - data_collection.merge_datasets - INFO - Processando dataset do ano 2019: datatran2019.csv\n"
     ]
    },
    {
     "name": "stdout",
     "output_type": "stream",
     "text": [
      "FileName: datatran2019.csv\n"
     ]
    },
    {
     "name": "stderr",
     "output_type": "stream",
     "text": [
      "2025-02-02 22:59:11,813 - data_collection.merge_datasets - INFO - Processando dataset do ano 2020: datatran2020.csv\n"
     ]
    },
    {
     "name": "stdout",
     "output_type": "stream",
     "text": [
      "FileName: datatran2020.csv\n"
     ]
    },
    {
     "name": "stderr",
     "output_type": "stream",
     "text": [
      "2025-02-02 22:59:12,060 - data_collection.merge_datasets - INFO - Processando dataset do ano 2021: datatran2021.csv\n"
     ]
    },
    {
     "name": "stdout",
     "output_type": "stream",
     "text": [
      "FileName: datatran2021.csv\n"
     ]
    },
    {
     "name": "stderr",
     "output_type": "stream",
     "text": [
      "2025-02-02 22:59:12,320 - data_collection.merge_datasets - INFO - Processando dataset do ano 2022: datatran2022.csv\n"
     ]
    },
    {
     "name": "stdout",
     "output_type": "stream",
     "text": [
      "FileName: datatran2022.csv\n"
     ]
    },
    {
     "name": "stderr",
     "output_type": "stream",
     "text": [
      "2025-02-02 22:59:12,572 - data_collection.merge_datasets - INFO - Processando dataset do ano 2023: datatran2023.csv\n"
     ]
    },
    {
     "name": "stdout",
     "output_type": "stream",
     "text": [
      "FileName: datatran2023.csv\n"
     ]
    },
    {
     "name": "stderr",
     "output_type": "stream",
     "text": [
      "2025-02-02 22:59:12,845 - data_collection.merge_datasets - INFO - Processando dataset do ano 2024: datatran2024.csv\n"
     ]
    },
    {
     "name": "stdout",
     "output_type": "stream",
     "text": [
      "FileName: datatran2024.csv\n"
     ]
    },
    {
     "name": "stderr",
     "output_type": "stream",
     "text": [
      "2025-02-02 22:59:13,142 - data_collection.merge_datasets - INFO - Total de registros do Maranhão: 34153\n",
      "2025-02-02 22:59:13,382 - data_collection.merge_datasets - INFO - Dataset do Maranhão unificado salvo em D:\\projetos\\roadSafeAi\\RoadSafeAI\\files\\processed\\maranhao\\datatran_ma_merged_base_2007_2024.csv\n",
      "2025-02-02 22:59:13,384 - data_collection.merge_datasets - INFO - Metadados do Maranhão salvos em D:\\projetos\\roadSafeAi\\RoadSafeAI\\files\\processed\\maranhao\\metadata_ma.txt\n",
      "2025-02-02 22:59:13,385 - data_collection.merge_datasets - INFO - 8 arquivos CSV encontrados para o período 2017-2024.\n",
      "2025-02-02 22:59:13,386 - data_collection.merge_datasets - INFO - Processando dataset do ano 2017: datatran2017.csv\n"
     ]
    },
    {
     "name": "stdout",
     "output_type": "stream",
     "text": [
      "FileName: datatran2007.csv\n",
      "FileName: datatran2008.csv\n",
      "FileName: datatran2009.csv\n",
      "FileName: datatran2010.csv\n",
      "FileName: datatran2011.csv\n",
      "FileName: datatran2012.csv\n",
      "FileName: datatran2013.csv\n",
      "FileName: datatran2014.csv\n",
      "FileName: datatran2015.csv\n",
      "FileName: datatran2016.csv\n",
      "FileName: datatran2017.csv\n",
      "FileName: datatran2018.csv\n",
      "FileName: datatran2019.csv\n",
      "FileName: datatran2020.csv\n",
      "FileName: datatran2021.csv\n",
      "FileName: datatran2022.csv\n",
      "FileName: datatran2023.csv\n",
      "FileName: datatran2024.csv\n",
      "FileName: datatran2017.csv\n"
     ]
    },
    {
     "name": "stderr",
     "output_type": "stream",
     "text": [
      "2025-02-02 22:59:13,759 - data_collection.merge_datasets - INFO - Processando dataset do ano 2018: datatran2018.csv\n"
     ]
    },
    {
     "name": "stdout",
     "output_type": "stream",
     "text": [
      "FileName: datatran2018.csv\n"
     ]
    },
    {
     "name": "stderr",
     "output_type": "stream",
     "text": [
      "2025-02-02 22:59:14,038 - data_collection.merge_datasets - INFO - Processando dataset do ano 2019: datatran2019.csv\n"
     ]
    },
    {
     "name": "stdout",
     "output_type": "stream",
     "text": [
      "FileName: datatran2019.csv\n"
     ]
    },
    {
     "name": "stderr",
     "output_type": "stream",
     "text": [
      "2025-02-02 22:59:14,318 - data_collection.merge_datasets - INFO - Processando dataset do ano 2020: datatran2020.csv\n"
     ]
    },
    {
     "name": "stdout",
     "output_type": "stream",
     "text": [
      "FileName: datatran2020.csv\n"
     ]
    },
    {
     "name": "stderr",
     "output_type": "stream",
     "text": [
      "2025-02-02 22:59:14,630 - data_collection.merge_datasets - INFO - Processando dataset do ano 2021: datatran2021.csv\n"
     ]
    },
    {
     "name": "stdout",
     "output_type": "stream",
     "text": [
      "FileName: datatran2021.csv\n"
     ]
    },
    {
     "name": "stderr",
     "output_type": "stream",
     "text": [
      "2025-02-02 22:59:14,929 - data_collection.merge_datasets - INFO - Processando dataset do ano 2022: datatran2022.csv\n"
     ]
    },
    {
     "name": "stdout",
     "output_type": "stream",
     "text": [
      "FileName: datatran2022.csv\n"
     ]
    },
    {
     "name": "stderr",
     "output_type": "stream",
     "text": [
      "2025-02-02 22:59:15,191 - data_collection.merge_datasets - INFO - Processando dataset do ano 2023: datatran2023.csv\n"
     ]
    },
    {
     "name": "stdout",
     "output_type": "stream",
     "text": [
      "FileName: datatran2023.csv\n"
     ]
    },
    {
     "name": "stderr",
     "output_type": "stream",
     "text": [
      "2025-02-02 22:59:15,466 - data_collection.merge_datasets - INFO - Processando dataset do ano 2024: datatran2024.csv\n"
     ]
    },
    {
     "name": "stdout",
     "output_type": "stream",
     "text": [
      "FileName: datatran2024.csv\n"
     ]
    },
    {
     "name": "stderr",
     "output_type": "stream",
     "text": [
      "2025-02-02 22:59:15,795 - data_collection.merge_datasets - INFO - Total de registros do Maranhão: 9609\n",
      "2025-02-02 22:59:15,887 - data_collection.merge_datasets - INFO - Dataset do Maranhão unificado salvo em D:\\projetos\\roadSafeAi\\RoadSafeAI\\files\\processed\\maranhao\\datatran_ma_merged_complete_2017_2024.csv\n",
      "2025-02-02 22:59:15,889 - data_collection.merge_datasets - INFO - Metadados do Maranhão salvos em D:\\projetos\\roadSafeAi\\RoadSafeAI\\files\\processed\\maranhao\\metadata_ma.txt\n",
      "2025-02-02 22:59:15,889 - pipeline - INFO - Dataset base selecionado:\n",
      "2025-02-02 22:59:15,890 - pipeline - INFO - Dimensões: (34153, 25)\n",
      "2025-02-02 22:59:15,891 - pipeline - INFO - Período: 2007-01-01 00:00:00 até 2024-12-31 00:00:00\n",
      "2025-02-02 22:59:15,891 - pipeline - INFO - Colunas: ['id', 'data_inversa', 'dia_semana', 'horario', 'uf', 'br', 'km', 'municipio', 'causa_acidente', 'tipo_acidente', 'classificacao_acidente', 'fase_dia', 'sentido_via', 'condicao_metereologica', 'tipo_pista', 'tracado_via', 'uso_solo', 'pessoas', 'mortos', 'feridos_leves', 'feridos_graves', 'ilesos', 'ignorados', 'feridos', 'veiculos']\n",
      "2025-02-02 22:59:15,892 - pipeline - INFO - Iniciando limpeza de dados...\n",
      "2025-02-02 22:59:15,893 - preprocessing.data_cleaning_01 - INFO - Iniciando processo de limpeza do dataset...\n",
      "2025-02-02 22:59:15,897 - preprocessing.data_cleaning_01 - INFO - Colunas removidas: ['id', 'uf', 'tracado_via', 'feridos', 'fase_dia']\n",
      "d:\\projetos\\roadSafeAi\\RoadSafeAI\\src\\preprocessing\\data_cleaning_01.py:52: UserWarning: Boolean Series key will be reindexed to match DataFrame index.\n",
      "  df_clean = df_clean[~mascara_espacos['remove']]\n",
      "2025-02-02 22:59:16,064 - preprocessing.data_cleaning_01 - INFO - Estatísticas de limpeza:\n",
      "2025-02-02 22:59:16,065 - preprocessing.data_cleaning_01 - INFO - - Linhas no dataset original: 34153\n",
      "2025-02-02 22:59:16,066 - preprocessing.data_cleaning_01 - INFO - - Linhas removidas: 3\n",
      "2025-02-02 22:59:16,067 - preprocessing.data_cleaning_01 - INFO - - Percentual removido: 0.0088%\n",
      "2025-02-02 22:59:16,067 - preprocessing.data_cleaning_01 - INFO - - Linhas no dataset final: 34150\n",
      "2025-02-02 22:59:16,095 - preprocessing.data_cleaning_01 - INFO - Removidos 13 registros duplicados.\n",
      "2025-02-02 22:59:16,097 - preprocessing.data_cleaning_01 - INFO - Processo de limpeza concluído com sucesso!\n",
      "2025-02-02 22:59:16,099 - pipeline - INFO - Iniciando padronização de dados...\n",
      "2025-02-02 22:59:16,100 - preprocessing.data_standardize_02 - INFO - Iniciando padronização do dataset...\n",
      "2025-02-02 22:59:16,140 - preprocessing.data_standardize_02 - INFO - Coluna km padronizada. Range: [0, 684]\n",
      "2025-02-02 22:59:16,170 - preprocessing.data_standardize_02 - INFO - Coluna pessoas padronizada. Range: [1, 54]\n",
      "2025-02-02 22:59:16,200 - preprocessing.data_standardize_02 - INFO - Coluna mortos padronizada. Range: [0, 11]\n",
      "2025-02-02 22:59:16,230 - preprocessing.data_standardize_02 - INFO - Coluna feridos_leves padronizada. Range: [0, 37]\n",
      "2025-02-02 22:59:16,260 - preprocessing.data_standardize_02 - INFO - Coluna feridos_graves padronizada. Range: [0, 20]\n",
      "2025-02-02 22:59:16,292 - preprocessing.data_standardize_02 - INFO - Coluna ilesos padronizada. Range: [0, 49]\n",
      "2025-02-02 22:59:16,322 - preprocessing.data_standardize_02 - INFO - Coluna ignorados padronizada. Range: [0, 35]\n",
      "2025-02-02 22:59:16,353 - preprocessing.data_standardize_02 - INFO - Coluna veiculos padronizada. Range: [1, 17]\n",
      "2025-02-02 22:59:16,354 - preprocessing.data_standardize_02 - INFO - Valores numéricos padronizados\n",
      "2025-02-02 22:59:16,372 - preprocessing.data_standardize_02 - INFO - Coluna data_inversa convertida para datetime e renomeada para 'data'\n",
      "2025-02-02 22:59:16,387 - preprocessing.data_standardize_02 - INFO - Distribuição dos períodos do dia:\n",
      "2025-02-02 22:59:16,387 - preprocessing.data_standardize_02 - INFO - - tarde: 11467\n",
      "2025-02-02 22:59:16,388 - preprocessing.data_standardize_02 - INFO - - manha: 9587\n",
      "2025-02-02 22:59:16,388 - preprocessing.data_standardize_02 - INFO - - noite: 9393\n",
      "2025-02-02 22:59:16,388 - preprocessing.data_standardize_02 - INFO - - madrugada: 3690\n",
      "2025-02-02 22:59:16,389 - preprocessing.data_standardize_02 - INFO - Valores temporais padronizados\n",
      "2025-02-02 22:59:16,398 - preprocessing.data_standardize_02 - INFO - Valores únicos originais em uso_solo: ['Rural' 'Urbano' 'Não' 'Sim']\n",
      "2025-02-02 22:59:16,405 - preprocessing.data_standardize_02 - INFO - Valores únicos após padronização em uso_solo: ['Não' 'Sim']\n",
      "2025-02-02 22:59:16,407 - preprocessing.data_standardize_02 - INFO - Coluna uso_solo padronizada\n",
      "2025-02-02 22:59:16,415 - preprocessing.data_standardize_02 - INFO - Valores únicos originais em dia_semana: ['Segunda' 'Quinta' 'Domingo' 'Terça' 'Sexta' 'Quarta' 'Sábado' 'domingo'\n",
      " 'segunda-feira' 'terça-feira' 'quarta-feira' 'quinta-feira' 'sexta-feira'\n",
      " 'sábado']\n",
      "2025-02-02 22:59:16,426 - preprocessing.data_standardize_02 - INFO - Valores únicos após padronização em dia_semana: ['segunda-feira' 'quinta-feira' 'domingo' 'terca-feira' 'sexta-feira'\n",
      " 'quarta-feira' 'sabado']\n",
      "2025-02-02 22:59:16,428 - preprocessing.data_standardize_02 - INFO - Coluna dia_semana padronizada\n",
      "2025-02-02 22:59:16,430 - pipeline - INFO - Iniciando engenharia de features...\n",
      "2025-02-02 22:59:16,431 - preprocessing.feature_engineering_03 - INFO - Iniciando criação de novas features...\n",
      "2025-02-02 22:59:16,450 - preprocessing.feature_engineering_03 - INFO - Distribuição dos períodos do dia:\n",
      "2025-02-02 22:59:16,454 - preprocessing.feature_engineering_03 - INFO - Removendo horario exato, adotado periodo do dia:\n",
      "2025-02-02 22:59:16,455 - preprocessing.feature_engineering_03 - INFO - - tarde: 11467 registros\n",
      "2025-02-02 22:59:16,455 - preprocessing.feature_engineering_03 - INFO - - manha: 9587 registros\n",
      "2025-02-02 22:59:16,456 - preprocessing.feature_engineering_03 - INFO - - noite: 9393 registros\n",
      "2025-02-02 22:59:16,457 - preprocessing.feature_engineering_03 - INFO - - madrugada: 3690 registros\n",
      "2025-02-02 22:59:16,457 - preprocessing.feature_engineering_03 - INFO - Feature 'periodo_dia' criada com sucesso\n",
      "2025-02-02 22:59:16,741 - preprocessing.feature_engineering_03 - INFO - Distribuição das gravidades dos acidentes:\n",
      "2025-02-02 22:59:16,742 - preprocessing.feature_engineering_03 - INFO - - sem_vitimas: 14641 registros\n",
      "2025-02-02 22:59:16,742 - preprocessing.feature_engineering_03 - INFO - - leve: 8844 registros\n",
      "2025-02-02 22:59:16,743 - preprocessing.feature_engineering_03 - INFO - - grave: 6766 registros\n",
      "2025-02-02 22:59:16,743 - preprocessing.feature_engineering_03 - INFO - - fatal: 3886 registros\n",
      "2025-02-02 22:59:16,744 - preprocessing.feature_engineering_03 - INFO - Feature 'gravidade_acidente' criada com sucesso\n",
      "2025-02-02 22:59:16,757 - preprocessing.feature_engineering_03 - INFO - Distribuição final das causas agrupadas:\n",
      "2025-02-02 22:59:16,758 - preprocessing.feature_engineering_03 - INFO - - falha_atencao: 11127 registros\n",
      "2025-02-02 22:59:16,758 - preprocessing.feature_engineering_03 - INFO - - outros: 11088 registros\n",
      "2025-02-02 22:59:16,759 - preprocessing.feature_engineering_03 - INFO - - comportamento_risco: 5384 registros\n",
      "2025-02-02 22:59:16,760 - preprocessing.feature_engineering_03 - INFO - - fatores_externos_animais: 1987 registros\n",
      "2025-02-02 22:59:16,760 - preprocessing.feature_engineering_03 - INFO - - problemas_tecnicos_via: 1292 registros\n",
      "2025-02-02 22:59:16,761 - preprocessing.feature_engineering_03 - INFO - - problemas_tecnicos_veiculo: 1231 registros\n",
      "2025-02-02 22:59:16,761 - preprocessing.feature_engineering_03 - INFO - - condutor_alcool_drogas: 1114 registros\n",
      "2025-02-02 22:59:16,761 - preprocessing.feature_engineering_03 - INFO - - condutor_fadiga: 884 registros\n",
      "2025-02-02 22:59:16,762 - preprocessing.feature_engineering_03 - INFO - - fatores_ambientais: 30 registros\n",
      "2025-02-02 22:59:16,763 - preprocessing.feature_engineering_03 - INFO - Feature 'causa_acidente_grupo' criada com sucesso\n",
      "2025-02-02 22:59:16,764 - preprocessing.feature_engineering_03 - INFO - Todas as features foram criadas com sucesso!\n",
      "2025-02-02 22:59:16,931 - preprocessing.feature_engineering_03 - INFO - Dataset processado salvo em: d:\\projetos\\roadSafeAi\\RoadSafeAI\\files\\processed\\datatran_ma_processado.csv\n",
      "2025-02-02 22:59:16,933 - pipeline - INFO - Ajustando codificador de dados...\n",
      "2025-02-02 22:59:16,934 - preprocessing.data_encoding_04 - INFO - Iniciando fit dos encoders...\n",
      "2025-02-02 22:59:16,940 - preprocessing.data_encoding_04 - INFO - Coluna municipio: 110 valores únicos\n",
      "2025-02-02 22:59:16,943 - preprocessing.data_encoding_04 - INFO - Coluna causa_acidente: 92 valores únicos\n",
      "2025-02-02 22:59:16,946 - preprocessing.data_encoding_04 - INFO - Coluna tipo_acidente: 30 valores únicos\n",
      "2025-02-02 22:59:16,948 - preprocessing.data_encoding_04 - INFO - Coluna classificacao_acidente: 4 valores únicos\n",
      "2025-02-02 22:59:16,950 - preprocessing.data_encoding_04 - INFO - Coluna sentido_via: 3 valores únicos\n",
      "2025-02-02 22:59:16,952 - preprocessing.data_encoding_04 - INFO - Coluna condicao_metereologica: 13 valores únicos\n",
      "2025-02-02 22:59:16,954 - preprocessing.data_encoding_04 - INFO - Coluna tipo_pista: 3 valores únicos\n",
      "2025-02-02 22:59:16,955 - preprocessing.data_encoding_04 - INFO - Coluna uso_solo: 2 valores únicos\n",
      "2025-02-02 22:59:16,957 - preprocessing.data_encoding_04 - INFO - Coluna causa_acidente_grupo: 9 valores únicos\n",
      "2025-02-02 22:59:16,958 - preprocessing.data_encoding_04 - INFO - Label Encoder ajustado para periodo_dia\n",
      "2025-02-02 22:59:16,959 - preprocessing.data_encoding_04 - INFO - Label Encoder ajustado para dia_semana\n",
      "2025-02-02 22:59:16,989 - preprocessing.data_encoding_04 - INFO - OneHot Encoder ajustado para ['classificacao_acidente', 'sentido_via', 'tipo_pista', 'uso_solo']\n",
      "2025-02-02 22:59:17,057 - preprocessing.data_encoding_04 - INFO - Target Encoder ajustado para municipio\n",
      "2025-02-02 22:59:17,120 - preprocessing.data_encoding_04 - INFO - Target Encoder ajustado para causa_acidente\n",
      "2025-02-02 22:59:17,188 - preprocessing.data_encoding_04 - INFO - Target Encoder ajustado para tipo_acidente\n",
      "2025-02-02 22:59:17,253 - preprocessing.data_encoding_04 - INFO - Target Encoder ajustado para condicao_metereologica\n",
      "2025-02-02 22:59:17,314 - preprocessing.data_encoding_04 - INFO - Target Encoder ajustado para causa_acidente_grupo\n",
      "2025-02-02 22:59:17,315 - pipeline - INFO - Iniciando codificação de dados...\n",
      "2025-02-02 22:59:17,334 - preprocessing.data_encoding_04 - INFO - Label Encoding aplicado em periodo_dia\n",
      "2025-02-02 22:59:17,349 - preprocessing.data_encoding_04 - INFO - Label Encoding aplicado em dia_semana\n",
      "2025-02-02 22:59:17,381 - preprocessing.data_encoding_04 - INFO - OneHot Encoding aplicado em ['classificacao_acidente', 'sentido_via', 'tipo_pista', 'uso_solo']\n",
      "2025-02-02 22:59:17,388 - preprocessing.data_encoding_04 - INFO - Target Encoding aplicado em municipio\n",
      "2025-02-02 22:59:17,395 - preprocessing.data_encoding_04 - INFO - Target Encoding aplicado em causa_acidente\n",
      "2025-02-02 22:59:17,403 - preprocessing.data_encoding_04 - INFO - Target Encoding aplicado em tipo_acidente\n",
      "2025-02-02 22:59:17,409 - preprocessing.data_encoding_04 - INFO - Target Encoding aplicado em condicao_metereologica\n",
      "2025-02-02 22:59:17,415 - preprocessing.data_encoding_04 - INFO - Target Encoding aplicado em causa_acidente_grupo\n",
      "2025-02-02 22:59:17,417 - pipeline - INFO - Dimensões após pré-processamento: (34137, 26)\n",
      "2025-02-02 22:59:17,418 - preprocessing.data_split_05 - INFO - Iniciando preparação dos dados...\n",
      "2025-02-02 22:59:17,423 - preprocessing.data_split_05 - INFO - Colunas removidas: ['data', 'causa_acidente']\n",
      "2025-02-02 22:59:17,426 - preprocessing.data_split_05 - INFO - Distribuição inicial das classes:\n",
      "2025-02-02 22:59:17,428 - preprocessing.data_split_05 - INFO - \n",
      "Distribuição das classes:\n",
      "2025-02-02 22:59:17,429 - preprocessing.data_split_05 - INFO - - Classe sem_vitimas: 42.89%\n",
      "2025-02-02 22:59:17,430 - preprocessing.data_split_05 - INFO - - Classe leve: 25.91%\n",
      "2025-02-02 22:59:17,430 - preprocessing.data_split_05 - INFO - - Classe grave: 19.82%\n",
      "2025-02-02 22:59:17,431 - preprocessing.data_split_05 - INFO - - Classe fatal: 11.38%\n",
      "2025-02-02 22:59:17,470 - preprocessing.data_split_05 - INFO - \n",
      "Dimensões dos conjuntos:\n",
      "2025-02-02 22:59:17,471 - preprocessing.data_split_05 - INFO - - Treino: (20481, 23)\n",
      "2025-02-02 22:59:17,471 - preprocessing.data_split_05 - INFO - - Validação: (6828, 23)\n",
      "2025-02-02 22:59:17,472 - preprocessing.data_split_05 - INFO - - Teste: (6828, 23)\n",
      "2025-02-02 22:59:17,473 - preprocessing.data_split_05 - INFO - \n",
      "Distribuição das classes - Treino:\n",
      "2025-02-02 22:59:17,474 - preprocessing.data_split_05 - INFO - - Classe sem_vitimas: 42.89%\n",
      "2025-02-02 22:59:17,475 - preprocessing.data_split_05 - INFO - - Classe leve: 25.91%\n",
      "2025-02-02 22:59:17,475 - preprocessing.data_split_05 - INFO - - Classe grave: 19.82%\n",
      "2025-02-02 22:59:17,475 - preprocessing.data_split_05 - INFO - - Classe fatal: 11.39%\n",
      "2025-02-02 22:59:17,477 - preprocessing.data_split_05 - INFO - \n",
      "Distribuição das classes - Validação:\n",
      "2025-02-02 22:59:17,478 - preprocessing.data_split_05 - INFO - - Classe sem_vitimas: 42.88%\n",
      "2025-02-02 22:59:17,478 - preprocessing.data_split_05 - INFO - - Classe leve: 25.91%\n",
      "2025-02-02 22:59:17,479 - preprocessing.data_split_05 - INFO - - Classe grave: 19.83%\n",
      "2025-02-02 22:59:17,479 - preprocessing.data_split_05 - INFO - - Classe fatal: 11.38%\n",
      "2025-02-02 22:59:17,480 - preprocessing.data_split_05 - INFO - \n",
      "Distribuição das classes - Teste:\n",
      "2025-02-02 22:59:17,480 - preprocessing.data_split_05 - INFO - - Classe sem_vitimas: 42.90%\n",
      "2025-02-02 22:59:17,481 - preprocessing.data_split_05 - INFO - - Classe leve: 25.91%\n",
      "2025-02-02 22:59:17,481 - preprocessing.data_split_05 - INFO - - Classe grave: 19.82%\n",
      "2025-02-02 22:59:17,481 - preprocessing.data_split_05 - INFO - - Classe fatal: 11.38%\n",
      "2025-02-02 22:59:17,482 - preprocessing.data_split_05 - INFO - Preparação dos dados concluída!\n",
      "2025-02-02 22:59:17,491 - pipeline - INFO - Tipos de dados após conversão:\n",
      "2025-02-02 22:59:17,492 - pipeline - INFO - - dia_semana: int32\n",
      "2025-02-02 22:59:17,492 - pipeline - INFO - - br: float64\n",
      "2025-02-02 22:59:17,493 - pipeline - INFO - - km: int32\n",
      "2025-02-02 22:59:17,494 - pipeline - INFO - - municipio: float64\n",
      "2025-02-02 22:59:17,495 - pipeline - INFO - - tipo_acidente: float64\n",
      "2025-02-02 22:59:17,495 - pipeline - INFO - - condicao_metereologica: float64\n",
      "2025-02-02 22:59:17,496 - pipeline - INFO - - pessoas: int32\n",
      "2025-02-02 22:59:17,496 - pipeline - INFO - - mortos: int32\n",
      "2025-02-02 22:59:17,497 - pipeline - INFO - - feridos_leves: int32\n",
      "2025-02-02 22:59:17,497 - pipeline - INFO - - feridos_graves: int32\n",
      "2025-02-02 22:59:17,498 - pipeline - INFO - - ilesos: int32\n",
      "2025-02-02 22:59:17,499 - pipeline - INFO - - ignorados: int32\n",
      "2025-02-02 22:59:17,500 - pipeline - INFO - - veiculos: int32\n",
      "2025-02-02 22:59:17,500 - pipeline - INFO - - periodo_dia: int32\n",
      "2025-02-02 22:59:17,501 - pipeline - INFO - - causa_acidente_grupo: float64\n",
      "2025-02-02 22:59:17,501 - pipeline - INFO - - classificacao_acidente_Com Vítimas Feridas: float64\n",
      "2025-02-02 22:59:17,501 - pipeline - INFO - - classificacao_acidente_Ignorado: float64\n",
      "2025-02-02 22:59:17,502 - pipeline - INFO - - classificacao_acidente_Sem Vítimas: float64\n",
      "2025-02-02 22:59:17,502 - pipeline - INFO - - sentido_via_Decrescente: float64\n",
      "2025-02-02 22:59:17,503 - pipeline - INFO - - sentido_via_Não Informado: float64\n",
      "2025-02-02 22:59:17,504 - pipeline - INFO - - tipo_pista_Múltipla: float64\n",
      "2025-02-02 22:59:17,504 - pipeline - INFO - - tipo_pista_Simples: float64\n",
      "2025-02-02 22:59:17,505 - pipeline - INFO - - uso_solo_Sim: float64\n",
      "2025-02-02 22:59:17,506 - pipeline - INFO - Aplicando estratégia de balanceamento smote...\n",
      "2025-02-02 22:59:17,506 - preprocessing.data_balancing_06 - INFO - Aplicando SMOTE...\n",
      "2025-02-02 22:59:17,508 - preprocessing.data_balancing_06 - INFO - \n",
      "Distribuição das classes - antes do SMOTE:\n",
      "2025-02-02 22:59:17,508 - preprocessing.data_balancing_06 - INFO - - Classe sem_vitimas: 8784 amostras (42.89%)\n",
      "2025-02-02 22:59:17,509 - preprocessing.data_balancing_06 - INFO - - Classe leve: 5306 amostras (25.91%)\n",
      "2025-02-02 22:59:17,510 - preprocessing.data_balancing_06 - INFO - - Classe grave: 4059 amostras (19.82%)\n",
      "2025-02-02 22:59:17,510 - preprocessing.data_balancing_06 - INFO - - Classe fatal: 2332 amostras (11.39%)\n",
      "d:\\projetos\\roadSafeAi\\RoadSafeAI\\env\\lib\\site-packages\\sklearn\\base.py:474: FutureWarning: `BaseEstimator._validate_data` is deprecated in 1.6 and will be removed in 1.7. Use `sklearn.utils.validation.validate_data` instead. This function becomes public and is part of the scikit-learn developer API.\n",
      "  warnings.warn(\n",
      "2025-02-02 22:59:17,832 - preprocessing.data_balancing_06 - INFO - \n",
      "Distribuição das classes - após SMOTE:\n",
      "2025-02-02 22:59:17,833 - preprocessing.data_balancing_06 - INFO - - Classe grave: 8784 amostras (25.00%)\n",
      "2025-02-02 22:59:17,834 - preprocessing.data_balancing_06 - INFO - - Classe sem_vitimas: 8784 amostras (25.00%)\n",
      "2025-02-02 22:59:17,834 - preprocessing.data_balancing_06 - INFO - - Classe leve: 8784 amostras (25.00%)\n",
      "2025-02-02 22:59:17,835 - preprocessing.data_balancing_06 - INFO - - Classe fatal: 8784 amostras (25.00%)\n",
      "2025-02-02 22:59:17,837 - __main__ - INFO - \n",
      "Pré-processamento finalizado com sucesso!\n",
      "2025-02-02 22:59:17,838 - __main__ - INFO - Formato dados de treino: (35136, 23)\n",
      "2025-02-02 22:59:17,839 - __main__ - INFO - Formato dados de validação: (6828, 23)\n",
      "2025-02-02 22:59:17,839 - __main__ - INFO - Formato dados de teste: (6828, 23)\n",
      "2025-02-02 22:59:17,840 - __main__ - INFO - \n",
      "Features:\n",
      "2025-02-02 22:59:17,840 - __main__ - INFO - - ordinal_encoded: 2 features\n",
      "2025-02-02 22:59:17,841 - __main__ - INFO - - onehot_encoded: 4 features\n",
      "2025-02-02 22:59:17,842 - __main__ - INFO - - target_encoded: 5 features\n"
     ]
    }
   ],
   "source": [
    "pipeline = PreprocessingPipeline(\n",
    "    collect_new_data=True,\n",
    "    dataset_type='base',\n",
    "    test_size=0.2,\n",
    "    valid_size=0.2,\n",
    "    balance_strategy='smote',\n",
    "    random_state=42\n",
    ")\n",
    "\n",
    "X_train, X_valid, X_test, y_train, y_valid, y_test = pipeline.process_data()\n",
    "\n",
    "feature_names = pipeline.get_feature_names()\n",
    "\n",
    "logger.info(\"\\nPré-processamento finalizado com sucesso!\")\n",
    "logger.info(f\"Formato dados de treino: {X_train.shape}\")\n",
    "logger.info(f\"Formato dados de validação: {X_valid.shape}\")\n",
    "logger.info(f\"Formato dados de teste: {X_test.shape}\")\n",
    "logger.info(\"\\nFeatures:\")\n",
    "for feature_type, features in feature_names.items():\n",
    "    logger.info(f\"- {feature_type}: {len(features)} features\")"
   ]
  },
  {
   "cell_type": "markdown",
   "metadata": {},
   "source": [
    "### Proximo passo: Desenvolvimento de pipeline de modelagem para classificação de gravidade de acidentes"
   ]
  },
  {
   "cell_type": "code",
   "execution_count": 7,
   "metadata": {},
   "outputs": [
    {
     "data": {
      "text/html": [
       "<div>\n",
       "<style scoped>\n",
       "    .dataframe tbody tr th:only-of-type {\n",
       "        vertical-align: middle;\n",
       "    }\n",
       "\n",
       "    .dataframe tbody tr th {\n",
       "        vertical-align: top;\n",
       "    }\n",
       "\n",
       "    .dataframe thead th {\n",
       "        text-align: right;\n",
       "    }\n",
       "</style>\n",
       "<table border=\"1\" class=\"dataframe\">\n",
       "  <thead>\n",
       "    <tr style=\"text-align: right;\">\n",
       "      <th></th>\n",
       "      <th>dia_semana</th>\n",
       "      <th>br</th>\n",
       "      <th>km</th>\n",
       "      <th>municipio</th>\n",
       "      <th>tipo_acidente</th>\n",
       "      <th>condicao_metereologica</th>\n",
       "      <th>pessoas</th>\n",
       "      <th>mortos</th>\n",
       "      <th>feridos_leves</th>\n",
       "      <th>feridos_graves</th>\n",
       "      <th>...</th>\n",
       "      <th>periodo_dia</th>\n",
       "      <th>causa_acidente_grupo</th>\n",
       "      <th>classificacao_acidente_Com Vítimas Feridas</th>\n",
       "      <th>classificacao_acidente_Ignorado</th>\n",
       "      <th>classificacao_acidente_Sem Vítimas</th>\n",
       "      <th>sentido_via_Decrescente</th>\n",
       "      <th>sentido_via_Não Informado</th>\n",
       "      <th>tipo_pista_Múltipla</th>\n",
       "      <th>tipo_pista_Simples</th>\n",
       "      <th>uso_solo_Sim</th>\n",
       "    </tr>\n",
       "  </thead>\n",
       "  <tbody>\n",
       "    <tr>\n",
       "      <th>0</th>\n",
       "      <td>3</td>\n",
       "      <td>10.0</td>\n",
       "      <td>310</td>\n",
       "      <td>0.249996</td>\n",
       "      <td>0.249951</td>\n",
       "      <td>0.249995</td>\n",
       "      <td>5</td>\n",
       "      <td>0</td>\n",
       "      <td>2</td>\n",
       "      <td>1</td>\n",
       "      <td>...</td>\n",
       "      <td>2</td>\n",
       "      <td>0.249999</td>\n",
       "      <td>1.0</td>\n",
       "      <td>0.0</td>\n",
       "      <td>0.0</td>\n",
       "      <td>0.0</td>\n",
       "      <td>0.0</td>\n",
       "      <td>0.0</td>\n",
       "      <td>1.0</td>\n",
       "      <td>1.0</td>\n",
       "    </tr>\n",
       "    <tr>\n",
       "      <th>1</th>\n",
       "      <td>2</td>\n",
       "      <td>316.0</td>\n",
       "      <td>255</td>\n",
       "      <td>0.249998</td>\n",
       "      <td>0.249998</td>\n",
       "      <td>0.249999</td>\n",
       "      <td>2</td>\n",
       "      <td>0</td>\n",
       "      <td>0</td>\n",
       "      <td>0</td>\n",
       "      <td>...</td>\n",
       "      <td>3</td>\n",
       "      <td>0.250000</td>\n",
       "      <td>0.0</td>\n",
       "      <td>0.0</td>\n",
       "      <td>1.0</td>\n",
       "      <td>1.0</td>\n",
       "      <td>0.0</td>\n",
       "      <td>0.0</td>\n",
       "      <td>1.0</td>\n",
       "      <td>0.0</td>\n",
       "    </tr>\n",
       "    <tr>\n",
       "      <th>2</th>\n",
       "      <td>4</td>\n",
       "      <td>10.0</td>\n",
       "      <td>251</td>\n",
       "      <td>0.249997</td>\n",
       "      <td>0.249644</td>\n",
       "      <td>0.249998</td>\n",
       "      <td>2</td>\n",
       "      <td>0</td>\n",
       "      <td>2</td>\n",
       "      <td>0</td>\n",
       "      <td>...</td>\n",
       "      <td>3</td>\n",
       "      <td>0.250000</td>\n",
       "      <td>1.0</td>\n",
       "      <td>0.0</td>\n",
       "      <td>0.0</td>\n",
       "      <td>1.0</td>\n",
       "      <td>0.0</td>\n",
       "      <td>0.0</td>\n",
       "      <td>1.0</td>\n",
       "      <td>1.0</td>\n",
       "    </tr>\n",
       "    <tr>\n",
       "      <th>3</th>\n",
       "      <td>1</td>\n",
       "      <td>10.0</td>\n",
       "      <td>162</td>\n",
       "      <td>0.249995</td>\n",
       "      <td>0.249997</td>\n",
       "      <td>0.249999</td>\n",
       "      <td>1</td>\n",
       "      <td>0</td>\n",
       "      <td>0</td>\n",
       "      <td>0</td>\n",
       "      <td>...</td>\n",
       "      <td>1</td>\n",
       "      <td>0.249994</td>\n",
       "      <td>0.0</td>\n",
       "      <td>0.0</td>\n",
       "      <td>1.0</td>\n",
       "      <td>0.0</td>\n",
       "      <td>0.0</td>\n",
       "      <td>0.0</td>\n",
       "      <td>1.0</td>\n",
       "      <td>0.0</td>\n",
       "    </tr>\n",
       "    <tr>\n",
       "      <th>4</th>\n",
       "      <td>4</td>\n",
       "      <td>10.0</td>\n",
       "      <td>203</td>\n",
       "      <td>0.249910</td>\n",
       "      <td>0.249998</td>\n",
       "      <td>0.249998</td>\n",
       "      <td>2</td>\n",
       "      <td>0</td>\n",
       "      <td>0</td>\n",
       "      <td>0</td>\n",
       "      <td>...</td>\n",
       "      <td>1</td>\n",
       "      <td>0.250000</td>\n",
       "      <td>0.0</td>\n",
       "      <td>0.0</td>\n",
       "      <td>1.0</td>\n",
       "      <td>0.0</td>\n",
       "      <td>0.0</td>\n",
       "      <td>0.0</td>\n",
       "      <td>1.0</td>\n",
       "      <td>1.0</td>\n",
       "    </tr>\n",
       "  </tbody>\n",
       "</table>\n",
       "<p>5 rows × 23 columns</p>\n",
       "</div>"
      ],
      "text/plain": [
       "   dia_semana     br   km  municipio  tipo_acidente  condicao_metereologica  \\\n",
       "0           3   10.0  310   0.249996       0.249951                0.249995   \n",
       "1           2  316.0  255   0.249998       0.249998                0.249999   \n",
       "2           4   10.0  251   0.249997       0.249644                0.249998   \n",
       "3           1   10.0  162   0.249995       0.249997                0.249999   \n",
       "4           4   10.0  203   0.249910       0.249998                0.249998   \n",
       "\n",
       "   pessoas  mortos  feridos_leves  feridos_graves  ...  periodo_dia  \\\n",
       "0        5       0              2               1  ...            2   \n",
       "1        2       0              0               0  ...            3   \n",
       "2        2       0              2               0  ...            3   \n",
       "3        1       0              0               0  ...            1   \n",
       "4        2       0              0               0  ...            1   \n",
       "\n",
       "   causa_acidente_grupo  classificacao_acidente_Com Vítimas Feridas  \\\n",
       "0              0.249999                                         1.0   \n",
       "1              0.250000                                         0.0   \n",
       "2              0.250000                                         1.0   \n",
       "3              0.249994                                         0.0   \n",
       "4              0.250000                                         0.0   \n",
       "\n",
       "   classificacao_acidente_Ignorado  classificacao_acidente_Sem Vítimas  \\\n",
       "0                              0.0                                 0.0   \n",
       "1                              0.0                                 1.0   \n",
       "2                              0.0                                 0.0   \n",
       "3                              0.0                                 1.0   \n",
       "4                              0.0                                 1.0   \n",
       "\n",
       "   sentido_via_Decrescente  sentido_via_Não Informado  tipo_pista_Múltipla  \\\n",
       "0                      0.0                        0.0                  0.0   \n",
       "1                      1.0                        0.0                  0.0   \n",
       "2                      1.0                        0.0                  0.0   \n",
       "3                      0.0                        0.0                  0.0   \n",
       "4                      0.0                        0.0                  0.0   \n",
       "\n",
       "   tipo_pista_Simples  uso_solo_Sim  \n",
       "0                 1.0           1.0  \n",
       "1                 1.0           0.0  \n",
       "2                 1.0           1.0  \n",
       "3                 1.0           0.0  \n",
       "4                 1.0           1.0  \n",
       "\n",
       "[5 rows x 23 columns]"
      ]
     },
     "execution_count": 7,
     "metadata": {},
     "output_type": "execute_result"
    }
   ],
   "source": [
    "X_train.head()"
   ]
  }
 ],
 "metadata": {
  "kernelspec": {
   "display_name": "env",
   "language": "python",
   "name": "python3"
  },
  "language_info": {
   "codemirror_mode": {
    "name": "ipython",
    "version": 3
   },
   "file_extension": ".py",
   "mimetype": "text/x-python",
   "name": "python",
   "nbconvert_exporter": "python",
   "pygments_lexer": "ipython3",
   "version": "3.9.0"
  }
 },
 "nbformat": 4,
 "nbformat_minor": 2
}
