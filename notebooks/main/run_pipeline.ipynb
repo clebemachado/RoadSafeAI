{
 "cells": [
  {
   "cell_type": "code",
   "execution_count": 1,
   "metadata": {},
   "outputs": [],
   "source": [
    "import sys\n",
    "import os\n",
    "from pathlib import Path\n",
    "import pandas as pd\n",
    "import matplotlib.pyplot as plt\n",
    "import seaborn as sns\n",
    "import logging"
   ]
  },
  {
   "cell_type": "code",
   "execution_count": 2,
   "metadata": {},
   "outputs": [],
   "source": [
    "logging.basicConfig(\n",
    "    level=logging.INFO,\n",
    "    format='%(asctime)s - %(name)s - %(levelname)s - %(message)s'\n",
    ")\n",
    "logger = logging.getLogger(__name__)"
   ]
  },
  {
   "cell_type": "code",
   "execution_count": 3,
   "metadata": {},
   "outputs": [],
   "source": [
    "notebook_path = Path.cwd()\n",
    "project_root = str(notebook_path.parent.parent) + \"\\\\src\"\n",
    "sys.path.append(project_root)"
   ]
  },
  {
   "cell_type": "code",
   "execution_count": 4,
   "metadata": {},
   "outputs": [
    {
     "data": {
      "text/plain": [
       "'d:\\\\projetos\\\\roadSafeAi\\\\RoadSafeAI\\\\src'"
      ]
     },
     "execution_count": 4,
     "metadata": {},
     "output_type": "execute_result"
    }
   ],
   "source": [
    "project_root"
   ]
  },
  {
   "cell_type": "code",
   "execution_count": 5,
   "metadata": {},
   "outputs": [],
   "source": [
    "from pipeline import PreprocessingPipeline"
   ]
  },
  {
   "cell_type": "code",
   "execution_count": 6,
   "metadata": {},
   "outputs": [
    {
     "name": "stderr",
     "output_type": "stream",
     "text": [
      "2025-02-02 12:24:22,255 - pipeline - INFO - Iniciando pipeline completo de pré-processamento (usando dataset complete)...\n",
      "2025-02-02 12:24:22,256 - pipeline - INFO - Iniciando coleta de dados...\n",
      "2025-02-02 12:24:22,257 - root - WARNING - Folder RoadSafeAI/files já existe. Não será feito novo download\n",
      "2025-02-02 12:24:22,258 - pipeline - INFO - Coleta de dados concluída com sucesso\n",
      "2025-02-02 12:24:22,259 - pipeline - INFO - Iniciando união dos datasets (usando dataset complete)...\n",
      "2025-02-02 12:24:22,260 - data_collection.merge_datasets - INFO - 18 arquivos CSV encontrados para o período 2007-2024.\n",
      "2025-02-02 12:24:22,261 - data_collection.merge_datasets - INFO - Processando dataset do ano 2007: datatran2007.csv\n"
     ]
    },
    {
     "name": "stdout",
     "output_type": "stream",
     "text": [
      "FileName: datatran2007.csv\n",
      "FileName: datatran2008.csv\n",
      "FileName: datatran2009.csv\n",
      "FileName: datatran2010.csv\n",
      "FileName: datatran2011.csv\n",
      "FileName: datatran2012.csv\n",
      "FileName: datatran2013.csv\n",
      "FileName: datatran2014.csv\n",
      "FileName: datatran2015.csv\n",
      "FileName: datatran2016.csv\n",
      "FileName: datatran2017.csv\n",
      "FileName: datatran2018.csv\n",
      "FileName: datatran2019.csv\n",
      "FileName: datatran2020.csv\n",
      "FileName: datatran2021.csv\n",
      "FileName: datatran2022.csv\n",
      "FileName: datatran2023.csv\n",
      "FileName: datatran2024.csv\n",
      "FileName: datatran2007.csv\n"
     ]
    },
    {
     "name": "stderr",
     "output_type": "stream",
     "text": [
      "d:\\projetos\\roadSafeAi\\RoadSafeAI\\src\\rascunho_preprocessing\\file_read_pandas.py:15: DtypeWarning: Columns (5,6) have mixed types. Specify dtype option on import or set low_memory=False.\n",
      "  return pd.read_csv(file_path, encoding='cp1252', sep=';')\n",
      "2025-02-02 12:24:22,546 - data_collection.merge_datasets - INFO - Processando dataset do ano 2008: datatran2008.csv\n"
     ]
    },
    {
     "name": "stdout",
     "output_type": "stream",
     "text": [
      "FileName: datatran2008.csv\n"
     ]
    },
    {
     "name": "stderr",
     "output_type": "stream",
     "text": [
      "d:\\projetos\\roadSafeAi\\RoadSafeAI\\src\\rascunho_preprocessing\\file_read_pandas.py:15: DtypeWarning: Columns (5,6) have mixed types. Specify dtype option on import or set low_memory=False.\n",
      "  return pd.read_csv(file_path, encoding='cp1252', sep=';')\n",
      "2025-02-02 12:24:22,895 - data_collection.merge_datasets - INFO - Processando dataset do ano 2009: datatran2009.csv\n"
     ]
    },
    {
     "name": "stdout",
     "output_type": "stream",
     "text": [
      "FileName: datatran2009.csv\n"
     ]
    },
    {
     "name": "stderr",
     "output_type": "stream",
     "text": [
      "2025-02-02 12:24:23,256 - data_collection.merge_datasets - INFO - Processando dataset do ano 2010: datatran2010.csv\n"
     ]
    },
    {
     "name": "stdout",
     "output_type": "stream",
     "text": [
      "FileName: datatran2010.csv\n"
     ]
    },
    {
     "name": "stderr",
     "output_type": "stream",
     "text": [
      "2025-02-02 12:24:23,661 - data_collection.merge_datasets - INFO - Processando dataset do ano 2011: datatran2011.csv\n"
     ]
    },
    {
     "name": "stdout",
     "output_type": "stream",
     "text": [
      "FileName: datatran2011.csv\n"
     ]
    },
    {
     "name": "stderr",
     "output_type": "stream",
     "text": [
      "2025-02-02 12:24:24,094 - data_collection.merge_datasets - INFO - Processando dataset do ano 2012: datatran2012.csv\n"
     ]
    },
    {
     "name": "stdout",
     "output_type": "stream",
     "text": [
      "FileName: datatran2012.csv\n"
     ]
    },
    {
     "name": "stderr",
     "output_type": "stream",
     "text": [
      "d:\\projetos\\roadSafeAi\\RoadSafeAI\\src\\rascunho_preprocessing\\file_read_pandas.py:15: DtypeWarning: Columns (5,6) have mixed types. Specify dtype option on import or set low_memory=False.\n",
      "  return pd.read_csv(file_path, encoding='cp1252', sep=';')\n",
      "2025-02-02 12:24:24,501 - data_collection.merge_datasets - INFO - Processando dataset do ano 2013: datatran2013.csv\n"
     ]
    },
    {
     "name": "stdout",
     "output_type": "stream",
     "text": [
      "FileName: datatran2013.csv\n"
     ]
    },
    {
     "name": "stderr",
     "output_type": "stream",
     "text": [
      "2025-02-02 12:24:24,924 - data_collection.merge_datasets - INFO - Processando dataset do ano 2014: datatran2014.csv\n"
     ]
    },
    {
     "name": "stdout",
     "output_type": "stream",
     "text": [
      "FileName: datatran2014.csv\n"
     ]
    },
    {
     "name": "stderr",
     "output_type": "stream",
     "text": [
      "2025-02-02 12:24:25,312 - data_collection.merge_datasets - INFO - Processando dataset do ano 2015: datatran2015.csv\n"
     ]
    },
    {
     "name": "stdout",
     "output_type": "stream",
     "text": [
      "FileName: datatran2015.csv\n"
     ]
    },
    {
     "name": "stderr",
     "output_type": "stream",
     "text": [
      "2025-02-02 12:24:25,597 - data_collection.merge_datasets - INFO - Processando dataset do ano 2016: datatran2016.csv\n"
     ]
    },
    {
     "name": "stdout",
     "output_type": "stream",
     "text": [
      "FileName: datatran2016.csv\n"
     ]
    },
    {
     "name": "stderr",
     "output_type": "stream",
     "text": [
      "2025-02-02 12:24:25,827 - data_collection.merge_datasets - INFO - Processando dataset do ano 2017: datatran2017.csv\n"
     ]
    },
    {
     "name": "stdout",
     "output_type": "stream",
     "text": [
      "FileName: datatran2017.csv\n"
     ]
    },
    {
     "name": "stderr",
     "output_type": "stream",
     "text": [
      "2025-02-02 12:24:26,157 - data_collection.merge_datasets - INFO - Processando dataset do ano 2018: datatran2018.csv\n"
     ]
    },
    {
     "name": "stdout",
     "output_type": "stream",
     "text": [
      "FileName: datatran2018.csv\n"
     ]
    },
    {
     "name": "stderr",
     "output_type": "stream",
     "text": [
      "2025-02-02 12:24:26,455 - data_collection.merge_datasets - INFO - Processando dataset do ano 2019: datatran2019.csv\n"
     ]
    },
    {
     "name": "stdout",
     "output_type": "stream",
     "text": [
      "FileName: datatran2019.csv\n"
     ]
    },
    {
     "name": "stderr",
     "output_type": "stream",
     "text": [
      "2025-02-02 12:24:26,749 - data_collection.merge_datasets - INFO - Processando dataset do ano 2020: datatran2020.csv\n"
     ]
    },
    {
     "name": "stdout",
     "output_type": "stream",
     "text": [
      "FileName: datatran2020.csv\n"
     ]
    },
    {
     "name": "stderr",
     "output_type": "stream",
     "text": [
      "2025-02-02 12:24:27,020 - data_collection.merge_datasets - INFO - Processando dataset do ano 2021: datatran2021.csv\n"
     ]
    },
    {
     "name": "stdout",
     "output_type": "stream",
     "text": [
      "FileName: datatran2021.csv\n"
     ]
    },
    {
     "name": "stderr",
     "output_type": "stream",
     "text": [
      "2025-02-02 12:24:27,275 - data_collection.merge_datasets - INFO - Processando dataset do ano 2022: datatran2022.csv\n"
     ]
    },
    {
     "name": "stdout",
     "output_type": "stream",
     "text": [
      "FileName: datatran2022.csv\n"
     ]
    },
    {
     "name": "stderr",
     "output_type": "stream",
     "text": [
      "2025-02-02 12:24:27,529 - data_collection.merge_datasets - INFO - Processando dataset do ano 2023: datatran2023.csv\n"
     ]
    },
    {
     "name": "stdout",
     "output_type": "stream",
     "text": [
      "FileName: datatran2023.csv\n"
     ]
    },
    {
     "name": "stderr",
     "output_type": "stream",
     "text": [
      "2025-02-02 12:24:27,805 - data_collection.merge_datasets - INFO - Processando dataset do ano 2024: datatran2024.csv\n"
     ]
    },
    {
     "name": "stdout",
     "output_type": "stream",
     "text": [
      "FileName: datatran2024.csv\n"
     ]
    },
    {
     "name": "stderr",
     "output_type": "stream",
     "text": [
      "2025-02-02 12:24:28,109 - data_collection.merge_datasets - INFO - Total de registros do Maranhão: 34153\n",
      "2025-02-02 12:24:28,352 - data_collection.merge_datasets - INFO - Dataset do Maranhão unificado salvo em D:\\projetos\\roadSafeAi\\RoadSafeAI\\files\\processed\\maranhao\\datatran_ma_merged_base_2007_2024.csv\n",
      "2025-02-02 12:24:28,354 - data_collection.merge_datasets - INFO - Metadados do Maranhão salvos em D:\\projetos\\roadSafeAi\\RoadSafeAI\\files\\processed\\maranhao\\metadata_ma.txt\n",
      "2025-02-02 12:24:28,355 - data_collection.merge_datasets - INFO - 8 arquivos CSV encontrados para o período 2017-2024.\n",
      "2025-02-02 12:24:28,355 - data_collection.merge_datasets - INFO - Processando dataset do ano 2017: datatran2017.csv\n"
     ]
    },
    {
     "name": "stdout",
     "output_type": "stream",
     "text": [
      "FileName: datatran2007.csv\n",
      "FileName: datatran2008.csv\n",
      "FileName: datatran2009.csv\n",
      "FileName: datatran2010.csv\n",
      "FileName: datatran2011.csv\n",
      "FileName: datatran2012.csv\n",
      "FileName: datatran2013.csv\n",
      "FileName: datatran2014.csv\n",
      "FileName: datatran2015.csv\n",
      "FileName: datatran2016.csv\n",
      "FileName: datatran2017.csv\n",
      "FileName: datatran2018.csv\n",
      "FileName: datatran2019.csv\n",
      "FileName: datatran2020.csv\n",
      "FileName: datatran2021.csv\n",
      "FileName: datatran2022.csv\n",
      "FileName: datatran2023.csv\n",
      "FileName: datatran2024.csv\n",
      "FileName: datatran2017.csv\n"
     ]
    },
    {
     "name": "stderr",
     "output_type": "stream",
     "text": [
      "2025-02-02 12:24:28,749 - data_collection.merge_datasets - INFO - Processando dataset do ano 2018: datatran2018.csv\n"
     ]
    },
    {
     "name": "stdout",
     "output_type": "stream",
     "text": [
      "FileName: datatran2018.csv\n"
     ]
    },
    {
     "name": "stderr",
     "output_type": "stream",
     "text": [
      "2025-02-02 12:24:29,100 - data_collection.merge_datasets - INFO - Processando dataset do ano 2019: datatran2019.csv\n"
     ]
    },
    {
     "name": "stdout",
     "output_type": "stream",
     "text": [
      "FileName: datatran2019.csv\n"
     ]
    },
    {
     "name": "stderr",
     "output_type": "stream",
     "text": [
      "2025-02-02 12:24:29,417 - data_collection.merge_datasets - INFO - Processando dataset do ano 2020: datatran2020.csv\n"
     ]
    },
    {
     "name": "stdout",
     "output_type": "stream",
     "text": [
      "FileName: datatran2020.csv\n"
     ]
    },
    {
     "name": "stderr",
     "output_type": "stream",
     "text": [
      "2025-02-02 12:24:29,673 - data_collection.merge_datasets - INFO - Processando dataset do ano 2021: datatran2021.csv\n"
     ]
    },
    {
     "name": "stdout",
     "output_type": "stream",
     "text": [
      "FileName: datatran2021.csv\n"
     ]
    },
    {
     "name": "stderr",
     "output_type": "stream",
     "text": [
      "2025-02-02 12:24:29,927 - data_collection.merge_datasets - INFO - Processando dataset do ano 2022: datatran2022.csv\n"
     ]
    },
    {
     "name": "stdout",
     "output_type": "stream",
     "text": [
      "FileName: datatran2022.csv\n"
     ]
    },
    {
     "name": "stderr",
     "output_type": "stream",
     "text": [
      "2025-02-02 12:24:30,220 - data_collection.merge_datasets - INFO - Processando dataset do ano 2023: datatran2023.csv\n"
     ]
    },
    {
     "name": "stdout",
     "output_type": "stream",
     "text": [
      "FileName: datatran2023.csv\n"
     ]
    },
    {
     "name": "stderr",
     "output_type": "stream",
     "text": [
      "2025-02-02 12:24:30,510 - data_collection.merge_datasets - INFO - Processando dataset do ano 2024: datatran2024.csv\n"
     ]
    },
    {
     "name": "stdout",
     "output_type": "stream",
     "text": [
      "FileName: datatran2024.csv\n"
     ]
    },
    {
     "name": "stderr",
     "output_type": "stream",
     "text": [
      "2025-02-02 12:24:30,818 - data_collection.merge_datasets - INFO - Total de registros do Maranhão: 9609\n",
      "2025-02-02 12:24:30,908 - data_collection.merge_datasets - INFO - Dataset do Maranhão unificado salvo em D:\\projetos\\roadSafeAi\\RoadSafeAI\\files\\processed\\maranhao\\datatran_ma_merged_complete_2017_2024.csv\n",
      "2025-02-02 12:24:30,910 - data_collection.merge_datasets - INFO - Metadados do Maranhão salvos em D:\\projetos\\roadSafeAi\\RoadSafeAI\\files\\processed\\maranhao\\metadata_ma.txt\n",
      "2025-02-02 12:24:30,911 - pipeline - INFO - Dataset complete selecionado:\n",
      "2025-02-02 12:24:30,911 - pipeline - INFO - Dimensões: (9609, 30)\n",
      "2025-02-02 12:24:30,912 - pipeline - INFO - Período: 2017-01-01 00:00:00 até 2024-12-31 00:00:00\n",
      "2025-02-02 12:24:30,912 - pipeline - INFO - Colunas: ['id', 'data_inversa', 'dia_semana', 'horario', 'uf', 'br', 'km', 'municipio', 'causa_acidente', 'tipo_acidente', 'classificacao_acidente', 'fase_dia', 'sentido_via', 'condicao_metereologica', 'tipo_pista', 'tracado_via', 'uso_solo', 'pessoas', 'mortos', 'feridos_leves', 'feridos_graves', 'ilesos', 'ignorados', 'feridos', 'veiculos', 'latitude', 'longitude', 'regional', 'delegacia', 'uop']\n",
      "2025-02-02 12:24:30,915 - pipeline - INFO - Iniciando limpeza de dados...\n",
      "2025-02-02 12:24:30,916 - preprocessing.data_cleaning_01 - INFO - Iniciando processo de limpeza do dataset...\n",
      "2025-02-02 12:24:30,918 - preprocessing.data_cleaning_01 - INFO - Colunas removidas: ['id', 'uf', 'tracado_via', 'feridos', 'fase_dia']\n",
      "d:\\projetos\\roadSafeAi\\RoadSafeAI\\src\\preprocessing\\data_cleaning_01.py:70: UserWarning: Boolean Series key will be reindexed to match DataFrame index.\n",
      "  df_clean = df_clean[~mascara_espacos['remove']]\n",
      "2025-02-02 12:24:30,978 - preprocessing.data_cleaning_01 - INFO - Estatísticas de limpeza:\n",
      "2025-02-02 12:24:30,978 - preprocessing.data_cleaning_01 - INFO - - Linhas no dataset original: 9609\n",
      "2025-02-02 12:24:30,979 - preprocessing.data_cleaning_01 - INFO - - Linhas removidas: 8\n",
      "2025-02-02 12:24:30,980 - preprocessing.data_cleaning_01 - INFO - - Percentual removido: 0.0833%\n",
      "2025-02-02 12:24:30,980 - preprocessing.data_cleaning_01 - INFO - - Linhas no dataset final: 9601\n",
      "2025-02-02 12:24:30,992 - preprocessing.data_cleaning_01 - INFO - Removidos 0 registros duplicados.\n",
      "2025-02-02 12:24:30,998 - preprocessing.data_cleaning_01 - INFO - Coluna tipo_acidente padronizada. Valores únicos: 19\n",
      "2025-02-02 12:24:31,003 - preprocessing.data_cleaning_01 - INFO - Coluna classificacao_acidente padronizada. Valores únicos: 3\n",
      "2025-02-02 12:24:31,004 - preprocessing.data_cleaning_01 - INFO - Processo de limpeza concluído com sucesso!\n",
      "2025-02-02 12:24:31,006 - pipeline - INFO - Iniciando padronização de dados...\n",
      "2025-02-02 12:24:31,007 - preprocessing.data_standardize_02 - INFO - Iniciando padronização do dataset...\n",
      "2025-02-02 12:24:31,019 - preprocessing.data_standardize_02 - INFO - Coluna km padronizada. Range: [0, 681]\n",
      "2025-02-02 12:24:31,029 - preprocessing.data_standardize_02 - INFO - Coluna pessoas padronizada. Range: [1, 49]\n",
      "2025-02-02 12:24:31,039 - preprocessing.data_standardize_02 - INFO - Coluna mortos padronizada. Range: [0, 9]\n",
      "2025-02-02 12:24:31,048 - preprocessing.data_standardize_02 - INFO - Coluna feridos_leves padronizada. Range: [0, 31]\n",
      "2025-02-02 12:24:31,058 - preprocessing.data_standardize_02 - INFO - Coluna feridos_graves padronizada. Range: [0, 10]\n",
      "2025-02-02 12:24:31,067 - preprocessing.data_standardize_02 - INFO - Coluna ilesos padronizada. Range: [0, 45]\n",
      "2025-02-02 12:24:31,077 - preprocessing.data_standardize_02 - INFO - Coluna ignorados padronizada. Range: [0, 16]\n",
      "2025-02-02 12:24:31,086 - preprocessing.data_standardize_02 - INFO - Coluna veiculos padronizada. Range: [1, 17]\n",
      "2025-02-02 12:24:31,087 - preprocessing.data_standardize_02 - INFO - Valores numéricos padronizados\n",
      "2025-02-02 12:24:31,095 - preprocessing.data_standardize_02 - INFO - Coluna data_inversa convertida para datetime e renomeada para 'data'\n",
      "2025-02-02 12:24:31,101 - preprocessing.data_standardize_02 - INFO - Distribuição dos períodos do dia:\n",
      "2025-02-02 12:24:31,102 - preprocessing.data_standardize_02 - INFO - - tarde: 2921\n",
      "2025-02-02 12:24:31,103 - preprocessing.data_standardize_02 - INFO - - noite: 2903\n",
      "2025-02-02 12:24:31,103 - preprocessing.data_standardize_02 - INFO - - manha: 2628\n",
      "2025-02-02 12:24:31,104 - preprocessing.data_standardize_02 - INFO - - madrugada: 1149\n",
      "2025-02-02 12:24:31,105 - preprocessing.data_standardize_02 - INFO - Valores temporais padronizados\n",
      "2025-02-02 12:24:31,107 - preprocessing.data_standardize_02 - INFO - Valores únicos originais em uso_solo: ['Não' 'Sim']\n",
      "2025-02-02 12:24:31,110 - preprocessing.data_standardize_02 - INFO - Valores únicos após padronização em uso_solo: ['Não' 'Sim']\n",
      "2025-02-02 12:24:31,111 - preprocessing.data_standardize_02 - INFO - Coluna uso_solo padronizada\n",
      "2025-02-02 12:24:31,114 - preprocessing.data_standardize_02 - INFO - Valores únicos originais em dia_semana: ['domingo' 'segunda-feira' 'terça-feira' 'quarta-feira' 'quinta-feira'\n",
      " 'sexta-feira' 'sábado']\n",
      "2025-02-02 12:24:31,118 - preprocessing.data_standardize_02 - INFO - Valores únicos após padronização em dia_semana: ['domingo' 'segunda-feira' 'terca-feira' 'quarta-feira' 'quinta-feira'\n",
      " 'sexta-feira' 'sabado']\n",
      "2025-02-02 12:24:31,119 - preprocessing.data_standardize_02 - INFO - Coluna dia_semana padronizada\n",
      "2025-02-02 12:24:31,121 - pipeline - INFO - Iniciando engenharia de features...\n",
      "2025-02-02 12:24:31,121 - preprocessing.feature_engineering_03 - INFO - Iniciando criação de novas features...\n",
      "2025-02-02 12:24:31,128 - preprocessing.feature_engineering_03 - INFO - Distribuição dos períodos do dia:\n",
      "2025-02-02 12:24:31,130 - preprocessing.feature_engineering_03 - INFO - Removendo horario exato, adotado periodo do dia:\n",
      "2025-02-02 12:24:31,131 - preprocessing.feature_engineering_03 - INFO - - tarde: 2921 registros\n",
      "2025-02-02 12:24:31,132 - preprocessing.feature_engineering_03 - INFO - - noite: 2903 registros\n",
      "2025-02-02 12:24:31,132 - preprocessing.feature_engineering_03 - INFO - - manha: 2628 registros\n",
      "2025-02-02 12:24:31,133 - preprocessing.feature_engineering_03 - INFO - - madrugada: 1149 registros\n",
      "2025-02-02 12:24:31,134 - preprocessing.feature_engineering_03 - INFO - Feature 'periodo_dia' criada com sucesso\n",
      "2025-02-02 12:24:31,198 - preprocessing.feature_engineering_03 - INFO - Distribuição das gravidades dos acidentes:\n",
      "2025-02-02 12:24:31,199 - preprocessing.feature_engineering_03 - INFO - - leve: 3374 registros\n",
      "2025-02-02 12:24:31,200 - preprocessing.feature_engineering_03 - INFO - - grave: 2509 registros\n",
      "2025-02-02 12:24:31,201 - preprocessing.feature_engineering_03 - INFO - - sem_vitimas: 2138 registros\n",
      "2025-02-02 12:24:31,201 - preprocessing.feature_engineering_03 - INFO - - fatal: 1580 registros\n",
      "2025-02-02 12:24:31,202 - preprocessing.feature_engineering_03 - INFO - Feature 'gravidade_acidente' criada com sucesso\n",
      "2025-02-02 12:24:31,207 - preprocessing.feature_engineering_03 - INFO - Distribuição final das causas agrupadas:\n",
      "2025-02-02 12:24:31,208 - preprocessing.feature_engineering_03 - INFO - - outros: 4161 registros\n",
      "2025-02-02 12:24:31,209 - preprocessing.feature_engineering_03 - INFO - - falha_atencao: 2833 registros\n",
      "2025-02-02 12:24:31,209 - preprocessing.feature_engineering_03 - INFO - - comportamento_risco: 1018 registros\n",
      "2025-02-02 12:24:31,210 - preprocessing.feature_engineering_03 - INFO - - problemas_tecnicos_via: 457 registros\n",
      "2025-02-02 12:24:31,210 - preprocessing.feature_engineering_03 - INFO - - fatores_externos_animais: 356 registros\n",
      "2025-02-02 12:24:31,210 - preprocessing.feature_engineering_03 - INFO - - condutor_alcool_drogas: 335 registros\n",
      "2025-02-02 12:24:31,211 - preprocessing.feature_engineering_03 - INFO - - condutor_fadiga: 296 registros\n",
      "2025-02-02 12:24:31,211 - preprocessing.feature_engineering_03 - INFO - - problemas_tecnicos_veiculo: 115 registros\n",
      "2025-02-02 12:24:31,211 - preprocessing.feature_engineering_03 - INFO - - fatores_ambientais: 30 registros\n",
      "2025-02-02 12:24:31,212 - preprocessing.feature_engineering_03 - INFO - Feature 'causa_acidente_grupo' criada com sucesso\n",
      "2025-02-02 12:24:31,214 - preprocessing.feature_engineering_03 - INFO - Todas as features foram criadas com sucesso!\n",
      "2025-02-02 12:24:31,285 - pipeline - INFO - Ajustando codificador de dados...\n",
      "2025-02-02 12:24:31,287 - preprocessing.data_encoding_04 - INFO - Iniciando fit dos encoders...\n",
      "2025-02-02 12:24:31,290 - preprocessing.data_encoding_04 - INFO - Coluna municipio: 95 valores únicos\n",
      "2025-02-02 12:24:31,292 - preprocessing.data_encoding_04 - INFO - Coluna causa_acidente: 83 valores únicos\n",
      "2025-02-02 12:24:31,293 - preprocessing.data_encoding_04 - INFO - Coluna tipo_acidente: 19 valores únicos\n",
      "2025-02-02 12:24:31,295 - preprocessing.data_encoding_04 - INFO - Coluna classificacao_acidente: 3 valores únicos\n",
      "2025-02-02 12:24:31,296 - preprocessing.data_encoding_04 - INFO - Coluna sentido_via: 3 valores únicos\n",
      "2025-02-02 12:24:31,297 - preprocessing.data_encoding_04 - INFO - Coluna condicao_metereologica: 9 valores únicos\n",
      "2025-02-02 12:24:31,298 - preprocessing.data_encoding_04 - INFO - Coluna tipo_pista: 3 valores únicos\n",
      "2025-02-02 12:24:31,299 - preprocessing.data_encoding_04 - INFO - Coluna uso_solo: 2 valores únicos\n",
      "2025-02-02 12:24:31,300 - preprocessing.data_encoding_04 - INFO - Coluna regional: 2 valores únicos\n",
      "2025-02-02 12:24:31,301 - preprocessing.data_encoding_04 - INFO - Coluna delegacia: 7 valores únicos\n",
      "2025-02-02 12:24:31,302 - preprocessing.data_encoding_04 - INFO - Coluna uop: 15 valores únicos\n",
      "2025-02-02 12:24:31,303 - preprocessing.data_encoding_04 - INFO - Coluna causa_acidente_grupo: 9 valores únicos\n",
      "2025-02-02 12:24:31,304 - preprocessing.data_encoding_04 - INFO - Label Encoder ajustado para periodo_dia\n",
      "2025-02-02 12:24:31,304 - preprocessing.data_encoding_04 - INFO - Label Encoder ajustado para dia_semana\n",
      "2025-02-02 12:24:31,316 - preprocessing.data_encoding_04 - INFO - OneHot Encoder ajustado para ['classificacao_acidente', 'sentido_via', 'tipo_pista', 'uso_solo', 'regional']\n",
      "2025-02-02 12:24:31,336 - preprocessing.data_encoding_04 - INFO - Target Encoder ajustado para municipio\n",
      "2025-02-02 12:24:31,357 - preprocessing.data_encoding_04 - INFO - Target Encoder ajustado para causa_acidente\n",
      "2025-02-02 12:24:31,377 - preprocessing.data_encoding_04 - INFO - Target Encoder ajustado para tipo_acidente\n",
      "2025-02-02 12:24:31,395 - preprocessing.data_encoding_04 - INFO - Target Encoder ajustado para condicao_metereologica\n",
      "2025-02-02 12:24:31,413 - preprocessing.data_encoding_04 - INFO - Target Encoder ajustado para delegacia\n",
      "2025-02-02 12:24:31,434 - preprocessing.data_encoding_04 - INFO - Target Encoder ajustado para uop\n",
      "2025-02-02 12:24:31,452 - preprocessing.data_encoding_04 - INFO - Target Encoder ajustado para causa_acidente_grupo\n",
      "2025-02-02 12:24:31,453 - pipeline - INFO - Iniciando codificação de dados...\n",
      "2025-02-02 12:24:31,460 - preprocessing.data_encoding_04 - INFO - Label Encoding aplicado em periodo_dia\n",
      "2025-02-02 12:24:31,465 - preprocessing.data_encoding_04 - INFO - Label Encoding aplicado em dia_semana\n",
      "2025-02-02 12:24:31,478 - preprocessing.data_encoding_04 - INFO - OneHot Encoding aplicado em ['classificacao_acidente', 'sentido_via', 'tipo_pista', 'uso_solo', 'regional']\n",
      "2025-02-02 12:24:31,482 - preprocessing.data_encoding_04 - INFO - Target Encoding aplicado em municipio\n",
      "2025-02-02 12:24:31,485 - preprocessing.data_encoding_04 - INFO - Target Encoding aplicado em causa_acidente\n",
      "2025-02-02 12:24:31,488 - preprocessing.data_encoding_04 - INFO - Target Encoding aplicado em tipo_acidente\n",
      "2025-02-02 12:24:31,491 - preprocessing.data_encoding_04 - INFO - Target Encoding aplicado em condicao_metereologica\n",
      "2025-02-02 12:24:31,494 - preprocessing.data_encoding_04 - INFO - Target Encoding aplicado em delegacia\n",
      "2025-02-02 12:24:31,496 - preprocessing.data_encoding_04 - INFO - Target Encoding aplicado em uop\n",
      "2025-02-02 12:24:31,499 - preprocessing.data_encoding_04 - INFO - Target Encoding aplicado em causa_acidente_grupo\n",
      "2025-02-02 12:24:31,500 - pipeline - INFO - Dimensões após pré-processamento: (9601, 30)\n",
      "2025-02-02 12:24:31,501 - preprocessing.data_split_05 - INFO - Iniciando preparação dos dados...\n",
      "2025-02-02 12:24:31,504 - preprocessing.data_split_05 - INFO - Colunas removidas: ['data', 'causa_acidente']\n",
      "2025-02-02 12:24:31,505 - preprocessing.data_split_05 - INFO - Distribuição inicial das classes:\n",
      "2025-02-02 12:24:31,506 - preprocessing.data_split_05 - INFO - \n",
      "Distribuição das classes:\n",
      "2025-02-02 12:24:31,507 - preprocessing.data_split_05 - INFO - - Classe leve: 35.14%\n",
      "2025-02-02 12:24:31,508 - preprocessing.data_split_05 - INFO - - Classe grave: 26.13%\n",
      "2025-02-02 12:24:31,508 - preprocessing.data_split_05 - INFO - - Classe sem_vitimas: 22.27%\n",
      "2025-02-02 12:24:31,508 - preprocessing.data_split_05 - INFO - - Classe fatal: 16.46%\n",
      "2025-02-02 12:24:31,521 - preprocessing.data_split_05 - INFO - \n",
      "Dimensões dos conjuntos:\n",
      "2025-02-02 12:24:31,522 - preprocessing.data_split_05 - INFO - - Treino: (5760, 27)\n",
      "2025-02-02 12:24:31,522 - preprocessing.data_split_05 - INFO - - Validação: (1920, 27)\n",
      "2025-02-02 12:24:31,522 - preprocessing.data_split_05 - INFO - - Teste: (1921, 27)\n",
      "2025-02-02 12:24:31,524 - preprocessing.data_split_05 - INFO - \n",
      "Distribuição das classes - Treino:\n",
      "2025-02-02 12:24:31,525 - preprocessing.data_split_05 - INFO - - Classe leve: 35.14%\n",
      "2025-02-02 12:24:31,525 - preprocessing.data_split_05 - INFO - - Classe grave: 26.13%\n",
      "2025-02-02 12:24:31,526 - preprocessing.data_split_05 - INFO - - Classe sem_vitimas: 22.27%\n",
      "2025-02-02 12:24:31,526 - preprocessing.data_split_05 - INFO - - Classe fatal: 16.46%\n",
      "2025-02-02 12:24:31,527 - preprocessing.data_split_05 - INFO - \n",
      "Distribuição das classes - Validação:\n",
      "2025-02-02 12:24:31,528 - preprocessing.data_split_05 - INFO - - Classe leve: 35.16%\n",
      "2025-02-02 12:24:31,529 - preprocessing.data_split_05 - INFO - - Classe grave: 26.15%\n",
      "2025-02-02 12:24:31,529 - preprocessing.data_split_05 - INFO - - Classe sem_vitimas: 22.24%\n",
      "2025-02-02 12:24:31,530 - preprocessing.data_split_05 - INFO - - Classe fatal: 16.46%\n",
      "2025-02-02 12:24:31,530 - preprocessing.data_split_05 - INFO - \n",
      "Distribuição das classes - Teste:\n",
      "2025-02-02 12:24:31,531 - preprocessing.data_split_05 - INFO - - Classe leve: 35.14%\n",
      "2025-02-02 12:24:31,532 - preprocessing.data_split_05 - INFO - - Classe grave: 26.13%\n",
      "2025-02-02 12:24:31,532 - preprocessing.data_split_05 - INFO - - Classe sem_vitimas: 22.28%\n",
      "2025-02-02 12:24:31,533 - preprocessing.data_split_05 - INFO - - Classe fatal: 16.45%\n",
      "2025-02-02 12:24:31,533 - preprocessing.data_split_05 - INFO - Preparação dos dados concluída!\n",
      "2025-02-02 12:24:31,540 - pipeline - INFO - Tipos de dados após conversão:\n",
      "2025-02-02 12:24:31,542 - pipeline - INFO - - dia_semana: int32\n",
      "2025-02-02 12:24:31,542 - pipeline - INFO - - br: float64\n",
      "2025-02-02 12:24:31,543 - pipeline - INFO - - km: int32\n",
      "2025-02-02 12:24:31,543 - pipeline - INFO - - municipio: float64\n",
      "2025-02-02 12:24:31,544 - pipeline - INFO - - tipo_acidente: float64\n",
      "2025-02-02 12:24:31,544 - pipeline - INFO - - condicao_metereologica: float64\n",
      "2025-02-02 12:24:31,545 - pipeline - INFO - - pessoas: int32\n",
      "2025-02-02 12:24:31,545 - pipeline - INFO - - mortos: int32\n",
      "2025-02-02 12:24:31,546 - pipeline - INFO - - feridos_leves: int32\n",
      "2025-02-02 12:24:31,546 - pipeline - INFO - - feridos_graves: int32\n",
      "2025-02-02 12:24:31,547 - pipeline - INFO - - ilesos: int32\n",
      "2025-02-02 12:24:31,547 - pipeline - INFO - - ignorados: int32\n",
      "2025-02-02 12:24:31,548 - pipeline - INFO - - veiculos: int32\n",
      "2025-02-02 12:24:31,548 - pipeline - INFO - - latitude: float64\n",
      "2025-02-02 12:24:31,549 - pipeline - INFO - - longitude: float64\n",
      "2025-02-02 12:24:31,550 - pipeline - INFO - - delegacia: float64\n",
      "2025-02-02 12:24:31,550 - pipeline - INFO - - uop: float64\n",
      "2025-02-02 12:24:31,551 - pipeline - INFO - - periodo_dia: int32\n",
      "2025-02-02 12:24:31,552 - pipeline - INFO - - causa_acidente_grupo: float64\n",
      "2025-02-02 12:24:31,554 - pipeline - INFO - - classificacao_acidente_com vitimas feridas: float64\n",
      "2025-02-02 12:24:31,555 - pipeline - INFO - - classificacao_acidente_sem vitimas: float64\n",
      "2025-02-02 12:24:31,556 - pipeline - INFO - - sentido_via_Decrescente: float64\n",
      "2025-02-02 12:24:31,557 - pipeline - INFO - - sentido_via_Não Informado: float64\n",
      "2025-02-02 12:24:31,557 - pipeline - INFO - - tipo_pista_Múltipla: float64\n",
      "2025-02-02 12:24:31,558 - pipeline - INFO - - tipo_pista_Simples: float64\n",
      "2025-02-02 12:24:31,558 - pipeline - INFO - - uso_solo_Sim: float64\n",
      "2025-02-02 12:24:31,558 - pipeline - INFO - - regional_SPRF-PI: float64\n",
      "2025-02-02 12:24:31,559 - pipeline - INFO - Aplicando estratégia de balanceamento smote...\n",
      "2025-02-02 12:24:31,559 - preprocessing.data_balancing_06 - INFO - Aplicando SMOTE...\n",
      "2025-02-02 12:24:31,560 - preprocessing.data_balancing_06 - INFO - \n",
      "Distribuição das classes - antes do SMOTE:\n",
      "2025-02-02 12:24:31,560 - preprocessing.data_balancing_06 - INFO - - Classe leve: 2024 amostras (35.14%)\n",
      "2025-02-02 12:24:31,561 - preprocessing.data_balancing_06 - INFO - - Classe grave: 1505 amostras (26.13%)\n",
      "2025-02-02 12:24:31,561 - preprocessing.data_balancing_06 - INFO - - Classe sem_vitimas: 1283 amostras (22.27%)\n",
      "2025-02-02 12:24:31,561 - preprocessing.data_balancing_06 - INFO - - Classe fatal: 948 amostras (16.46%)\n",
      "d:\\projetos\\roadSafeAi\\RoadSafeAI\\env\\lib\\site-packages\\sklearn\\base.py:474: FutureWarning: `BaseEstimator._validate_data` is deprecated in 1.6 and will be removed in 1.7. Use `sklearn.utils.validation.validate_data` instead. This function becomes public and is part of the scikit-learn developer API.\n",
      "  warnings.warn(\n",
      "2025-02-02 12:24:31,774 - preprocessing.data_balancing_06 - INFO - \n",
      "Distribuição das classes - após SMOTE:\n",
      "2025-02-02 12:24:31,775 - preprocessing.data_balancing_06 - INFO - - Classe fatal: 2024 amostras (25.00%)\n",
      "2025-02-02 12:24:31,776 - preprocessing.data_balancing_06 - INFO - - Classe sem_vitimas: 2024 amostras (25.00%)\n",
      "2025-02-02 12:24:31,776 - preprocessing.data_balancing_06 - INFO - - Classe leve: 2024 amostras (25.00%)\n",
      "2025-02-02 12:24:31,776 - preprocessing.data_balancing_06 - INFO - - Classe grave: 2024 amostras (25.00%)\n",
      "2025-02-02 12:24:31,779 - __main__ - INFO - \n",
      "Pré-processamento finalizado com sucesso!\n",
      "2025-02-02 12:24:31,780 - __main__ - INFO - Formato dados de treino: (8096, 27)\n",
      "2025-02-02 12:24:31,781 - __main__ - INFO - Formato dados de validação: (1920, 27)\n",
      "2025-02-02 12:24:31,781 - __main__ - INFO - Formato dados de teste: (1921, 27)\n",
      "2025-02-02 12:24:31,781 - __main__ - INFO - \n",
      "Features:\n",
      "2025-02-02 12:24:31,782 - __main__ - INFO - - ordinal_encoded: 2 features\n",
      "2025-02-02 12:24:31,783 - __main__ - INFO - - onehot_encoded: 5 features\n",
      "2025-02-02 12:24:31,784 - __main__ - INFO - - target_encoded: 7 features\n"
     ]
    }
   ],
   "source": [
    "pipeline = PreprocessingPipeline(\n",
    "    collect_new_data=True,\n",
    "    dataset_type='complete',\n",
    "    test_size=0.2,\n",
    "    valid_size=0.2,\n",
    "    balance_strategy='smote',\n",
    "    random_state=42\n",
    ")\n",
    "\n",
    "X_train, X_valid, X_test, y_train, y_valid, y_test = pipeline.process_data()\n",
    "\n",
    "feature_names = pipeline.get_feature_names()\n",
    "\n",
    "logger.info(\"\\nPré-processamento finalizado com sucesso!\")\n",
    "logger.info(f\"Formato dados de treino: {X_train.shape}\")\n",
    "logger.info(f\"Formato dados de validação: {X_valid.shape}\")\n",
    "logger.info(f\"Formato dados de teste: {X_test.shape}\")\n",
    "logger.info(\"\\nFeatures:\")\n",
    "for feature_type, features in feature_names.items():\n",
    "    logger.info(f\"- {feature_type}: {len(features)} features\")"
   ]
  },
  {
   "cell_type": "code",
   "execution_count": 7,
   "metadata": {},
   "outputs": [
    {
     "data": {
      "text/html": [
       "<div>\n",
       "<style scoped>\n",
       "    .dataframe tbody tr th:only-of-type {\n",
       "        vertical-align: middle;\n",
       "    }\n",
       "\n",
       "    .dataframe tbody tr th {\n",
       "        vertical-align: top;\n",
       "    }\n",
       "\n",
       "    .dataframe thead th {\n",
       "        text-align: right;\n",
       "    }\n",
       "</style>\n",
       "<table border=\"1\" class=\"dataframe\">\n",
       "  <thead>\n",
       "    <tr style=\"text-align: right;\">\n",
       "      <th></th>\n",
       "      <th>dia_semana</th>\n",
       "      <th>br</th>\n",
       "      <th>km</th>\n",
       "      <th>municipio</th>\n",
       "      <th>tipo_acidente</th>\n",
       "      <th>condicao_metereologica</th>\n",
       "      <th>pessoas</th>\n",
       "      <th>mortos</th>\n",
       "      <th>feridos_leves</th>\n",
       "      <th>feridos_graves</th>\n",
       "      <th>...</th>\n",
       "      <th>periodo_dia</th>\n",
       "      <th>causa_acidente_grupo</th>\n",
       "      <th>classificacao_acidente_com vitimas feridas</th>\n",
       "      <th>classificacao_acidente_sem vitimas</th>\n",
       "      <th>sentido_via_Decrescente</th>\n",
       "      <th>sentido_via_Não Informado</th>\n",
       "      <th>tipo_pista_Múltipla</th>\n",
       "      <th>tipo_pista_Simples</th>\n",
       "      <th>uso_solo_Sim</th>\n",
       "      <th>regional_SPRF-PI</th>\n",
       "    </tr>\n",
       "  </thead>\n",
       "  <tbody>\n",
       "    <tr>\n",
       "      <th>0</th>\n",
       "      <td>4</td>\n",
       "      <td>135.000000</td>\n",
       "      <td>89</td>\n",
       "      <td>0.249937</td>\n",
       "      <td>0.249994</td>\n",
       "      <td>0.250000</td>\n",
       "      <td>3</td>\n",
       "      <td>1</td>\n",
       "      <td>1</td>\n",
       "      <td>0</td>\n",
       "      <td>...</td>\n",
       "      <td>1</td>\n",
       "      <td>0.250000</td>\n",
       "      <td>0.0</td>\n",
       "      <td>0.0</td>\n",
       "      <td>0.000000</td>\n",
       "      <td>0.0</td>\n",
       "      <td>0.0</td>\n",
       "      <td>1.0</td>\n",
       "      <td>1.000000</td>\n",
       "      <td>0.0</td>\n",
       "    </tr>\n",
       "    <tr>\n",
       "      <th>1</th>\n",
       "      <td>6</td>\n",
       "      <td>316.000000</td>\n",
       "      <td>424</td>\n",
       "      <td>0.249995</td>\n",
       "      <td>0.249935</td>\n",
       "      <td>0.250000</td>\n",
       "      <td>2</td>\n",
       "      <td>0</td>\n",
       "      <td>0</td>\n",
       "      <td>0</td>\n",
       "      <td>...</td>\n",
       "      <td>2</td>\n",
       "      <td>0.250000</td>\n",
       "      <td>0.0</td>\n",
       "      <td>1.0</td>\n",
       "      <td>1.000000</td>\n",
       "      <td>0.0</td>\n",
       "      <td>0.0</td>\n",
       "      <td>1.0</td>\n",
       "      <td>1.000000</td>\n",
       "      <td>0.0</td>\n",
       "    </tr>\n",
       "    <tr>\n",
       "      <th>2</th>\n",
       "      <td>1</td>\n",
       "      <td>230.000000</td>\n",
       "      <td>15</td>\n",
       "      <td>0.249874</td>\n",
       "      <td>0.249994</td>\n",
       "      <td>0.250000</td>\n",
       "      <td>2</td>\n",
       "      <td>0</td>\n",
       "      <td>2</td>\n",
       "      <td>0</td>\n",
       "      <td>...</td>\n",
       "      <td>3</td>\n",
       "      <td>0.250000</td>\n",
       "      <td>1.0</td>\n",
       "      <td>0.0</td>\n",
       "      <td>1.000000</td>\n",
       "      <td>0.0</td>\n",
       "      <td>0.0</td>\n",
       "      <td>1.0</td>\n",
       "      <td>0.000000</td>\n",
       "      <td>1.0</td>\n",
       "    </tr>\n",
       "    <tr>\n",
       "      <th>3</th>\n",
       "      <td>6</td>\n",
       "      <td>10.000000</td>\n",
       "      <td>252</td>\n",
       "      <td>0.249985</td>\n",
       "      <td>0.249975</td>\n",
       "      <td>0.249993</td>\n",
       "      <td>1</td>\n",
       "      <td>0</td>\n",
       "      <td>1</td>\n",
       "      <td>0</td>\n",
       "      <td>...</td>\n",
       "      <td>3</td>\n",
       "      <td>0.250000</td>\n",
       "      <td>1.0</td>\n",
       "      <td>0.0</td>\n",
       "      <td>0.000000</td>\n",
       "      <td>0.0</td>\n",
       "      <td>0.0</td>\n",
       "      <td>1.0</td>\n",
       "      <td>0.000000</td>\n",
       "      <td>0.0</td>\n",
       "    </tr>\n",
       "    <tr>\n",
       "      <th>4</th>\n",
       "      <td>5</td>\n",
       "      <td>316.000000</td>\n",
       "      <td>618</td>\n",
       "      <td>0.249916</td>\n",
       "      <td>0.249990</td>\n",
       "      <td>0.250000</td>\n",
       "      <td>4</td>\n",
       "      <td>0</td>\n",
       "      <td>3</td>\n",
       "      <td>0</td>\n",
       "      <td>...</td>\n",
       "      <td>1</td>\n",
       "      <td>0.250000</td>\n",
       "      <td>1.0</td>\n",
       "      <td>0.0</td>\n",
       "      <td>0.000000</td>\n",
       "      <td>0.0</td>\n",
       "      <td>0.0</td>\n",
       "      <td>1.0</td>\n",
       "      <td>1.000000</td>\n",
       "      <td>0.0</td>\n",
       "    </tr>\n",
       "    <tr>\n",
       "      <th>...</th>\n",
       "      <td>...</td>\n",
       "      <td>...</td>\n",
       "      <td>...</td>\n",
       "      <td>...</td>\n",
       "      <td>...</td>\n",
       "      <td>...</td>\n",
       "      <td>...</td>\n",
       "      <td>...</td>\n",
       "      <td>...</td>\n",
       "      <td>...</td>\n",
       "      <td>...</td>\n",
       "      <td>...</td>\n",
       "      <td>...</td>\n",
       "      <td>...</td>\n",
       "      <td>...</td>\n",
       "      <td>...</td>\n",
       "      <td>...</td>\n",
       "      <td>...</td>\n",
       "      <td>...</td>\n",
       "      <td>...</td>\n",
       "      <td>...</td>\n",
       "    </tr>\n",
       "    <tr>\n",
       "      <th>8091</th>\n",
       "      <td>5</td>\n",
       "      <td>135.000000</td>\n",
       "      <td>2</td>\n",
       "      <td>0.249984</td>\n",
       "      <td>0.249994</td>\n",
       "      <td>0.249975</td>\n",
       "      <td>2</td>\n",
       "      <td>0</td>\n",
       "      <td>0</td>\n",
       "      <td>0</td>\n",
       "      <td>...</td>\n",
       "      <td>3</td>\n",
       "      <td>0.249999</td>\n",
       "      <td>0.0</td>\n",
       "      <td>1.0</td>\n",
       "      <td>1.000000</td>\n",
       "      <td>0.0</td>\n",
       "      <td>0.0</td>\n",
       "      <td>0.0</td>\n",
       "      <td>0.252509</td>\n",
       "      <td>0.0</td>\n",
       "    </tr>\n",
       "    <tr>\n",
       "      <th>8092</th>\n",
       "      <td>2</td>\n",
       "      <td>225.995882</td>\n",
       "      <td>546</td>\n",
       "      <td>0.249990</td>\n",
       "      <td>0.249996</td>\n",
       "      <td>0.250000</td>\n",
       "      <td>2</td>\n",
       "      <td>0</td>\n",
       "      <td>0</td>\n",
       "      <td>0</td>\n",
       "      <td>...</td>\n",
       "      <td>3</td>\n",
       "      <td>0.250000</td>\n",
       "      <td>0.0</td>\n",
       "      <td>1.0</td>\n",
       "      <td>0.998971</td>\n",
       "      <td>0.0</td>\n",
       "      <td>0.0</td>\n",
       "      <td>1.0</td>\n",
       "      <td>0.000000</td>\n",
       "      <td>0.0</td>\n",
       "    </tr>\n",
       "    <tr>\n",
       "      <th>8093</th>\n",
       "      <td>2</td>\n",
       "      <td>316.000000</td>\n",
       "      <td>523</td>\n",
       "      <td>0.249999</td>\n",
       "      <td>0.249977</td>\n",
       "      <td>0.250000</td>\n",
       "      <td>3</td>\n",
       "      <td>0</td>\n",
       "      <td>0</td>\n",
       "      <td>0</td>\n",
       "      <td>...</td>\n",
       "      <td>2</td>\n",
       "      <td>0.249998</td>\n",
       "      <td>0.0</td>\n",
       "      <td>1.0</td>\n",
       "      <td>0.841062</td>\n",
       "      <td>0.0</td>\n",
       "      <td>0.0</td>\n",
       "      <td>1.0</td>\n",
       "      <td>0.000000</td>\n",
       "      <td>0.0</td>\n",
       "    </tr>\n",
       "    <tr>\n",
       "      <th>8094</th>\n",
       "      <td>3</td>\n",
       "      <td>135.000000</td>\n",
       "      <td>12</td>\n",
       "      <td>0.249984</td>\n",
       "      <td>0.249907</td>\n",
       "      <td>0.250000</td>\n",
       "      <td>2</td>\n",
       "      <td>0</td>\n",
       "      <td>0</td>\n",
       "      <td>0</td>\n",
       "      <td>...</td>\n",
       "      <td>3</td>\n",
       "      <td>0.250000</td>\n",
       "      <td>0.0</td>\n",
       "      <td>1.0</td>\n",
       "      <td>0.000000</td>\n",
       "      <td>0.0</td>\n",
       "      <td>0.0</td>\n",
       "      <td>0.0</td>\n",
       "      <td>0.531461</td>\n",
       "      <td>0.0</td>\n",
       "    </tr>\n",
       "    <tr>\n",
       "      <th>8095</th>\n",
       "      <td>4</td>\n",
       "      <td>222.000000</td>\n",
       "      <td>679</td>\n",
       "      <td>0.249993</td>\n",
       "      <td>0.249993</td>\n",
       "      <td>0.249987</td>\n",
       "      <td>1</td>\n",
       "      <td>0</td>\n",
       "      <td>0</td>\n",
       "      <td>0</td>\n",
       "      <td>...</td>\n",
       "      <td>1</td>\n",
       "      <td>0.250000</td>\n",
       "      <td>0.0</td>\n",
       "      <td>1.0</td>\n",
       "      <td>0.000000</td>\n",
       "      <td>0.0</td>\n",
       "      <td>0.0</td>\n",
       "      <td>1.0</td>\n",
       "      <td>0.055696</td>\n",
       "      <td>0.0</td>\n",
       "    </tr>\n",
       "  </tbody>\n",
       "</table>\n",
       "<p>8096 rows × 27 columns</p>\n",
       "</div>"
      ],
      "text/plain": [
       "      dia_semana          br   km  municipio  tipo_acidente  \\\n",
       "0              4  135.000000   89   0.249937       0.249994   \n",
       "1              6  316.000000  424   0.249995       0.249935   \n",
       "2              1  230.000000   15   0.249874       0.249994   \n",
       "3              6   10.000000  252   0.249985       0.249975   \n",
       "4              5  316.000000  618   0.249916       0.249990   \n",
       "...          ...         ...  ...        ...            ...   \n",
       "8091           5  135.000000    2   0.249984       0.249994   \n",
       "8092           2  225.995882  546   0.249990       0.249996   \n",
       "8093           2  316.000000  523   0.249999       0.249977   \n",
       "8094           3  135.000000   12   0.249984       0.249907   \n",
       "8095           4  222.000000  679   0.249993       0.249993   \n",
       "\n",
       "      condicao_metereologica  pessoas  mortos  feridos_leves  feridos_graves  \\\n",
       "0                   0.250000        3       1              1               0   \n",
       "1                   0.250000        2       0              0               0   \n",
       "2                   0.250000        2       0              2               0   \n",
       "3                   0.249993        1       0              1               0   \n",
       "4                   0.250000        4       0              3               0   \n",
       "...                      ...      ...     ...            ...             ...   \n",
       "8091                0.249975        2       0              0               0   \n",
       "8092                0.250000        2       0              0               0   \n",
       "8093                0.250000        3       0              0               0   \n",
       "8094                0.250000        2       0              0               0   \n",
       "8095                0.249987        1       0              0               0   \n",
       "\n",
       "      ...  periodo_dia  causa_acidente_grupo  \\\n",
       "0     ...            1              0.250000   \n",
       "1     ...            2              0.250000   \n",
       "2     ...            3              0.250000   \n",
       "3     ...            3              0.250000   \n",
       "4     ...            1              0.250000   \n",
       "...   ...          ...                   ...   \n",
       "8091  ...            3              0.249999   \n",
       "8092  ...            3              0.250000   \n",
       "8093  ...            2              0.249998   \n",
       "8094  ...            3              0.250000   \n",
       "8095  ...            1              0.250000   \n",
       "\n",
       "      classificacao_acidente_com vitimas feridas  \\\n",
       "0                                            0.0   \n",
       "1                                            0.0   \n",
       "2                                            1.0   \n",
       "3                                            1.0   \n",
       "4                                            1.0   \n",
       "...                                          ...   \n",
       "8091                                         0.0   \n",
       "8092                                         0.0   \n",
       "8093                                         0.0   \n",
       "8094                                         0.0   \n",
       "8095                                         0.0   \n",
       "\n",
       "      classificacao_acidente_sem vitimas  sentido_via_Decrescente  \\\n",
       "0                                    0.0                 0.000000   \n",
       "1                                    1.0                 1.000000   \n",
       "2                                    0.0                 1.000000   \n",
       "3                                    0.0                 0.000000   \n",
       "4                                    0.0                 0.000000   \n",
       "...                                  ...                      ...   \n",
       "8091                                 1.0                 1.000000   \n",
       "8092                                 1.0                 0.998971   \n",
       "8093                                 1.0                 0.841062   \n",
       "8094                                 1.0                 0.000000   \n",
       "8095                                 1.0                 0.000000   \n",
       "\n",
       "      sentido_via_Não Informado  tipo_pista_Múltipla  tipo_pista_Simples  \\\n",
       "0                           0.0                  0.0                 1.0   \n",
       "1                           0.0                  0.0                 1.0   \n",
       "2                           0.0                  0.0                 1.0   \n",
       "3                           0.0                  0.0                 1.0   \n",
       "4                           0.0                  0.0                 1.0   \n",
       "...                         ...                  ...                 ...   \n",
       "8091                        0.0                  0.0                 0.0   \n",
       "8092                        0.0                  0.0                 1.0   \n",
       "8093                        0.0                  0.0                 1.0   \n",
       "8094                        0.0                  0.0                 0.0   \n",
       "8095                        0.0                  0.0                 1.0   \n",
       "\n",
       "      uso_solo_Sim  regional_SPRF-PI  \n",
       "0         1.000000               0.0  \n",
       "1         1.000000               0.0  \n",
       "2         0.000000               1.0  \n",
       "3         0.000000               0.0  \n",
       "4         1.000000               0.0  \n",
       "...            ...               ...  \n",
       "8091      0.252509               0.0  \n",
       "8092      0.000000               0.0  \n",
       "8093      0.000000               0.0  \n",
       "8094      0.531461               0.0  \n",
       "8095      0.055696               0.0  \n",
       "\n",
       "[8096 rows x 27 columns]"
      ]
     },
     "execution_count": 7,
     "metadata": {},
     "output_type": "execute_result"
    }
   ],
   "source": [
    "X_train"
   ]
  },
  {
   "cell_type": "code",
   "execution_count": null,
   "metadata": {},
   "outputs": [],
   "source": []
  }
 ],
 "metadata": {
  "kernelspec": {
   "display_name": "env",
   "language": "python",
   "name": "python3"
  },
  "language_info": {
   "codemirror_mode": {
    "name": "ipython",
    "version": 3
   },
   "file_extension": ".py",
   "mimetype": "text/x-python",
   "name": "python",
   "nbconvert_exporter": "python",
   "pygments_lexer": "ipython3",
   "version": "3.9.0"
  }
 },
 "nbformat": 4,
 "nbformat_minor": 2
}
