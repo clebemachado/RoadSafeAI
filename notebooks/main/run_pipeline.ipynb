{
 "cells": [
  {
   "cell_type": "code",
   "execution_count": 1,
   "metadata": {},
   "outputs": [],
   "source": [
    "import sys\n",
    "import os\n",
    "from pathlib import Path\n",
    "import pandas as pd\n",
    "import matplotlib.pyplot as plt\n",
    "import seaborn as sns\n",
    "import logging"
   ]
  },
  {
   "cell_type": "code",
   "execution_count": 2,
   "metadata": {},
   "outputs": [],
   "source": [
    "logging.basicConfig(\n",
    "    level=logging.INFO,\n",
    "    format='%(asctime)s - %(name)s - %(levelname)s - %(message)s'\n",
    ")\n",
    "logger = logging.getLogger(__name__)"
   ]
  },
  {
   "cell_type": "code",
   "execution_count": 3,
   "metadata": {},
   "outputs": [],
   "source": [
    "notebook_path = Path.cwd()\n",
    "project_root = str(notebook_path.parent.parent) + \"\\\\src\"\n",
    "sys.path.append(project_root)"
   ]
  },
  {
   "cell_type": "code",
   "execution_count": 4,
   "metadata": {},
   "outputs": [
    {
     "data": {
      "text/plain": [
       "'d:\\\\projetos\\\\roadSafeAi\\\\RoadSafeAI\\\\src'"
      ]
     },
     "execution_count": 4,
     "metadata": {},
     "output_type": "execute_result"
    }
   ],
   "source": [
    "project_root"
   ]
  },
  {
   "cell_type": "code",
   "execution_count": 5,
   "metadata": {},
   "outputs": [
    {
     "name": "stderr",
     "output_type": "stream",
     "text": [
      "d:\\projetos\\roadSafeAi\\RoadSafeAI\\env\\lib\\site-packages\\requests\\__init__.py:86: RequestsDependencyWarning: Unable to find acceptable character detection dependency (chardet or charset_normalizer).\n",
      "  warnings.warn(\n"
     ]
    }
   ],
   "source": [
    "from pipelines.preprocessing_pipeline import PreprocessingPipeline"
   ]
  },
  {
   "cell_type": "code",
   "execution_count": 6,
   "metadata": {},
   "outputs": [
    {
     "name": "stderr",
     "output_type": "stream",
     "text": [
      "2025-02-12 19:13:19,496 - pipelines.preprocessing_pipeline.PreprocessingPipeline - INFO - Iniciando pipeline completo de pré-processamento (usando dataset base)...\n",
      "2025-02-12 19:13:19,499 - preprocessing.transformers.data_collection_transformer.DataCollectionTransformer - INFO - Iniciando coleta de dados...\n",
      "2025-02-12 19:13:19,500 - root - WARNING - Folder RoadSafeAI/files já existe. Não será feito novo download\n",
      "2025-02-12 19:13:19,501 - preprocessing.transformers.data_collection_transformer.DataCollectionTransformer - INFO - Coleta de dados concluída com sucesso\n",
      "2025-02-12 19:13:19,502 - preprocessing.transformers.dataset_merger_transformer.DatasetMergerTransformer - INFO - Iniciando união dos datasets (usando dataset base)...\n",
      "2025-02-12 19:13:19,503 - data_collection.merge_datasets - INFO - 18 arquivos CSV encontrados para o período 2007-2024.\n",
      "2025-02-12 19:13:19,504 - data_collection.merge_datasets - INFO - Processando dataset do ano 2007: datatran2007.csv\n"
     ]
    },
    {
     "name": "stdout",
     "output_type": "stream",
     "text": [
      "FileName: datatran2007.csv\n",
      "FileName: datatran2008.csv\n",
      "FileName: datatran2009.csv\n",
      "FileName: datatran2010.csv\n",
      "FileName: datatran2011.csv\n",
      "FileName: datatran2012.csv\n",
      "FileName: datatran2013.csv\n",
      "FileName: datatran2014.csv\n",
      "FileName: datatran2015.csv\n",
      "FileName: datatran2016.csv\n",
      "FileName: datatran2017.csv\n",
      "FileName: datatran2018.csv\n",
      "FileName: datatran2019.csv\n",
      "FileName: datatran2020.csv\n",
      "FileName: datatran2021.csv\n",
      "FileName: datatran2022.csv\n",
      "FileName: datatran2023.csv\n",
      "FileName: datatran2024.csv\n",
      "FileName: datatran2007.csv\n"
     ]
    },
    {
     "name": "stderr",
     "output_type": "stream",
     "text": [
      "d:\\projetos\\roadSafeAi\\RoadSafeAI\\src\\data_collection\\file_read_pandas.py:16: DtypeWarning: Columns (5,6) have mixed types. Specify dtype option on import or set low_memory=False.\n",
      "  return pd.read_csv(file_path, encoding='cp1252', sep=';')\n",
      "2025-02-12 19:13:19,788 - data_collection.merge_datasets - INFO - Processando dataset do ano 2008: datatran2008.csv\n"
     ]
    },
    {
     "name": "stdout",
     "output_type": "stream",
     "text": [
      "FileName: datatran2008.csv\n"
     ]
    },
    {
     "name": "stderr",
     "output_type": "stream",
     "text": [
      "d:\\projetos\\roadSafeAi\\RoadSafeAI\\src\\data_collection\\file_read_pandas.py:16: DtypeWarning: Columns (5,6) have mixed types. Specify dtype option on import or set low_memory=False.\n",
      "  return pd.read_csv(file_path, encoding='cp1252', sep=';')\n",
      "2025-02-12 19:13:20,097 - data_collection.merge_datasets - INFO - Processando dataset do ano 2009: datatran2009.csv\n"
     ]
    },
    {
     "name": "stdout",
     "output_type": "stream",
     "text": [
      "FileName: datatran2009.csv\n"
     ]
    },
    {
     "name": "stderr",
     "output_type": "stream",
     "text": [
      "2025-02-12 19:13:20,437 - data_collection.merge_datasets - INFO - Processando dataset do ano 2010: datatran2010.csv\n"
     ]
    },
    {
     "name": "stdout",
     "output_type": "stream",
     "text": [
      "FileName: datatran2010.csv\n"
     ]
    },
    {
     "name": "stderr",
     "output_type": "stream",
     "text": [
      "2025-02-12 19:13:20,838 - data_collection.merge_datasets - INFO - Processando dataset do ano 2011: datatran2011.csv\n"
     ]
    },
    {
     "name": "stdout",
     "output_type": "stream",
     "text": [
      "FileName: datatran2011.csv\n"
     ]
    },
    {
     "name": "stderr",
     "output_type": "stream",
     "text": [
      "2025-02-12 19:13:21,269 - data_collection.merge_datasets - INFO - Processando dataset do ano 2012: datatran2012.csv\n"
     ]
    },
    {
     "name": "stdout",
     "output_type": "stream",
     "text": [
      "FileName: datatran2012.csv\n"
     ]
    },
    {
     "name": "stderr",
     "output_type": "stream",
     "text": [
      "d:\\projetos\\roadSafeAi\\RoadSafeAI\\src\\data_collection\\file_read_pandas.py:16: DtypeWarning: Columns (5,6) have mixed types. Specify dtype option on import or set low_memory=False.\n",
      "  return pd.read_csv(file_path, encoding='cp1252', sep=';')\n",
      "2025-02-12 19:13:21,674 - data_collection.merge_datasets - INFO - Processando dataset do ano 2013: datatran2013.csv\n"
     ]
    },
    {
     "name": "stdout",
     "output_type": "stream",
     "text": [
      "FileName: datatran2013.csv\n"
     ]
    },
    {
     "name": "stderr",
     "output_type": "stream",
     "text": [
      "2025-02-12 19:13:22,115 - data_collection.merge_datasets - INFO - Processando dataset do ano 2014: datatran2014.csv\n"
     ]
    },
    {
     "name": "stdout",
     "output_type": "stream",
     "text": [
      "FileName: datatran2014.csv\n"
     ]
    },
    {
     "name": "stderr",
     "output_type": "stream",
     "text": [
      "2025-02-12 19:13:22,533 - data_collection.merge_datasets - INFO - Processando dataset do ano 2015: datatran2015.csv\n"
     ]
    },
    {
     "name": "stdout",
     "output_type": "stream",
     "text": [
      "FileName: datatran2015.csv\n"
     ]
    },
    {
     "name": "stderr",
     "output_type": "stream",
     "text": [
      "2025-02-12 19:13:22,816 - data_collection.merge_datasets - INFO - Processando dataset do ano 2016: datatran2016.csv\n"
     ]
    },
    {
     "name": "stdout",
     "output_type": "stream",
     "text": [
      "FileName: datatran2016.csv\n"
     ]
    },
    {
     "name": "stderr",
     "output_type": "stream",
     "text": [
      "2025-02-12 19:13:23,044 - data_collection.merge_datasets - INFO - Processando dataset do ano 2017: datatran2017.csv\n"
     ]
    },
    {
     "name": "stdout",
     "output_type": "stream",
     "text": [
      "FileName: datatran2017.csv\n"
     ]
    },
    {
     "name": "stderr",
     "output_type": "stream",
     "text": [
      "2025-02-12 19:13:23,385 - data_collection.merge_datasets - INFO - Processando dataset do ano 2018: datatran2018.csv\n"
     ]
    },
    {
     "name": "stdout",
     "output_type": "stream",
     "text": [
      "FileName: datatran2018.csv\n"
     ]
    },
    {
     "name": "stderr",
     "output_type": "stream",
     "text": [
      "2025-02-12 19:13:23,665 - data_collection.merge_datasets - INFO - Processando dataset do ano 2019: datatran2019.csv\n"
     ]
    },
    {
     "name": "stdout",
     "output_type": "stream",
     "text": [
      "FileName: datatran2019.csv\n"
     ]
    },
    {
     "name": "stderr",
     "output_type": "stream",
     "text": [
      "2025-02-12 19:13:23,940 - data_collection.merge_datasets - INFO - Processando dataset do ano 2020: datatran2020.csv\n"
     ]
    },
    {
     "name": "stdout",
     "output_type": "stream",
     "text": [
      "FileName: datatran2020.csv\n"
     ]
    },
    {
     "name": "stderr",
     "output_type": "stream",
     "text": [
      "2025-02-12 19:13:24,223 - data_collection.merge_datasets - INFO - Processando dataset do ano 2021: datatran2021.csv\n"
     ]
    },
    {
     "name": "stdout",
     "output_type": "stream",
     "text": [
      "FileName: datatran2021.csv\n"
     ]
    },
    {
     "name": "stderr",
     "output_type": "stream",
     "text": [
      "2025-02-12 19:13:24,491 - data_collection.merge_datasets - INFO - Processando dataset do ano 2022: datatran2022.csv\n"
     ]
    },
    {
     "name": "stdout",
     "output_type": "stream",
     "text": [
      "FileName: datatran2022.csv\n"
     ]
    },
    {
     "name": "stderr",
     "output_type": "stream",
     "text": [
      "2025-02-12 19:13:24,755 - data_collection.merge_datasets - INFO - Processando dataset do ano 2023: datatran2023.csv\n"
     ]
    },
    {
     "name": "stdout",
     "output_type": "stream",
     "text": [
      "FileName: datatran2023.csv\n"
     ]
    },
    {
     "name": "stderr",
     "output_type": "stream",
     "text": [
      "2025-02-12 19:13:25,039 - data_collection.merge_datasets - INFO - Processando dataset do ano 2024: datatran2024.csv\n"
     ]
    },
    {
     "name": "stdout",
     "output_type": "stream",
     "text": [
      "FileName: datatran2024.csv\n"
     ]
    },
    {
     "name": "stderr",
     "output_type": "stream",
     "text": [
      "2025-02-12 19:13:25,360 - data_collection.merge_datasets - INFO - Total de registros do Maranhão: 34153\n",
      "2025-02-12 19:13:25,596 - data_collection.merge_datasets - INFO - Dataset do Maranhão unificado salvo em D:\\projetos\\roadSafeAi\\RoadSafeAI\\files\\processed\\maranhao\\datatran_ma_merged_base_2007_2024.csv\n",
      "2025-02-12 19:13:25,598 - data_collection.merge_datasets - INFO - Metadados do Maranhão salvos em D:\\projetos\\roadSafeAi\\RoadSafeAI\\files\\processed\\maranhao\\metadata_ma.txt\n",
      "2025-02-12 19:13:25,599 - data_collection.merge_datasets - INFO - 8 arquivos CSV encontrados para o período 2017-2024.\n",
      "2025-02-12 19:13:25,600 - data_collection.merge_datasets - INFO - Processando dataset do ano 2017: datatran2017.csv\n"
     ]
    },
    {
     "name": "stdout",
     "output_type": "stream",
     "text": [
      "FileName: datatran2007.csv\n",
      "FileName: datatran2008.csv\n",
      "FileName: datatran2009.csv\n",
      "FileName: datatran2010.csv\n",
      "FileName: datatran2011.csv\n",
      "FileName: datatran2012.csv\n",
      "FileName: datatran2013.csv\n",
      "FileName: datatran2014.csv\n",
      "FileName: datatran2015.csv\n",
      "FileName: datatran2016.csv\n",
      "FileName: datatran2017.csv\n",
      "FileName: datatran2018.csv\n",
      "FileName: datatran2019.csv\n",
      "FileName: datatran2020.csv\n",
      "FileName: datatran2021.csv\n",
      "FileName: datatran2022.csv\n",
      "FileName: datatran2023.csv\n",
      "FileName: datatran2024.csv\n",
      "FileName: datatran2017.csv\n"
     ]
    },
    {
     "name": "stderr",
     "output_type": "stream",
     "text": [
      "2025-02-12 19:13:25,965 - data_collection.merge_datasets - INFO - Processando dataset do ano 2018: datatran2018.csv\n"
     ]
    },
    {
     "name": "stdout",
     "output_type": "stream",
     "text": [
      "FileName: datatran2018.csv\n"
     ]
    },
    {
     "name": "stderr",
     "output_type": "stream",
     "text": [
      "2025-02-12 19:13:26,274 - data_collection.merge_datasets - INFO - Processando dataset do ano 2019: datatran2019.csv\n"
     ]
    },
    {
     "name": "stdout",
     "output_type": "stream",
     "text": [
      "FileName: datatran2019.csv\n"
     ]
    },
    {
     "name": "stderr",
     "output_type": "stream",
     "text": [
      "2025-02-12 19:13:26,538 - data_collection.merge_datasets - INFO - Processando dataset do ano 2020: datatran2020.csv\n"
     ]
    },
    {
     "name": "stdout",
     "output_type": "stream",
     "text": [
      "FileName: datatran2020.csv\n"
     ]
    },
    {
     "name": "stderr",
     "output_type": "stream",
     "text": [
      "2025-02-12 19:13:26,787 - data_collection.merge_datasets - INFO - Processando dataset do ano 2021: datatran2021.csv\n"
     ]
    },
    {
     "name": "stdout",
     "output_type": "stream",
     "text": [
      "FileName: datatran2021.csv\n"
     ]
    },
    {
     "name": "stderr",
     "output_type": "stream",
     "text": [
      "2025-02-12 19:13:27,054 - data_collection.merge_datasets - INFO - Processando dataset do ano 2022: datatran2022.csv\n"
     ]
    },
    {
     "name": "stdout",
     "output_type": "stream",
     "text": [
      "FileName: datatran2022.csv\n"
     ]
    },
    {
     "name": "stderr",
     "output_type": "stream",
     "text": [
      "2025-02-12 19:13:27,307 - data_collection.merge_datasets - INFO - Processando dataset do ano 2023: datatran2023.csv\n"
     ]
    },
    {
     "name": "stdout",
     "output_type": "stream",
     "text": [
      "FileName: datatran2023.csv\n"
     ]
    },
    {
     "name": "stderr",
     "output_type": "stream",
     "text": [
      "2025-02-12 19:13:27,580 - data_collection.merge_datasets - INFO - Processando dataset do ano 2024: datatran2024.csv\n"
     ]
    },
    {
     "name": "stdout",
     "output_type": "stream",
     "text": [
      "FileName: datatran2024.csv\n"
     ]
    },
    {
     "name": "stderr",
     "output_type": "stream",
     "text": [
      "2025-02-12 19:13:27,869 - data_collection.merge_datasets - INFO - Total de registros do Maranhão: 9609\n",
      "2025-02-12 19:13:27,956 - data_collection.merge_datasets - INFO - Dataset do Maranhão unificado salvo em D:\\projetos\\roadSafeAi\\RoadSafeAI\\files\\processed\\maranhao\\datatran_ma_merged_complete_2017_2024.csv\n",
      "2025-02-12 19:13:27,958 - data_collection.merge_datasets - INFO - Metadados do Maranhão salvos em D:\\projetos\\roadSafeAi\\RoadSafeAI\\files\\processed\\maranhao\\metadata_ma.txt\n",
      "2025-02-12 19:13:27,959 - preprocessing.transformers.dataset_merger_transformer.DatasetMergerTransformer - INFO - Dataset base selecionado:\n",
      "2025-02-12 19:13:27,959 - preprocessing.transformers.dataset_merger_transformer.DatasetMergerTransformer - INFO - Dimensões: (34153, 25)\n",
      "2025-02-12 19:13:27,960 - preprocessing.transformers.dataset_merger_transformer.DatasetMergerTransformer - INFO - Período: 2007-01-01 00:00:00 até 2024-12-31 00:00:00\n",
      "2025-02-12 19:13:27,961 - preprocessing.transformers.dataset_merger_transformer.DatasetMergerTransformer - INFO - Colunas: ['id', 'data_inversa', 'dia_semana', 'horario', 'uf', 'br', 'km', 'municipio', 'causa_acidente', 'tipo_acidente', 'classificacao_acidente', 'fase_dia', 'sentido_via', 'condicao_metereologica', 'tipo_pista', 'tracado_via', 'uso_solo', 'pessoas', 'mortos', 'feridos_leves', 'feridos_graves', 'ilesos', 'ignorados', 'feridos', 'veiculos']\n",
      "2025-02-12 19:13:27,962 - preprocessing.transformers.data_cleaning_transformer.DataCleaningTransformer - INFO - Iniciando limpeza de dados...\n",
      "2025-02-12 19:13:27,963 - preprocessing.data_cleaning_01.DataCleaning - INFO - Iniciando processo de limpeza do dataset...\n",
      "2025-02-12 19:13:27,966 - preprocessing.data_cleaning_01.DataCleaning - INFO - Colunas removidas: ['id', 'uf', 'tracado_via', 'feridos', 'fase_dia']\n",
      "d:\\projetos\\roadSafeAi\\RoadSafeAI\\src\\preprocessing\\data_cleaning_01.py:64: UserWarning: Boolean Series key will be reindexed to match DataFrame index.\n",
      "  df_clean = df_clean[~mascara_espacos['remove']]\n",
      "2025-02-12 19:13:28,126 - preprocessing.data_cleaning_01.DataCleaning - INFO - Estatísticas de limpeza:\n",
      "2025-02-12 19:13:28,127 - preprocessing.data_cleaning_01.DataCleaning - INFO - - Linhas no dataset original: 34153\n",
      "2025-02-12 19:13:28,128 - preprocessing.data_cleaning_01.DataCleaning - INFO - - Linhas removidas: 3\n",
      "2025-02-12 19:13:28,129 - preprocessing.data_cleaning_01.DataCleaning - INFO - - Percentual removido: 0.0088%\n",
      "2025-02-12 19:13:28,129 - preprocessing.data_cleaning_01.DataCleaning - INFO - - Linhas no dataset final: 34150\n",
      "2025-02-12 19:13:28,157 - preprocessing.data_cleaning_01.DataCleaning - INFO - Removidos 13 registros duplicados.\n",
      "2025-02-12 19:13:28,159 - preprocessing.data_cleaning_01.DataCleaning - INFO - Processo de limpeza concluído com sucesso!\n",
      "2025-02-12 19:13:28,162 - preprocessing.transformers.data_standardize_transformer.DataStandardizeTransformer - INFO - Iniciando padronização de dados...\n",
      "2025-02-12 19:13:28,162 - preprocessing.data_standardize_02.DataStandardize - INFO - Iniciando padronização do dataset...\n",
      "2025-02-12 19:13:28,197 - preprocessing.data_standardize_02.DataStandardize - INFO - Coluna km padronizada. Range: [0, 684]\n",
      "2025-02-12 19:13:28,227 - preprocessing.data_standardize_02.DataStandardize - INFO - Coluna pessoas padronizada. Range: [1, 54]\n",
      "2025-02-12 19:13:28,257 - preprocessing.data_standardize_02.DataStandardize - INFO - Coluna mortos padronizada. Range: [0, 11]\n",
      "2025-02-12 19:13:28,288 - preprocessing.data_standardize_02.DataStandardize - INFO - Coluna feridos_leves padronizada. Range: [0, 37]\n",
      "2025-02-12 19:13:28,331 - preprocessing.data_standardize_02.DataStandardize - INFO - Coluna feridos_graves padronizada. Range: [0, 20]\n",
      "2025-02-12 19:13:28,361 - preprocessing.data_standardize_02.DataStandardize - INFO - Coluna ilesos padronizada. Range: [0, 49]\n",
      "2025-02-12 19:13:28,392 - preprocessing.data_standardize_02.DataStandardize - INFO - Coluna ignorados padronizada. Range: [0, 35]\n",
      "2025-02-12 19:13:28,422 - preprocessing.data_standardize_02.DataStandardize - INFO - Coluna veiculos padronizada. Range: [1, 17]\n",
      "2025-02-12 19:13:28,423 - preprocessing.data_standardize_02.DataStandardize - INFO - Valores numéricos padronizados\n",
      "2025-02-12 19:13:28,438 - preprocessing.data_standardize_02.DataStandardize - INFO - Coluna data_inversa convertida para datetime e renomeada para 'data'\n",
      "2025-02-12 19:13:28,453 - preprocessing.data_standardize_02.DataStandardize - INFO - Distribuição dos períodos do dia:\n",
      "2025-02-12 19:13:28,453 - preprocessing.data_standardize_02.DataStandardize - INFO - - tarde: 11467\n",
      "2025-02-12 19:13:28,454 - preprocessing.data_standardize_02.DataStandardize - INFO - - manha: 9587\n",
      "2025-02-12 19:13:28,455 - preprocessing.data_standardize_02.DataStandardize - INFO - - noite: 9393\n",
      "2025-02-12 19:13:28,456 - preprocessing.data_standardize_02.DataStandardize - INFO - - madrugada: 3690\n",
      "2025-02-12 19:13:28,458 - preprocessing.data_standardize_02.DataStandardize - INFO - Valores temporais padronizados\n",
      "2025-02-12 19:13:28,466 - preprocessing.data_standardize_02.DataStandardize - INFO - Valores únicos originais em uso_solo: ['Rural' 'Urbano' 'Não' 'Sim']\n",
      "2025-02-12 19:13:28,472 - preprocessing.data_standardize_02.DataStandardize - INFO - Valores únicos após padronização em uso_solo: ['Não' 'Sim']\n",
      "2025-02-12 19:13:28,474 - preprocessing.data_standardize_02.DataStandardize - INFO - Coluna uso_solo padronizada\n",
      "2025-02-12 19:13:28,481 - preprocessing.data_standardize_02.DataStandardize - INFO - Valores únicos originais em dia_semana: ['Segunda' 'Quinta' 'Domingo' 'Terça' 'Sexta' 'Quarta' 'Sábado' 'domingo'\n",
      " 'segunda-feira' 'terça-feira' 'quarta-feira' 'quinta-feira' 'sexta-feira'\n",
      " 'sábado']\n",
      "2025-02-12 19:13:28,492 - preprocessing.data_standardize_02.DataStandardize - INFO - Valores únicos após padronização em dia_semana: ['segunda-feira' 'quinta-feira' 'domingo' 'terca-feira' 'sexta-feira'\n",
      " 'quarta-feira' 'sabado']\n",
      "2025-02-12 19:13:28,494 - preprocessing.data_standardize_02.DataStandardize - INFO - Coluna dia_semana padronizada\n",
      "2025-02-12 19:13:28,496 - preprocessing.transformers.feature_engineering_transformer.FeatureEngineeringTransformer - INFO - Iniciando engenharia de features...\n",
      "2025-02-12 19:13:28,497 - preprocessing.feature_engineering_03.FeatureEngineering - INFO - Iniciando criação de novas features...\n",
      "2025-02-12 19:13:28,517 - preprocessing.feature_engineering_03.FeatureEngineering - INFO - Distribuição dos períodos do dia:\n",
      "2025-02-12 19:13:28,521 - preprocessing.feature_engineering_03.FeatureEngineering - INFO - Removendo horario exato, adotado periodo do dia:\n",
      "2025-02-12 19:13:28,522 - preprocessing.feature_engineering_03.FeatureEngineering - INFO - - tarde: 11467 registros\n",
      "2025-02-12 19:13:28,523 - preprocessing.feature_engineering_03.FeatureEngineering - INFO - - manha: 9587 registros\n",
      "2025-02-12 19:13:28,523 - preprocessing.feature_engineering_03.FeatureEngineering - INFO - - noite: 9393 registros\n",
      "2025-02-12 19:13:28,524 - preprocessing.feature_engineering_03.FeatureEngineering - INFO - - madrugada: 3690 registros\n",
      "2025-02-12 19:13:28,524 - preprocessing.feature_engineering_03.FeatureEngineering - INFO - Feature 'periodo_dia' criada com sucesso\n",
      "2025-02-12 19:13:28,801 - preprocessing.feature_engineering_03.FeatureEngineering - INFO - Distribuição das gravidades dos acidentes:\n",
      "2025-02-12 19:13:28,803 - preprocessing.feature_engineering_03.FeatureEngineering - INFO - - sem_vitimas: 14641 registros\n",
      "2025-02-12 19:13:28,803 - preprocessing.feature_engineering_03.FeatureEngineering - INFO - - leve: 8844 registros\n",
      "2025-02-12 19:13:28,803 - preprocessing.feature_engineering_03.FeatureEngineering - INFO - - grave: 6766 registros\n",
      "2025-02-12 19:13:28,804 - preprocessing.feature_engineering_03.FeatureEngineering - INFO - - fatal: 3886 registros\n",
      "2025-02-12 19:13:28,806 - preprocessing.feature_engineering_03.FeatureEngineering - INFO - Feature 'gravidade_acidente' criada com sucesso\n",
      "2025-02-12 19:13:28,818 - preprocessing.feature_engineering_03.FeatureEngineering - INFO - Distribuição final das causas agrupadas:\n",
      "2025-02-12 19:13:28,819 - preprocessing.feature_engineering_03.FeatureEngineering - INFO - - falha_atencao: 11127 registros\n",
      "2025-02-12 19:13:28,820 - preprocessing.feature_engineering_03.FeatureEngineering - INFO - - outros: 11088 registros\n",
      "2025-02-12 19:13:28,821 - preprocessing.feature_engineering_03.FeatureEngineering - INFO - - comportamento_risco: 5384 registros\n",
      "2025-02-12 19:13:28,821 - preprocessing.feature_engineering_03.FeatureEngineering - INFO - - fatores_externos_animais: 1987 registros\n",
      "2025-02-12 19:13:28,822 - preprocessing.feature_engineering_03.FeatureEngineering - INFO - - problemas_tecnicos_via: 1292 registros\n",
      "2025-02-12 19:13:28,822 - preprocessing.feature_engineering_03.FeatureEngineering - INFO - - problemas_tecnicos_veiculo: 1231 registros\n",
      "2025-02-12 19:13:28,823 - preprocessing.feature_engineering_03.FeatureEngineering - INFO - - condutor_alcool_drogas: 1114 registros\n",
      "2025-02-12 19:13:28,824 - preprocessing.feature_engineering_03.FeatureEngineering - INFO - - condutor_fadiga: 884 registros\n",
      "2025-02-12 19:13:28,824 - preprocessing.feature_engineering_03.FeatureEngineering - INFO - - fatores_ambientais: 30 registros\n",
      "2025-02-12 19:13:28,826 - preprocessing.feature_engineering_03.FeatureEngineering - INFO - Feature 'causa_acidente_grupo' criada com sucesso\n",
      "2025-02-12 19:13:28,826 - preprocessing.feature_engineering_03.FeatureEngineering - INFO - Todas as features foram criadas com sucesso!\n",
      "2025-02-12 19:13:28,981 - preprocessing.feature_engineering_03.FeatureEngineering - INFO - Dataset processado salvo em: d:\\projetos\\roadSafeAi\\RoadSafeAI\\files\\processed\\datatran_ma_processado.csv\n",
      "2025-02-12 19:13:28,983 - preprocessing.transformers.data_encoding_transformer.DataEncodingTransformer - INFO - Ajustando codificador de dados...\n",
      "2025-02-12 19:13:28,984 - preprocessing.data_encoding_04.DataEncoding - INFO - Iniciando fit dos encoders...\n",
      "2025-02-12 19:13:28,992 - preprocessing.data_encoding_04.DataEncoding - INFO - Removidas as colunas: ['feridos_graves', 'mortos', 'feridos_leves', 'ilesos']\n",
      "2025-02-12 19:13:28,997 - preprocessing.data_encoding_04.DataEncoding - INFO - Coluna municipio: 110 valores únicos\n",
      "2025-02-12 19:13:29,000 - preprocessing.data_encoding_04.DataEncoding - INFO - Coluna causa_acidente: 92 valores únicos\n",
      "2025-02-12 19:13:29,002 - preprocessing.data_encoding_04.DataEncoding - INFO - Coluna tipo_acidente: 30 valores únicos\n",
      "2025-02-12 19:13:29,004 - preprocessing.data_encoding_04.DataEncoding - INFO - Coluna classificacao_acidente: 4 valores únicos\n",
      "2025-02-12 19:13:29,006 - preprocessing.data_encoding_04.DataEncoding - INFO - Coluna sentido_via: 3 valores únicos\n",
      "2025-02-12 19:13:29,008 - preprocessing.data_encoding_04.DataEncoding - INFO - Coluna condicao_metereologica: 13 valores únicos\n",
      "2025-02-12 19:13:29,010 - preprocessing.data_encoding_04.DataEncoding - INFO - Coluna tipo_pista: 3 valores únicos\n",
      "2025-02-12 19:13:29,012 - preprocessing.data_encoding_04.DataEncoding - INFO - Coluna uso_solo: 2 valores únicos\n",
      "2025-02-12 19:13:29,014 - preprocessing.data_encoding_04.DataEncoding - INFO - Coluna causa_acidente_grupo: 9 valores únicos\n",
      "2025-02-12 19:13:29,014 - preprocessing.data_encoding_04.DataEncoding - INFO - Label Encoder ajustado para periodo_dia\n",
      "2025-02-12 19:13:29,015 - preprocessing.data_encoding_04.DataEncoding - INFO - Label Encoder ajustado para dia_semana\n",
      "2025-02-12 19:13:29,042 - preprocessing.data_encoding_04.DataEncoding - INFO - OneHot Encoder ajustado para ['classificacao_acidente', 'sentido_via', 'tipo_pista', 'uso_solo']\n",
      "2025-02-12 19:13:29,106 - preprocessing.data_encoding_04.DataEncoding - INFO - Target Encoder ajustado para municipio\n",
      "2025-02-12 19:13:29,169 - preprocessing.data_encoding_04.DataEncoding - INFO - Target Encoder ajustado para causa_acidente\n",
      "2025-02-12 19:13:29,231 - preprocessing.data_encoding_04.DataEncoding - INFO - Target Encoder ajustado para tipo_acidente\n",
      "2025-02-12 19:13:29,292 - preprocessing.data_encoding_04.DataEncoding - INFO - Target Encoder ajustado para condicao_metereologica\n",
      "2025-02-12 19:13:29,353 - preprocessing.data_encoding_04.DataEncoding - INFO - Target Encoder ajustado para causa_acidente_grupo\n",
      "2025-02-12 19:13:29,355 - preprocessing.transformers.data_encoding_transformer.DataEncodingTransformer - INFO - Iniciando codificação de dados...\n",
      "2025-02-12 19:13:29,363 - preprocessing.data_encoding_04.DataEncoding - INFO - Removidas as colunas: ['feridos_graves', 'mortos', 'feridos_leves', 'ilesos']\n",
      "2025-02-12 19:13:29,377 - preprocessing.data_encoding_04.DataEncoding - INFO - Label Encoding aplicado em periodo_dia\n",
      "2025-02-12 19:13:29,391 - preprocessing.data_encoding_04.DataEncoding - INFO - Label Encoding aplicado em dia_semana\n",
      "2025-02-12 19:13:29,422 - preprocessing.data_encoding_04.DataEncoding - INFO - OneHot Encoding aplicado em ['classificacao_acidente', 'sentido_via', 'tipo_pista', 'uso_solo']\n",
      "2025-02-12 19:13:29,429 - preprocessing.data_encoding_04.DataEncoding - INFO - Target Encoding aplicado em municipio\n",
      "2025-02-12 19:13:29,436 - preprocessing.data_encoding_04.DataEncoding - INFO - Target Encoding aplicado em causa_acidente\n",
      "2025-02-12 19:13:29,442 - preprocessing.data_encoding_04.DataEncoding - INFO - Target Encoding aplicado em tipo_acidente\n",
      "2025-02-12 19:13:29,448 - preprocessing.data_encoding_04.DataEncoding - INFO - Target Encoding aplicado em condicao_metereologica\n",
      "2025-02-12 19:13:29,454 - preprocessing.data_encoding_04.DataEncoding - INFO - Target Encoding aplicado em causa_acidente_grupo\n",
      "2025-02-12 19:13:29,456 - pipelines.preprocessing_pipeline.PreprocessingPipeline - INFO - Dimensões após pré-processamento: (34137, 23)\n",
      "2025-02-12 19:13:29,457 - preprocessing.data_split_05.DataSplit - INFO - Iniciando preparação dos dados...\n",
      "2025-02-12 19:13:29,462 - preprocessing.data_split_05.DataSplit - INFO - Colunas removidas: ['data', 'causa_acidente']\n",
      "2025-02-12 19:13:29,464 - preprocessing.data_split_05.DataSplit - INFO - Distribuição inicial das classes:\n",
      "2025-02-12 19:13:29,466 - preprocessing.data_split_05.DataSplit - INFO - \n",
      "Distribuição das classes:\n",
      "2025-02-12 19:13:29,467 - preprocessing.data_split_05.DataSplit - INFO - - Classe sem_vitimas: 42.89%\n",
      "2025-02-12 19:13:29,467 - preprocessing.data_split_05.DataSplit - INFO - - Classe leve: 25.91%\n",
      "2025-02-12 19:13:29,468 - preprocessing.data_split_05.DataSplit - INFO - - Classe grave: 19.82%\n",
      "2025-02-12 19:13:29,468 - preprocessing.data_split_05.DataSplit - INFO - - Classe fatal: 11.38%\n",
      "2025-02-12 19:13:29,502 - preprocessing.data_split_05.DataSplit - INFO - \n",
      "Dimensões dos conjuntos:\n",
      "2025-02-12 19:13:29,503 - preprocessing.data_split_05.DataSplit - INFO - - Treino: (20481, 20)\n",
      "2025-02-12 19:13:29,504 - preprocessing.data_split_05.DataSplit - INFO - - Validação: (6828, 20)\n",
      "2025-02-12 19:13:29,505 - preprocessing.data_split_05.DataSplit - INFO - - Teste: (6828, 20)\n",
      "2025-02-12 19:13:29,507 - preprocessing.data_split_05.DataSplit - INFO - \n",
      "Distribuição das classes - Treino:\n",
      "2025-02-12 19:13:29,507 - preprocessing.data_split_05.DataSplit - INFO - - Classe sem_vitimas: 42.89%\n",
      "2025-02-12 19:13:29,508 - preprocessing.data_split_05.DataSplit - INFO - - Classe leve: 25.91%\n",
      "2025-02-12 19:13:29,508 - preprocessing.data_split_05.DataSplit - INFO - - Classe grave: 19.82%\n",
      "2025-02-12 19:13:29,509 - preprocessing.data_split_05.DataSplit - INFO - - Classe fatal: 11.39%\n",
      "2025-02-12 19:13:29,510 - preprocessing.data_split_05.DataSplit - INFO - \n",
      "Distribuição das classes - Validação:\n",
      "2025-02-12 19:13:29,511 - preprocessing.data_split_05.DataSplit - INFO - - Classe sem_vitimas: 42.88%\n",
      "2025-02-12 19:13:29,511 - preprocessing.data_split_05.DataSplit - INFO - - Classe leve: 25.91%\n",
      "2025-02-12 19:13:29,512 - preprocessing.data_split_05.DataSplit - INFO - - Classe grave: 19.83%\n",
      "2025-02-12 19:13:29,512 - preprocessing.data_split_05.DataSplit - INFO - - Classe fatal: 11.38%\n",
      "2025-02-12 19:13:29,513 - preprocessing.data_split_05.DataSplit - INFO - \n",
      "Distribuição das classes - Teste:\n",
      "2025-02-12 19:13:29,513 - preprocessing.data_split_05.DataSplit - INFO - - Classe sem_vitimas: 42.90%\n",
      "2025-02-12 19:13:29,514 - preprocessing.data_split_05.DataSplit - INFO - - Classe leve: 25.91%\n",
      "2025-02-12 19:13:29,514 - preprocessing.data_split_05.DataSplit - INFO - - Classe grave: 19.82%\n",
      "2025-02-12 19:13:29,514 - preprocessing.data_split_05.DataSplit - INFO - - Classe fatal: 11.38%\n",
      "2025-02-12 19:13:29,515 - preprocessing.data_split_05.DataSplit - INFO - Preparação dos dados concluída!\n",
      "2025-02-12 19:13:29,524 - pipelines.preprocessing_pipeline.PreprocessingPipeline - INFO - Tipos de dados após conversão:\n",
      "2025-02-12 19:13:29,526 - pipelines.preprocessing_pipeline.PreprocessingPipeline - INFO - - dia_semana: int32\n",
      "2025-02-12 19:13:29,526 - pipelines.preprocessing_pipeline.PreprocessingPipeline - INFO - - br: float64\n",
      "2025-02-12 19:13:29,527 - pipelines.preprocessing_pipeline.PreprocessingPipeline - INFO - - km: int32\n",
      "2025-02-12 19:13:29,528 - pipelines.preprocessing_pipeline.PreprocessingPipeline - INFO - - municipio: float64\n",
      "2025-02-12 19:13:29,528 - pipelines.preprocessing_pipeline.PreprocessingPipeline - INFO - - tipo_acidente: float64\n",
      "2025-02-12 19:13:29,533 - pipelines.preprocessing_pipeline.PreprocessingPipeline - INFO - - condicao_metereologica: float64\n",
      "2025-02-12 19:13:29,534 - pipelines.preprocessing_pipeline.PreprocessingPipeline - INFO - - pessoas: int32\n",
      "2025-02-12 19:13:29,535 - pipelines.preprocessing_pipeline.PreprocessingPipeline - INFO - - ignorados: int32\n",
      "2025-02-12 19:13:29,536 - pipelines.preprocessing_pipeline.PreprocessingPipeline - INFO - - veiculos: int32\n",
      "2025-02-12 19:13:29,537 - pipelines.preprocessing_pipeline.PreprocessingPipeline - INFO - - ano: int32\n",
      "2025-02-12 19:13:29,537 - pipelines.preprocessing_pipeline.PreprocessingPipeline - INFO - - periodo_dia: int32\n",
      "2025-02-12 19:13:29,539 - pipelines.preprocessing_pipeline.PreprocessingPipeline - INFO - - causa_acidente_grupo: float64\n",
      "2025-02-12 19:13:29,540 - pipelines.preprocessing_pipeline.PreprocessingPipeline - INFO - - classificacao_acidente_Com Vítimas Feridas: float64\n",
      "2025-02-12 19:13:29,541 - pipelines.preprocessing_pipeline.PreprocessingPipeline - INFO - - classificacao_acidente_Ignorado: float64\n",
      "2025-02-12 19:13:29,542 - pipelines.preprocessing_pipeline.PreprocessingPipeline - INFO - - classificacao_acidente_Sem Vítimas: float64\n",
      "2025-02-12 19:13:29,542 - pipelines.preprocessing_pipeline.PreprocessingPipeline - INFO - - sentido_via_Decrescente: float64\n",
      "2025-02-12 19:13:29,543 - pipelines.preprocessing_pipeline.PreprocessingPipeline - INFO - - sentido_via_Não Informado: float64\n",
      "2025-02-12 19:13:29,544 - pipelines.preprocessing_pipeline.PreprocessingPipeline - INFO - - tipo_pista_Múltipla: float64\n",
      "2025-02-12 19:13:29,545 - pipelines.preprocessing_pipeline.PreprocessingPipeline - INFO - - tipo_pista_Simples: float64\n",
      "2025-02-12 19:13:29,546 - pipelines.preprocessing_pipeline.PreprocessingPipeline - INFO - - uso_solo_Sim: float64\n",
      "2025-02-12 19:13:29,547 - pipelines.preprocessing_pipeline.PreprocessingPipeline - INFO - Aplicando estratégia de balanceamento combined...\n",
      "2025-02-12 19:13:29,548 - preprocessing.balancing_strategy.data_balancing_strategy.DataBalancingStrategy - INFO - Aplicando estratégia combinada de sampling...\n",
      "2025-02-12 19:13:29,550 - preprocessing.balancing_strategy.data_balancing_strategy.DataBalancingStrategy - INFO - \n",
      "Distribuição das classes - original:\n",
      "2025-02-12 19:13:29,551 - preprocessing.balancing_strategy.data_balancing_strategy.DataBalancingStrategy - INFO - - Classe sem_vitimas: 8784 amostras (42.89%)\n",
      "2025-02-12 19:13:29,551 - preprocessing.balancing_strategy.data_balancing_strategy.DataBalancingStrategy - INFO - - Classe leve: 5306 amostras (25.91%)\n",
      "2025-02-12 19:13:29,552 - preprocessing.balancing_strategy.data_balancing_strategy.DataBalancingStrategy - INFO - - Classe grave: 4059 amostras (19.82%)\n",
      "2025-02-12 19:13:29,553 - preprocessing.balancing_strategy.data_balancing_strategy.DataBalancingStrategy - INFO - - Classe fatal: 2332 amostras (11.39%)\n",
      "2025-02-12 19:13:29,554 - preprocessing.balancing_strategy.data_balancing_strategy.DataBalancingStrategy - INFO - Aplicando Random Oversampling...\n",
      "2025-02-12 19:13:29,557 - preprocessing.balancing_strategy.data_balancing_strategy.DataBalancingStrategy - INFO - \n",
      "Distribuição das classes - antes do oversampling:\n",
      "2025-02-12 19:13:29,558 - preprocessing.balancing_strategy.data_balancing_strategy.DataBalancingStrategy - INFO - - Classe sem_vitimas: 8784 amostras (42.89%)\n",
      "2025-02-12 19:13:29,559 - preprocessing.balancing_strategy.data_balancing_strategy.DataBalancingStrategy - INFO - - Classe leve: 5306 amostras (25.91%)\n",
      "2025-02-12 19:13:29,559 - preprocessing.balancing_strategy.data_balancing_strategy.DataBalancingStrategy - INFO - - Classe grave: 4059 amostras (19.82%)\n",
      "2025-02-12 19:13:29,560 - preprocessing.balancing_strategy.data_balancing_strategy.DataBalancingStrategy - INFO - - Classe fatal: 2332 amostras (11.39%)\n",
      "d:\\projetos\\roadSafeAi\\RoadSafeAI\\env\\lib\\site-packages\\sklearn\\base.py:484: FutureWarning: `BaseEstimator._check_n_features` is deprecated in 1.6 and will be removed in 1.7. Use `sklearn.utils.validation._check_n_features` instead.\n",
      "  warnings.warn(\n",
      "d:\\projetos\\roadSafeAi\\RoadSafeAI\\env\\lib\\site-packages\\sklearn\\base.py:493: FutureWarning: `BaseEstimator._check_feature_names` is deprecated in 1.6 and will be removed in 1.7. Use `sklearn.utils.validation._check_feature_names` instead.\n",
      "  warnings.warn(\n",
      "2025-02-12 19:13:29,603 - preprocessing.balancing_strategy.data_balancing_strategy.DataBalancingStrategy - INFO - \n",
      "Distribuição das classes - após oversampling:\n",
      "2025-02-12 19:13:29,604 - preprocessing.balancing_strategy.data_balancing_strategy.DataBalancingStrategy - INFO - - Classe grave: 8784 amostras (25.00%)\n",
      "2025-02-12 19:13:29,605 - preprocessing.balancing_strategy.data_balancing_strategy.DataBalancingStrategy - INFO - - Classe sem_vitimas: 8784 amostras (25.00%)\n",
      "2025-02-12 19:13:29,605 - preprocessing.balancing_strategy.data_balancing_strategy.DataBalancingStrategy - INFO - - Classe leve: 8784 amostras (25.00%)\n",
      "2025-02-12 19:13:29,606 - preprocessing.balancing_strategy.data_balancing_strategy.DataBalancingStrategy - INFO - - Classe fatal: 8784 amostras (25.00%)\n",
      "2025-02-12 19:13:29,606 - preprocessing.balancing_strategy.data_balancing_strategy.DataBalancingStrategy - INFO - Aplicando SMOTE...\n",
      "2025-02-12 19:13:29,608 - preprocessing.balancing_strategy.data_balancing_strategy.DataBalancingStrategy - INFO - \n",
      "Distribuição das classes - antes do SMOTE:\n",
      "2025-02-12 19:13:29,609 - preprocessing.balancing_strategy.data_balancing_strategy.DataBalancingStrategy - INFO - - Classe grave: 8784 amostras (25.00%)\n",
      "2025-02-12 19:13:29,610 - preprocessing.balancing_strategy.data_balancing_strategy.DataBalancingStrategy - INFO - - Classe sem_vitimas: 8784 amostras (25.00%)\n",
      "2025-02-12 19:13:29,610 - preprocessing.balancing_strategy.data_balancing_strategy.DataBalancingStrategy - INFO - - Classe leve: 8784 amostras (25.00%)\n",
      "2025-02-12 19:13:29,611 - preprocessing.balancing_strategy.data_balancing_strategy.DataBalancingStrategy - INFO - - Classe fatal: 8784 amostras (25.00%)\n",
      "d:\\projetos\\roadSafeAi\\RoadSafeAI\\env\\lib\\site-packages\\sklearn\\base.py:474: FutureWarning: `BaseEstimator._validate_data` is deprecated in 1.6 and will be removed in 1.7. Use `sklearn.utils.validation.validate_data` instead. This function becomes public and is part of the scikit-learn developer API.\n",
      "  warnings.warn(\n",
      "2025-02-12 19:13:29,657 - preprocessing.balancing_strategy.data_balancing_strategy.DataBalancingStrategy - INFO - \n",
      "Distribuição das classes - após SMOTE:\n",
      "2025-02-12 19:13:29,658 - preprocessing.balancing_strategy.data_balancing_strategy.DataBalancingStrategy - INFO - - Classe grave: 8784 amostras (25.00%)\n",
      "2025-02-12 19:13:29,658 - preprocessing.balancing_strategy.data_balancing_strategy.DataBalancingStrategy - INFO - - Classe sem_vitimas: 8784 amostras (25.00%)\n",
      "2025-02-12 19:13:29,659 - preprocessing.balancing_strategy.data_balancing_strategy.DataBalancingStrategy - INFO - - Classe leve: 8784 amostras (25.00%)\n",
      "2025-02-12 19:13:29,660 - preprocessing.balancing_strategy.data_balancing_strategy.DataBalancingStrategy - INFO - - Classe fatal: 8784 amostras (25.00%)\n",
      "2025-02-12 19:13:29,663 - __main__ - INFO - \n",
      "Pré-processamento finalizado com sucesso!\n",
      "2025-02-12 19:13:29,663 - __main__ - INFO - Formato dados de treino: (35136, 20)\n",
      "2025-02-12 19:13:29,664 - __main__ - INFO - Formato dados de validação: (6828, 20)\n",
      "2025-02-12 19:13:29,665 - __main__ - INFO - Formato dados de teste: (6828, 20)\n",
      "2025-02-12 19:13:29,665 - __main__ - INFO - \n",
      "Features:\n",
      "2025-02-12 19:13:29,666 - __main__ - INFO - - ordinal_encoded: 2 features\n",
      "2025-02-12 19:13:29,667 - __main__ - INFO - - onehot_encoded: 4 features\n",
      "2025-02-12 19:13:29,667 - __main__ - INFO - - target_encoded: 5 features\n",
      "2025-02-12 19:13:29,668 - __main__ - INFO - - removed_columns: 4 features\n"
     ]
    }
   ],
   "source": [
    "pipeline = PreprocessingPipeline(\n",
    "    collect_new_data=True,\n",
    "    dataset_type='base',\n",
    "    test_size=0.2,\n",
    "    valid_size=0.2,\n",
    "    balance_strategy=\"combined\",\n",
    "    random_state=42\n",
    ")\n",
    "\n",
    "X_train, X_valid, X_test, y_train, y_valid, y_test = pipeline.process_data()\n",
    "\n",
    "feature_names = pipeline.get_feature_names()\n",
    "\n",
    "logger.info(\"\\nPré-processamento finalizado com sucesso!\")\n",
    "logger.info(f\"Formato dados de treino: {X_train.shape}\")\n",
    "logger.info(f\"Formato dados de validação: {X_valid.shape}\")\n",
    "logger.info(f\"Formato dados de teste: {X_test.shape}\")\n",
    "logger.info(\"\\nFeatures:\")\n",
    "for feature_type, features in feature_names.items():\n",
    "    logger.info(f\"- {feature_type}: {len(features)} features\")"
   ]
  },
  {
   "cell_type": "code",
   "execution_count": 7,
   "metadata": {},
   "outputs": [
    {
     "data": {
      "text/html": [
       "<div>\n",
       "<style scoped>\n",
       "    .dataframe tbody tr th:only-of-type {\n",
       "        vertical-align: middle;\n",
       "    }\n",
       "\n",
       "    .dataframe tbody tr th {\n",
       "        vertical-align: top;\n",
       "    }\n",
       "\n",
       "    .dataframe thead th {\n",
       "        text-align: right;\n",
       "    }\n",
       "</style>\n",
       "<table border=\"1\" class=\"dataframe\">\n",
       "  <thead>\n",
       "    <tr style=\"text-align: right;\">\n",
       "      <th></th>\n",
       "      <th>dia_semana</th>\n",
       "      <th>br</th>\n",
       "      <th>km</th>\n",
       "      <th>municipio</th>\n",
       "      <th>tipo_acidente</th>\n",
       "      <th>condicao_metereologica</th>\n",
       "      <th>pessoas</th>\n",
       "      <th>ignorados</th>\n",
       "      <th>veiculos</th>\n",
       "      <th>ano</th>\n",
       "      <th>periodo_dia</th>\n",
       "      <th>causa_acidente_grupo</th>\n",
       "      <th>classificacao_acidente_Com Vítimas Feridas</th>\n",
       "      <th>classificacao_acidente_Ignorado</th>\n",
       "      <th>classificacao_acidente_Sem Vítimas</th>\n",
       "      <th>sentido_via_Decrescente</th>\n",
       "      <th>sentido_via_Não Informado</th>\n",
       "      <th>tipo_pista_Múltipla</th>\n",
       "      <th>tipo_pista_Simples</th>\n",
       "      <th>uso_solo_Sim</th>\n",
       "    </tr>\n",
       "  </thead>\n",
       "  <tbody>\n",
       "    <tr>\n",
       "      <th>11517</th>\n",
       "      <td>1</td>\n",
       "      <td>135.0</td>\n",
       "      <td>50</td>\n",
       "      <td>0.249998</td>\n",
       "      <td>0.249998</td>\n",
       "      <td>0.250000</td>\n",
       "      <td>2</td>\n",
       "      <td>0</td>\n",
       "      <td>2</td>\n",
       "      <td>2011</td>\n",
       "      <td>1</td>\n",
       "      <td>0.250000</td>\n",
       "      <td>0.0</td>\n",
       "      <td>0.0</td>\n",
       "      <td>1.0</td>\n",
       "      <td>0.0</td>\n",
       "      <td>0.0</td>\n",
       "      <td>0.0</td>\n",
       "      <td>0.0</td>\n",
       "      <td>1.0</td>\n",
       "    </tr>\n",
       "    <tr>\n",
       "      <th>18085</th>\n",
       "      <td>2</td>\n",
       "      <td>10.0</td>\n",
       "      <td>253</td>\n",
       "      <td>0.249997</td>\n",
       "      <td>0.249998</td>\n",
       "      <td>0.250000</td>\n",
       "      <td>2</td>\n",
       "      <td>0</td>\n",
       "      <td>2</td>\n",
       "      <td>2013</td>\n",
       "      <td>3</td>\n",
       "      <td>0.250000</td>\n",
       "      <td>0.0</td>\n",
       "      <td>0.0</td>\n",
       "      <td>1.0</td>\n",
       "      <td>1.0</td>\n",
       "      <td>0.0</td>\n",
       "      <td>0.0</td>\n",
       "      <td>1.0</td>\n",
       "      <td>1.0</td>\n",
       "    </tr>\n",
       "    <tr>\n",
       "      <th>31850</th>\n",
       "      <td>4</td>\n",
       "      <td>135.0</td>\n",
       "      <td>180</td>\n",
       "      <td>0.249960</td>\n",
       "      <td>0.249965</td>\n",
       "      <td>0.249999</td>\n",
       "      <td>4</td>\n",
       "      <td>0</td>\n",
       "      <td>2</td>\n",
       "      <td>2022</td>\n",
       "      <td>1</td>\n",
       "      <td>0.249999</td>\n",
       "      <td>1.0</td>\n",
       "      <td>0.0</td>\n",
       "      <td>0.0</td>\n",
       "      <td>1.0</td>\n",
       "      <td>0.0</td>\n",
       "      <td>0.0</td>\n",
       "      <td>1.0</td>\n",
       "      <td>1.0</td>\n",
       "    </tr>\n",
       "    <tr>\n",
       "      <th>1065</th>\n",
       "      <td>2</td>\n",
       "      <td>222.0</td>\n",
       "      <td>673</td>\n",
       "      <td>0.249996</td>\n",
       "      <td>0.249998</td>\n",
       "      <td>0.250000</td>\n",
       "      <td>3</td>\n",
       "      <td>0</td>\n",
       "      <td>2</td>\n",
       "      <td>2007</td>\n",
       "      <td>2</td>\n",
       "      <td>0.250000</td>\n",
       "      <td>1.0</td>\n",
       "      <td>0.0</td>\n",
       "      <td>0.0</td>\n",
       "      <td>0.0</td>\n",
       "      <td>0.0</td>\n",
       "      <td>0.0</td>\n",
       "      <td>1.0</td>\n",
       "      <td>1.0</td>\n",
       "    </tr>\n",
       "    <tr>\n",
       "      <th>22785</th>\n",
       "      <td>0</td>\n",
       "      <td>230.0</td>\n",
       "      <td>338</td>\n",
       "      <td>0.249835</td>\n",
       "      <td>0.249996</td>\n",
       "      <td>0.250000</td>\n",
       "      <td>3</td>\n",
       "      <td>1</td>\n",
       "      <td>2</td>\n",
       "      <td>2015</td>\n",
       "      <td>3</td>\n",
       "      <td>0.249999</td>\n",
       "      <td>1.0</td>\n",
       "      <td>0.0</td>\n",
       "      <td>0.0</td>\n",
       "      <td>0.0</td>\n",
       "      <td>0.0</td>\n",
       "      <td>0.0</td>\n",
       "      <td>1.0</td>\n",
       "      <td>0.0</td>\n",
       "    </tr>\n",
       "    <tr>\n",
       "      <th>...</th>\n",
       "      <td>...</td>\n",
       "      <td>...</td>\n",
       "      <td>...</td>\n",
       "      <td>...</td>\n",
       "      <td>...</td>\n",
       "      <td>...</td>\n",
       "      <td>...</td>\n",
       "      <td>...</td>\n",
       "      <td>...</td>\n",
       "      <td>...</td>\n",
       "      <td>...</td>\n",
       "      <td>...</td>\n",
       "      <td>...</td>\n",
       "      <td>...</td>\n",
       "      <td>...</td>\n",
       "      <td>...</td>\n",
       "      <td>...</td>\n",
       "      <td>...</td>\n",
       "      <td>...</td>\n",
       "      <td>...</td>\n",
       "    </tr>\n",
       "    <tr>\n",
       "      <th>22380</th>\n",
       "      <td>4</td>\n",
       "      <td>10.0</td>\n",
       "      <td>180</td>\n",
       "      <td>0.249973</td>\n",
       "      <td>0.249998</td>\n",
       "      <td>0.249999</td>\n",
       "      <td>2</td>\n",
       "      <td>0</td>\n",
       "      <td>2</td>\n",
       "      <td>2015</td>\n",
       "      <td>1</td>\n",
       "      <td>0.249985</td>\n",
       "      <td>1.0</td>\n",
       "      <td>0.0</td>\n",
       "      <td>0.0</td>\n",
       "      <td>1.0</td>\n",
       "      <td>0.0</td>\n",
       "      <td>0.0</td>\n",
       "      <td>1.0</td>\n",
       "      <td>0.0</td>\n",
       "    </tr>\n",
       "    <tr>\n",
       "      <th>13792</th>\n",
       "      <td>4</td>\n",
       "      <td>10.0</td>\n",
       "      <td>275</td>\n",
       "      <td>0.249997</td>\n",
       "      <td>0.249998</td>\n",
       "      <td>0.249998</td>\n",
       "      <td>6</td>\n",
       "      <td>0</td>\n",
       "      <td>2</td>\n",
       "      <td>2012</td>\n",
       "      <td>1</td>\n",
       "      <td>0.250000</td>\n",
       "      <td>1.0</td>\n",
       "      <td>0.0</td>\n",
       "      <td>0.0</td>\n",
       "      <td>1.0</td>\n",
       "      <td>0.0</td>\n",
       "      <td>0.0</td>\n",
       "      <td>1.0</td>\n",
       "      <td>0.0</td>\n",
       "    </tr>\n",
       "    <tr>\n",
       "      <th>7722</th>\n",
       "      <td>1</td>\n",
       "      <td>230.0</td>\n",
       "      <td>315</td>\n",
       "      <td>0.249835</td>\n",
       "      <td>0.249997</td>\n",
       "      <td>0.249998</td>\n",
       "      <td>2</td>\n",
       "      <td>0</td>\n",
       "      <td>1</td>\n",
       "      <td>2010</td>\n",
       "      <td>3</td>\n",
       "      <td>0.249999</td>\n",
       "      <td>0.0</td>\n",
       "      <td>0.0</td>\n",
       "      <td>1.0</td>\n",
       "      <td>0.0</td>\n",
       "      <td>0.0</td>\n",
       "      <td>0.0</td>\n",
       "      <td>1.0</td>\n",
       "      <td>0.0</td>\n",
       "    </tr>\n",
       "    <tr>\n",
       "      <th>4611</th>\n",
       "      <td>2</td>\n",
       "      <td>135.0</td>\n",
       "      <td>2</td>\n",
       "      <td>0.249998</td>\n",
       "      <td>0.249998</td>\n",
       "      <td>0.249998</td>\n",
       "      <td>2</td>\n",
       "      <td>0</td>\n",
       "      <td>2</td>\n",
       "      <td>2009</td>\n",
       "      <td>3</td>\n",
       "      <td>0.250000</td>\n",
       "      <td>0.0</td>\n",
       "      <td>0.0</td>\n",
       "      <td>1.0</td>\n",
       "      <td>0.0</td>\n",
       "      <td>0.0</td>\n",
       "      <td>0.0</td>\n",
       "      <td>0.0</td>\n",
       "      <td>1.0</td>\n",
       "    </tr>\n",
       "    <tr>\n",
       "      <th>19987</th>\n",
       "      <td>0</td>\n",
       "      <td>230.0</td>\n",
       "      <td>6</td>\n",
       "      <td>0.249944</td>\n",
       "      <td>0.249997</td>\n",
       "      <td>0.250000</td>\n",
       "      <td>4</td>\n",
       "      <td>0</td>\n",
       "      <td>1</td>\n",
       "      <td>2014</td>\n",
       "      <td>2</td>\n",
       "      <td>0.249988</td>\n",
       "      <td>0.0</td>\n",
       "      <td>0.0</td>\n",
       "      <td>0.0</td>\n",
       "      <td>1.0</td>\n",
       "      <td>0.0</td>\n",
       "      <td>0.0</td>\n",
       "      <td>1.0</td>\n",
       "      <td>0.0</td>\n",
       "    </tr>\n",
       "  </tbody>\n",
       "</table>\n",
       "<p>6828 rows × 20 columns</p>\n",
       "</div>"
      ],
      "text/plain": [
       "       dia_semana     br   km  municipio  tipo_acidente  \\\n",
       "11517           1  135.0   50   0.249998       0.249998   \n",
       "18085           2   10.0  253   0.249997       0.249998   \n",
       "31850           4  135.0  180   0.249960       0.249965   \n",
       "1065            2  222.0  673   0.249996       0.249998   \n",
       "22785           0  230.0  338   0.249835       0.249996   \n",
       "...           ...    ...  ...        ...            ...   \n",
       "22380           4   10.0  180   0.249973       0.249998   \n",
       "13792           4   10.0  275   0.249997       0.249998   \n",
       "7722            1  230.0  315   0.249835       0.249997   \n",
       "4611            2  135.0    2   0.249998       0.249998   \n",
       "19987           0  230.0    6   0.249944       0.249997   \n",
       "\n",
       "       condicao_metereologica  pessoas  ignorados  veiculos   ano  \\\n",
       "11517                0.250000        2          0         2  2011   \n",
       "18085                0.250000        2          0         2  2013   \n",
       "31850                0.249999        4          0         2  2022   \n",
       "1065                 0.250000        3          0         2  2007   \n",
       "22785                0.250000        3          1         2  2015   \n",
       "...                       ...      ...        ...       ...   ...   \n",
       "22380                0.249999        2          0         2  2015   \n",
       "13792                0.249998        6          0         2  2012   \n",
       "7722                 0.249998        2          0         1  2010   \n",
       "4611                 0.249998        2          0         2  2009   \n",
       "19987                0.250000        4          0         1  2014   \n",
       "\n",
       "       periodo_dia  causa_acidente_grupo  \\\n",
       "11517            1              0.250000   \n",
       "18085            3              0.250000   \n",
       "31850            1              0.249999   \n",
       "1065             2              0.250000   \n",
       "22785            3              0.249999   \n",
       "...            ...                   ...   \n",
       "22380            1              0.249985   \n",
       "13792            1              0.250000   \n",
       "7722             3              0.249999   \n",
       "4611             3              0.250000   \n",
       "19987            2              0.249988   \n",
       "\n",
       "       classificacao_acidente_Com Vítimas Feridas  \\\n",
       "11517                                         0.0   \n",
       "18085                                         0.0   \n",
       "31850                                         1.0   \n",
       "1065                                          1.0   \n",
       "22785                                         1.0   \n",
       "...                                           ...   \n",
       "22380                                         1.0   \n",
       "13792                                         1.0   \n",
       "7722                                          0.0   \n",
       "4611                                          0.0   \n",
       "19987                                         0.0   \n",
       "\n",
       "       classificacao_acidente_Ignorado  classificacao_acidente_Sem Vítimas  \\\n",
       "11517                              0.0                                 1.0   \n",
       "18085                              0.0                                 1.0   \n",
       "31850                              0.0                                 0.0   \n",
       "1065                               0.0                                 0.0   \n",
       "22785                              0.0                                 0.0   \n",
       "...                                ...                                 ...   \n",
       "22380                              0.0                                 0.0   \n",
       "13792                              0.0                                 0.0   \n",
       "7722                               0.0                                 1.0   \n",
       "4611                               0.0                                 1.0   \n",
       "19987                              0.0                                 0.0   \n",
       "\n",
       "       sentido_via_Decrescente  sentido_via_Não Informado  \\\n",
       "11517                      0.0                        0.0   \n",
       "18085                      1.0                        0.0   \n",
       "31850                      1.0                        0.0   \n",
       "1065                       0.0                        0.0   \n",
       "22785                      0.0                        0.0   \n",
       "...                        ...                        ...   \n",
       "22380                      1.0                        0.0   \n",
       "13792                      1.0                        0.0   \n",
       "7722                       0.0                        0.0   \n",
       "4611                       0.0                        0.0   \n",
       "19987                      1.0                        0.0   \n",
       "\n",
       "       tipo_pista_Múltipla  tipo_pista_Simples  uso_solo_Sim  \n",
       "11517                  0.0                 0.0           1.0  \n",
       "18085                  0.0                 1.0           1.0  \n",
       "31850                  0.0                 1.0           1.0  \n",
       "1065                   0.0                 1.0           1.0  \n",
       "22785                  0.0                 1.0           0.0  \n",
       "...                    ...                 ...           ...  \n",
       "22380                  0.0                 1.0           0.0  \n",
       "13792                  0.0                 1.0           0.0  \n",
       "7722                   0.0                 1.0           0.0  \n",
       "4611                   0.0                 0.0           1.0  \n",
       "19987                  0.0                 1.0           0.0  \n",
       "\n",
       "[6828 rows x 20 columns]"
      ]
     },
     "execution_count": 7,
     "metadata": {},
     "output_type": "execute_result"
    }
   ],
   "source": [
    "X_test"
   ]
  },
  {
   "cell_type": "markdown",
   "metadata": {},
   "source": [
    "## Otimização de Hiperparametros"
   ]
  },
  {
   "cell_type": "code",
   "execution_count": 8,
   "metadata": {},
   "outputs": [],
   "source": [
    "# Inicializa o pipeline de pré-processamento\n",
    "from lab.hiperparameter_optimization import ModelOptimizer"
   ]
  },
  {
   "cell_type": "code",
   "execution_count": 9,
   "metadata": {},
   "outputs": [
    {
     "name": "stderr",
     "output_type": "stream",
     "text": [
      "2025-02-12 19:13:30,280 - pipelines.preprocessing_pipeline.PreprocessingPipeline - INFO - Iniciando pipeline completo de pré-processamento (usando dataset base)...\n",
      "2025-02-12 19:13:30,281 - preprocessing.transformers.data_collection_transformer.DataCollectionTransformer - INFO - Iniciando coleta de dados...\n",
      "2025-02-12 19:13:30,282 - root - WARNING - Folder RoadSafeAI/files já existe. Não será feito novo download\n",
      "2025-02-12 19:13:30,283 - preprocessing.transformers.data_collection_transformer.DataCollectionTransformer - INFO - Coleta de dados concluída com sucesso\n",
      "2025-02-12 19:13:30,284 - preprocessing.transformers.dataset_merger_transformer.DatasetMergerTransformer - INFO - Iniciando união dos datasets (usando dataset base)...\n",
      "2025-02-12 19:13:30,285 - data_collection.merge_datasets - INFO - 18 arquivos CSV encontrados para o período 2007-2024.\n",
      "2025-02-12 19:13:30,286 - data_collection.merge_datasets - INFO - Processando dataset do ano 2007: datatran2007.csv\n"
     ]
    },
    {
     "name": "stdout",
     "output_type": "stream",
     "text": [
      "FileName: datatran2007.csv\n",
      "FileName: datatran2008.csv\n",
      "FileName: datatran2009.csv\n",
      "FileName: datatran2010.csv\n",
      "FileName: datatran2011.csv\n",
      "FileName: datatran2012.csv\n",
      "FileName: datatran2013.csv\n",
      "FileName: datatran2014.csv\n",
      "FileName: datatran2015.csv\n",
      "FileName: datatran2016.csv\n",
      "FileName: datatran2017.csv\n",
      "FileName: datatran2018.csv\n",
      "FileName: datatran2019.csv\n",
      "FileName: datatran2020.csv\n",
      "FileName: datatran2021.csv\n",
      "FileName: datatran2022.csv\n",
      "FileName: datatran2023.csv\n",
      "FileName: datatran2024.csv\n",
      "FileName: datatran2007.csv\n"
     ]
    },
    {
     "name": "stderr",
     "output_type": "stream",
     "text": [
      "d:\\projetos\\roadSafeAi\\RoadSafeAI\\src\\data_collection\\file_read_pandas.py:16: DtypeWarning: Columns (5,6) have mixed types. Specify dtype option on import or set low_memory=False.\n",
      "  return pd.read_csv(file_path, encoding='cp1252', sep=';')\n",
      "2025-02-12 19:13:30,581 - data_collection.merge_datasets - INFO - Processando dataset do ano 2008: datatran2008.csv\n"
     ]
    },
    {
     "name": "stdout",
     "output_type": "stream",
     "text": [
      "FileName: datatran2008.csv\n"
     ]
    },
    {
     "name": "stderr",
     "output_type": "stream",
     "text": [
      "d:\\projetos\\roadSafeAi\\RoadSafeAI\\src\\data_collection\\file_read_pandas.py:16: DtypeWarning: Columns (5,6) have mixed types. Specify dtype option on import or set low_memory=False.\n",
      "  return pd.read_csv(file_path, encoding='cp1252', sep=';')\n",
      "2025-02-12 19:13:30,923 - data_collection.merge_datasets - INFO - Processando dataset do ano 2009: datatran2009.csv\n"
     ]
    },
    {
     "name": "stdout",
     "output_type": "stream",
     "text": [
      "FileName: datatran2009.csv\n"
     ]
    },
    {
     "name": "stderr",
     "output_type": "stream",
     "text": [
      "2025-02-12 19:13:31,270 - data_collection.merge_datasets - INFO - Processando dataset do ano 2010: datatran2010.csv\n"
     ]
    },
    {
     "name": "stdout",
     "output_type": "stream",
     "text": [
      "FileName: datatran2010.csv\n"
     ]
    },
    {
     "name": "stderr",
     "output_type": "stream",
     "text": [
      "2025-02-12 19:13:31,667 - data_collection.merge_datasets - INFO - Processando dataset do ano 2011: datatran2011.csv\n"
     ]
    },
    {
     "name": "stdout",
     "output_type": "stream",
     "text": [
      "FileName: datatran2011.csv\n"
     ]
    },
    {
     "name": "stderr",
     "output_type": "stream",
     "text": [
      "2025-02-12 19:13:32,106 - data_collection.merge_datasets - INFO - Processando dataset do ano 2012: datatran2012.csv\n"
     ]
    },
    {
     "name": "stdout",
     "output_type": "stream",
     "text": [
      "FileName: datatran2012.csv\n"
     ]
    },
    {
     "name": "stderr",
     "output_type": "stream",
     "text": [
      "d:\\projetos\\roadSafeAi\\RoadSafeAI\\src\\data_collection\\file_read_pandas.py:16: DtypeWarning: Columns (5,6) have mixed types. Specify dtype option on import or set low_memory=False.\n",
      "  return pd.read_csv(file_path, encoding='cp1252', sep=';')\n",
      "2025-02-12 19:13:32,511 - data_collection.merge_datasets - INFO - Processando dataset do ano 2013: datatran2013.csv\n"
     ]
    },
    {
     "name": "stdout",
     "output_type": "stream",
     "text": [
      "FileName: datatran2013.csv\n"
     ]
    },
    {
     "name": "stderr",
     "output_type": "stream",
     "text": [
      "2025-02-12 19:13:32,937 - data_collection.merge_datasets - INFO - Processando dataset do ano 2014: datatran2014.csv\n"
     ]
    },
    {
     "name": "stdout",
     "output_type": "stream",
     "text": [
      "FileName: datatran2014.csv\n"
     ]
    },
    {
     "name": "stderr",
     "output_type": "stream",
     "text": [
      "2025-02-12 19:13:33,319 - data_collection.merge_datasets - INFO - Processando dataset do ano 2015: datatran2015.csv\n"
     ]
    },
    {
     "name": "stdout",
     "output_type": "stream",
     "text": [
      "FileName: datatran2015.csv\n"
     ]
    },
    {
     "name": "stderr",
     "output_type": "stream",
     "text": [
      "2025-02-12 19:13:33,592 - data_collection.merge_datasets - INFO - Processando dataset do ano 2016: datatran2016.csv\n"
     ]
    },
    {
     "name": "stdout",
     "output_type": "stream",
     "text": [
      "FileName: datatran2016.csv\n"
     ]
    },
    {
     "name": "stderr",
     "output_type": "stream",
     "text": [
      "2025-02-12 19:13:33,819 - data_collection.merge_datasets - INFO - Processando dataset do ano 2017: datatran2017.csv\n"
     ]
    },
    {
     "name": "stdout",
     "output_type": "stream",
     "text": [
      "FileName: datatran2017.csv\n"
     ]
    },
    {
     "name": "stderr",
     "output_type": "stream",
     "text": [
      "2025-02-12 19:13:34,177 - data_collection.merge_datasets - INFO - Processando dataset do ano 2018: datatran2018.csv\n"
     ]
    },
    {
     "name": "stdout",
     "output_type": "stream",
     "text": [
      "FileName: datatran2018.csv\n"
     ]
    },
    {
     "name": "stderr",
     "output_type": "stream",
     "text": [
      "2025-02-12 19:13:34,450 - data_collection.merge_datasets - INFO - Processando dataset do ano 2019: datatran2019.csv\n"
     ]
    },
    {
     "name": "stdout",
     "output_type": "stream",
     "text": [
      "FileName: datatran2019.csv\n"
     ]
    },
    {
     "name": "stderr",
     "output_type": "stream",
     "text": [
      "2025-02-12 19:13:34,709 - data_collection.merge_datasets - INFO - Processando dataset do ano 2020: datatran2020.csv\n"
     ]
    },
    {
     "name": "stdout",
     "output_type": "stream",
     "text": [
      "FileName: datatran2020.csv\n"
     ]
    },
    {
     "name": "stderr",
     "output_type": "stream",
     "text": [
      "2025-02-12 19:13:34,976 - data_collection.merge_datasets - INFO - Processando dataset do ano 2021: datatran2021.csv\n"
     ]
    },
    {
     "name": "stdout",
     "output_type": "stream",
     "text": [
      "FileName: datatran2021.csv\n"
     ]
    },
    {
     "name": "stderr",
     "output_type": "stream",
     "text": [
      "2025-02-12 19:13:35,233 - data_collection.merge_datasets - INFO - Processando dataset do ano 2022: datatran2022.csv\n"
     ]
    },
    {
     "name": "stdout",
     "output_type": "stream",
     "text": [
      "FileName: datatran2022.csv\n"
     ]
    },
    {
     "name": "stderr",
     "output_type": "stream",
     "text": [
      "2025-02-12 19:13:35,499 - data_collection.merge_datasets - INFO - Processando dataset do ano 2023: datatran2023.csv\n"
     ]
    },
    {
     "name": "stdout",
     "output_type": "stream",
     "text": [
      "FileName: datatran2023.csv\n"
     ]
    },
    {
     "name": "stderr",
     "output_type": "stream",
     "text": [
      "2025-02-12 19:13:35,779 - data_collection.merge_datasets - INFO - Processando dataset do ano 2024: datatran2024.csv\n"
     ]
    },
    {
     "name": "stdout",
     "output_type": "stream",
     "text": [
      "FileName: datatran2024.csv\n"
     ]
    },
    {
     "name": "stderr",
     "output_type": "stream",
     "text": [
      "2025-02-12 19:13:36,088 - data_collection.merge_datasets - INFO - Total de registros do Maranhão: 34153\n",
      "2025-02-12 19:13:36,329 - data_collection.merge_datasets - INFO - Dataset do Maranhão unificado salvo em D:\\projetos\\roadSafeAi\\RoadSafeAI\\files\\processed\\maranhao\\datatran_ma_merged_base_2007_2024.csv\n",
      "2025-02-12 19:13:36,331 - data_collection.merge_datasets - INFO - Metadados do Maranhão salvos em D:\\projetos\\roadSafeAi\\RoadSafeAI\\files\\processed\\maranhao\\metadata_ma.txt\n",
      "2025-02-12 19:13:36,333 - data_collection.merge_datasets - INFO - 8 arquivos CSV encontrados para o período 2017-2024.\n",
      "2025-02-12 19:13:36,333 - data_collection.merge_datasets - INFO - Processando dataset do ano 2017: datatran2017.csv\n"
     ]
    },
    {
     "name": "stdout",
     "output_type": "stream",
     "text": [
      "FileName: datatran2007.csv\n",
      "FileName: datatran2008.csv\n",
      "FileName: datatran2009.csv\n",
      "FileName: datatran2010.csv\n",
      "FileName: datatran2011.csv\n",
      "FileName: datatran2012.csv\n",
      "FileName: datatran2013.csv\n",
      "FileName: datatran2014.csv\n",
      "FileName: datatran2015.csv\n",
      "FileName: datatran2016.csv\n",
      "FileName: datatran2017.csv\n",
      "FileName: datatran2018.csv\n",
      "FileName: datatran2019.csv\n",
      "FileName: datatran2020.csv\n",
      "FileName: datatran2021.csv\n",
      "FileName: datatran2022.csv\n",
      "FileName: datatran2023.csv\n",
      "FileName: datatran2024.csv\n",
      "FileName: datatran2017.csv\n"
     ]
    },
    {
     "name": "stderr",
     "output_type": "stream",
     "text": [
      "2025-02-12 19:13:36,698 - data_collection.merge_datasets - INFO - Processando dataset do ano 2018: datatran2018.csv\n"
     ]
    },
    {
     "name": "stdout",
     "output_type": "stream",
     "text": [
      "FileName: datatran2018.csv\n"
     ]
    },
    {
     "name": "stderr",
     "output_type": "stream",
     "text": [
      "2025-02-12 19:13:36,984 - data_collection.merge_datasets - INFO - Processando dataset do ano 2019: datatran2019.csv\n"
     ]
    },
    {
     "name": "stdout",
     "output_type": "stream",
     "text": [
      "FileName: datatran2019.csv\n"
     ]
    },
    {
     "name": "stderr",
     "output_type": "stream",
     "text": [
      "2025-02-12 19:13:37,268 - data_collection.merge_datasets - INFO - Processando dataset do ano 2020: datatran2020.csv\n"
     ]
    },
    {
     "name": "stdout",
     "output_type": "stream",
     "text": [
      "FileName: datatran2020.csv\n"
     ]
    },
    {
     "name": "stderr",
     "output_type": "stream",
     "text": [
      "2025-02-12 19:13:37,539 - data_collection.merge_datasets - INFO - Processando dataset do ano 2021: datatran2021.csv\n"
     ]
    },
    {
     "name": "stdout",
     "output_type": "stream",
     "text": [
      "FileName: datatran2021.csv\n"
     ]
    },
    {
     "name": "stderr",
     "output_type": "stream",
     "text": [
      "2025-02-12 19:13:37,810 - data_collection.merge_datasets - INFO - Processando dataset do ano 2022: datatran2022.csv\n"
     ]
    },
    {
     "name": "stdout",
     "output_type": "stream",
     "text": [
      "FileName: datatran2022.csv\n"
     ]
    },
    {
     "name": "stderr",
     "output_type": "stream",
     "text": [
      "2025-02-12 19:13:38,069 - data_collection.merge_datasets - INFO - Processando dataset do ano 2023: datatran2023.csv\n"
     ]
    },
    {
     "name": "stdout",
     "output_type": "stream",
     "text": [
      "FileName: datatran2023.csv\n"
     ]
    },
    {
     "name": "stderr",
     "output_type": "stream",
     "text": [
      "2025-02-12 19:13:38,348 - data_collection.merge_datasets - INFO - Processando dataset do ano 2024: datatran2024.csv\n"
     ]
    },
    {
     "name": "stdout",
     "output_type": "stream",
     "text": [
      "FileName: datatran2024.csv\n"
     ]
    },
    {
     "name": "stderr",
     "output_type": "stream",
     "text": [
      "2025-02-12 19:13:38,653 - data_collection.merge_datasets - INFO - Total de registros do Maranhão: 9609\n",
      "2025-02-12 19:13:38,751 - data_collection.merge_datasets - INFO - Dataset do Maranhão unificado salvo em D:\\projetos\\roadSafeAi\\RoadSafeAI\\files\\processed\\maranhao\\datatran_ma_merged_complete_2017_2024.csv\n",
      "2025-02-12 19:13:38,753 - data_collection.merge_datasets - INFO - Metadados do Maranhão salvos em D:\\projetos\\roadSafeAi\\RoadSafeAI\\files\\processed\\maranhao\\metadata_ma.txt\n",
      "2025-02-12 19:13:38,753 - preprocessing.transformers.dataset_merger_transformer.DatasetMergerTransformer - INFO - Dataset base selecionado:\n",
      "2025-02-12 19:13:38,754 - preprocessing.transformers.dataset_merger_transformer.DatasetMergerTransformer - INFO - Dimensões: (34153, 25)\n",
      "2025-02-12 19:13:38,755 - preprocessing.transformers.dataset_merger_transformer.DatasetMergerTransformer - INFO - Período: 2007-01-01 00:00:00 até 2024-12-31 00:00:00\n",
      "2025-02-12 19:13:38,756 - preprocessing.transformers.dataset_merger_transformer.DatasetMergerTransformer - INFO - Colunas: ['id', 'data_inversa', 'dia_semana', 'horario', 'uf', 'br', 'km', 'municipio', 'causa_acidente', 'tipo_acidente', 'classificacao_acidente', 'fase_dia', 'sentido_via', 'condicao_metereologica', 'tipo_pista', 'tracado_via', 'uso_solo', 'pessoas', 'mortos', 'feridos_leves', 'feridos_graves', 'ilesos', 'ignorados', 'feridos', 'veiculos']\n",
      "2025-02-12 19:13:38,757 - preprocessing.transformers.data_cleaning_transformer.DataCleaningTransformer - INFO - Iniciando limpeza de dados...\n",
      "2025-02-12 19:13:38,758 - preprocessing.data_cleaning_01.DataCleaning - INFO - Iniciando processo de limpeza do dataset...\n",
      "2025-02-12 19:13:38,761 - preprocessing.data_cleaning_01.DataCleaning - INFO - Colunas removidas: ['id', 'uf', 'tracado_via', 'feridos', 'fase_dia']\n",
      "d:\\projetos\\roadSafeAi\\RoadSafeAI\\src\\preprocessing\\data_cleaning_01.py:64: UserWarning: Boolean Series key will be reindexed to match DataFrame index.\n",
      "  df_clean = df_clean[~mascara_espacos['remove']]\n",
      "2025-02-12 19:13:38,920 - preprocessing.data_cleaning_01.DataCleaning - INFO - Estatísticas de limpeza:\n",
      "2025-02-12 19:13:38,920 - preprocessing.data_cleaning_01.DataCleaning - INFO - - Linhas no dataset original: 34153\n",
      "2025-02-12 19:13:38,921 - preprocessing.data_cleaning_01.DataCleaning - INFO - - Linhas removidas: 3\n",
      "2025-02-12 19:13:38,921 - preprocessing.data_cleaning_01.DataCleaning - INFO - - Percentual removido: 0.0088%\n",
      "2025-02-12 19:13:38,922 - preprocessing.data_cleaning_01.DataCleaning - INFO - - Linhas no dataset final: 34150\n",
      "2025-02-12 19:13:38,960 - preprocessing.data_cleaning_01.DataCleaning - INFO - Removidos 13 registros duplicados.\n",
      "2025-02-12 19:13:38,962 - preprocessing.data_cleaning_01.DataCleaning - INFO - Processo de limpeza concluído com sucesso!\n",
      "2025-02-12 19:13:38,965 - preprocessing.transformers.data_standardize_transformer.DataStandardizeTransformer - INFO - Iniciando padronização de dados...\n",
      "2025-02-12 19:13:38,966 - preprocessing.data_standardize_02.DataStandardize - INFO - Iniciando padronização do dataset...\n",
      "2025-02-12 19:13:39,008 - preprocessing.data_standardize_02.DataStandardize - INFO - Coluna km padronizada. Range: [0, 684]\n",
      "2025-02-12 19:13:39,037 - preprocessing.data_standardize_02.DataStandardize - INFO - Coluna pessoas padronizada. Range: [1, 54]\n",
      "2025-02-12 19:13:39,067 - preprocessing.data_standardize_02.DataStandardize - INFO - Coluna mortos padronizada. Range: [0, 11]\n",
      "2025-02-12 19:13:39,099 - preprocessing.data_standardize_02.DataStandardize - INFO - Coluna feridos_leves padronizada. Range: [0, 37]\n",
      "2025-02-12 19:13:39,129 - preprocessing.data_standardize_02.DataStandardize - INFO - Coluna feridos_graves padronizada. Range: [0, 20]\n",
      "2025-02-12 19:13:39,159 - preprocessing.data_standardize_02.DataStandardize - INFO - Coluna ilesos padronizada. Range: [0, 49]\n",
      "2025-02-12 19:13:39,190 - preprocessing.data_standardize_02.DataStandardize - INFO - Coluna ignorados padronizada. Range: [0, 35]\n",
      "2025-02-12 19:13:39,220 - preprocessing.data_standardize_02.DataStandardize - INFO - Coluna veiculos padronizada. Range: [1, 17]\n",
      "2025-02-12 19:13:39,221 - preprocessing.data_standardize_02.DataStandardize - INFO - Valores numéricos padronizados\n",
      "2025-02-12 19:13:39,239 - preprocessing.data_standardize_02.DataStandardize - INFO - Coluna data_inversa convertida para datetime e renomeada para 'data'\n",
      "2025-02-12 19:13:39,256 - preprocessing.data_standardize_02.DataStandardize - INFO - Distribuição dos períodos do dia:\n",
      "2025-02-12 19:13:39,257 - preprocessing.data_standardize_02.DataStandardize - INFO - - tarde: 11467\n",
      "2025-02-12 19:13:39,258 - preprocessing.data_standardize_02.DataStandardize - INFO - - manha: 9587\n",
      "2025-02-12 19:13:39,258 - preprocessing.data_standardize_02.DataStandardize - INFO - - noite: 9393\n",
      "2025-02-12 19:13:39,259 - preprocessing.data_standardize_02.DataStandardize - INFO - - madrugada: 3690\n",
      "2025-02-12 19:13:39,261 - preprocessing.data_standardize_02.DataStandardize - INFO - Valores temporais padronizados\n",
      "2025-02-12 19:13:39,270 - preprocessing.data_standardize_02.DataStandardize - INFO - Valores únicos originais em uso_solo: ['Rural' 'Urbano' 'Não' 'Sim']\n",
      "2025-02-12 19:13:39,276 - preprocessing.data_standardize_02.DataStandardize - INFO - Valores únicos após padronização em uso_solo: ['Não' 'Sim']\n",
      "2025-02-12 19:13:39,278 - preprocessing.data_standardize_02.DataStandardize - INFO - Coluna uso_solo padronizada\n",
      "2025-02-12 19:13:39,287 - preprocessing.data_standardize_02.DataStandardize - INFO - Valores únicos originais em dia_semana: ['Segunda' 'Quinta' 'Domingo' 'Terça' 'Sexta' 'Quarta' 'Sábado' 'domingo'\n",
      " 'segunda-feira' 'terça-feira' 'quarta-feira' 'quinta-feira' 'sexta-feira'\n",
      " 'sábado']\n",
      "2025-02-12 19:13:39,299 - preprocessing.data_standardize_02.DataStandardize - INFO - Valores únicos após padronização em dia_semana: ['segunda-feira' 'quinta-feira' 'domingo' 'terca-feira' 'sexta-feira'\n",
      " 'quarta-feira' 'sabado']\n",
      "2025-02-12 19:13:39,301 - preprocessing.data_standardize_02.DataStandardize - INFO - Coluna dia_semana padronizada\n",
      "2025-02-12 19:13:39,303 - preprocessing.transformers.feature_engineering_transformer.FeatureEngineeringTransformer - INFO - Iniciando engenharia de features...\n",
      "2025-02-12 19:13:39,305 - preprocessing.feature_engineering_03.FeatureEngineering - INFO - Iniciando criação de novas features...\n",
      "2025-02-12 19:13:39,325 - preprocessing.feature_engineering_03.FeatureEngineering - INFO - Distribuição dos períodos do dia:\n",
      "2025-02-12 19:13:39,330 - preprocessing.feature_engineering_03.FeatureEngineering - INFO - Removendo horario exato, adotado periodo do dia:\n",
      "2025-02-12 19:13:39,331 - preprocessing.feature_engineering_03.FeatureEngineering - INFO - - tarde: 11467 registros\n",
      "2025-02-12 19:13:39,331 - preprocessing.feature_engineering_03.FeatureEngineering - INFO - - manha: 9587 registros\n",
      "2025-02-12 19:13:39,332 - preprocessing.feature_engineering_03.FeatureEngineering - INFO - - noite: 9393 registros\n",
      "2025-02-12 19:13:39,333 - preprocessing.feature_engineering_03.FeatureEngineering - INFO - - madrugada: 3690 registros\n",
      "2025-02-12 19:13:39,333 - preprocessing.feature_engineering_03.FeatureEngineering - INFO - Feature 'periodo_dia' criada com sucesso\n",
      "2025-02-12 19:13:39,547 - preprocessing.feature_engineering_03.FeatureEngineering - INFO - Distribuição das gravidades dos acidentes:\n",
      "2025-02-12 19:13:39,548 - preprocessing.feature_engineering_03.FeatureEngineering - INFO - - sem_vitimas: 14641 registros\n",
      "2025-02-12 19:13:39,549 - preprocessing.feature_engineering_03.FeatureEngineering - INFO - - leve: 8844 registros\n",
      "2025-02-12 19:13:39,549 - preprocessing.feature_engineering_03.FeatureEngineering - INFO - - grave: 6766 registros\n",
      "2025-02-12 19:13:39,550 - preprocessing.feature_engineering_03.FeatureEngineering - INFO - - fatal: 3886 registros\n",
      "2025-02-12 19:13:39,551 - preprocessing.feature_engineering_03.FeatureEngineering - INFO - Feature 'gravidade_acidente' criada com sucesso\n",
      "2025-02-12 19:13:39,564 - preprocessing.feature_engineering_03.FeatureEngineering - INFO - Distribuição final das causas agrupadas:\n",
      "2025-02-12 19:13:39,565 - preprocessing.feature_engineering_03.FeatureEngineering - INFO - - falha_atencao: 11127 registros\n",
      "2025-02-12 19:13:39,565 - preprocessing.feature_engineering_03.FeatureEngineering - INFO - - outros: 11088 registros\n",
      "2025-02-12 19:13:39,566 - preprocessing.feature_engineering_03.FeatureEngineering - INFO - - comportamento_risco: 5384 registros\n",
      "2025-02-12 19:13:39,566 - preprocessing.feature_engineering_03.FeatureEngineering - INFO - - fatores_externos_animais: 1987 registros\n",
      "2025-02-12 19:13:39,566 - preprocessing.feature_engineering_03.FeatureEngineering - INFO - - problemas_tecnicos_via: 1292 registros\n",
      "2025-02-12 19:13:39,567 - preprocessing.feature_engineering_03.FeatureEngineering - INFO - - problemas_tecnicos_veiculo: 1231 registros\n",
      "2025-02-12 19:13:39,567 - preprocessing.feature_engineering_03.FeatureEngineering - INFO - - condutor_alcool_drogas: 1114 registros\n",
      "2025-02-12 19:13:39,568 - preprocessing.feature_engineering_03.FeatureEngineering - INFO - - condutor_fadiga: 884 registros\n",
      "2025-02-12 19:13:39,568 - preprocessing.feature_engineering_03.FeatureEngineering - INFO - - fatores_ambientais: 30 registros\n",
      "2025-02-12 19:13:39,570 - preprocessing.feature_engineering_03.FeatureEngineering - INFO - Feature 'causa_acidente_grupo' criada com sucesso\n",
      "2025-02-12 19:13:39,571 - preprocessing.feature_engineering_03.FeatureEngineering - INFO - Todas as features foram criadas com sucesso!\n",
      "2025-02-12 19:13:39,728 - preprocessing.feature_engineering_03.FeatureEngineering - INFO - Dataset processado salvo em: d:\\projetos\\roadSafeAi\\RoadSafeAI\\files\\processed\\datatran_ma_processado.csv\n",
      "2025-02-12 19:13:39,731 - preprocessing.transformers.data_encoding_transformer.DataEncodingTransformer - INFO - Ajustando codificador de dados...\n",
      "2025-02-12 19:13:39,732 - preprocessing.data_encoding_04.DataEncoding - INFO - Iniciando fit dos encoders...\n",
      "2025-02-12 19:13:39,740 - preprocessing.data_encoding_04.DataEncoding - INFO - Removidas as colunas: ['feridos_graves', 'mortos', 'feridos_leves', 'ilesos']\n",
      "2025-02-12 19:13:39,746 - preprocessing.data_encoding_04.DataEncoding - INFO - Coluna municipio: 110 valores únicos\n",
      "2025-02-12 19:13:39,749 - preprocessing.data_encoding_04.DataEncoding - INFO - Coluna causa_acidente: 92 valores únicos\n",
      "2025-02-12 19:13:39,751 - preprocessing.data_encoding_04.DataEncoding - INFO - Coluna tipo_acidente: 30 valores únicos\n",
      "2025-02-12 19:13:39,754 - preprocessing.data_encoding_04.DataEncoding - INFO - Coluna classificacao_acidente: 4 valores únicos\n",
      "2025-02-12 19:13:39,756 - preprocessing.data_encoding_04.DataEncoding - INFO - Coluna sentido_via: 3 valores únicos\n",
      "2025-02-12 19:13:39,758 - preprocessing.data_encoding_04.DataEncoding - INFO - Coluna condicao_metereologica: 13 valores únicos\n",
      "2025-02-12 19:13:39,760 - preprocessing.data_encoding_04.DataEncoding - INFO - Coluna tipo_pista: 3 valores únicos\n",
      "2025-02-12 19:13:39,761 - preprocessing.data_encoding_04.DataEncoding - INFO - Coluna uso_solo: 2 valores únicos\n",
      "2025-02-12 19:13:39,764 - preprocessing.data_encoding_04.DataEncoding - INFO - Coluna causa_acidente_grupo: 9 valores únicos\n",
      "2025-02-12 19:13:39,765 - preprocessing.data_encoding_04.DataEncoding - INFO - Label Encoder ajustado para periodo_dia\n",
      "2025-02-12 19:13:39,765 - preprocessing.data_encoding_04.DataEncoding - INFO - Label Encoder ajustado para dia_semana\n",
      "2025-02-12 19:13:39,793 - preprocessing.data_encoding_04.DataEncoding - INFO - OneHot Encoder ajustado para ['classificacao_acidente', 'sentido_via', 'tipo_pista', 'uso_solo']\n",
      "2025-02-12 19:13:39,856 - preprocessing.data_encoding_04.DataEncoding - INFO - Target Encoder ajustado para municipio\n",
      "2025-02-12 19:13:39,917 - preprocessing.data_encoding_04.DataEncoding - INFO - Target Encoder ajustado para causa_acidente\n",
      "2025-02-12 19:13:39,980 - preprocessing.data_encoding_04.DataEncoding - INFO - Target Encoder ajustado para tipo_acidente\n",
      "2025-02-12 19:13:40,041 - preprocessing.data_encoding_04.DataEncoding - INFO - Target Encoder ajustado para condicao_metereologica\n",
      "2025-02-12 19:13:40,105 - preprocessing.data_encoding_04.DataEncoding - INFO - Target Encoder ajustado para causa_acidente_grupo\n",
      "2025-02-12 19:13:40,107 - preprocessing.transformers.data_encoding_transformer.DataEncodingTransformer - INFO - Iniciando codificação de dados...\n",
      "2025-02-12 19:13:40,116 - preprocessing.data_encoding_04.DataEncoding - INFO - Removidas as colunas: ['feridos_graves', 'mortos', 'feridos_leves', 'ilesos']\n",
      "2025-02-12 19:13:40,130 - preprocessing.data_encoding_04.DataEncoding - INFO - Label Encoding aplicado em periodo_dia\n",
      "2025-02-12 19:13:40,144 - preprocessing.data_encoding_04.DataEncoding - INFO - Label Encoding aplicado em dia_semana\n",
      "2025-02-12 19:13:40,178 - preprocessing.data_encoding_04.DataEncoding - INFO - OneHot Encoding aplicado em ['classificacao_acidente', 'sentido_via', 'tipo_pista', 'uso_solo']\n",
      "2025-02-12 19:13:40,185 - preprocessing.data_encoding_04.DataEncoding - INFO - Target Encoding aplicado em municipio\n",
      "2025-02-12 19:13:40,191 - preprocessing.data_encoding_04.DataEncoding - INFO - Target Encoding aplicado em causa_acidente\n",
      "2025-02-12 19:13:40,198 - preprocessing.data_encoding_04.DataEncoding - INFO - Target Encoding aplicado em tipo_acidente\n",
      "2025-02-12 19:13:40,205 - preprocessing.data_encoding_04.DataEncoding - INFO - Target Encoding aplicado em condicao_metereologica\n",
      "2025-02-12 19:13:40,211 - preprocessing.data_encoding_04.DataEncoding - INFO - Target Encoding aplicado em causa_acidente_grupo\n",
      "2025-02-12 19:13:40,213 - pipelines.preprocessing_pipeline.PreprocessingPipeline - INFO - Dimensões após pré-processamento: (34137, 23)\n",
      "2025-02-12 19:13:40,214 - preprocessing.data_split_05.DataSplit - INFO - Iniciando preparação dos dados...\n",
      "2025-02-12 19:13:40,219 - preprocessing.data_split_05.DataSplit - INFO - Colunas removidas: ['data', 'causa_acidente']\n",
      "2025-02-12 19:13:40,221 - preprocessing.data_split_05.DataSplit - INFO - Distribuição inicial das classes:\n",
      "2025-02-12 19:13:40,224 - preprocessing.data_split_05.DataSplit - INFO - \n",
      "Distribuição das classes:\n",
      "2025-02-12 19:13:40,224 - preprocessing.data_split_05.DataSplit - INFO - - Classe sem_vitimas: 42.89%\n",
      "2025-02-12 19:13:40,225 - preprocessing.data_split_05.DataSplit - INFO - - Classe leve: 25.91%\n",
      "2025-02-12 19:13:40,225 - preprocessing.data_split_05.DataSplit - INFO - - Classe grave: 19.82%\n",
      "2025-02-12 19:13:40,226 - preprocessing.data_split_05.DataSplit - INFO - - Classe fatal: 11.38%\n",
      "2025-02-12 19:13:40,276 - preprocessing.data_split_05.DataSplit - INFO - \n",
      "Dimensões dos conjuntos:\n",
      "2025-02-12 19:13:40,277 - preprocessing.data_split_05.DataSplit - INFO - - Treino: (20481, 20)\n",
      "2025-02-12 19:13:40,278 - preprocessing.data_split_05.DataSplit - INFO - - Validação: (6828, 20)\n",
      "2025-02-12 19:13:40,278 - preprocessing.data_split_05.DataSplit - INFO - - Teste: (6828, 20)\n",
      "2025-02-12 19:13:40,280 - preprocessing.data_split_05.DataSplit - INFO - \n",
      "Distribuição das classes - Treino:\n",
      "2025-02-12 19:13:40,280 - preprocessing.data_split_05.DataSplit - INFO - - Classe sem_vitimas: 42.89%\n",
      "2025-02-12 19:13:40,281 - preprocessing.data_split_05.DataSplit - INFO - - Classe leve: 25.91%\n",
      "2025-02-12 19:13:40,282 - preprocessing.data_split_05.DataSplit - INFO - - Classe grave: 19.82%\n",
      "2025-02-12 19:13:40,282 - preprocessing.data_split_05.DataSplit - INFO - - Classe fatal: 11.39%\n",
      "2025-02-12 19:13:40,283 - preprocessing.data_split_05.DataSplit - INFO - \n",
      "Distribuição das classes - Validação:\n",
      "2025-02-12 19:13:40,284 - preprocessing.data_split_05.DataSplit - INFO - - Classe sem_vitimas: 42.88%\n",
      "2025-02-12 19:13:40,285 - preprocessing.data_split_05.DataSplit - INFO - - Classe leve: 25.91%\n",
      "2025-02-12 19:13:40,285 - preprocessing.data_split_05.DataSplit - INFO - - Classe grave: 19.83%\n",
      "2025-02-12 19:13:40,286 - preprocessing.data_split_05.DataSplit - INFO - - Classe fatal: 11.38%\n",
      "2025-02-12 19:13:40,287 - preprocessing.data_split_05.DataSplit - INFO - \n",
      "Distribuição das classes - Teste:\n",
      "2025-02-12 19:13:40,288 - preprocessing.data_split_05.DataSplit - INFO - - Classe sem_vitimas: 42.90%\n",
      "2025-02-12 19:13:40,288 - preprocessing.data_split_05.DataSplit - INFO - - Classe leve: 25.91%\n",
      "2025-02-12 19:13:40,288 - preprocessing.data_split_05.DataSplit - INFO - - Classe grave: 19.82%\n",
      "2025-02-12 19:13:40,289 - preprocessing.data_split_05.DataSplit - INFO - - Classe fatal: 11.38%\n",
      "2025-02-12 19:13:40,290 - preprocessing.data_split_05.DataSplit - INFO - Preparação dos dados concluída!\n",
      "2025-02-12 19:13:40,298 - pipelines.preprocessing_pipeline.PreprocessingPipeline - INFO - Tipos de dados após conversão:\n",
      "2025-02-12 19:13:40,299 - pipelines.preprocessing_pipeline.PreprocessingPipeline - INFO - - dia_semana: int32\n",
      "2025-02-12 19:13:40,300 - pipelines.preprocessing_pipeline.PreprocessingPipeline - INFO - - br: float64\n",
      "2025-02-12 19:13:40,300 - pipelines.preprocessing_pipeline.PreprocessingPipeline - INFO - - km: int32\n",
      "2025-02-12 19:13:40,301 - pipelines.preprocessing_pipeline.PreprocessingPipeline - INFO - - municipio: float64\n",
      "2025-02-12 19:13:40,301 - pipelines.preprocessing_pipeline.PreprocessingPipeline - INFO - - tipo_acidente: float64\n",
      "2025-02-12 19:13:40,302 - pipelines.preprocessing_pipeline.PreprocessingPipeline - INFO - - condicao_metereologica: float64\n",
      "2025-02-12 19:13:40,302 - pipelines.preprocessing_pipeline.PreprocessingPipeline - INFO - - pessoas: int32\n",
      "2025-02-12 19:13:40,303 - pipelines.preprocessing_pipeline.PreprocessingPipeline - INFO - - ignorados: int32\n",
      "2025-02-12 19:13:40,304 - pipelines.preprocessing_pipeline.PreprocessingPipeline - INFO - - veiculos: int32\n",
      "2025-02-12 19:13:40,304 - pipelines.preprocessing_pipeline.PreprocessingPipeline - INFO - - ano: int32\n",
      "2025-02-12 19:13:40,305 - pipelines.preprocessing_pipeline.PreprocessingPipeline - INFO - - periodo_dia: int32\n",
      "2025-02-12 19:13:40,305 - pipelines.preprocessing_pipeline.PreprocessingPipeline - INFO - - causa_acidente_grupo: float64\n",
      "2025-02-12 19:13:40,306 - pipelines.preprocessing_pipeline.PreprocessingPipeline - INFO - - classificacao_acidente_Com Vítimas Feridas: float64\n",
      "2025-02-12 19:13:40,306 - pipelines.preprocessing_pipeline.PreprocessingPipeline - INFO - - classificacao_acidente_Ignorado: float64\n",
      "2025-02-12 19:13:40,307 - pipelines.preprocessing_pipeline.PreprocessingPipeline - INFO - - classificacao_acidente_Sem Vítimas: float64\n",
      "2025-02-12 19:13:40,307 - pipelines.preprocessing_pipeline.PreprocessingPipeline - INFO - - sentido_via_Decrescente: float64\n",
      "2025-02-12 19:13:40,309 - pipelines.preprocessing_pipeline.PreprocessingPipeline - INFO - - sentido_via_Não Informado: float64\n",
      "2025-02-12 19:13:40,309 - pipelines.preprocessing_pipeline.PreprocessingPipeline - INFO - - tipo_pista_Múltipla: float64\n",
      "2025-02-12 19:13:40,310 - pipelines.preprocessing_pipeline.PreprocessingPipeline - INFO - - tipo_pista_Simples: float64\n",
      "2025-02-12 19:13:40,311 - pipelines.preprocessing_pipeline.PreprocessingPipeline - INFO - - uso_solo_Sim: float64\n",
      "2025-02-12 19:13:40,311 - pipelines.preprocessing_pipeline.PreprocessingPipeline - INFO - Aplicando estratégia de balanceamento smote...\n",
      "2025-02-12 19:13:40,311 - preprocessing.balancing_strategy.data_balancing_strategy.DataBalancingStrategy - INFO - Aplicando SMOTE...\n",
      "2025-02-12 19:13:40,313 - preprocessing.balancing_strategy.data_balancing_strategy.DataBalancingStrategy - INFO - \n",
      "Distribuição das classes - antes do SMOTE:\n",
      "2025-02-12 19:13:40,313 - preprocessing.balancing_strategy.data_balancing_strategy.DataBalancingStrategy - INFO - - Classe sem_vitimas: 8784 amostras (42.89%)\n",
      "2025-02-12 19:13:40,314 - preprocessing.balancing_strategy.data_balancing_strategy.DataBalancingStrategy - INFO - - Classe leve: 5306 amostras (25.91%)\n",
      "2025-02-12 19:13:40,315 - preprocessing.balancing_strategy.data_balancing_strategy.DataBalancingStrategy - INFO - - Classe grave: 4059 amostras (19.82%)\n",
      "2025-02-12 19:13:40,315 - preprocessing.balancing_strategy.data_balancing_strategy.DataBalancingStrategy - INFO - - Classe fatal: 2332 amostras (11.39%)\n",
      "d:\\projetos\\roadSafeAi\\RoadSafeAI\\env\\lib\\site-packages\\sklearn\\base.py:474: FutureWarning: `BaseEstimator._validate_data` is deprecated in 1.6 and will be removed in 1.7. Use `sklearn.utils.validation.validate_data` instead. This function becomes public and is part of the scikit-learn developer API.\n",
      "  warnings.warn(\n",
      "2025-02-12 19:13:40,606 - preprocessing.balancing_strategy.data_balancing_strategy.DataBalancingStrategy - INFO - \n",
      "Distribuição das classes - após SMOTE:\n",
      "2025-02-12 19:13:40,607 - preprocessing.balancing_strategy.data_balancing_strategy.DataBalancingStrategy - INFO - - Classe grave: 8784 amostras (25.00%)\n",
      "2025-02-12 19:13:40,607 - preprocessing.balancing_strategy.data_balancing_strategy.DataBalancingStrategy - INFO - - Classe sem_vitimas: 8784 amostras (25.00%)\n",
      "2025-02-12 19:13:40,608 - preprocessing.balancing_strategy.data_balancing_strategy.DataBalancingStrategy - INFO - - Classe leve: 8784 amostras (25.00%)\n",
      "2025-02-12 19:13:40,608 - preprocessing.balancing_strategy.data_balancing_strategy.DataBalancingStrategy - INFO - - Classe fatal: 8784 amostras (25.00%)\n",
      "2025-02-12 19:13:40,612 - lab.hiperparameter_optimization - INFO - Otimizando Decision Tree...\n",
      "[I 2025-02-12 19:13:40,612] A new study created in memory with name: no-name-7157b5dc-81fa-41ab-9d1f-d586efa6ceff\n",
      "[I 2025-02-12 19:13:41,403] Trial 0 finished with value: 0.8086023086160342 and parameters: {'max_depth': 14, 'min_samples_split': 19, 'min_samples_leaf': 3, 'criterion': 'entropy'}. Best is trial 0 with value: 0.8086023086160342.\n",
      "[I 2025-02-12 19:13:42,080] Trial 1 finished with value: 0.7973462115327562 and parameters: {'max_depth': 10, 'min_samples_split': 9, 'min_samples_leaf': 9, 'criterion': 'entropy'}. Best is trial 0 with value: 0.8086023086160342.\n",
      "[I 2025-02-12 19:13:42,921] Trial 2 finished with value: 0.8143704308708116 and parameters: {'max_depth': 26, 'min_samples_split': 8, 'min_samples_leaf': 6, 'criterion': 'entropy'}. Best is trial 2 with value: 0.8143704308708116.\n",
      "[I 2025-02-12 19:13:43,683] Trial 3 finished with value: 0.811728018090703 and parameters: {'max_depth': 20, 'min_samples_split': 15, 'min_samples_leaf': 3, 'criterion': 'gini'}. Best is trial 2 with value: 0.8143704308708116.\n",
      "[I 2025-02-12 19:13:44,491] Trial 4 finished with value: 0.8092991484884055 and parameters: {'max_depth': 24, 'min_samples_split': 11, 'min_samples_leaf': 9, 'criterion': 'entropy'}. Best is trial 2 with value: 0.8143704308708116.\n",
      "[I 2025-02-12 19:13:45,113] Trial 5 finished with value: 0.7999086547729986 and parameters: {'max_depth': 8, 'min_samples_split': 12, 'min_samples_leaf': 1, 'criterion': 'entropy'}. Best is trial 2 with value: 0.8143704308708116.\n",
      "[I 2025-02-12 19:13:45,952] Trial 6 finished with value: 0.8133337364852249 and parameters: {'max_depth': 23, 'min_samples_split': 13, 'min_samples_leaf': 6, 'criterion': 'entropy'}. Best is trial 2 with value: 0.8143704308708116.\n",
      "[I 2025-02-12 19:13:46,639] Trial 7 finished with value: 0.8080268264774345 and parameters: {'max_depth': 13, 'min_samples_split': 8, 'min_samples_leaf': 5, 'criterion': 'gini'}. Best is trial 2 with value: 0.8143704308708116.\n",
      "[I 2025-02-12 19:13:47,322] Trial 8 finished with value: 0.7974409991717817 and parameters: {'max_depth': 10, 'min_samples_split': 16, 'min_samples_leaf': 4, 'criterion': 'entropy'}. Best is trial 2 with value: 0.8143704308708116.\n",
      "[I 2025-02-12 19:13:48,044] Trial 9 finished with value: 0.8102300658415569 and parameters: {'max_depth': 15, 'min_samples_split': 4, 'min_samples_leaf': 6, 'criterion': 'gini'}. Best is trial 2 with value: 0.8143704308708116.\n",
      "[I 2025-02-12 19:13:48,786] Trial 10 finished with value: 0.8107896262711985 and parameters: {'max_depth': 30, 'min_samples_split': 2, 'min_samples_leaf': 8, 'criterion': 'gini'}. Best is trial 2 with value: 0.8143704308708116.\n",
      "[I 2025-02-12 19:13:49,620] Trial 11 finished with value: 0.8112132734954685 and parameters: {'max_depth': 26, 'min_samples_split': 6, 'min_samples_leaf': 7, 'criterion': 'entropy'}. Best is trial 2 with value: 0.8143704308708116.\n",
      "[I 2025-02-12 19:13:50,459] Trial 12 finished with value: 0.8139224161143659 and parameters: {'max_depth': 21, 'min_samples_split': 13, 'min_samples_leaf': 6, 'criterion': 'entropy'}. Best is trial 2 with value: 0.8143704308708116.\n",
      "[I 2025-02-12 19:13:50,947] Trial 13 finished with value: 0.7848103885078863 and parameters: {'max_depth': 3, 'min_samples_split': 9, 'min_samples_leaf': 7, 'criterion': 'entropy'}. Best is trial 2 with value: 0.8143704308708116.\n",
      "[I 2025-02-12 19:13:51,751] Trial 14 finished with value: 0.8079774993619069 and parameters: {'max_depth': 19, 'min_samples_split': 20, 'min_samples_leaf': 10, 'criterion': 'entropy'}. Best is trial 2 with value: 0.8143704308708116.\n",
      "[I 2025-02-12 19:13:52,602] Trial 15 finished with value: 0.8139444594752312 and parameters: {'max_depth': 30, 'min_samples_split': 15, 'min_samples_leaf': 5, 'criterion': 'entropy'}. Best is trial 2 with value: 0.8143704308708116.\n",
      "[I 2025-02-12 19:13:53,455] Trial 16 finished with value: 0.8123490928138063 and parameters: {'max_depth': 30, 'min_samples_split': 17, 'min_samples_leaf': 4, 'criterion': 'entropy'}. Best is trial 2 with value: 0.8143704308708116.\n",
      "[I 2025-02-12 19:13:54,362] Trial 17 finished with value: 0.8208469521680584 and parameters: {'max_depth': 27, 'min_samples_split': 6, 'min_samples_leaf': 2, 'criterion': 'entropy'}. Best is trial 17 with value: 0.8208469521680584.\n",
      "[I 2025-02-12 19:13:55,165] Trial 18 finished with value: 0.8187124099428902 and parameters: {'max_depth': 26, 'min_samples_split': 6, 'min_samples_leaf': 1, 'criterion': 'gini'}. Best is trial 17 with value: 0.8208469521680584.\n",
      "[I 2025-02-12 19:13:55,971] Trial 19 finished with value: 0.8214694847065994 and parameters: {'max_depth': 27, 'min_samples_split': 4, 'min_samples_leaf': 1, 'criterion': 'gini'}. Best is trial 19 with value: 0.8214694847065994.\n",
      "[I 2025-02-12 19:13:56,786] Trial 20 finished with value: 0.8202222796473906 and parameters: {'max_depth': 23, 'min_samples_split': 2, 'min_samples_leaf': 2, 'criterion': 'gini'}. Best is trial 19 with value: 0.8214694847065994.\n",
      "[I 2025-02-12 19:13:57,593] Trial 21 finished with value: 0.8210753039238174 and parameters: {'max_depth': 27, 'min_samples_split': 2, 'min_samples_leaf': 2, 'criterion': 'gini'}. Best is trial 19 with value: 0.8214694847065994.\n",
      "[I 2025-02-12 19:13:58,386] Trial 22 finished with value: 0.8210753039238174 and parameters: {'max_depth': 27, 'min_samples_split': 4, 'min_samples_leaf': 2, 'criterion': 'gini'}. Best is trial 19 with value: 0.8214694847065994.\n",
      "[I 2025-02-12 19:13:59,187] Trial 23 finished with value: 0.8219232416806822 and parameters: {'max_depth': 28, 'min_samples_split': 4, 'min_samples_leaf': 2, 'criterion': 'gini'}. Best is trial 23 with value: 0.8219232416806822.\n",
      "[I 2025-02-12 19:13:59,968] Trial 24 finished with value: 0.8159234772518855 and parameters: {'max_depth': 18, 'min_samples_split': 4, 'min_samples_leaf': 1, 'criterion': 'gini'}. Best is trial 23 with value: 0.8219232416806822.\n",
      "[I 2025-02-12 19:14:00,751] Trial 25 finished with value: 0.8179859749933795 and parameters: {'max_depth': 28, 'min_samples_split': 2, 'min_samples_leaf': 3, 'criterion': 'gini'}. Best is trial 23 with value: 0.8219232416806822.\n",
      "[I 2025-02-12 19:14:01,550] Trial 26 finished with value: 0.8205867087016754 and parameters: {'max_depth': 24, 'min_samples_split': 4, 'min_samples_leaf': 2, 'criterion': 'gini'}. Best is trial 23 with value: 0.8219232416806822.\n",
      "[I 2025-02-12 19:14:02,315] Trial 27 finished with value: 0.8169662469783546 and parameters: {'max_depth': 22, 'min_samples_split': 5, 'min_samples_leaf': 4, 'criterion': 'gini'}. Best is trial 23 with value: 0.8219232416806822.\n",
      "[I 2025-02-12 19:14:03,133] Trial 28 finished with value: 0.8218947531036559 and parameters: {'max_depth': 28, 'min_samples_split': 3, 'min_samples_leaf': 1, 'criterion': 'gini'}. Best is trial 23 with value: 0.8219232416806822.\n",
      "[I 2025-02-12 19:14:03,936] Trial 29 finished with value: 0.8219558044294036 and parameters: {'max_depth': 29, 'min_samples_split': 3, 'min_samples_leaf': 1, 'criterion': 'gini'}. Best is trial 29 with value: 0.8219558044294036.\n",
      "[I 2025-02-12 19:14:04,688] Trial 30 finished with value: 0.8145867399022311 and parameters: {'max_depth': 17, 'min_samples_split': 7, 'min_samples_leaf': 3, 'criterion': 'gini'}. Best is trial 29 with value: 0.8219558044294036.\n",
      "[I 2025-02-12 19:14:05,501] Trial 31 finished with value: 0.8219558044294036 and parameters: {'max_depth': 29, 'min_samples_split': 3, 'min_samples_leaf': 1, 'criterion': 'gini'}. Best is trial 29 with value: 0.8219558044294036.\n",
      "[I 2025-02-12 19:14:06,310] Trial 32 finished with value: 0.8219558044294036 and parameters: {'max_depth': 29, 'min_samples_split': 3, 'min_samples_leaf': 1, 'criterion': 'gini'}. Best is trial 29 with value: 0.8219558044294036.\n",
      "[I 2025-02-12 19:14:07,118] Trial 33 finished with value: 0.8219558044294036 and parameters: {'max_depth': 29, 'min_samples_split': 3, 'min_samples_leaf': 1, 'criterion': 'gini'}. Best is trial 29 with value: 0.8219558044294036.\n",
      "[I 2025-02-12 19:14:07,936] Trial 34 finished with value: 0.8227513047436961 and parameters: {'max_depth': 30, 'min_samples_split': 3, 'min_samples_leaf': 1, 'criterion': 'gini'}. Best is trial 34 with value: 0.8227513047436961.\n",
      "[I 2025-02-12 19:14:08,718] Trial 35 finished with value: 0.8183045893707461 and parameters: {'max_depth': 25, 'min_samples_split': 9, 'min_samples_leaf': 3, 'criterion': 'gini'}. Best is trial 34 with value: 0.8227513047436961.\n",
      "[I 2025-02-12 19:14:09,523] Trial 36 finished with value: 0.8202695009137827 and parameters: {'max_depth': 30, 'min_samples_split': 5, 'min_samples_leaf': 1, 'criterion': 'gini'}. Best is trial 34 with value: 0.8227513047436961.\n",
      "[I 2025-02-12 19:14:10,310] Trial 37 finished with value: 0.818685095815727 and parameters: {'max_depth': 25, 'min_samples_split': 7, 'min_samples_leaf': 2, 'criterion': 'gini'}. Best is trial 34 with value: 0.8227513047436961.\n",
      "[I 2025-02-12 19:14:11,097] Trial 38 finished with value: 0.8181903548733119 and parameters: {'max_depth': 29, 'min_samples_split': 3, 'min_samples_leaf': 3, 'criterion': 'gini'}. Best is trial 34 with value: 0.8227513047436961.\n",
      "[I 2025-02-12 19:14:11,910] Trial 39 finished with value: 0.8207055984668891 and parameters: {'max_depth': 25, 'min_samples_split': 5, 'min_samples_leaf': 1, 'criterion': 'gini'}. Best is trial 34 with value: 0.8227513047436961.\n",
      "[I 2025-02-12 19:14:12,689] Trial 40 finished with value: 0.8156475847099175 and parameters: {'max_depth': 21, 'min_samples_split': 10, 'min_samples_leaf': 2, 'criterion': 'gini'}. Best is trial 34 with value: 0.8227513047436961.\n",
      "[I 2025-02-12 19:14:13,497] Trial 41 finished with value: 0.8219558044294036 and parameters: {'max_depth': 29, 'min_samples_split': 3, 'min_samples_leaf': 1, 'criterion': 'gini'}. Best is trial 34 with value: 0.8227513047436961.\n",
      "[I 2025-02-12 19:14:14,311] Trial 42 finished with value: 0.8219558044294036 and parameters: {'max_depth': 29, 'min_samples_split': 3, 'min_samples_leaf': 1, 'criterion': 'gini'}. Best is trial 34 with value: 0.8227513047436961.\n",
      "[I 2025-02-12 19:14:15,121] Trial 43 finished with value: 0.8226349795145265 and parameters: {'max_depth': 28, 'min_samples_split': 2, 'min_samples_leaf': 1, 'criterion': 'gini'}. Best is trial 34 with value: 0.8227513047436961.\n",
      "[I 2025-02-12 19:14:15,818] Trial 44 finished with value: 0.8079704615391667 and parameters: {'max_depth': 13, 'min_samples_split': 2, 'min_samples_leaf': 2, 'criterion': 'gini'}. Best is trial 34 with value: 0.8227513047436961.\n",
      "[I 2025-02-12 19:14:16,631] Trial 45 finished with value: 0.8203020731500112 and parameters: {'max_depth': 28, 'min_samples_split': 5, 'min_samples_leaf': 1, 'criterion': 'gini'}. Best is trial 34 with value: 0.8227513047436961.\n",
      "[I 2025-02-12 19:14:17,405] Trial 46 finished with value: 0.8185450141873065 and parameters: {'max_depth': 24, 'min_samples_split': 7, 'min_samples_leaf': 3, 'criterion': 'gini'}. Best is trial 34 with value: 0.8227513047436961.\n",
      "[I 2025-02-12 19:14:18,218] Trial 47 finished with value: 0.8234368800528253 and parameters: {'max_depth': 26, 'min_samples_split': 2, 'min_samples_leaf': 1, 'criterion': 'gini'}. Best is trial 47 with value: 0.8234368800528253.\n",
      "[I 2025-02-12 19:14:19,011] Trial 48 finished with value: 0.8201444264171004 and parameters: {'max_depth': 26, 'min_samples_split': 2, 'min_samples_leaf': 2, 'criterion': 'gini'}. Best is trial 47 with value: 0.8234368800528253.\n",
      "[I 2025-02-12 19:14:19,649] Trial 49 finished with value: 0.8013772766354108 and parameters: {'max_depth': 10, 'min_samples_split': 6, 'min_samples_leaf': 3, 'criterion': 'gini'}. Best is trial 47 with value: 0.8234368800528253.\n",
      "[I 2025-02-12 19:14:20,393] Trial 50 finished with value: 0.8107896262711985 and parameters: {'max_depth': 30, 'min_samples_split': 12, 'min_samples_leaf': 8, 'criterion': 'gini'}. Best is trial 47 with value: 0.8234368800528253.\n",
      "[I 2025-02-12 19:14:20,918] Trial 51 finished with value: 0.791035761548255 and parameters: {'max_depth': 5, 'min_samples_split': 2, 'min_samples_leaf': 1, 'criterion': 'gini'}. Best is trial 47 with value: 0.8234368800528253.\n",
      "[I 2025-02-12 19:14:21,726] Trial 52 finished with value: 0.8218947531036559 and parameters: {'max_depth': 28, 'min_samples_split': 3, 'min_samples_leaf': 1, 'criterion': 'gini'}. Best is trial 47 with value: 0.8234368800528253.\n",
      "[I 2025-02-12 19:14:22,539] Trial 53 finished with value: 0.8227513047436961 and parameters: {'max_depth': 30, 'min_samples_split': 3, 'min_samples_leaf': 1, 'criterion': 'gini'}. Best is trial 47 with value: 0.8234368800528253.\n",
      "[I 2025-02-12 19:14:23,334] Trial 54 finished with value: 0.8194474313057061 and parameters: {'max_depth': 30, 'min_samples_split': 5, 'min_samples_leaf': 2, 'criterion': 'gini'}. Best is trial 47 with value: 0.8234368800528253.\n",
      "[I 2025-02-12 19:14:24,144] Trial 55 finished with value: 0.8208623785529549 and parameters: {'max_depth': 26, 'min_samples_split': 4, 'min_samples_leaf': 1, 'criterion': 'gini'}. Best is trial 47 with value: 0.8234368800528253.\n",
      "[I 2025-02-12 19:14:25,022] Trial 56 finished with value: 0.8187856201394549 and parameters: {'max_depth': 27, 'min_samples_split': 2, 'min_samples_leaf': 4, 'criterion': 'entropy'}. Best is trial 47 with value: 0.8234368800528253.\n",
      "[I 2025-02-12 19:14:25,755] Trial 57 finished with value: 0.8103982022908974 and parameters: {'max_depth': 30, 'min_samples_split': 3, 'min_samples_leaf': 10, 'criterion': 'gini'}. Best is trial 47 with value: 0.8234368800528253.\n",
      "[I 2025-02-12 19:14:26,555] Trial 58 finished with value: 0.8186231826399849 and parameters: {'max_depth': 23, 'min_samples_split': 8, 'min_samples_leaf': 2, 'criterion': 'gini'}. Best is trial 47 with value: 0.8234368800528253.\n",
      "[I 2025-02-12 19:14:27,312] Trial 59 finished with value: 0.8144486781536495 and parameters: {'max_depth': 15, 'min_samples_split': 2, 'min_samples_leaf': 1, 'criterion': 'gini'}. Best is trial 47 with value: 0.8234368800528253.\n",
      "[I 2025-02-12 19:14:28,228] Trial 60 finished with value: 0.8213602920618299 and parameters: {'max_depth': 27, 'min_samples_split': 4, 'min_samples_leaf': 2, 'criterion': 'entropy'}. Best is trial 47 with value: 0.8234368800528253.\n",
      "[I 2025-02-12 19:14:29,047] Trial 61 finished with value: 0.8219558044294036 and parameters: {'max_depth': 29, 'min_samples_split': 3, 'min_samples_leaf': 1, 'criterion': 'gini'}. Best is trial 47 with value: 0.8234368800528253.\n",
      "[I 2025-02-12 19:14:29,882] Trial 62 finished with value: 0.8211260000918716 and parameters: {'max_depth': 28, 'min_samples_split': 4, 'min_samples_leaf': 1, 'criterion': 'gini'}. Best is trial 47 with value: 0.8234368800528253.\n",
      "[I 2025-02-12 19:14:30,695] Trial 63 finished with value: 0.8219558044294036 and parameters: {'max_depth': 29, 'min_samples_split': 3, 'min_samples_leaf': 1, 'criterion': 'gini'}. Best is trial 47 with value: 0.8234368800528253.\n",
      "[I 2025-02-12 19:14:31,466] Trial 64 finished with value: 0.8112568469334456 and parameters: {'max_depth': 26, 'min_samples_split': 17, 'min_samples_leaf': 5, 'criterion': 'gini'}. Best is trial 47 with value: 0.8234368800528253.\n",
      "[I 2025-02-12 19:14:32,267] Trial 65 finished with value: 0.8194474313057061 and parameters: {'max_depth': 30, 'min_samples_split': 5, 'min_samples_leaf': 2, 'criterion': 'gini'}. Best is trial 47 with value: 0.8234368800528253.\n",
      "[I 2025-02-12 19:14:33,087] Trial 66 finished with value: 0.8226349795145265 and parameters: {'max_depth': 28, 'min_samples_split': 2, 'min_samples_leaf': 1, 'criterion': 'gini'}. Best is trial 47 with value: 0.8234368800528253.\n",
      "[I 2025-02-12 19:14:33,901] Trial 67 finished with value: 0.8210753039238174 and parameters: {'max_depth': 27, 'min_samples_split': 2, 'min_samples_leaf': 2, 'criterion': 'gini'}. Best is trial 47 with value: 0.8234368800528253.\n",
      "[I 2025-02-12 19:14:34,721] Trial 68 finished with value: 0.8238080011767517 and parameters: {'max_depth': 25, 'min_samples_split': 2, 'min_samples_leaf': 1, 'criterion': 'gini'}. Best is trial 68 with value: 0.8238080011767517.\n",
      "[I 2025-02-12 19:14:35,559] Trial 69 finished with value: 0.8104687956130346 and parameters: {'max_depth': 25, 'min_samples_split': 2, 'min_samples_leaf': 7, 'criterion': 'entropy'}. Best is trial 68 with value: 0.8238080011767517.\n",
      "[I 2025-02-12 19:14:36,372] Trial 70 finished with value: 0.8191630227960156 and parameters: {'max_depth': 23, 'min_samples_split': 6, 'min_samples_leaf': 1, 'criterion': 'gini'}. Best is trial 68 with value: 0.8238080011767517.\n",
      "[I 2025-02-12 19:14:37,189] Trial 71 finished with value: 0.8211260000918716 and parameters: {'max_depth': 28, 'min_samples_split': 4, 'min_samples_leaf': 1, 'criterion': 'gini'}. Best is trial 68 with value: 0.8238080011767517.\n",
      "[I 2025-02-12 19:14:38,023] Trial 72 finished with value: 0.8230640939948032 and parameters: {'max_depth': 27, 'min_samples_split': 2, 'min_samples_leaf': 1, 'criterion': 'gini'}. Best is trial 68 with value: 0.8238080011767517.\n",
      "[I 2025-02-12 19:14:38,827] Trial 73 finished with value: 0.8205867087016754 and parameters: {'max_depth': 24, 'min_samples_split': 2, 'min_samples_leaf': 2, 'criterion': 'gini'}. Best is trial 68 with value: 0.8238080011767517.\n",
      "[I 2025-02-12 19:14:39,659] Trial 74 finished with value: 0.8230640939948032 and parameters: {'max_depth': 27, 'min_samples_split': 2, 'min_samples_leaf': 1, 'criterion': 'gini'}. Best is trial 68 with value: 0.8238080011767517.\n",
      "[I 2025-02-12 19:14:40,480] Trial 75 finished with value: 0.8234368800528253 and parameters: {'max_depth': 26, 'min_samples_split': 2, 'min_samples_leaf': 1, 'criterion': 'gini'}. Best is trial 68 with value: 0.8238080011767517.\n",
      "[I 2025-02-12 19:14:41,282] Trial 76 finished with value: 0.8210845112954266 and parameters: {'max_depth': 22, 'min_samples_split': 4, 'min_samples_leaf': 2, 'criterion': 'gini'}. Best is trial 68 with value: 0.8238080011767517.\n",
      "[I 2025-02-12 19:14:42,108] Trial 77 finished with value: 0.8238080011767517 and parameters: {'max_depth': 25, 'min_samples_split': 2, 'min_samples_leaf': 1, 'criterion': 'gini'}. Best is trial 68 with value: 0.8238080011767517.\n",
      "[I 2025-02-12 19:14:42,915] Trial 78 finished with value: 0.8205867087016754 and parameters: {'max_depth': 24, 'min_samples_split': 3, 'min_samples_leaf': 2, 'criterion': 'gini'}. Best is trial 68 with value: 0.8238080011767517.\n",
      "[I 2025-02-12 19:14:43,731] Trial 79 finished with value: 0.8220388623005854 and parameters: {'max_depth': 25, 'min_samples_split': 3, 'min_samples_leaf': 1, 'criterion': 'gini'}. Best is trial 68 with value: 0.8238080011767517.\n",
      "[I 2025-02-12 19:14:44,543] Trial 80 finished with value: 0.8210581566799814 and parameters: {'max_depth': 20, 'min_samples_split': 2, 'min_samples_leaf': 1, 'criterion': 'gini'}. Best is trial 68 with value: 0.8238080011767517.\n",
      "[I 2025-02-12 19:14:45,370] Trial 81 finished with value: 0.8234368800528253 and parameters: {'max_depth': 26, 'min_samples_split': 2, 'min_samples_leaf': 1, 'criterion': 'gini'}. Best is trial 68 with value: 0.8238080011767517.\n",
      "[I 2025-02-12 19:14:46,195] Trial 82 finished with value: 0.8234368800528253 and parameters: {'max_depth': 26, 'min_samples_split': 2, 'min_samples_leaf': 1, 'criterion': 'gini'}. Best is trial 68 with value: 0.8238080011767517.\n",
      "[I 2025-02-12 19:14:47,003] Trial 83 finished with value: 0.8201444264171004 and parameters: {'max_depth': 26, 'min_samples_split': 2, 'min_samples_leaf': 2, 'criterion': 'gini'}. Best is trial 68 with value: 0.8238080011767517.\n",
      "[I 2025-02-12 19:14:47,743] Trial 84 finished with value: 0.8109296532068943 and parameters: {'max_depth': 25, 'min_samples_split': 2, 'min_samples_leaf': 9, 'criterion': 'gini'}. Best is trial 68 with value: 0.8238080011767517.\n",
      "[I 2025-02-12 19:14:48,539] Trial 85 finished with value: 0.814465653791672 and parameters: {'max_depth': 27, 'min_samples_split': 14, 'min_samples_leaf': 1, 'criterion': 'gini'}. Best is trial 68 with value: 0.8238080011767517.\n",
      "[I 2025-02-12 19:14:49,354] Trial 86 finished with value: 0.8202055924464933 and parameters: {'max_depth': 22, 'min_samples_split': 4, 'min_samples_leaf': 1, 'criterion': 'gini'}. Best is trial 68 with value: 0.8238080011767517.\n",
      "[I 2025-02-12 19:14:50,273] Trial 87 finished with value: 0.8220559644090611 and parameters: {'max_depth': 24, 'min_samples_split': 3, 'min_samples_leaf': 1, 'criterion': 'entropy'}. Best is trial 68 with value: 0.8238080011767517.\n",
      "[I 2025-02-12 19:14:51,084] Trial 88 finished with value: 0.8201444264171004 and parameters: {'max_depth': 26, 'min_samples_split': 2, 'min_samples_leaf': 2, 'criterion': 'gini'}. Best is trial 68 with value: 0.8238080011767517.\n",
      "[I 2025-02-12 19:14:51,904] Trial 89 finished with value: 0.8238080011767517 and parameters: {'max_depth': 25, 'min_samples_split': 2, 'min_samples_leaf': 1, 'criterion': 'gini'}. Best is trial 68 with value: 0.8238080011767517.\n",
      "[I 2025-02-12 19:14:52,674] Trial 90 finished with value: 0.8134663650243812 and parameters: {'max_depth': 23, 'min_samples_split': 19, 'min_samples_leaf': 2, 'criterion': 'gini'}. Best is trial 68 with value: 0.8238080011767517.\n",
      "[I 2025-02-12 19:14:53,490] Trial 91 finished with value: 0.8238080011767517 and parameters: {'max_depth': 25, 'min_samples_split': 2, 'min_samples_leaf': 1, 'criterion': 'gini'}. Best is trial 68 with value: 0.8238080011767517.\n",
      "[I 2025-02-12 19:14:54,310] Trial 92 finished with value: 0.8238080011767517 and parameters: {'max_depth': 25, 'min_samples_split': 2, 'min_samples_leaf': 1, 'criterion': 'gini'}. Best is trial 68 with value: 0.8238080011767517.\n",
      "[I 2025-02-12 19:14:55,140] Trial 93 finished with value: 0.8220388623005854 and parameters: {'max_depth': 25, 'min_samples_split': 3, 'min_samples_leaf': 1, 'criterion': 'gini'}. Best is trial 68 with value: 0.8238080011767517.\n",
      "[I 2025-02-12 19:14:55,959] Trial 94 finished with value: 0.8233918897285486 and parameters: {'max_depth': 24, 'min_samples_split': 2, 'min_samples_leaf': 1, 'criterion': 'gini'}. Best is trial 68 with value: 0.8238080011767517.\n",
      "[I 2025-02-12 19:14:56,773] Trial 95 finished with value: 0.8229579839666105 and parameters: {'max_depth': 21, 'min_samples_split': 2, 'min_samples_leaf': 1, 'criterion': 'gini'}. Best is trial 68 with value: 0.8238080011767517.\n",
      "[I 2025-02-12 19:14:57,578] Trial 96 finished with value: 0.8202222796473906 and parameters: {'max_depth': 23, 'min_samples_split': 3, 'min_samples_leaf': 2, 'criterion': 'gini'}. Best is trial 68 with value: 0.8238080011767517.\n",
      "[I 2025-02-12 19:14:58,392] Trial 97 finished with value: 0.820569057895306 and parameters: {'max_depth': 25, 'min_samples_split': 4, 'min_samples_leaf': 1, 'criterion': 'gini'}. Best is trial 68 with value: 0.8238080011767517.\n",
      "[I 2025-02-12 19:14:59,223] Trial 98 finished with value: 0.8233918897285486 and parameters: {'max_depth': 24, 'min_samples_split': 2, 'min_samples_leaf': 1, 'criterion': 'gini'}. Best is trial 68 with value: 0.8238080011767517.\n",
      "[I 2025-02-12 19:15:00,029] Trial 99 finished with value: 0.8210845112954266 and parameters: {'max_depth': 22, 'min_samples_split': 3, 'min_samples_leaf': 2, 'criterion': 'gini'}. Best is trial 68 with value: 0.8238080011767517.\n",
      "2025-02-12 19:15:00,062 - lab.hiperparameter_optimization - INFO - Resultados da otimização salvos em: optimization_results\\20250212_191340\\Decision_Tree\n",
      "2025-02-12 19:15:00,063 - lab.hiperparameter_optimization - INFO - Otimizando Random Forest...\n",
      "[I 2025-02-12 19:15:00,063] A new study created in memory with name: no-name-59d5ab3b-9f51-4025-be11-9f8ef60f15db\n",
      "[I 2025-02-12 19:15:03,283] Trial 0 finished with value: 0.7974446947431175 and parameters: {'n_estimators': 261, 'max_depth': 5, 'min_samples_split': 4, 'min_samples_leaf': 9, 'max_features': 'log2'}. Best is trial 0 with value: 0.7974446947431175.\n",
      "[I 2025-02-12 19:15:07,914] Trial 1 finished with value: 0.8597537176073405 and parameters: {'n_estimators': 263, 'max_depth': 26, 'min_samples_split': 12, 'min_samples_leaf': 1, 'max_features': 'sqrt'}. Best is trial 1 with value: 0.8597537176073405.\n",
      "[I 2025-02-12 19:15:11,287] Trial 2 finished with value: 0.8532018974732857 and parameters: {'n_estimators': 192, 'max_depth': 25, 'min_samples_split': 7, 'min_samples_leaf': 4, 'max_features': 'sqrt'}. Best is trial 1 with value: 0.8597537176073405.\n",
      "[I 2025-02-12 19:15:13,795] Trial 3 finished with value: 0.8384129173872523 and parameters: {'n_estimators': 132, 'max_depth': 27, 'min_samples_split': 20, 'min_samples_leaf': 8, 'max_features': 'sqrt'}. Best is trial 1 with value: 0.8597537176073405.\n",
      "[I 2025-02-12 19:15:15,510] Trial 4 finished with value: 0.839094648170842 and parameters: {'n_estimators': 85, 'max_depth': 14, 'min_samples_split': 4, 'min_samples_leaf': 4, 'max_features': 'log2'}. Best is trial 1 with value: 0.8597537176073405.\n",
      "[I 2025-02-12 19:15:17,660] Trial 5 finished with value: 0.8400808582655209 and parameters: {'n_estimators': 117, 'max_depth': 30, 'min_samples_split': 8, 'min_samples_leaf': 8, 'max_features': 'log2'}. Best is trial 1 with value: 0.8597537176073405.\n",
      "[I 2025-02-12 19:15:19,113] Trial 6 finished with value: 0.8447656250185016 and parameters: {'n_estimators': 62, 'max_depth': 26, 'min_samples_split': 17, 'min_samples_leaf': 5, 'max_features': 'log2'}. Best is trial 1 with value: 0.8597537176073405.\n",
      "[I 2025-02-12 19:15:21,925] Trial 7 finished with value: 0.8764413677431528 and parameters: {'n_estimators': 134, 'max_depth': 24, 'min_samples_split': 2, 'min_samples_leaf': 1, 'max_features': 'sqrt'}. Best is trial 7 with value: 0.8764413677431528.\n",
      "[I 2025-02-12 19:15:23,414] Trial 8 finished with value: 0.814884479527095 and parameters: {'n_estimators': 76, 'max_depth': 9, 'min_samples_split': 18, 'min_samples_leaf': 1, 'max_features': 'sqrt'}. Best is trial 7 with value: 0.8764413677431528.\n",
      "[I 2025-02-12 19:15:26,661] Trial 9 finished with value: 0.8601446203246637 and parameters: {'n_estimators': 183, 'max_depth': 29, 'min_samples_split': 11, 'min_samples_leaf': 1, 'max_features': 'sqrt'}. Best is trial 7 with value: 0.8764413677431528.\n",
      "[I 2025-02-12 19:15:30,612] Trial 10 finished with value: 0.8572027991732298 and parameters: {'n_estimators': 216, 'max_depth': 19, 'min_samples_split': 2, 'min_samples_leaf': 3, 'max_features': 'sqrt'}. Best is trial 7 with value: 0.8764413677431528.\n",
      "[I 2025-02-12 19:15:33,432] Trial 11 finished with value: 0.854391070226106 and parameters: {'n_estimators': 151, 'max_depth': 20, 'min_samples_split': 12, 'min_samples_leaf': 2, 'max_features': 'sqrt'}. Best is trial 7 with value: 0.8764413677431528.\n",
      "[I 2025-02-12 19:15:36,672] Trial 12 finished with value: 0.8441768376943128 and parameters: {'n_estimators': 188, 'max_depth': 22, 'min_samples_split': 15, 'min_samples_leaf': 6, 'max_features': 'sqrt'}. Best is trial 7 with value: 0.8764413677431528.\n",
      "[I 2025-02-12 19:15:40,669] Trial 13 finished with value: 0.8622266782175396 and parameters: {'n_estimators': 218, 'max_depth': 30, 'min_samples_split': 8, 'min_samples_leaf': 2, 'max_features': 'sqrt'}. Best is trial 7 with value: 0.8764413677431528.\n",
      "[I 2025-02-12 19:15:45,429] Trial 14 finished with value: 0.843702606583061 and parameters: {'n_estimators': 296, 'max_depth': 14, 'min_samples_split': 7, 'min_samples_leaf': 3, 'max_features': 'sqrt'}. Best is trial 7 with value: 0.8764413677431528.\n",
      "[I 2025-02-12 19:15:49,348] Trial 15 finished with value: 0.8473325332580673 and parameters: {'n_estimators': 230, 'max_depth': 23, 'min_samples_split': 2, 'min_samples_leaf': 6, 'max_features': 'sqrt'}. Best is trial 7 with value: 0.8764413677431528.\n",
      "[I 2025-02-12 19:15:52,297] Trial 16 finished with value: 0.8590241302908952 and parameters: {'n_estimators': 159, 'max_depth': 30, 'min_samples_split': 9, 'min_samples_leaf': 2, 'max_features': 'sqrt'}. Best is trial 7 with value: 0.8764413677431528.\n",
      "[I 2025-02-12 19:15:54,424] Trial 17 finished with value: 0.8558134887926647 and parameters: {'n_estimators': 108, 'max_depth': 17, 'min_samples_split': 5, 'min_samples_leaf': 2, 'max_features': 'sqrt'}. Best is trial 7 with value: 0.8764413677431528.\n",
      "[I 2025-02-12 19:15:58,430] Trial 18 finished with value: 0.8550812005941353 and parameters: {'n_estimators': 220, 'max_depth': 22, 'min_samples_split': 10, 'min_samples_leaf': 3, 'max_features': 'log2'}. Best is trial 7 with value: 0.8764413677431528.\n",
      "[I 2025-02-12 19:16:01,180] Trial 19 finished with value: 0.8462120168568452 and parameters: {'n_estimators': 149, 'max_depth': 24, 'min_samples_split': 14, 'min_samples_leaf': 5, 'max_features': 'sqrt'}. Best is trial 7 with value: 0.8764413677431528.\n",
      "[I 2025-02-12 19:16:05,154] Trial 20 finished with value: 0.8365713341076226 and parameters: {'n_estimators': 248, 'max_depth': 28, 'min_samples_split': 6, 'min_samples_leaf': 10, 'max_features': 'sqrt'}. Best is trial 7 with value: 0.8764413677431528.\n",
      "[I 2025-02-12 19:16:08,413] Trial 21 finished with value: 0.8599595416735415 and parameters: {'n_estimators': 175, 'max_depth': 30, 'min_samples_split': 11, 'min_samples_leaf': 1, 'max_features': 'sqrt'}. Best is trial 7 with value: 0.8764413677431528.\n",
      "[I 2025-02-12 19:16:12,063] Trial 22 finished with value: 0.8578736910612716 and parameters: {'n_estimators': 201, 'max_depth': 28, 'min_samples_split': 13, 'min_samples_leaf': 1, 'max_features': 'sqrt'}. Best is trial 7 with value: 0.8764413677431528.\n",
      "[I 2025-02-12 19:16:15,187] Trial 23 finished with value: 0.8591571341364956 and parameters: {'n_estimators': 165, 'max_depth': 28, 'min_samples_split': 9, 'min_samples_leaf': 2, 'max_features': 'sqrt'}. Best is trial 7 with value: 0.8764413677431528.\n",
      "[I 2025-02-12 19:16:17,747] Trial 24 finished with value: 0.8550379740962557 and parameters: {'n_estimators': 130, 'max_depth': 30, 'min_samples_split': 15, 'min_samples_leaf': 1, 'max_features': 'sqrt'}. Best is trial 7 with value: 0.8764413677431528.\n",
      "[I 2025-02-12 19:16:19,781] Trial 25 finished with value: 0.8522103262823408 and parameters: {'n_estimators': 96, 'max_depth': 20, 'min_samples_split': 4, 'min_samples_leaf': 4, 'max_features': 'sqrt'}. Best is trial 7 with value: 0.8764413677431528.\n",
      "[I 2025-02-12 19:16:24,085] Trial 26 finished with value: 0.8590495441988285 and parameters: {'n_estimators': 241, 'max_depth': 25, 'min_samples_split': 10, 'min_samples_leaf': 2, 'max_features': 'log2'}. Best is trial 7 with value: 0.8764413677431528.\n",
      "[I 2025-02-12 19:16:27,655] Trial 27 finished with value: 0.8603649833167097 and parameters: {'n_estimators': 199, 'max_depth': 28, 'min_samples_split': 2, 'min_samples_leaf': 3, 'max_features': 'sqrt'}. Best is trial 7 with value: 0.8764413677431528.\n",
      "[I 2025-02-12 19:16:31,409] Trial 28 finished with value: 0.8604486063809716 and parameters: {'n_estimators': 208, 'max_depth': 23, 'min_samples_split': 2, 'min_samples_leaf': 3, 'max_features': 'sqrt'}. Best is trial 7 with value: 0.8764413677431528.\n",
      "[I 2025-02-12 19:16:35,862] Trial 29 finished with value: 0.8414127062311403 and parameters: {'n_estimators': 272, 'max_depth': 17, 'min_samples_split': 4, 'min_samples_leaf': 7, 'max_features': 'log2'}. Best is trial 7 with value: 0.8764413677431528.\n",
      "[I 2025-02-12 19:16:39,077] Trial 30 finished with value: 0.7925900183021763 and parameters: {'n_estimators': 282, 'max_depth': 4, 'min_samples_split': 3, 'min_samples_leaf': 4, 'max_features': 'sqrt'}. Best is trial 7 with value: 0.8764413677431528.\n",
      "[I 2025-02-12 19:16:42,796] Trial 31 finished with value: 0.8606454378402851 and parameters: {'n_estimators': 206, 'max_depth': 23, 'min_samples_split': 2, 'min_samples_leaf': 3, 'max_features': 'sqrt'}. Best is trial 7 with value: 0.8764413677431528.\n",
      "[I 2025-02-12 19:16:46,622] Trial 32 finished with value: 0.8589604098298805 and parameters: {'n_estimators': 214, 'max_depth': 22, 'min_samples_split': 5, 'min_samples_leaf': 3, 'max_features': 'sqrt'}. Best is trial 7 with value: 0.8764413677431528.\n",
      "[I 2025-02-12 19:16:51,085] Trial 33 finished with value: 0.8697300151898061 and parameters: {'n_estimators': 242, 'max_depth': 24, 'min_samples_split': 3, 'min_samples_leaf': 2, 'max_features': 'sqrt'}. Best is trial 7 with value: 0.8764413677431528.\n",
      "[I 2025-02-12 19:16:55,539] Trial 34 finished with value: 0.866049401523334 and parameters: {'n_estimators': 247, 'max_depth': 25, 'min_samples_split': 6, 'min_samples_leaf': 2, 'max_features': 'sqrt'}. Best is trial 7 with value: 0.8764413677431528.\n",
      "[I 2025-02-12 19:17:00,112] Trial 35 finished with value: 0.8645482690142543 and parameters: {'n_estimators': 259, 'max_depth': 26, 'min_samples_split': 7, 'min_samples_leaf': 2, 'max_features': 'sqrt'}. Best is trial 7 with value: 0.8764413677431528.\n",
      "[I 2025-02-12 19:17:04,861] Trial 36 finished with value: 0.8698654757210227 and parameters: {'n_estimators': 257, 'max_depth': 26, 'min_samples_split': 6, 'min_samples_leaf': 1, 'max_features': 'sqrt'}. Best is trial 7 with value: 0.8764413677431528.\n",
      "[I 2025-02-12 19:17:08,196] Trial 37 finished with value: 0.8059616102950976 and parameters: {'n_estimators': 252, 'max_depth': 7, 'min_samples_split': 5, 'min_samples_leaf': 1, 'max_features': 'log2'}. Best is trial 7 with value: 0.8764413677431528.\n",
      "[I 2025-02-12 19:17:13,520] Trial 38 finished with value: 0.8699294368193484 and parameters: {'n_estimators': 298, 'max_depth': 25, 'min_samples_split': 6, 'min_samples_leaf': 1, 'max_features': 'sqrt'}. Best is trial 7 with value: 0.8764413677431528.\n",
      "[I 2025-02-12 19:17:18,444] Trial 39 finished with value: 0.8488198340175259 and parameters: {'n_estimators': 299, 'max_depth': 14, 'min_samples_split': 3, 'min_samples_leaf': 1, 'max_features': 'sqrt'}. Best is trial 7 with value: 0.8764413677431528.\n",
      "[I 2025-02-12 19:17:23,386] Trial 40 finished with value: 0.8670315954505249 and parameters: {'n_estimators': 275, 'max_depth': 20, 'min_samples_split': 6, 'min_samples_leaf': 1, 'max_features': 'log2'}. Best is trial 7 with value: 0.8764413677431528.\n",
      "[I 2025-02-12 19:17:28,313] Trial 41 finished with value: 0.8668363128082849 and parameters: {'n_estimators': 281, 'max_depth': 20, 'min_samples_split': 6, 'min_samples_leaf': 1, 'max_features': 'log2'}. Best is trial 7 with value: 0.8764413677431528.\n",
      "[I 2025-02-12 19:17:33,409] Trial 42 finished with value: 0.8769160228778945 and parameters: {'n_estimators': 270, 'max_depth': 26, 'min_samples_split': 3, 'min_samples_leaf': 1, 'max_features': 'log2'}. Best is trial 42 with value: 0.8769160228778945.\n",
      "[I 2025-02-12 19:17:38,366] Trial 43 finished with value: 0.8768095129881492 and parameters: {'n_estimators': 266, 'max_depth': 26, 'min_samples_split': 3, 'min_samples_leaf': 1, 'max_features': 'log2'}. Best is trial 42 with value: 0.8769160228778945.\n",
      "[I 2025-02-12 19:17:43,769] Trial 44 finished with value: 0.8750056341366477 and parameters: {'n_estimators': 290, 'max_depth': 26, 'min_samples_split': 4, 'min_samples_leaf': 1, 'max_features': 'log2'}. Best is trial 42 with value: 0.8769160228778945.\n",
      "[I 2025-02-12 19:17:49,179] Trial 45 finished with value: 0.874911307415557 and parameters: {'n_estimators': 289, 'max_depth': 27, 'min_samples_split': 4, 'min_samples_leaf': 1, 'max_features': 'log2'}. Best is trial 42 with value: 0.8769160228778945.\n",
      "[I 2025-02-12 19:17:54,315] Trial 46 finished with value: 0.8694085351209264 and parameters: {'n_estimators': 287, 'max_depth': 27, 'min_samples_split': 3, 'min_samples_leaf': 2, 'max_features': 'log2'}. Best is trial 42 with value: 0.8769160228778945.\n",
      "[I 2025-02-12 19:17:58,643] Trial 47 finished with value: 0.8410928635032506 and parameters: {'n_estimators': 264, 'max_depth': 27, 'min_samples_split': 4, 'min_samples_leaf': 8, 'max_features': 'log2'}. Best is trial 42 with value: 0.8769160228778945.\n",
      "[I 2025-02-12 19:18:02,935] Trial 48 finished with value: 0.8354514601284103 and parameters: {'n_estimators': 270, 'max_depth': 12, 'min_samples_split': 3, 'min_samples_leaf': 1, 'max_features': 'log2'}. Best is trial 42 with value: 0.8769160228778945.\n",
      "[I 2025-02-12 19:18:08,142] Trial 49 finished with value: 0.870023190464854 and parameters: {'n_estimators': 287, 'max_depth': 24, 'min_samples_split': 4, 'min_samples_leaf': 2, 'max_features': 'log2'}. Best is trial 42 with value: 0.8769160228778945.\n",
      "[I 2025-02-12 19:18:12,377] Trial 50 finished with value: 0.850322917277917 and parameters: {'n_estimators': 233, 'max_depth': 29, 'min_samples_split': 20, 'min_samples_leaf': 1, 'max_features': 'log2'}. Best is trial 42 with value: 0.8769160228778945.\n",
      "[I 2025-02-12 19:18:17,765] Trial 51 finished with value: 0.8701541326275628 and parameters: {'n_estimators': 290, 'max_depth': 24, 'min_samples_split': 4, 'min_samples_leaf': 2, 'max_features': 'log2'}. Best is trial 42 with value: 0.8769160228778945.\n",
      "[I 2025-02-12 19:18:23,094] Trial 52 finished with value: 0.8724940595804579 and parameters: {'n_estimators': 290, 'max_depth': 26, 'min_samples_split': 5, 'min_samples_leaf': 1, 'max_features': 'log2'}. Best is trial 42 with value: 0.8769160228778945.\n",
      "[I 2025-02-12 19:18:24,554] Trial 53 finished with value: 0.867423203129022 and parameters: {'n_estimators': 52, 'max_depth': 27, 'min_samples_split': 5, 'min_samples_leaf': 1, 'max_features': 'log2'}. Best is trial 42 with value: 0.8769160228778945.\n",
      "[I 2025-02-12 19:18:29,336] Trial 54 finished with value: 0.8553200251623438 and parameters: {'n_estimators': 266, 'max_depth': 26, 'min_samples_split': 3, 'min_samples_leaf': 4, 'max_features': 'log2'}. Best is trial 42 with value: 0.8769160228778945.\n",
      "[I 2025-02-12 19:18:34,636] Trial 55 finished with value: 0.8808634282081453 and parameters: {'n_estimators': 275, 'max_depth': 29, 'min_samples_split': 2, 'min_samples_leaf': 1, 'max_features': 'log2'}. Best is trial 55 with value: 0.8808634282081453.\n",
      "[I 2025-02-12 19:18:37,452] Trial 56 finished with value: 0.8671134229722117 and parameters: {'n_estimators': 138, 'max_depth': 28, 'min_samples_split': 2, 'min_samples_leaf': 2, 'max_features': 'log2'}. Best is trial 55 with value: 0.8808634282081453.\n",
      "[I 2025-02-12 19:18:42,695] Trial 57 finished with value: 0.8763140505718974 and parameters: {'n_estimators': 279, 'max_depth': 21, 'min_samples_split': 2, 'min_samples_leaf': 1, 'max_features': 'log2'}. Best is trial 55 with value: 0.8808634282081453.\n",
      "[I 2025-02-12 19:18:46,858] Trial 58 finished with value: 0.8615534301819976 and parameters: {'n_estimators': 228, 'max_depth': 29, 'min_samples_split': 2, 'min_samples_leaf': 3, 'max_features': 'log2'}. Best is trial 55 with value: 0.8808634282081453.\n",
      "[I 2025-02-12 19:18:51,736] Trial 59 finished with value: 0.864709903014169 and parameters: {'n_estimators': 278, 'max_depth': 19, 'min_samples_split': 3, 'min_samples_leaf': 2, 'max_features': 'log2'}. Best is trial 55 with value: 0.8808634282081453.\n",
      "[I 2025-02-12 19:18:53,407] Trial 60 finished with value: 0.8473570196628979 and parameters: {'n_estimators': 75, 'max_depth': 21, 'min_samples_split': 2, 'min_samples_leaf': 5, 'max_features': 'log2'}. Best is trial 55 with value: 0.8808634282081453.\n",
      "[I 2025-02-12 19:18:58,454] Trial 61 finished with value: 0.8756865659113735 and parameters: {'n_estimators': 266, 'max_depth': 29, 'min_samples_split': 4, 'min_samples_leaf': 1, 'max_features': 'log2'}. Best is trial 55 with value: 0.8808634282081453.\n",
      "[I 2025-02-12 19:19:03,438] Trial 62 finished with value: 0.8777578773242822 and parameters: {'n_estimators': 264, 'max_depth': 29, 'min_samples_split': 3, 'min_samples_leaf': 1, 'max_features': 'log2'}. Best is trial 55 with value: 0.8808634282081453.\n",
      "[I 2025-02-12 19:19:08,423] Trial 63 finished with value: 0.8764838681743063 and parameters: {'n_estimators': 256, 'max_depth': 30, 'min_samples_split': 3, 'min_samples_leaf': 1, 'max_features': 'log2'}. Best is trial 55 with value: 0.8808634282081453.\n",
      "[I 2025-02-12 19:19:13,121] Trial 64 finished with value: 0.8684532954224553 and parameters: {'n_estimators': 257, 'max_depth': 30, 'min_samples_split': 3, 'min_samples_leaf': 2, 'max_features': 'log2'}. Best is trial 55 with value: 0.8808634282081453.\n",
      "[I 2025-02-12 19:19:15,352] Trial 65 finished with value: 0.8352293840616252 and parameters: {'n_estimators': 119, 'max_depth': 29, 'min_samples_split': 2, 'min_samples_leaf': 10, 'max_features': 'log2'}. Best is trial 55 with value: 0.8808634282081453.\n",
      "[I 2025-02-12 19:19:19,965] Trial 66 finished with value: 0.8794741649527639 and parameters: {'n_estimators': 232, 'max_depth': 28, 'min_samples_split': 2, 'min_samples_leaf': 1, 'max_features': 'log2'}. Best is trial 55 with value: 0.8808634282081453.\n",
      "[I 2025-02-12 19:19:24,524] Trial 67 finished with value: 0.8773784875076448 and parameters: {'n_estimators': 237, 'max_depth': 28, 'min_samples_split': 3, 'min_samples_leaf': 1, 'max_features': 'log2'}. Best is trial 55 with value: 0.8808634282081453.\n",
      "[I 2025-02-12 19:19:29,017] Trial 68 finished with value: 0.869507656030638 and parameters: {'n_estimators': 238, 'max_depth': 29, 'min_samples_split': 3, 'min_samples_leaf': 2, 'max_features': 'log2'}. Best is trial 55 with value: 0.8808634282081453.\n",
      "[I 2025-02-12 19:19:33,304] Trial 69 finished with value: 0.87237542630086 and parameters: {'n_estimators': 226, 'max_depth': 28, 'min_samples_split': 5, 'min_samples_leaf': 1, 'max_features': 'log2'}. Best is trial 55 with value: 0.8808634282081453.\n",
      "[I 2025-02-12 19:19:38,138] Trial 70 finished with value: 0.8766143586688395 and parameters: {'n_estimators': 252, 'max_depth': 30, 'min_samples_split': 3, 'min_samples_leaf': 1, 'max_features': 'log2'}. Best is trial 55 with value: 0.8808634282081453.\n",
      "[I 2025-02-12 19:19:42,504] Trial 71 finished with value: 0.8534302293600486 and parameters: {'n_estimators': 250, 'max_depth': 30, 'min_samples_split': 17, 'min_samples_leaf': 1, 'max_features': 'log2'}. Best is trial 55 with value: 0.8808634282081453.\n",
      "[I 2025-02-12 19:19:46,979] Trial 72 finished with value: 0.8765516815112075 and parameters: {'n_estimators': 237, 'max_depth': 30, 'min_samples_split': 3, 'min_samples_leaf': 1, 'max_features': 'log2'}. Best is trial 55 with value: 0.8808634282081453.\n",
      "[I 2025-02-12 19:19:51,402] Trial 73 finished with value: 0.8688337497172928 and parameters: {'n_estimators': 242, 'max_depth': 27, 'min_samples_split': 2, 'min_samples_leaf': 2, 'max_features': 'log2'}. Best is trial 55 with value: 0.8808634282081453.\n",
      "[I 2025-02-12 19:19:55,349] Trial 74 finished with value: 0.8389453074120257 and parameters: {'n_estimators': 233, 'max_depth': 28, 'min_samples_split': 3, 'min_samples_leaf': 9, 'max_features': 'log2'}. Best is trial 55 with value: 0.8808634282081453.\n",
      "[I 2025-02-12 19:19:59,952] Trial 75 finished with value: 0.8733046170922876 and parameters: {'n_estimators': 246, 'max_depth': 29, 'min_samples_split': 5, 'min_samples_leaf': 1, 'max_features': 'log2'}. Best is trial 55 with value: 0.8808634282081453.\n",
      "[I 2025-02-12 19:20:04,172] Trial 76 finished with value: 0.8683634451141737 and parameters: {'n_estimators': 222, 'max_depth': 28, 'min_samples_split': 4, 'min_samples_leaf': 2, 'max_features': 'log2'}. Best is trial 55 with value: 0.8808634282081453.\n",
      "[I 2025-02-12 19:20:09,369] Trial 77 finished with value: 0.8801304522525986 and parameters: {'n_estimators': 270, 'max_depth': 30, 'min_samples_split': 2, 'min_samples_leaf': 1, 'max_features': 'log2'}. Best is trial 55 with value: 0.8808634282081453.\n",
      "[I 2025-02-12 19:20:14,534] Trial 78 finished with value: 0.8803010671881513 and parameters: {'n_estimators': 271, 'max_depth': 25, 'min_samples_split': 2, 'min_samples_leaf': 1, 'max_features': 'log2'}. Best is trial 55 with value: 0.8808634282081453.\n",
      "[I 2025-02-12 19:20:19,015] Trial 79 finished with value: 0.8438436521402213 and parameters: {'n_estimators': 271, 'max_depth': 25, 'min_samples_split': 2, 'min_samples_leaf': 7, 'max_features': 'log2'}. Best is trial 55 with value: 0.8808634282081453.\n",
      "[I 2025-02-12 19:20:23,768] Trial 80 finished with value: 0.8698773143012938 and parameters: {'n_estimators': 261, 'max_depth': 25, 'min_samples_split': 2, 'min_samples_leaf': 2, 'max_features': 'log2'}. Best is trial 55 with value: 0.8808634282081453.\n",
      "[I 2025-02-12 19:20:28,075] Trial 81 finished with value: 0.8518000792288989 and parameters: {'n_estimators': 253, 'max_depth': 27, 'min_samples_split': 19, 'min_samples_leaf': 1, 'max_features': 'log2'}. Best is trial 55 with value: 0.8808634282081453.\n",
      "[I 2025-02-12 19:20:33,285] Trial 82 finished with value: 0.8807083517103098 and parameters: {'n_estimators': 272, 'max_depth': 28, 'min_samples_split': 2, 'min_samples_leaf': 1, 'max_features': 'log2'}. Best is trial 55 with value: 0.8808634282081453.\n",
      "[I 2025-02-12 19:20:38,473] Trial 83 finished with value: 0.8804422256171813 and parameters: {'n_estimators': 271, 'max_depth': 28, 'min_samples_split': 2, 'min_samples_leaf': 1, 'max_features': 'log2'}. Best is trial 55 with value: 0.8808634282081453.\n",
      "[I 2025-02-12 19:20:43,758] Trial 84 finished with value: 0.8806225548956762 and parameters: {'n_estimators': 275, 'max_depth': 28, 'min_samples_split': 2, 'min_samples_leaf': 1, 'max_features': 'log2'}. Best is trial 55 with value: 0.8808634282081453.\n",
      "[I 2025-02-12 19:20:48,866] Trial 85 finished with value: 0.8693015127060889 and parameters: {'n_estimators': 281, 'max_depth': 28, 'min_samples_split': 2, 'min_samples_leaf': 2, 'max_features': 'log2'}. Best is trial 55 with value: 0.8808634282081453.\n",
      "[I 2025-02-12 19:20:54,118] Trial 86 finished with value: 0.8810746472955797 and parameters: {'n_estimators': 273, 'max_depth': 29, 'min_samples_split': 2, 'min_samples_leaf': 1, 'max_features': 'log2'}. Best is trial 86 with value: 0.8810746472955797.\n",
      "[I 2025-02-12 19:20:59,875] Trial 87 finished with value: 0.8805608292889338 and parameters: {'n_estimators': 296, 'max_depth': 29, 'min_samples_split': 2, 'min_samples_leaf': 1, 'max_features': 'log2'}. Best is trial 86 with value: 0.8810746472955797.\n",
      "[I 2025-02-12 19:21:04,413] Trial 88 finished with value: 0.8292709256219009 and parameters: {'n_estimators': 300, 'max_depth': 11, 'min_samples_split': 2, 'min_samples_leaf': 1, 'max_features': 'log2'}. Best is trial 86 with value: 0.8810746472955797.\n",
      "[I 2025-02-12 19:21:09,449] Trial 89 finished with value: 0.8690465374433325 and parameters: {'n_estimators': 274, 'max_depth': 27, 'min_samples_split': 2, 'min_samples_leaf': 2, 'max_features': 'log2'}. Best is trial 86 with value: 0.8810746472955797.\n",
      "[I 2025-02-12 19:21:15,088] Trial 90 finished with value: 0.8805608292889338 and parameters: {'n_estimators': 296, 'max_depth': 29, 'min_samples_split': 2, 'min_samples_leaf': 1, 'max_features': 'log2'}. Best is trial 86 with value: 0.8810746472955797.\n",
      "[I 2025-02-12 19:21:20,787] Trial 91 finished with value: 0.8806581020275376 and parameters: {'n_estimators': 295, 'max_depth': 29, 'min_samples_split': 2, 'min_samples_leaf': 1, 'max_features': 'log2'}. Best is trial 86 with value: 0.8810746472955797.\n",
      "[I 2025-02-12 19:21:26,443] Trial 92 finished with value: 0.8804761939380986 and parameters: {'n_estimators': 294, 'max_depth': 29, 'min_samples_split': 2, 'min_samples_leaf': 1, 'max_features': 'log2'}. Best is trial 86 with value: 0.8810746472955797.\n",
      "[I 2025-02-12 19:21:31,809] Trial 93 finished with value: 0.8686640947085198 and parameters: {'n_estimators': 292, 'max_depth': 29, 'min_samples_split': 2, 'min_samples_leaf': 2, 'max_features': 'log2'}. Best is trial 86 with value: 0.8810746472955797.\n",
      "[I 2025-02-12 19:21:37,164] Trial 94 finished with value: 0.8757846665224684 and parameters: {'n_estimators': 284, 'max_depth': 29, 'min_samples_split': 4, 'min_samples_leaf': 1, 'max_features': 'log2'}. Best is trial 86 with value: 0.8810746472955797.\n",
      "[I 2025-02-12 19:21:42,823] Trial 95 finished with value: 0.8806581020275376 and parameters: {'n_estimators': 295, 'max_depth': 29, 'min_samples_split': 2, 'min_samples_leaf': 1, 'max_features': 'log2'}. Best is trial 86 with value: 0.8810746472955797.\n",
      "[I 2025-02-12 19:21:48,194] Trial 96 finished with value: 0.8686653740700372 and parameters: {'n_estimators': 295, 'max_depth': 30, 'min_samples_split': 4, 'min_samples_leaf': 2, 'max_features': 'log2'}. Best is trial 86 with value: 0.8810746472955797.\n",
      "[I 2025-02-12 19:21:53,779] Trial 97 finished with value: 0.879739586257792 and parameters: {'n_estimators': 294, 'max_depth': 27, 'min_samples_split': 2, 'min_samples_leaf': 1, 'max_features': 'log2'}. Best is trial 86 with value: 0.8810746472955797.\n",
      "[I 2025-02-12 19:21:59,182] Trial 98 finished with value: 0.878098138821821 and parameters: {'n_estimators': 286, 'max_depth': 29, 'min_samples_split': 3, 'min_samples_leaf': 1, 'max_features': 'log2'}. Best is trial 86 with value: 0.8810746472955797.\n",
      "[I 2025-02-12 19:22:04,333] Trial 99 finished with value: 0.8691415072440764 and parameters: {'n_estimators': 277, 'max_depth': 28, 'min_samples_split': 2, 'min_samples_leaf': 2, 'max_features': 'log2'}. Best is trial 86 with value: 0.8810746472955797.\n",
      "2025-02-12 19:22:04,357 - lab.hiperparameter_optimization - INFO - Resultados da otimização salvos em: optimization_results\\20250212_191340\\Random_Forest\n",
      "2025-02-12 19:22:04,358 - lab.hiperparameter_optimization - INFO - Otimizando CatBoost...\n",
      "[I 2025-02-12 19:22:04,358] A new study created in memory with name: no-name-f2d36cad-d728-4554-be06-fdb7d9b04013\n",
      "[I 2025-02-12 19:22:09,686] Trial 0 finished with value: 0.802856668798464 and parameters: {'iterations': 239, 'depth': 4, 'learning_rate': 0.028010165476133227, 'l2_leaf_reg': 2.216008015838602e-07, 'border_count': 64}. Best is trial 0 with value: 0.802856668798464.\n",
      "[I 2025-02-12 19:22:18,808] Trial 1 finished with value: 0.8431246068859022 and parameters: {'iterations': 67, 'depth': 10, 'learning_rate': 0.2258732936619607, 'l2_leaf_reg': 0.0024566780077768234, 'border_count': 50}. Best is trial 1 with value: 0.8431246068859022.\n",
      "[I 2025-02-12 19:22:22,525] Trial 2 finished with value: 0.8119591172786851 and parameters: {'iterations': 158, 'depth': 4, 'learning_rate': 0.2380457917864378, 'l2_leaf_reg': 0.0004291853612355075, 'border_count': 89}. Best is trial 1 with value: 0.8431246068859022.\n",
      "[I 2025-02-12 19:22:27,870] Trial 3 finished with value: 0.8165185349724497 and parameters: {'iterations': 244, 'depth': 4, 'learning_rate': 0.2643825002100631, 'l2_leaf_reg': 0.0012458264254139192, 'border_count': 123}. Best is trial 1 with value: 0.8431246068859022.\n",
      "[I 2025-02-12 19:22:51,491] Trial 4 finished with value: 0.8257233861116381 and parameters: {'iterations': 278, 'depth': 8, 'learning_rate': 0.04363310429172363, 'l2_leaf_reg': 0.02351760646307618, 'border_count': 138}. Best is trial 1 with value: 0.8431246068859022.\n",
      "[I 2025-02-12 19:23:44,315] Trial 5 finished with value: 0.8267585351077269 and parameters: {'iterations': 132, 'depth': 10, 'learning_rate': 0.04627296872283976, 'l2_leaf_reg': 2.765792372126994e-07, 'border_count': 160}. Best is trial 1 with value: 0.8431246068859022.\n",
      "[I 2025-02-12 19:23:50,147] Trial 6 finished with value: 0.8176405982887907 and parameters: {'iterations': 115, 'depth': 7, 'learning_rate': 0.11019503275351486, 'l2_leaf_reg': 8.197782627362712e-06, 'border_count': 195}. Best is trial 1 with value: 0.8431246068859022.\n",
      "[I 2025-02-12 19:23:55,841] Trial 7 finished with value: 0.8161021911806919 and parameters: {'iterations': 269, 'depth': 4, 'learning_rate': 0.21360005897437165, 'l2_leaf_reg': 1.2752475714786728, 'border_count': 105}. Best is trial 1 with value: 0.8431246068859022.\n",
      "[I 2025-02-12 19:23:57,997] Trial 8 finished with value: 0.794800919806596 and parameters: {'iterations': 79, 'depth': 4, 'learning_rate': 0.03968394507918749, 'l2_leaf_reg': 0.0003304560800478194, 'border_count': 217}. Best is trial 1 with value: 0.8431246068859022.\n",
      "[I 2025-02-12 19:24:02,025] Trial 9 finished with value: 0.819379238928871 and parameters: {'iterations': 110, 'depth': 6, 'learning_rate': 0.19804169658164217, 'l2_leaf_reg': 1.5588886819168363e-07, 'border_count': 179}. Best is trial 1 with value: 0.8431246068859022.\n",
      "[I 2025-02-12 19:24:09,159] Trial 10 finished with value: 0.823826598780264 and parameters: {'iterations': 58, 'depth': 10, 'learning_rate': 0.1558765160888168, 'l2_leaf_reg': 3.4954645099065402, 'border_count': 40}. Best is trial 1 with value: 0.8431246068859022.\n",
      "[I 2025-02-12 19:25:19,403] Trial 11 finished with value: 0.8642913346892268 and parameters: {'iterations': 168, 'depth': 10, 'learning_rate': 0.2931691155737578, 'l2_leaf_reg': 1.868972144135615e-08, 'border_count': 161}. Best is trial 11 with value: 0.8642913346892268.\n",
      "[I 2025-02-12 19:26:14,299] Trial 12 finished with value: 0.8611376699838453 and parameters: {'iterations': 195, 'depth': 9, 'learning_rate': 0.286623006473533, 'l2_leaf_reg': 6.178469240478735e-06, 'border_count': 252}. Best is trial 11 with value: 0.8642913346892268.\n",
      "[I 2025-02-12 19:27:09,461] Trial 13 finished with value: 0.8604371630608426 and parameters: {'iterations': 195, 'depth': 9, 'learning_rate': 0.2903276049460389, 'l2_leaf_reg': 1.0058933165643008e-05, 'border_count': 253}. Best is trial 11 with value: 0.8642913346892268.\n",
      "[I 2025-02-12 19:27:31,916] Trial 14 finished with value: 0.8507547939677702 and parameters: {'iterations': 195, 'depth': 8, 'learning_rate': 0.2998392123180363, 'l2_leaf_reg': 1.8187658962678336e-08, 'border_count': 253}. Best is trial 11 with value: 0.8642913346892268.\n",
      "[I 2025-02-12 19:28:10,660] Trial 15 finished with value: 0.8506381019532021 and parameters: {'iterations': 170, 'depth': 9, 'learning_rate': 0.1730849905868976, 'l2_leaf_reg': 7.883955298220158e-06, 'border_count': 210}. Best is trial 11 with value: 0.8642913346892268.\n",
      "[I 2025-02-12 19:29:03,557] Trial 16 finished with value: 0.8605605800000993 and parameters: {'iterations': 220, 'depth': 9, 'learning_rate': 0.26068944593992927, 'l2_leaf_reg': 1.0688563358876294e-08, 'border_count': 220}. Best is trial 11 with value: 0.8642913346892268.\n",
      "[I 2025-02-12 19:29:16,885] Trial 17 finished with value: 0.8321821080599653 and parameters: {'iterations': 149, 'depth': 8, 'learning_rate': 0.11784766790391529, 'l2_leaf_reg': 1.7192217178730382e-06, 'border_count': 162}. Best is trial 11 with value: 0.8642913346892268.\n",
      "[I 2025-02-12 19:29:24,132] Trial 18 finished with value: 0.828291742451421 and parameters: {'iterations': 192, 'depth': 6, 'learning_rate': 0.27737732684957755, 'l2_leaf_reg': 0.03351157397116936, 'border_count': 236}. Best is trial 11 with value: 0.8642913346892268.\n",
      "[I 2025-02-12 19:30:04,015] Trial 19 finished with value: 0.8637772144367313 and parameters: {'iterations': 218, 'depth': 9, 'learning_rate': 0.24640887013288132, 'l2_leaf_reg': 5.4284691845170465e-05, 'border_count': 172}. Best is trial 11 with value: 0.8642913346892268.\n",
      "[I 2025-02-12 19:30:15,417] Trial 20 finished with value: 0.8403198965897314 and parameters: {'iterations': 238, 'depth': 7, 'learning_rate': 0.24695779580212787, 'l2_leaf_reg': 0.13050212146678114, 'border_count': 179}. Best is trial 11 with value: 0.8642913346892268.\n",
      "[I 2025-02-12 19:30:46,507] Trial 21 finished with value: 0.8601389376219819 and parameters: {'iterations': 213, 'depth': 9, 'learning_rate': 0.27491538972988216, 'l2_leaf_reg': 3.895409952503387e-05, 'border_count': 141}. Best is trial 11 with value: 0.8642913346892268.\n",
      "[I 2025-02-12 19:32:16,524] Trial 22 finished with value: 0.8637076280487829 and parameters: {'iterations': 176, 'depth': 10, 'learning_rate': 0.29792697859093376, 'l2_leaf_reg': 5.5425142010920356e-05, 'border_count': 190}. Best is trial 11 with value: 0.8642913346892268.\n",
      "[I 2025-02-12 19:33:24,228] Trial 23 finished with value: 0.8561212041156836 and parameters: {'iterations': 136, 'depth': 10, 'learning_rate': 0.20276822847609954, 'l2_leaf_reg': 4.648755991579765e-05, 'border_count': 188}. Best is trial 11 with value: 0.8642913346892268.\n",
      "[I 2025-02-12 19:35:27,316] Trial 24 finished with value: 0.8715904384651203 and parameters: {'iterations': 297, 'depth': 10, 'learning_rate': 0.24402797059646097, 'l2_leaf_reg': 8.187964525557236e-05, 'border_count': 160}. Best is trial 24 with value: 0.8715904384651203.\n",
      "[I 2025-02-12 19:37:28,885] Trial 25 finished with value: 0.8703071948773236 and parameters: {'iterations': 294, 'depth': 10, 'learning_rate': 0.24678099407790038, 'l2_leaf_reg': 9.06627466812939e-07, 'border_count': 160}. Best is trial 24 with value: 0.8715904384651203.\n",
      "[I 2025-02-12 19:38:52,938] Trial 26 finished with value: 0.8711456831166176 and parameters: {'iterations': 292, 'depth': 10, 'learning_rate': 0.19115832742478445, 'l2_leaf_reg': 5.7719974229230556e-08, 'border_count': 118}. Best is trial 24 with value: 0.8715904384651203.\n",
      "[I 2025-02-12 19:39:16,516] Trial 27 finished with value: 0.8531416191167931 and parameters: {'iterations': 300, 'depth': 8, 'learning_rate': 0.17618531370034035, 'l2_leaf_reg': 9.62618835964619e-07, 'border_count': 117}. Best is trial 24 with value: 0.8715904384651203.\n",
      "[I 2025-02-12 19:40:13,995] Trial 28 finished with value: 0.8707205434431362 and parameters: {'iterations': 300, 'depth': 10, 'learning_rate': 0.18516306648427563, 'l2_leaf_reg': 7.710717089394813e-08, 'border_count': 79}. Best is trial 24 with value: 0.8715904384651203.\n",
      "[I 2025-02-12 19:40:20,651] Trial 29 finished with value: 0.8163816507781597 and parameters: {'iterations': 263, 'depth': 5, 'learning_rate': 0.1160067176742661, 'l2_leaf_reg': 1.262758000687027e-07, 'border_count': 77}. Best is trial 24 with value: 0.8715904384651203.\n",
      "[I 2025-02-12 19:40:31,351] Trial 30 finished with value: 0.8364449602185775 and parameters: {'iterations': 283, 'depth': 7, 'learning_rate': 0.13499347623167787, 'l2_leaf_reg': 5.831750208962125e-08, 'border_count': 69}. Best is trial 24 with value: 0.8715904384651203.\n",
      "[I 2025-02-12 19:41:35,686] Trial 31 finished with value: 0.87135173119149 and parameters: {'iterations': 290, 'depth': 10, 'learning_rate': 0.18422604172863413, 'l2_leaf_reg': 1.195435484531987e-06, 'border_count': 92}. Best is trial 24 with value: 0.8715904384651203.\n",
      "[I 2025-02-12 19:42:30,969] Trial 32 finished with value: 0.8694775286161217 and parameters: {'iterations': 251, 'depth': 10, 'learning_rate': 0.18214946653898637, 'l2_leaf_reg': 3.557715109404954e-07, 'border_count': 91}. Best is trial 24 with value: 0.8715904384651203.\n",
      "[I 2025-02-12 19:42:55,824] Trial 33 finished with value: 0.8605710660919751 and parameters: {'iterations': 285, 'depth': 9, 'learning_rate': 0.15298447899480047, 'l2_leaf_reg': 5.3125435483533374e-08, 'border_count': 52}. Best is trial 24 with value: 0.8715904384651203.\n",
      "[I 2025-02-12 19:43:58,480] Trial 34 finished with value: 0.8686873758285201 and parameters: {'iterations': 254, 'depth': 10, 'learning_rate': 0.2231763645199263, 'l2_leaf_reg': 1.8835251179385896e-06, 'border_count': 101}. Best is trial 24 with value: 0.8715904384651203.\n",
      "[I 2025-02-12 19:45:27,056] Trial 35 finished with value: 0.8706853445292824 and parameters: {'iterations': 272, 'depth': 10, 'learning_rate': 0.19296361728646885, 'l2_leaf_reg': 0.0010682126342962295, 'border_count': 131}. Best is trial 24 with value: 0.8715904384651203.\n",
      "[I 2025-02-12 19:46:02,813] Trial 36 finished with value: 0.854629315500515 and parameters: {'iterations': 298, 'depth': 9, 'learning_rate': 0.09039934324952413, 'l2_leaf_reg': 6.786815572946091e-08, 'border_count': 115}. Best is trial 24 with value: 0.8715904384651203.\n",
      "[I 2025-02-12 19:46:55,405] Trial 37 finished with value: 0.8688342681947985 and parameters: {'iterations': 285, 'depth': 10, 'learning_rate': 0.2239369096977918, 'l2_leaf_reg': 3.5937578930815864e-07, 'border_count': 77}. Best is trial 24 with value: 0.8715904384651203.\n",
      "[I 2025-02-12 19:47:48,618] Trial 38 finished with value: 0.8667325038461484 and parameters: {'iterations': 238, 'depth': 10, 'learning_rate': 0.148080533150681, 'l2_leaf_reg': 2.068573072260066e-06, 'border_count': 93}. Best is trial 24 with value: 0.8715904384651203.\n",
      "[I 2025-02-12 19:48:05,486] Trial 39 finished with value: 0.8511856956989938 and parameters: {'iterations': 263, 'depth': 8, 'learning_rate': 0.169292326477228, 'l2_leaf_reg': 0.005673598020459077, 'border_count': 54}. Best is trial 24 with value: 0.8715904384651203.\n",
      "[I 2025-02-12 19:48:38,092] Trial 40 finished with value: 0.8647434144458856 and parameters: {'iterations': 278, 'depth': 9, 'learning_rate': 0.20969120166396593, 'l2_leaf_reg': 5.594828123098518e-07, 'border_count': 108}. Best is trial 24 with value: 0.8715904384651203.\n",
      "[I 2025-02-12 19:50:01,949] Trial 41 finished with value: 0.8706474135238806 and parameters: {'iterations': 270, 'depth': 10, 'learning_rate': 0.19411673257576573, 'l2_leaf_reg': 0.0018251520562744543, 'border_count': 125}. Best is trial 24 with value: 0.8715904384651203.\n",
      "[I 2025-02-12 19:51:38,766] Trial 42 finished with value: 0.8717789162364717 and parameters: {'iterations': 300, 'depth': 10, 'learning_rate': 0.19365297313747368, 'l2_leaf_reg': 0.000681221509738499, 'border_count': 130}. Best is trial 42 with value: 0.8717789162364717.\n",
      "[I 2025-02-12 19:53:25,171] Trial 43 finished with value: 0.8708458883831349 and parameters: {'iterations': 290, 'depth': 10, 'learning_rate': 0.23690603654140083, 'l2_leaf_reg': 0.00022600002118586157, 'border_count': 144}. Best is trial 42 with value: 0.8717789162364717.\n",
      "[I 2025-02-12 19:55:14,783] Trial 44 finished with value: 0.8703371047205721 and parameters: {'iterations': 287, 'depth': 10, 'learning_rate': 0.23237101453303788, 'l2_leaf_reg': 0.0003156959091202691, 'border_count': 149}. Best is trial 42 with value: 0.8717789162364717.\n",
      "[I 2025-02-12 19:55:54,389] Trial 45 finished with value: 0.8608389808967765 and parameters: {'iterations': 253, 'depth': 9, 'learning_rate': 0.21644496001556593, 'l2_leaf_reg': 0.000157953219398559, 'border_count': 147}. Best is trial 42 with value: 0.8717789162364717.\n",
      "[I 2025-02-12 19:57:16,819] Trial 46 finished with value: 0.8138019296292862 and parameters: {'iterations': 275, 'depth': 10, 'learning_rate': 0.011180680109365793, 'l2_leaf_reg': 0.004654615820296699, 'border_count': 133}. Best is trial 42 with value: 0.8717789162364717.\n",
      "[I 2025-02-12 19:58:02,913] Trial 47 finished with value: 0.8616319658408601 and parameters: {'iterations': 289, 'depth': 9, 'learning_rate': 0.16435455918436048, 'l2_leaf_reg': 0.0006873233069846996, 'border_count': 153}. Best is trial 42 with value: 0.8717789162364717.\n",
      "[I 2025-02-12 19:59:23,185] Trial 48 finished with value: 0.8696657688868884 and parameters: {'iterations': 262, 'depth': 10, 'learning_rate': 0.26525691113685523, 'l2_leaf_reg': 1.5929776309035013e-05, 'border_count': 124}. Best is trial 42 with value: 0.8717789162364717.\n",
      "[I 2025-02-12 19:59:56,570] Trial 49 finished with value: 0.862046402643216 and parameters: {'iterations': 234, 'depth': 9, 'learning_rate': 0.23651192852121966, 'l2_leaf_reg': 0.00019846495161459136, 'border_count': 136}. Best is trial 42 with value: 0.8717789162364717.\n",
      "[I 2025-02-12 20:00:04,348] Trial 50 finished with value: 0.8314972874702773 and parameters: {'iterations': 96, 'depth': 8, 'learning_rate': 0.2094404618453486, 'l2_leaf_reg': 0.004840943313275463, 'border_count': 113}. Best is trial 42 with value: 0.8717789162364717.\n",
      "[I 2025-02-12 20:01:16,587] Trial 51 finished with value: 0.8720153133152937 and parameters: {'iterations': 297, 'depth': 10, 'learning_rate': 0.1857678365196252, 'l2_leaf_reg': 2.2664530454836656e-08, 'border_count': 100}. Best is trial 51 with value: 0.8720153133152937.\n",
      "[I 2025-02-12 20:02:26,005] Trial 52 finished with value: 0.8696787235834528 and parameters: {'iterations': 291, 'depth': 10, 'learning_rate': 0.13964817312176012, 'l2_leaf_reg': 1.725011820195295e-08, 'border_count': 99}. Best is trial 51 with value: 0.8720153133152937.\n",
      "[I 2025-02-12 20:03:52,101] Trial 53 finished with value: 0.8725952944088465 and parameters: {'iterations': 272, 'depth': 10, 'learning_rate': 0.18905721871958775, 'l2_leaf_reg': 0.00013407754111496417, 'border_count': 127}. Best is trial 53 with value: 0.8725952944088465.\n",
      "[I 2025-02-12 20:04:47,968] Trial 54 finished with value: 0.8711374779506282 and parameters: {'iterations': 277, 'depth': 10, 'learning_rate': 0.16047989083128028, 'l2_leaf_reg': 0.00010065181099841688, 'border_count': 84}. Best is trial 53 with value: 0.8725952944088465.\n",
      "[I 2025-02-12 20:05:18,444] Trial 55 finished with value: 0.8622605202935819 and parameters: {'iterations': 266, 'depth': 9, 'learning_rate': 0.1864109831170408, 'l2_leaf_reg': 2.2120543664842483e-05, 'border_count': 104}. Best is trial 53 with value: 0.8725952944088465.\n",
      "[I 2025-02-12 20:06:48,496] Trial 56 finished with value: 0.8725465348057512 and parameters: {'iterations': 300, 'depth': 10, 'learning_rate': 0.1987478558454108, 'l2_leaf_reg': 4.993486469244889e-06, 'border_count': 122}. Best is trial 53 with value: 0.8725952944088465.\n",
      "[I 2025-02-12 20:06:56,476] Trial 57 finished with value: 0.8255798050532549 and parameters: {'iterations': 300, 'depth': 5, 'learning_rate': 0.19939068995364187, 'l2_leaf_reg': 2.983136339194055e-06, 'border_count': 127}. Best is trial 53 with value: 0.8725952944088465.\n",
      "[I 2025-02-12 20:07:26,678] Trial 58 finished with value: 0.8636949586800267 and parameters: {'iterations': 276, 'depth': 9, 'learning_rate': 0.17790347759044317, 'l2_leaf_reg': 4.258558941833667e-06, 'border_count': 94}. Best is trial 53 with value: 0.8725952944088465.\n",
      "[I 2025-02-12 20:09:16,281] Trial 59 finished with value: 0.8719042427500627 and parameters: {'iterations': 247, 'depth': 10, 'learning_rate': 0.2042552159416088, 'l2_leaf_reg': 0.00054947067720089, 'border_count': 170}. Best is trial 53 with value: 0.8725952944088465.\n",
      "[I 2025-02-12 20:11:09,642] Trial 60 finished with value: 0.8713995856302258 and parameters: {'iterations': 248, 'depth': 10, 'learning_rate': 0.2066390100519949, 'l2_leaf_reg': 0.009804739459841, 'border_count': 173}. Best is trial 53 with value: 0.8725952944088465.\n",
      "[I 2025-02-12 20:12:55,500] Trial 61 finished with value: 0.869883845728346 and parameters: {'iterations': 228, 'depth': 10, 'learning_rate': 0.20423632299520011, 'l2_leaf_reg': 0.019735417042275806, 'border_count': 177}. Best is trial 53 with value: 0.8725952944088465.\n",
      "[I 2025-02-12 20:19:11,808] Trial 62 finished with value: 0.8697878065268997 and parameters: {'iterations': 255, 'depth': 10, 'learning_rate': 0.22434287784862345, 'l2_leaf_reg': 0.4302166770526997, 'border_count': 166}. Best is trial 53 with value: 0.8725952944088465.\n",
      "[I 2025-02-12 20:21:38,329] Trial 63 finished with value: 0.8697678888848548 and parameters: {'iterations': 244, 'depth': 10, 'learning_rate': 0.21544712921834747, 'l2_leaf_reg': 0.0005671497682593531, 'border_count': 207}. Best is trial 53 with value: 0.8725952944088465.\n",
      "[I 2025-02-12 20:22:15,421] Trial 64 finished with value: 0.8587356677702325 and parameters: {'iterations': 210, 'depth': 9, 'learning_rate': 0.25456971938463496, 'l2_leaf_reg': 0.01329529365636862, 'border_count': 155}. Best is trial 53 with value: 0.8725952944088465.\n",
      "[I 2025-02-12 20:24:25,183] Trial 65 finished with value: 0.8752516226753059 and parameters: {'iterations': 282, 'depth': 10, 'learning_rate': 0.20394235302877795, 'l2_leaf_reg': 0.0716535416078835, 'border_count': 171}. Best is trial 65 with value: 0.8752516226753059.\n",
      "[I 2025-02-12 20:24:35,626] Trial 66 finished with value: 0.8300461162172276 and parameters: {'iterations': 278, 'depth': 6, 'learning_rate': 0.16969749228668463, 'l2_leaf_reg': 0.3069576789219899, 'border_count': 186}. Best is trial 65 with value: 0.8752516226753059.\n",
      "[I 2025-02-12 20:26:10,097] Trial 67 finished with value: 0.8605753458750602 and parameters: {'iterations': 261, 'depth': 10, 'learning_rate': 0.20076566590314698, 'l2_leaf_reg': 4.905604766040567, 'border_count': 141}. Best is trial 65 with value: 0.8752516226753059.\n",
      "[I 2025-02-12 20:27:13,401] Trial 68 finished with value: 0.8643782633733265 and parameters: {'iterations': 282, 'depth': 9, 'learning_rate': 0.23008980211502203, 'l2_leaf_reg': 0.0023039535085596107, 'border_count': 199}. Best is trial 65 with value: 0.8752516226753059.\n",
      "[I 2025-02-12 20:29:28,938] Trial 69 finished with value: 0.8744461654917149 and parameters: {'iterations': 296, 'depth': 10, 'learning_rate': 0.24302187616095058, 'l2_leaf_reg': 0.051397417098233304, 'border_count': 168}. Best is trial 65 with value: 0.8752516226753059.\n",
      "[I 2025-02-12 20:31:37,708] Trial 70 finished with value: 0.8712268480537434 and parameters: {'iterations': 273, 'depth': 10, 'learning_rate': 0.21735970377401914, 'l2_leaf_reg': 0.10745548626798387, 'border_count': 169}. Best is trial 65 with value: 0.8752516226753059.\n",
      "[I 2025-02-12 20:33:39,940] Trial 71 finished with value: 0.8723452037069868 and parameters: {'iterations': 295, 'depth': 10, 'learning_rate': 0.2443892739327537, 'l2_leaf_reg': 0.06953633947573411, 'border_count': 156}. Best is trial 65 with value: 0.8752516226753059.\n",
      "[I 2025-02-12 20:36:07,744] Trial 72 finished with value: 0.8741717426262818 and parameters: {'iterations': 295, 'depth': 10, 'learning_rate': 0.25780698583902084, 'l2_leaf_reg': 0.06370076541181688, 'border_count': 183}. Best is trial 65 with value: 0.8752516226753059.\n",
      "[I 2025-02-12 20:38:36,023] Trial 73 finished with value: 0.8741861140855613 and parameters: {'iterations': 282, 'depth': 10, 'learning_rate': 0.27650580393243135, 'l2_leaf_reg': 0.058199393910752024, 'border_count': 192}. Best is trial 65 with value: 0.8752516226753059.\n",
      "[I 2025-02-12 20:41:11,887] Trial 74 finished with value: 0.872823748088941 and parameters: {'iterations': 281, 'depth': 10, 'learning_rate': 0.2784661522088887, 'l2_leaf_reg': 0.04849282412135378, 'border_count': 196}. Best is trial 65 with value: 0.8752516226753059.\n",
      "[I 2025-02-12 20:43:47,580] Trial 75 finished with value: 0.8734815756364677 and parameters: {'iterations': 281, 'depth': 10, 'learning_rate': 0.2832383036307095, 'l2_leaf_reg': 0.05449845329782883, 'border_count': 197}. Best is trial 65 with value: 0.8752516226753059.\n",
      "[I 2025-02-12 20:44:57,890] Trial 76 finished with value: 0.8675939154457775 and parameters: {'iterations': 283, 'depth': 9, 'learning_rate': 0.28274794397783426, 'l2_leaf_reg': 0.036916053058900174, 'border_count': 220}. Best is trial 65 with value: 0.8752516226753059.\n",
      "[I 2025-02-12 20:47:20,854] Trial 77 finished with value: 0.8721513760077135 and parameters: {'iterations': 268, 'depth': 10, 'learning_rate': 0.27069429810331613, 'l2_leaf_reg': 0.3726199298611173, 'border_count': 194}. Best is trial 65 with value: 0.8752516226753059.\n",
      "[I 2025-02-12 20:49:32,888] Trial 78 finished with value: 0.8705988106567146 and parameters: {'iterations': 259, 'depth': 10, 'learning_rate': 0.25416044165062945, 'l2_leaf_reg': 0.04423690100410977, 'border_count': 182}. Best is trial 65 with value: 0.8752516226753059.\n",
      "[I 2025-02-12 20:50:40,258] Trial 79 finished with value: 0.8642877826748364 and parameters: {'iterations': 284, 'depth': 9, 'learning_rate': 0.28359218170098544, 'l2_leaf_reg': 0.7252433981143939, 'border_count': 200}. Best is trial 65 with value: 0.8752516226753059.\n",
      "[I 2025-02-12 20:53:31,622] Trial 80 finished with value: 0.8736983569069283 and parameters: {'iterations': 269, 'depth': 10, 'learning_rate': 0.293830558580154, 'l2_leaf_reg': 0.12301230223575293, 'border_count': 225}. Best is trial 65 with value: 0.8752516226753059.\n",
      "[I 2025-02-12 20:56:41,392] Trial 81 finished with value: 0.8729655305474934 and parameters: {'iterations': 271, 'depth': 10, 'learning_rate': 0.2746874692730612, 'l2_leaf_reg': 0.13650563211657205, 'border_count': 244}. Best is trial 65 with value: 0.8752516226753059.\n",
      "[I 2025-02-12 20:59:48,026] Trial 82 finished with value: 0.8733900266593142 and parameters: {'iterations': 271, 'depth': 10, 'learning_rate': 0.2945999292484755, 'l2_leaf_reg': 0.14665324467553917, 'border_count': 242}. Best is trial 65 with value: 0.8752516226753059.\n",
      "[I 2025-02-12 21:02:49,712] Trial 83 finished with value: 0.8707517227735695 and parameters: {'iterations': 269, 'depth': 10, 'learning_rate': 0.2918557646826622, 'l2_leaf_reg': 0.25069624635784055, 'border_count': 232}. Best is trial 65 with value: 0.8752516226753059.\n",
      "[I 2025-02-12 21:06:05,971] Trial 84 finished with value: 0.8748222879421477 and parameters: {'iterations': 280, 'depth': 10, 'learning_rate': 0.27381507886774925, 'l2_leaf_reg': 0.15148738644924048, 'border_count': 247}. Best is trial 65 with value: 0.8752516226753059.\n",
      "[I 2025-02-12 21:07:26,668] Trial 85 finished with value: 0.8623131977580485 and parameters: {'iterations': 291, 'depth': 9, 'learning_rate': 0.26190668822769025, 'l2_leaf_reg': 2.0603608443071244, 'border_count': 243}. Best is trial 65 with value: 0.8752516226753059.\n",
      "[I 2025-02-12 21:10:13,165] Trial 86 finished with value: 0.8704163336075885 and parameters: {'iterations': 259, 'depth': 10, 'learning_rate': 0.2735619579573167, 'l2_leaf_reg': 0.2046091386391844, 'border_count': 228}. Best is trial 65 with value: 0.8752516226753059.\n",
      "[I 2025-02-12 21:13:38,073] Trial 87 finished with value: 0.8729641980154735 and parameters: {'iterations': 288, 'depth': 10, 'learning_rate': 0.2996647087139551, 'l2_leaf_reg': 0.09661924251297263, 'border_count': 246}. Best is trial 65 with value: 0.8752516226753059.\n",
      "[I 2025-02-12 21:17:18,311] Trial 88 finished with value: 0.8718701041249414 and parameters: {'iterations': 267, 'depth': 10, 'learning_rate': 0.28977619777734503, 'l2_leaf_reg': 0.7819318289575963, 'border_count': 242}. Best is trial 65 with value: 0.8752516226753059.\n",
      "[I 2025-02-12 21:18:50,414] Trial 89 finished with value: 0.8632333463587536 and parameters: {'iterations': 141, 'depth': 10, 'learning_rate': 0.26890853184384295, 'l2_leaf_reg': 0.16675004605274785, 'border_count': 215}. Best is trial 65 with value: 0.8752516226753059.\n",
      "[I 2025-02-12 21:18:55,013] Trial 90 finished with value: 0.8207562688720715 and parameters: {'iterations': 73, 'depth': 7, 'learning_rate': 0.2794345651906649, 'l2_leaf_reg': 0.021431380940153087, 'border_count': 227}. Best is trial 65 with value: 0.8752516226753059.\n",
      "[I 2025-02-12 21:22:20,477] Trial 91 finished with value: 0.8729930162967753 and parameters: {'iterations': 287, 'depth': 10, 'learning_rate': 0.2962024238054704, 'l2_leaf_reg': 0.08922231540213903, 'border_count': 246}. Best is trial 65 with value: 0.8752516226753059.\n",
      "[I 2025-02-12 21:25:49,767] Trial 92 finished with value: 0.8737248437471523 and parameters: {'iterations': 280, 'depth': 10, 'learning_rate': 0.29395242090781337, 'l2_leaf_reg': 0.0682919412777298, 'border_count': 254}. Best is trial 65 with value: 0.8752516226753059.\n",
      "[I 2025-02-12 21:29:16,230] Trial 93 finished with value: 0.8737971440312231 and parameters: {'iterations': 279, 'depth': 10, 'learning_rate': 0.2946322008660916, 'l2_leaf_reg': 0.08825811323133428, 'border_count': 252}. Best is trial 65 with value: 0.8752516226753059.\n",
      "[I 2025-02-12 21:29:51,190] Trial 94 finished with value: 0.8371565100316438 and parameters: {'iterations': 52, 'depth': 10, 'learning_rate': 0.28785633307533454, 'l2_leaf_reg': 0.058172932989700964, 'border_count': 237}. Best is trial 65 with value: 0.8752516226753059.\n",
      "[I 2025-02-12 21:33:19,814] Trial 95 finished with value: 0.8695375349087362 and parameters: {'iterations': 279, 'depth': 10, 'learning_rate': 0.25960326456506305, 'l2_leaf_reg': 0.5815056202288292, 'border_count': 255}. Best is trial 65 with value: 0.8752516226753059.\n",
      "[I 2025-02-12 21:36:52,907] Trial 96 finished with value: 0.870671063140878 and parameters: {'iterations': 294, 'depth': 10, 'learning_rate': 0.2872928395144656, 'l2_leaf_reg': 1.306871444245914, 'border_count': 251}. Best is trial 65 with value: 0.8752516226753059.\n",
      "[I 2025-02-12 21:39:53,473] Trial 97 finished with value: 0.8736135265354508 and parameters: {'iterations': 276, 'depth': 10, 'learning_rate': 0.25680426847850374, 'l2_leaf_reg': 0.030046788510596823, 'border_count': 224}. Best is trial 65 with value: 0.8752516226753059.\n",
      "[I 2025-02-12 21:40:38,243] Trial 98 finished with value: 0.8574741012356272 and parameters: {'iterations': 183, 'depth': 9, 'learning_rate': 0.2541287500054792, 'l2_leaf_reg': 0.029922338439270273, 'border_count': 207}. Best is trial 65 with value: 0.8752516226753059.\n",
      "[I 2025-02-12 21:43:23,321] Trial 99 finished with value: 0.8715779725713986 and parameters: {'iterations': 256, 'depth': 10, 'learning_rate': 0.26605526541989094, 'l2_leaf_reg': 0.013199196402646874, 'border_count': 225}. Best is trial 65 with value: 0.8752516226753059.\n",
      "2025-02-12 21:43:23,360 - lab.hiperparameter_optimization - INFO - Resultados da otimização salvos em: optimization_results\\20250212_191340\\CatBoost\n",
      "2025-02-12 21:43:23,381 - lab.hiperparameter_optimization - INFO - Resumo comparativo salvo em: optimization_results\\20250212_191340\n"
     ]
    },
    {
     "data": {
      "text/plain": [
       "{'Decision Tree': {'max_depth': 25,\n",
       "  'min_samples_split': 2,\n",
       "  'min_samples_leaf': 1,\n",
       "  'criterion': 'gini'},\n",
       " 'Random Forest': {'n_estimators': 273,\n",
       "  'max_depth': 29,\n",
       "  'min_samples_split': 2,\n",
       "  'min_samples_leaf': 1,\n",
       "  'max_features': 'log2'},\n",
       " 'CatBoost': {'iterations': 282,\n",
       "  'depth': 10,\n",
       "  'learning_rate': 0.20394235302877795,\n",
       "  'l2_leaf_reg': 0.0716535416078835,\n",
       "  'border_count': 171}}"
      ]
     },
     "metadata": {},
     "output_type": "display_data"
    }
   ],
   "source": [
    "preprocessing = PreprocessingPipeline(\n",
    "    collect_new_data=True,\n",
    "    dataset_type='base',\n",
    "    test_size=0.2,\n",
    "    valid_size=0.2,\n",
    "    balance_strategy='smote',\n",
    "    random_state=42\n",
    ")\n",
    "\n",
    "# Processa os dados\n",
    "X_train, X_valid, X_test, y_train, y_valid, y_test = preprocessing.process_data()\n",
    "\n",
    "# Inicializa o otimizador\n",
    "optimizer = ModelOptimizer()\n",
    "\n",
    "# Otimiza todos os modelos\n",
    "best_params = optimizer.optimize_all_models(X_train, y_train, n_trials=100)\n",
    "\n",
    "display(best_params)"
   ]
  },
  {
   "cell_type": "markdown",
   "metadata": {},
   "source": [
    "### Proximo passo: Desenvolvimento de pipeline de modelagem para classificação de gravidade de acidentes"
   ]
  },
  {
   "cell_type": "code",
   "execution_count": 10,
   "metadata": {},
   "outputs": [
    {
     "name": "stderr",
     "output_type": "stream",
     "text": [
      "2025-02-12 21:43:23,450 - pipelines.preprocessing_pipeline.PreprocessingPipeline - INFO - Iniciando pipeline completo de pré-processamento (usando dataset base)...\n",
      "2025-02-12 21:43:23,453 - preprocessing.transformers.data_collection_transformer.DataCollectionTransformer - INFO - Iniciando coleta de dados...\n",
      "2025-02-12 21:43:23,454 - root - WARNING - Folder RoadSafeAI/files já existe. Não será feito novo download\n",
      "2025-02-12 21:43:23,455 - preprocessing.transformers.data_collection_transformer.DataCollectionTransformer - INFO - Coleta de dados concluída com sucesso\n",
      "2025-02-12 21:43:23,456 - preprocessing.transformers.dataset_merger_transformer.DatasetMergerTransformer - INFO - Iniciando união dos datasets (usando dataset base)...\n",
      "2025-02-12 21:43:23,458 - data_collection.merge_datasets - INFO - 18 arquivos CSV encontrados para o período 2007-2024.\n",
      "2025-02-12 21:43:23,459 - data_collection.merge_datasets - INFO - Processando dataset do ano 2007: datatran2007.csv\n"
     ]
    },
    {
     "name": "stdout",
     "output_type": "stream",
     "text": [
      "FileName: datatran2007.csv\n",
      "FileName: datatran2008.csv\n",
      "FileName: datatran2009.csv\n",
      "FileName: datatran2010.csv\n",
      "FileName: datatran2011.csv\n",
      "FileName: datatran2012.csv\n",
      "FileName: datatran2013.csv\n",
      "FileName: datatran2014.csv\n",
      "FileName: datatran2015.csv\n",
      "FileName: datatran2016.csv\n",
      "FileName: datatran2017.csv\n",
      "FileName: datatran2018.csv\n",
      "FileName: datatran2019.csv\n",
      "FileName: datatran2020.csv\n",
      "FileName: datatran2021.csv\n",
      "FileName: datatran2022.csv\n",
      "FileName: datatran2023.csv\n",
      "FileName: datatran2024.csv\n",
      "FileName: datatran2007.csv\n"
     ]
    },
    {
     "name": "stderr",
     "output_type": "stream",
     "text": [
      "d:\\projetos\\roadSafeAi\\RoadSafeAI\\src\\data_collection\\file_read_pandas.py:16: DtypeWarning: Columns (5,6) have mixed types. Specify dtype option on import or set low_memory=False.\n",
      "  return pd.read_csv(file_path, encoding='cp1252', sep=';')\n",
      "2025-02-12 21:43:23,792 - data_collection.merge_datasets - INFO - Processando dataset do ano 2008: datatran2008.csv\n"
     ]
    },
    {
     "name": "stdout",
     "output_type": "stream",
     "text": [
      "FileName: datatran2008.csv\n"
     ]
    },
    {
     "name": "stderr",
     "output_type": "stream",
     "text": [
      "d:\\projetos\\roadSafeAi\\RoadSafeAI\\src\\data_collection\\file_read_pandas.py:16: DtypeWarning: Columns (5,6) have mixed types. Specify dtype option on import or set low_memory=False.\n",
      "  return pd.read_csv(file_path, encoding='cp1252', sep=';')\n",
      "2025-02-12 21:43:24,114 - data_collection.merge_datasets - INFO - Processando dataset do ano 2009: datatran2009.csv\n"
     ]
    },
    {
     "name": "stdout",
     "output_type": "stream",
     "text": [
      "FileName: datatran2009.csv\n"
     ]
    },
    {
     "name": "stderr",
     "output_type": "stream",
     "text": [
      "2025-02-12 21:43:24,464 - data_collection.merge_datasets - INFO - Processando dataset do ano 2010: datatran2010.csv\n"
     ]
    },
    {
     "name": "stdout",
     "output_type": "stream",
     "text": [
      "FileName: datatran2010.csv\n"
     ]
    },
    {
     "name": "stderr",
     "output_type": "stream",
     "text": [
      "2025-02-12 21:43:24,917 - data_collection.merge_datasets - INFO - Processando dataset do ano 2011: datatran2011.csv\n"
     ]
    },
    {
     "name": "stdout",
     "output_type": "stream",
     "text": [
      "FileName: datatran2011.csv\n"
     ]
    },
    {
     "name": "stderr",
     "output_type": "stream",
     "text": [
      "2025-02-12 21:43:25,356 - data_collection.merge_datasets - INFO - Processando dataset do ano 2012: datatran2012.csv\n"
     ]
    },
    {
     "name": "stdout",
     "output_type": "stream",
     "text": [
      "FileName: datatran2012.csv\n"
     ]
    },
    {
     "name": "stderr",
     "output_type": "stream",
     "text": [
      "d:\\projetos\\roadSafeAi\\RoadSafeAI\\src\\data_collection\\file_read_pandas.py:16: DtypeWarning: Columns (5,6) have mixed types. Specify dtype option on import or set low_memory=False.\n",
      "  return pd.read_csv(file_path, encoding='cp1252', sep=';')\n",
      "2025-02-12 21:43:25,748 - data_collection.merge_datasets - INFO - Processando dataset do ano 2013: datatran2013.csv\n"
     ]
    },
    {
     "name": "stdout",
     "output_type": "stream",
     "text": [
      "FileName: datatran2013.csv\n"
     ]
    },
    {
     "name": "stderr",
     "output_type": "stream",
     "text": [
      "2025-02-12 21:43:26,167 - data_collection.merge_datasets - INFO - Processando dataset do ano 2014: datatran2014.csv\n"
     ]
    },
    {
     "name": "stdout",
     "output_type": "stream",
     "text": [
      "FileName: datatran2014.csv\n"
     ]
    },
    {
     "name": "stderr",
     "output_type": "stream",
     "text": [
      "2025-02-12 21:43:26,552 - data_collection.merge_datasets - INFO - Processando dataset do ano 2015: datatran2015.csv\n"
     ]
    },
    {
     "name": "stdout",
     "output_type": "stream",
     "text": [
      "FileName: datatran2015.csv\n"
     ]
    },
    {
     "name": "stderr",
     "output_type": "stream",
     "text": [
      "2025-02-12 21:43:26,847 - data_collection.merge_datasets - INFO - Processando dataset do ano 2016: datatran2016.csv\n"
     ]
    },
    {
     "name": "stdout",
     "output_type": "stream",
     "text": [
      "FileName: datatran2016.csv\n"
     ]
    },
    {
     "name": "stderr",
     "output_type": "stream",
     "text": [
      "2025-02-12 21:43:27,098 - data_collection.merge_datasets - INFO - Processando dataset do ano 2017: datatran2017.csv\n"
     ]
    },
    {
     "name": "stdout",
     "output_type": "stream",
     "text": [
      "FileName: datatran2017.csv\n"
     ]
    },
    {
     "name": "stderr",
     "output_type": "stream",
     "text": [
      "2025-02-12 21:43:27,514 - data_collection.merge_datasets - INFO - Processando dataset do ano 2018: datatran2018.csv\n"
     ]
    },
    {
     "name": "stdout",
     "output_type": "stream",
     "text": [
      "FileName: datatran2018.csv\n"
     ]
    },
    {
     "name": "stderr",
     "output_type": "stream",
     "text": [
      "2025-02-12 21:43:27,833 - data_collection.merge_datasets - INFO - Processando dataset do ano 2019: datatran2019.csv\n"
     ]
    },
    {
     "name": "stdout",
     "output_type": "stream",
     "text": [
      "FileName: datatran2019.csv\n"
     ]
    },
    {
     "name": "stderr",
     "output_type": "stream",
     "text": [
      "2025-02-12 21:43:28,148 - data_collection.merge_datasets - INFO - Processando dataset do ano 2020: datatran2020.csv\n"
     ]
    },
    {
     "name": "stdout",
     "output_type": "stream",
     "text": [
      "FileName: datatran2020.csv\n"
     ]
    },
    {
     "name": "stderr",
     "output_type": "stream",
     "text": [
      "2025-02-12 21:43:28,484 - data_collection.merge_datasets - INFO - Processando dataset do ano 2021: datatran2021.csv\n"
     ]
    },
    {
     "name": "stdout",
     "output_type": "stream",
     "text": [
      "FileName: datatran2021.csv\n"
     ]
    },
    {
     "name": "stderr",
     "output_type": "stream",
     "text": [
      "2025-02-12 21:43:28,764 - data_collection.merge_datasets - INFO - Processando dataset do ano 2022: datatran2022.csv\n"
     ]
    },
    {
     "name": "stdout",
     "output_type": "stream",
     "text": [
      "FileName: datatran2022.csv\n"
     ]
    },
    {
     "name": "stderr",
     "output_type": "stream",
     "text": [
      "2025-02-12 21:43:29,066 - data_collection.merge_datasets - INFO - Processando dataset do ano 2023: datatran2023.csv\n"
     ]
    },
    {
     "name": "stdout",
     "output_type": "stream",
     "text": [
      "FileName: datatran2023.csv\n"
     ]
    },
    {
     "name": "stderr",
     "output_type": "stream",
     "text": [
      "2025-02-12 21:43:29,378 - data_collection.merge_datasets - INFO - Processando dataset do ano 2024: datatran2024.csv\n"
     ]
    },
    {
     "name": "stdout",
     "output_type": "stream",
     "text": [
      "FileName: datatran2024.csv\n"
     ]
    },
    {
     "name": "stderr",
     "output_type": "stream",
     "text": [
      "2025-02-12 21:43:29,708 - data_collection.merge_datasets - INFO - Total de registros do Maranhão: 34153\n",
      "2025-02-12 21:43:29,964 - data_collection.merge_datasets - INFO - Dataset do Maranhão unificado salvo em D:\\projetos\\roadSafeAi\\RoadSafeAI\\files\\processed\\maranhao\\datatran_ma_merged_base_2007_2024.csv\n",
      "2025-02-12 21:43:29,966 - data_collection.merge_datasets - INFO - Metadados do Maranhão salvos em D:\\projetos\\roadSafeAi\\RoadSafeAI\\files\\processed\\maranhao\\metadata_ma.txt\n",
      "2025-02-12 21:43:29,968 - data_collection.merge_datasets - INFO - 8 arquivos CSV encontrados para o período 2017-2024.\n",
      "2025-02-12 21:43:29,968 - data_collection.merge_datasets - INFO - Processando dataset do ano 2017: datatran2017.csv\n"
     ]
    },
    {
     "name": "stdout",
     "output_type": "stream",
     "text": [
      "FileName: datatran2007.csv\n",
      "FileName: datatran2008.csv\n",
      "FileName: datatran2009.csv\n",
      "FileName: datatran2010.csv\n",
      "FileName: datatran2011.csv\n",
      "FileName: datatran2012.csv\n",
      "FileName: datatran2013.csv\n",
      "FileName: datatran2014.csv\n",
      "FileName: datatran2015.csv\n",
      "FileName: datatran2016.csv\n",
      "FileName: datatran2017.csv\n",
      "FileName: datatran2018.csv\n",
      "FileName: datatran2019.csv\n",
      "FileName: datatran2020.csv\n",
      "FileName: datatran2021.csv\n",
      "FileName: datatran2022.csv\n",
      "FileName: datatran2023.csv\n",
      "FileName: datatran2024.csv\n",
      "FileName: datatran2017.csv\n"
     ]
    },
    {
     "name": "stderr",
     "output_type": "stream",
     "text": [
      "2025-02-12 21:43:30,358 - data_collection.merge_datasets - INFO - Processando dataset do ano 2018: datatran2018.csv\n"
     ]
    },
    {
     "name": "stdout",
     "output_type": "stream",
     "text": [
      "FileName: datatran2018.csv\n"
     ]
    },
    {
     "name": "stderr",
     "output_type": "stream",
     "text": [
      "2025-02-12 21:43:30,713 - data_collection.merge_datasets - INFO - Processando dataset do ano 2019: datatran2019.csv\n"
     ]
    },
    {
     "name": "stdout",
     "output_type": "stream",
     "text": [
      "FileName: datatran2019.csv\n"
     ]
    },
    {
     "name": "stderr",
     "output_type": "stream",
     "text": [
      "2025-02-12 21:43:31,018 - data_collection.merge_datasets - INFO - Processando dataset do ano 2020: datatran2020.csv\n"
     ]
    },
    {
     "name": "stdout",
     "output_type": "stream",
     "text": [
      "FileName: datatran2020.csv\n"
     ]
    },
    {
     "name": "stderr",
     "output_type": "stream",
     "text": [
      "2025-02-12 21:43:31,347 - data_collection.merge_datasets - INFO - Processando dataset do ano 2021: datatran2021.csv\n"
     ]
    },
    {
     "name": "stdout",
     "output_type": "stream",
     "text": [
      "FileName: datatran2021.csv\n"
     ]
    },
    {
     "name": "stderr",
     "output_type": "stream",
     "text": [
      "2025-02-12 21:43:31,654 - data_collection.merge_datasets - INFO - Processando dataset do ano 2022: datatran2022.csv\n"
     ]
    },
    {
     "name": "stdout",
     "output_type": "stream",
     "text": [
      "FileName: datatran2022.csv\n"
     ]
    },
    {
     "name": "stderr",
     "output_type": "stream",
     "text": [
      "2025-02-12 21:43:31,973 - data_collection.merge_datasets - INFO - Processando dataset do ano 2023: datatran2023.csv\n"
     ]
    },
    {
     "name": "stdout",
     "output_type": "stream",
     "text": [
      "FileName: datatran2023.csv\n"
     ]
    },
    {
     "name": "stderr",
     "output_type": "stream",
     "text": [
      "2025-02-12 21:43:32,289 - data_collection.merge_datasets - INFO - Processando dataset do ano 2024: datatran2024.csv\n"
     ]
    },
    {
     "name": "stdout",
     "output_type": "stream",
     "text": [
      "FileName: datatran2024.csv\n"
     ]
    },
    {
     "name": "stderr",
     "output_type": "stream",
     "text": [
      "2025-02-12 21:43:32,642 - data_collection.merge_datasets - INFO - Total de registros do Maranhão: 9609\n",
      "2025-02-12 21:43:32,734 - data_collection.merge_datasets - INFO - Dataset do Maranhão unificado salvo em D:\\projetos\\roadSafeAi\\RoadSafeAI\\files\\processed\\maranhao\\datatran_ma_merged_complete_2017_2024.csv\n",
      "2025-02-12 21:43:32,736 - data_collection.merge_datasets - INFO - Metadados do Maranhão salvos em D:\\projetos\\roadSafeAi\\RoadSafeAI\\files\\processed\\maranhao\\metadata_ma.txt\n",
      "2025-02-12 21:43:32,737 - preprocessing.transformers.dataset_merger_transformer.DatasetMergerTransformer - INFO - Dataset base selecionado:\n",
      "2025-02-12 21:43:32,737 - preprocessing.transformers.dataset_merger_transformer.DatasetMergerTransformer - INFO - Dimensões: (34153, 25)\n",
      "2025-02-12 21:43:32,738 - preprocessing.transformers.dataset_merger_transformer.DatasetMergerTransformer - INFO - Período: 2007-01-01 00:00:00 até 2024-12-31 00:00:00\n",
      "2025-02-12 21:43:32,739 - preprocessing.transformers.dataset_merger_transformer.DatasetMergerTransformer - INFO - Colunas: ['id', 'data_inversa', 'dia_semana', 'horario', 'uf', 'br', 'km', 'municipio', 'causa_acidente', 'tipo_acidente', 'classificacao_acidente', 'fase_dia', 'sentido_via', 'condicao_metereologica', 'tipo_pista', 'tracado_via', 'uso_solo', 'pessoas', 'mortos', 'feridos_leves', 'feridos_graves', 'ilesos', 'ignorados', 'feridos', 'veiculos']\n",
      "2025-02-12 21:43:32,740 - preprocessing.transformers.data_cleaning_transformer.DataCleaningTransformer - INFO - Iniciando limpeza de dados...\n",
      "2025-02-12 21:43:32,741 - preprocessing.data_cleaning_01.DataCleaning - INFO - Iniciando processo de limpeza do dataset...\n",
      "2025-02-12 21:43:32,745 - preprocessing.data_cleaning_01.DataCleaning - INFO - Colunas removidas: ['id', 'uf', 'tracado_via', 'feridos', 'fase_dia']\n",
      "d:\\projetos\\roadSafeAi\\RoadSafeAI\\src\\preprocessing\\data_cleaning_01.py:64: UserWarning: Boolean Series key will be reindexed to match DataFrame index.\n",
      "  df_clean = df_clean[~mascara_espacos['remove']]\n",
      "2025-02-12 21:43:32,928 - preprocessing.data_cleaning_01.DataCleaning - INFO - Estatísticas de limpeza:\n",
      "2025-02-12 21:43:32,929 - preprocessing.data_cleaning_01.DataCleaning - INFO - - Linhas no dataset original: 34153\n",
      "2025-02-12 21:43:32,929 - preprocessing.data_cleaning_01.DataCleaning - INFO - - Linhas removidas: 3\n",
      "2025-02-12 21:43:32,930 - preprocessing.data_cleaning_01.DataCleaning - INFO - - Percentual removido: 0.0088%\n",
      "2025-02-12 21:43:32,930 - preprocessing.data_cleaning_01.DataCleaning - INFO - - Linhas no dataset final: 34150\n",
      "2025-02-12 21:43:32,958 - preprocessing.data_cleaning_01.DataCleaning - INFO - Removidos 13 registros duplicados.\n",
      "2025-02-12 21:43:32,960 - preprocessing.data_cleaning_01.DataCleaning - INFO - Processo de limpeza concluído com sucesso!\n",
      "2025-02-12 21:43:32,963 - preprocessing.transformers.data_standardize_transformer.DataStandardizeTransformer - INFO - Iniciando padronização de dados...\n",
      "2025-02-12 21:43:32,963 - preprocessing.data_standardize_02.DataStandardize - INFO - Iniciando padronização do dataset...\n",
      "2025-02-12 21:43:33,005 - preprocessing.data_standardize_02.DataStandardize - INFO - Coluna km padronizada. Range: [0, 684]\n",
      "2025-02-12 21:43:33,040 - preprocessing.data_standardize_02.DataStandardize - INFO - Coluna pessoas padronizada. Range: [1, 54]\n",
      "2025-02-12 21:43:33,074 - preprocessing.data_standardize_02.DataStandardize - INFO - Coluna mortos padronizada. Range: [0, 11]\n",
      "2025-02-12 21:43:33,109 - preprocessing.data_standardize_02.DataStandardize - INFO - Coluna feridos_leves padronizada. Range: [0, 37]\n",
      "2025-02-12 21:43:33,144 - preprocessing.data_standardize_02.DataStandardize - INFO - Coluna feridos_graves padronizada. Range: [0, 20]\n",
      "2025-02-12 21:43:33,179 - preprocessing.data_standardize_02.DataStandardize - INFO - Coluna ilesos padronizada. Range: [0, 49]\n",
      "2025-02-12 21:43:33,214 - preprocessing.data_standardize_02.DataStandardize - INFO - Coluna ignorados padronizada. Range: [0, 35]\n",
      "2025-02-12 21:43:33,248 - preprocessing.data_standardize_02.DataStandardize - INFO - Coluna veiculos padronizada. Range: [1, 17]\n",
      "2025-02-12 21:43:33,249 - preprocessing.data_standardize_02.DataStandardize - INFO - Valores numéricos padronizados\n",
      "2025-02-12 21:43:33,267 - preprocessing.data_standardize_02.DataStandardize - INFO - Coluna data_inversa convertida para datetime e renomeada para 'data'\n",
      "2025-02-12 21:43:33,283 - preprocessing.data_standardize_02.DataStandardize - INFO - Distribuição dos períodos do dia:\n",
      "2025-02-12 21:43:33,284 - preprocessing.data_standardize_02.DataStandardize - INFO - - tarde: 11467\n",
      "2025-02-12 21:43:33,285 - preprocessing.data_standardize_02.DataStandardize - INFO - - manha: 9587\n",
      "2025-02-12 21:43:33,285 - preprocessing.data_standardize_02.DataStandardize - INFO - - noite: 9393\n",
      "2025-02-12 21:43:33,286 - preprocessing.data_standardize_02.DataStandardize - INFO - - madrugada: 3690\n",
      "2025-02-12 21:43:33,288 - preprocessing.data_standardize_02.DataStandardize - INFO - Valores temporais padronizados\n",
      "2025-02-12 21:43:33,300 - preprocessing.data_standardize_02.DataStandardize - INFO - Valores únicos originais em uso_solo: ['Rural' 'Urbano' 'Não' 'Sim']\n",
      "2025-02-12 21:43:33,307 - preprocessing.data_standardize_02.DataStandardize - INFO - Valores únicos após padronização em uso_solo: ['Não' 'Sim']\n",
      "2025-02-12 21:43:33,310 - preprocessing.data_standardize_02.DataStandardize - INFO - Coluna uso_solo padronizada\n",
      "2025-02-12 21:43:33,322 - preprocessing.data_standardize_02.DataStandardize - INFO - Valores únicos originais em dia_semana: ['Segunda' 'Quinta' 'Domingo' 'Terça' 'Sexta' 'Quarta' 'Sábado' 'domingo'\n",
      " 'segunda-feira' 'terça-feira' 'quarta-feira' 'quinta-feira' 'sexta-feira'\n",
      " 'sábado']\n",
      "2025-02-12 21:43:33,335 - preprocessing.data_standardize_02.DataStandardize - INFO - Valores únicos após padronização em dia_semana: ['segunda-feira' 'quinta-feira' 'domingo' 'terca-feira' 'sexta-feira'\n",
      " 'quarta-feira' 'sabado']\n",
      "2025-02-12 21:43:33,338 - preprocessing.data_standardize_02.DataStandardize - INFO - Coluna dia_semana padronizada\n",
      "2025-02-12 21:43:33,340 - preprocessing.transformers.feature_engineering_transformer.FeatureEngineeringTransformer - INFO - Iniciando engenharia de features...\n",
      "2025-02-12 21:43:33,341 - preprocessing.feature_engineering_03.FeatureEngineering - INFO - Iniciando criação de novas features...\n",
      "2025-02-12 21:43:33,365 - preprocessing.feature_engineering_03.FeatureEngineering - INFO - Distribuição dos períodos do dia:\n",
      "2025-02-12 21:43:33,370 - preprocessing.feature_engineering_03.FeatureEngineering - INFO - Removendo horario exato, adotado periodo do dia:\n",
      "2025-02-12 21:43:33,371 - preprocessing.feature_engineering_03.FeatureEngineering - INFO - - tarde: 11467 registros\n",
      "2025-02-12 21:43:33,372 - preprocessing.feature_engineering_03.FeatureEngineering - INFO - - manha: 9587 registros\n",
      "2025-02-12 21:43:33,373 - preprocessing.feature_engineering_03.FeatureEngineering - INFO - - noite: 9393 registros\n",
      "2025-02-12 21:43:33,374 - preprocessing.feature_engineering_03.FeatureEngineering - INFO - - madrugada: 3690 registros\n",
      "2025-02-12 21:43:33,374 - preprocessing.feature_engineering_03.FeatureEngineering - INFO - Feature 'periodo_dia' criada com sucesso\n",
      "2025-02-12 21:43:33,598 - preprocessing.feature_engineering_03.FeatureEngineering - INFO - Distribuição das gravidades dos acidentes:\n",
      "2025-02-12 21:43:33,599 - preprocessing.feature_engineering_03.FeatureEngineering - INFO - - sem_vitimas: 14641 registros\n",
      "2025-02-12 21:43:33,600 - preprocessing.feature_engineering_03.FeatureEngineering - INFO - - leve: 8844 registros\n",
      "2025-02-12 21:43:33,601 - preprocessing.feature_engineering_03.FeatureEngineering - INFO - - grave: 6766 registros\n",
      "2025-02-12 21:43:33,601 - preprocessing.feature_engineering_03.FeatureEngineering - INFO - - fatal: 3886 registros\n",
      "2025-02-12 21:43:33,602 - preprocessing.feature_engineering_03.FeatureEngineering - INFO - Feature 'gravidade_acidente' criada com sucesso\n",
      "2025-02-12 21:43:33,615 - preprocessing.feature_engineering_03.FeatureEngineering - INFO - Distribuição final das causas agrupadas:\n",
      "2025-02-12 21:43:33,616 - preprocessing.feature_engineering_03.FeatureEngineering - INFO - - falha_atencao: 11127 registros\n",
      "2025-02-12 21:43:33,617 - preprocessing.feature_engineering_03.FeatureEngineering - INFO - - outros: 11088 registros\n",
      "2025-02-12 21:43:33,618 - preprocessing.feature_engineering_03.FeatureEngineering - INFO - - comportamento_risco: 5384 registros\n",
      "2025-02-12 21:43:33,618 - preprocessing.feature_engineering_03.FeatureEngineering - INFO - - fatores_externos_animais: 1987 registros\n",
      "2025-02-12 21:43:33,619 - preprocessing.feature_engineering_03.FeatureEngineering - INFO - - problemas_tecnicos_via: 1292 registros\n",
      "2025-02-12 21:43:33,619 - preprocessing.feature_engineering_03.FeatureEngineering - INFO - - problemas_tecnicos_veiculo: 1231 registros\n",
      "2025-02-12 21:43:33,620 - preprocessing.feature_engineering_03.FeatureEngineering - INFO - - condutor_alcool_drogas: 1114 registros\n",
      "2025-02-12 21:43:33,621 - preprocessing.feature_engineering_03.FeatureEngineering - INFO - - condutor_fadiga: 884 registros\n",
      "2025-02-12 21:43:33,621 - preprocessing.feature_engineering_03.FeatureEngineering - INFO - - fatores_ambientais: 30 registros\n",
      "2025-02-12 21:43:33,623 - preprocessing.feature_engineering_03.FeatureEngineering - INFO - Feature 'causa_acidente_grupo' criada com sucesso\n",
      "2025-02-12 21:43:33,624 - preprocessing.feature_engineering_03.FeatureEngineering - INFO - Todas as features foram criadas com sucesso!\n",
      "2025-02-12 21:43:33,791 - preprocessing.feature_engineering_03.FeatureEngineering - INFO - Dataset processado salvo em: d:\\projetos\\roadSafeAi\\RoadSafeAI\\files\\processed\\datatran_ma_processado.csv\n",
      "2025-02-12 21:43:33,793 - preprocessing.transformers.data_encoding_transformer.DataEncodingTransformer - INFO - Ajustando codificador de dados...\n",
      "2025-02-12 21:43:33,794 - preprocessing.data_encoding_04.DataEncoding - INFO - Iniciando fit dos encoders...\n",
      "2025-02-12 21:43:33,806 - preprocessing.data_encoding_04.DataEncoding - INFO - Removidas as colunas: ['feridos_graves', 'mortos', 'feridos_leves', 'ilesos']\n",
      "2025-02-12 21:43:33,812 - preprocessing.data_encoding_04.DataEncoding - INFO - Coluna municipio: 110 valores únicos\n",
      "2025-02-12 21:43:33,815 - preprocessing.data_encoding_04.DataEncoding - INFO - Coluna causa_acidente: 92 valores únicos\n",
      "2025-02-12 21:43:33,818 - preprocessing.data_encoding_04.DataEncoding - INFO - Coluna tipo_acidente: 30 valores únicos\n",
      "2025-02-12 21:43:33,822 - preprocessing.data_encoding_04.DataEncoding - INFO - Coluna classificacao_acidente: 4 valores únicos\n",
      "2025-02-12 21:43:33,826 - preprocessing.data_encoding_04.DataEncoding - INFO - Coluna sentido_via: 3 valores únicos\n",
      "2025-02-12 21:43:33,830 - preprocessing.data_encoding_04.DataEncoding - INFO - Coluna condicao_metereologica: 13 valores únicos\n",
      "2025-02-12 21:43:33,832 - preprocessing.data_encoding_04.DataEncoding - INFO - Coluna tipo_pista: 3 valores únicos\n",
      "2025-02-12 21:43:33,835 - preprocessing.data_encoding_04.DataEncoding - INFO - Coluna uso_solo: 2 valores únicos\n",
      "2025-02-12 21:43:33,839 - preprocessing.data_encoding_04.DataEncoding - INFO - Coluna causa_acidente_grupo: 9 valores únicos\n",
      "2025-02-12 21:43:33,840 - preprocessing.data_encoding_04.DataEncoding - INFO - Label Encoder ajustado para periodo_dia\n",
      "2025-02-12 21:43:33,841 - preprocessing.data_encoding_04.DataEncoding - INFO - Label Encoder ajustado para dia_semana\n",
      "2025-02-12 21:43:33,883 - preprocessing.data_encoding_04.DataEncoding - INFO - OneHot Encoder ajustado para ['classificacao_acidente', 'sentido_via', 'tipo_pista', 'uso_solo']\n",
      "2025-02-12 21:43:33,948 - preprocessing.data_encoding_04.DataEncoding - INFO - Target Encoder ajustado para municipio\n",
      "2025-02-12 21:43:34,013 - preprocessing.data_encoding_04.DataEncoding - INFO - Target Encoder ajustado para causa_acidente\n",
      "2025-02-12 21:43:34,077 - preprocessing.data_encoding_04.DataEncoding - INFO - Target Encoder ajustado para tipo_acidente\n",
      "2025-02-12 21:43:34,142 - preprocessing.data_encoding_04.DataEncoding - INFO - Target Encoder ajustado para condicao_metereologica\n",
      "2025-02-12 21:43:34,204 - preprocessing.data_encoding_04.DataEncoding - INFO - Target Encoder ajustado para causa_acidente_grupo\n",
      "2025-02-12 21:43:34,206 - preprocessing.transformers.data_encoding_transformer.DataEncodingTransformer - INFO - Iniciando codificação de dados...\n",
      "2025-02-12 21:43:34,216 - preprocessing.data_encoding_04.DataEncoding - INFO - Removidas as colunas: ['feridos_graves', 'mortos', 'feridos_leves', 'ilesos']\n",
      "2025-02-12 21:43:34,231 - preprocessing.data_encoding_04.DataEncoding - INFO - Label Encoding aplicado em periodo_dia\n",
      "2025-02-12 21:43:34,245 - preprocessing.data_encoding_04.DataEncoding - INFO - Label Encoding aplicado em dia_semana\n",
      "2025-02-12 21:43:34,283 - preprocessing.data_encoding_04.DataEncoding - INFO - OneHot Encoding aplicado em ['classificacao_acidente', 'sentido_via', 'tipo_pista', 'uso_solo']\n",
      "2025-02-12 21:43:34,291 - preprocessing.data_encoding_04.DataEncoding - INFO - Target Encoding aplicado em municipio\n",
      "2025-02-12 21:43:34,298 - preprocessing.data_encoding_04.DataEncoding - INFO - Target Encoding aplicado em causa_acidente\n",
      "2025-02-12 21:43:34,305 - preprocessing.data_encoding_04.DataEncoding - INFO - Target Encoding aplicado em tipo_acidente\n",
      "2025-02-12 21:43:34,313 - preprocessing.data_encoding_04.DataEncoding - INFO - Target Encoding aplicado em condicao_metereologica\n",
      "2025-02-12 21:43:34,319 - preprocessing.data_encoding_04.DataEncoding - INFO - Target Encoding aplicado em causa_acidente_grupo\n",
      "2025-02-12 21:43:34,321 - pipelines.preprocessing_pipeline.PreprocessingPipeline - INFO - Dimensões após pré-processamento: (34137, 23)\n",
      "2025-02-12 21:43:34,322 - preprocessing.data_split_05.DataSplit - INFO - Iniciando preparação dos dados...\n",
      "2025-02-12 21:43:34,330 - preprocessing.data_split_05.DataSplit - INFO - Colunas removidas: ['data', 'causa_acidente']\n",
      "2025-02-12 21:43:34,333 - preprocessing.data_split_05.DataSplit - INFO - Distribuição inicial das classes:\n",
      "2025-02-12 21:43:34,335 - preprocessing.data_split_05.DataSplit - INFO - \n",
      "Distribuição das classes:\n",
      "2025-02-12 21:43:34,336 - preprocessing.data_split_05.DataSplit - INFO - - Classe sem_vitimas: 42.89%\n",
      "2025-02-12 21:43:34,337 - preprocessing.data_split_05.DataSplit - INFO - - Classe leve: 25.91%\n",
      "2025-02-12 21:43:34,337 - preprocessing.data_split_05.DataSplit - INFO - - Classe grave: 19.82%\n",
      "2025-02-12 21:43:34,338 - preprocessing.data_split_05.DataSplit - INFO - - Classe fatal: 11.38%\n",
      "2025-02-12 21:43:34,375 - preprocessing.data_split_05.DataSplit - INFO - \n",
      "Dimensões dos conjuntos:\n",
      "2025-02-12 21:43:34,377 - preprocessing.data_split_05.DataSplit - INFO - - Treino: (20481, 20)\n",
      "2025-02-12 21:43:34,378 - preprocessing.data_split_05.DataSplit - INFO - - Validação: (6828, 20)\n",
      "2025-02-12 21:43:34,379 - preprocessing.data_split_05.DataSplit - INFO - - Teste: (6828, 20)\n",
      "2025-02-12 21:43:34,380 - preprocessing.data_split_05.DataSplit - INFO - \n",
      "Distribuição das classes - Treino:\n",
      "2025-02-12 21:43:34,381 - preprocessing.data_split_05.DataSplit - INFO - - Classe sem_vitimas: 42.89%\n",
      "2025-02-12 21:43:34,382 - preprocessing.data_split_05.DataSplit - INFO - - Classe leve: 25.91%\n",
      "2025-02-12 21:43:34,382 - preprocessing.data_split_05.DataSplit - INFO - - Classe grave: 19.82%\n",
      "2025-02-12 21:43:34,383 - preprocessing.data_split_05.DataSplit - INFO - - Classe fatal: 11.39%\n",
      "2025-02-12 21:43:34,384 - preprocessing.data_split_05.DataSplit - INFO - \n",
      "Distribuição das classes - Validação:\n",
      "2025-02-12 21:43:34,385 - preprocessing.data_split_05.DataSplit - INFO - - Classe sem_vitimas: 42.88%\n",
      "2025-02-12 21:43:34,385 - preprocessing.data_split_05.DataSplit - INFO - - Classe leve: 25.91%\n",
      "2025-02-12 21:43:34,386 - preprocessing.data_split_05.DataSplit - INFO - - Classe grave: 19.83%\n",
      "2025-02-12 21:43:34,387 - preprocessing.data_split_05.DataSplit - INFO - - Classe fatal: 11.38%\n",
      "2025-02-12 21:43:34,388 - preprocessing.data_split_05.DataSplit - INFO - \n",
      "Distribuição das classes - Teste:\n",
      "2025-02-12 21:43:34,388 - preprocessing.data_split_05.DataSplit - INFO - - Classe sem_vitimas: 42.90%\n",
      "2025-02-12 21:43:34,389 - preprocessing.data_split_05.DataSplit - INFO - - Classe leve: 25.91%\n",
      "2025-02-12 21:43:34,390 - preprocessing.data_split_05.DataSplit - INFO - - Classe grave: 19.82%\n",
      "2025-02-12 21:43:34,390 - preprocessing.data_split_05.DataSplit - INFO - - Classe fatal: 11.38%\n",
      "2025-02-12 21:43:34,391 - preprocessing.data_split_05.DataSplit - INFO - Preparação dos dados concluída!\n",
      "2025-02-12 21:43:34,401 - pipelines.preprocessing_pipeline.PreprocessingPipeline - INFO - Tipos de dados após conversão:\n",
      "2025-02-12 21:43:34,402 - pipelines.preprocessing_pipeline.PreprocessingPipeline - INFO - - dia_semana: int32\n",
      "2025-02-12 21:43:34,402 - pipelines.preprocessing_pipeline.PreprocessingPipeline - INFO - - br: float64\n",
      "2025-02-12 21:43:34,403 - pipelines.preprocessing_pipeline.PreprocessingPipeline - INFO - - km: int32\n",
      "2025-02-12 21:43:34,404 - pipelines.preprocessing_pipeline.PreprocessingPipeline - INFO - - municipio: float64\n",
      "2025-02-12 21:43:34,404 - pipelines.preprocessing_pipeline.PreprocessingPipeline - INFO - - tipo_acidente: float64\n",
      "2025-02-12 21:43:34,405 - pipelines.preprocessing_pipeline.PreprocessingPipeline - INFO - - condicao_metereologica: float64\n",
      "2025-02-12 21:43:34,405 - pipelines.preprocessing_pipeline.PreprocessingPipeline - INFO - - pessoas: int32\n",
      "2025-02-12 21:43:34,405 - pipelines.preprocessing_pipeline.PreprocessingPipeline - INFO - - ignorados: int32\n",
      "2025-02-12 21:43:34,406 - pipelines.preprocessing_pipeline.PreprocessingPipeline - INFO - - veiculos: int32\n",
      "2025-02-12 21:43:34,406 - pipelines.preprocessing_pipeline.PreprocessingPipeline - INFO - - ano: int32\n",
      "2025-02-12 21:43:34,407 - pipelines.preprocessing_pipeline.PreprocessingPipeline - INFO - - periodo_dia: int32\n",
      "2025-02-12 21:43:34,407 - pipelines.preprocessing_pipeline.PreprocessingPipeline - INFO - - causa_acidente_grupo: float64\n",
      "2025-02-12 21:43:34,408 - pipelines.preprocessing_pipeline.PreprocessingPipeline - INFO - - classificacao_acidente_Com Vítimas Feridas: float64\n",
      "2025-02-12 21:43:34,408 - pipelines.preprocessing_pipeline.PreprocessingPipeline - INFO - - classificacao_acidente_Ignorado: float64\n",
      "2025-02-12 21:43:34,408 - pipelines.preprocessing_pipeline.PreprocessingPipeline - INFO - - classificacao_acidente_Sem Vítimas: float64\n",
      "2025-02-12 21:43:34,409 - pipelines.preprocessing_pipeline.PreprocessingPipeline - INFO - - sentido_via_Decrescente: float64\n",
      "2025-02-12 21:43:34,409 - pipelines.preprocessing_pipeline.PreprocessingPipeline - INFO - - sentido_via_Não Informado: float64\n",
      "2025-02-12 21:43:34,410 - pipelines.preprocessing_pipeline.PreprocessingPipeline - INFO - - tipo_pista_Múltipla: float64\n",
      "2025-02-12 21:43:34,411 - pipelines.preprocessing_pipeline.PreprocessingPipeline - INFO - - tipo_pista_Simples: float64\n",
      "2025-02-12 21:43:34,412 - pipelines.preprocessing_pipeline.PreprocessingPipeline - INFO - - uso_solo_Sim: float64\n",
      "2025-02-12 21:43:34,413 - pipelines.preprocessing_pipeline.PreprocessingPipeline - INFO - Aplicando estratégia de balanceamento smote...\n",
      "2025-02-12 21:43:34,413 - preprocessing.balancing_strategy.data_balancing_strategy.DataBalancingStrategy - INFO - Aplicando SMOTE...\n",
      "2025-02-12 21:43:34,415 - preprocessing.balancing_strategy.data_balancing_strategy.DataBalancingStrategy - INFO - \n",
      "Distribuição das classes - antes do SMOTE:\n",
      "2025-02-12 21:43:34,416 - preprocessing.balancing_strategy.data_balancing_strategy.DataBalancingStrategy - INFO - - Classe sem_vitimas: 8784 amostras (42.89%)\n",
      "2025-02-12 21:43:34,417 - preprocessing.balancing_strategy.data_balancing_strategy.DataBalancingStrategy - INFO - - Classe leve: 5306 amostras (25.91%)\n",
      "2025-02-12 21:43:34,417 - preprocessing.balancing_strategy.data_balancing_strategy.DataBalancingStrategy - INFO - - Classe grave: 4059 amostras (19.82%)\n",
      "2025-02-12 21:43:34,418 - preprocessing.balancing_strategy.data_balancing_strategy.DataBalancingStrategy - INFO - - Classe fatal: 2332 amostras (11.39%)\n",
      "d:\\projetos\\roadSafeAi\\RoadSafeAI\\env\\lib\\site-packages\\sklearn\\base.py:474: FutureWarning: `BaseEstimator._validate_data` is deprecated in 1.6 and will be removed in 1.7. Use `sklearn.utils.validation.validate_data` instead. This function becomes public and is part of the scikit-learn developer API.\n",
      "  warnings.warn(\n",
      "2025-02-12 21:43:34,538 - preprocessing.balancing_strategy.data_balancing_strategy.DataBalancingStrategy - INFO - \n",
      "Distribuição das classes - após SMOTE:\n",
      "2025-02-12 21:43:34,539 - preprocessing.balancing_strategy.data_balancing_strategy.DataBalancingStrategy - INFO - - Classe grave: 8784 amostras (25.00%)\n",
      "2025-02-12 21:43:34,539 - preprocessing.balancing_strategy.data_balancing_strategy.DataBalancingStrategy - INFO - - Classe sem_vitimas: 8784 amostras (25.00%)\n",
      "2025-02-12 21:43:34,540 - preprocessing.balancing_strategy.data_balancing_strategy.DataBalancingStrategy - INFO - - Classe leve: 8784 amostras (25.00%)\n",
      "2025-02-12 21:43:34,541 - preprocessing.balancing_strategy.data_balancing_strategy.DataBalancingStrategy - INFO - - Classe fatal: 8784 amostras (25.00%)\n",
      "2025-02-12 21:43:34,546 - pipelines.model_pipeline - INFO - \n",
      "Processando modelo: Decision Tree\n",
      "2025-02-12 21:43:34,546 - model.model_trainer.ModelTrainer - INFO - Iniciando treinamento do modelo Decision Tree...\n",
      "2025-02-12 21:43:34,722 - model.model_trainer.ModelTrainer - INFO - Treinamento do modelo Decision Tree finalizado\n",
      "2025-02-12 21:43:34,723 - model.model_trainer.ModelTrainer - INFO - Avaliando modelo Decision Tree no treino...\n",
      "2025-02-12 21:43:35,060 - model.model_trainer.ModelTrainer - INFO - Métricas do modelo Decision Tree no treino:\n",
      "2025-02-12 21:43:35,061 - model.model_trainer.ModelTrainer - INFO - - accuracy: 1.0000\n",
      "2025-02-12 21:43:35,062 - model.model_trainer.ModelTrainer - INFO - - precision: 1.0000\n",
      "2025-02-12 21:43:35,062 - model.model_trainer.ModelTrainer - INFO - - recall: 1.0000\n",
      "2025-02-12 21:43:35,063 - model.model_trainer.ModelTrainer - INFO - - f1: 1.0000\n",
      "2025-02-12 21:43:35,063 - model.model_trainer.ModelTrainer - INFO - - roc_auc: 1.0000\n",
      "2025-02-12 21:43:35,064 - model.model_trainer.ModelTrainer - INFO - Avaliando modelo Decision Tree no validação...\n",
      "2025-02-12 21:43:35,142 - model.model_trainer.ModelTrainer - INFO - Métricas do modelo Decision Tree no validação:\n",
      "2025-02-12 21:43:35,143 - model.model_trainer.ModelTrainer - INFO - - accuracy: 0.7875\n",
      "2025-02-12 21:43:35,144 - model.model_trainer.ModelTrainer - INFO - - precision: 0.7890\n",
      "2025-02-12 21:43:35,144 - model.model_trainer.ModelTrainer - INFO - - recall: 0.7875\n",
      "2025-02-12 21:43:35,145 - model.model_trainer.ModelTrainer - INFO - - f1: 0.7881\n",
      "2025-02-12 21:43:35,145 - model.model_trainer.ModelTrainer - INFO - - roc_auc: 0.8483\n",
      "2025-02-12 21:43:35,146 - model.model_trainer.ModelTrainer - INFO - Avaliando modelo Decision Tree no teste...\n",
      "2025-02-12 21:43:35,207 - model.model_trainer.ModelTrainer - INFO - Métricas do modelo Decision Tree no teste:\n",
      "2025-02-12 21:43:35,208 - model.model_trainer.ModelTrainer - INFO - - accuracy: 0.7906\n",
      "2025-02-12 21:43:35,209 - model.model_trainer.ModelTrainer - INFO - - precision: 0.7921\n",
      "2025-02-12 21:43:35,210 - model.model_trainer.ModelTrainer - INFO - - recall: 0.7906\n",
      "2025-02-12 21:43:35,210 - model.model_trainer.ModelTrainer - INFO - - f1: 0.7912\n",
      "2025-02-12 21:43:35,211 - model.model_trainer.ModelTrainer - INFO - - roc_auc: 0.8504\n",
      "2025-02-12 21:43:35,212 - model.model_trainer.ModelTrainer - INFO - Realizando validação cruzada do modelo Decision Tree...\n",
      "2025-02-12 21:43:36,095 - model.model_trainer.ModelTrainer - INFO - Resultados da validação cruzada (5 folds):\n",
      "2025-02-12 21:43:36,096 - model.model_trainer.ModelTrainer - INFO - - Média f1_weighted: 0.8237 (+/- 0.0346)\n",
      "2025-02-12 21:43:36,102 - model.model_result_saver.ModelResultsSaver - INFO - Metricas salvas em: model_results\\20250212_214323\\Decision_Tree\\metrics.json\n",
      "2025-02-12 21:43:37,233 - model.model_result_saver.ModelResultsSaver - INFO - Plots salvos em: model_results\\20250212_214323\\Decision_Tree\n",
      "2025-02-12 21:43:37,236 - model.model_result_saver.ModelResultsSaver - INFO - Resumo do modelo salvo em: model_results\\20250212_214323\\Decision_Tree\\model_summary.txt\n",
      "2025-02-12 21:43:37,237 - pipelines.model_pipeline - INFO - \n",
      "Processando modelo: Random Forest\n",
      "2025-02-12 21:43:37,238 - model.model_trainer.ModelTrainer - INFO - Iniciando treinamento do modelo Random Forest...\n",
      "2025-02-12 21:43:37,879 - model.model_trainer.ModelTrainer - INFO - Treinamento do modelo Random Forest finalizado\n",
      "2025-02-12 21:43:37,880 - model.model_trainer.ModelTrainer - INFO - Avaliando modelo Random Forest no treino...\n",
      "2025-02-12 21:43:38,417 - model.model_trainer.ModelTrainer - INFO - Métricas do modelo Random Forest no treino:\n",
      "2025-02-12 21:43:38,419 - model.model_trainer.ModelTrainer - INFO - - accuracy: 1.0000\n",
      "2025-02-12 21:43:38,419 - model.model_trainer.ModelTrainer - INFO - - precision: 1.0000\n",
      "2025-02-12 21:43:38,420 - model.model_trainer.ModelTrainer - INFO - - recall: 1.0000\n",
      "2025-02-12 21:43:38,420 - model.model_trainer.ModelTrainer - INFO - - f1: 1.0000\n",
      "2025-02-12 21:43:38,421 - model.model_trainer.ModelTrainer - INFO - - roc_auc: 1.0000\n",
      "2025-02-12 21:43:38,422 - model.model_trainer.ModelTrainer - INFO - Avaliando modelo Random Forest no validação...\n",
      "2025-02-12 21:43:38,581 - model.model_trainer.ModelTrainer - INFO - Métricas do modelo Random Forest no validação:\n",
      "2025-02-12 21:43:38,583 - model.model_trainer.ModelTrainer - INFO - - accuracy: 0.8130\n",
      "2025-02-12 21:43:38,583 - model.model_trainer.ModelTrainer - INFO - - precision: 0.8117\n",
      "2025-02-12 21:43:38,584 - model.model_trainer.ModelTrainer - INFO - - recall: 0.8130\n",
      "2025-02-12 21:43:38,585 - model.model_trainer.ModelTrainer - INFO - - f1: 0.8121\n",
      "2025-02-12 21:43:38,585 - model.model_trainer.ModelTrainer - INFO - - roc_auc: 0.9428\n",
      "2025-02-12 21:43:38,585 - model.model_trainer.ModelTrainer - INFO - Avaliando modelo Random Forest no teste...\n",
      "2025-02-12 21:43:38,722 - model.model_trainer.ModelTrainer - INFO - Métricas do modelo Random Forest no teste:\n",
      "2025-02-12 21:43:38,723 - model.model_trainer.ModelTrainer - INFO - - accuracy: 0.8134\n",
      "2025-02-12 21:43:38,724 - model.model_trainer.ModelTrainer - INFO - - precision: 0.8122\n",
      "2025-02-12 21:43:38,725 - model.model_trainer.ModelTrainer - INFO - - recall: 0.8134\n",
      "2025-02-12 21:43:38,725 - model.model_trainer.ModelTrainer - INFO - - f1: 0.8126\n",
      "2025-02-12 21:43:38,726 - model.model_trainer.ModelTrainer - INFO - - roc_auc: 0.9421\n",
      "2025-02-12 21:43:38,727 - model.model_trainer.ModelTrainer - INFO - Realizando validação cruzada do modelo Random Forest...\n",
      "2025-02-12 21:43:41,031 - model.model_trainer.ModelTrainer - INFO - Resultados da validação cruzada (5 folds):\n",
      "2025-02-12 21:43:41,032 - model.model_trainer.ModelTrainer - INFO - - Média f1_weighted: 0.8769 (+/- 0.0570)\n",
      "2025-02-12 21:43:41,112 - model.model_result_saver.ModelResultsSaver - INFO - Metricas salvas em: model_results\\20250212_214323\\Random_Forest\\metrics.json\n",
      "2025-02-12 21:43:41,956 - model.model_result_saver.ModelResultsSaver - INFO - Plots salvos em: model_results\\20250212_214323\\Random_Forest\n",
      "2025-02-12 21:43:41,958 - model.model_result_saver.ModelResultsSaver - INFO - Resumo do modelo salvo em: model_results\\20250212_214323\\Random_Forest\\model_summary.txt\n",
      "2025-02-12 21:43:41,958 - pipelines.model_pipeline - INFO - \n",
      "Processando modelo: CatBoost\n",
      "2025-02-12 21:43:41,959 - model.model_trainer.ModelTrainer - INFO - Iniciando treinamento do modelo CatBoost...\n",
      "2025-02-12 21:43:42,862 - model.model_trainer.ModelTrainer - INFO - Treinamento do modelo CatBoost finalizado\n",
      "2025-02-12 21:43:42,863 - model.model_trainer.ModelTrainer - INFO - Avaliando modelo CatBoost no treino...\n",
      "2025-02-12 21:43:43,194 - model.model_trainer.ModelTrainer - INFO - Métricas do modelo CatBoost no treino:\n",
      "2025-02-12 21:43:43,195 - model.model_trainer.ModelTrainer - INFO - - accuracy: 0.8277\n",
      "2025-02-12 21:43:43,195 - model.model_trainer.ModelTrainer - INFO - - precision: 0.8277\n",
      "2025-02-12 21:43:43,196 - model.model_trainer.ModelTrainer - INFO - - recall: 0.8277\n",
      "2025-02-12 21:43:43,196 - model.model_trainer.ModelTrainer - INFO - - f1: 0.8276\n",
      "2025-02-12 21:43:43,198 - model.model_trainer.ModelTrainer - INFO - - roc_auc: 0.9525\n",
      "2025-02-12 21:43:43,199 - model.model_trainer.ModelTrainer - INFO - Avaliando modelo CatBoost no validação...\n",
      "2025-02-12 21:43:43,261 - model.model_trainer.ModelTrainer - INFO - Métricas do modelo CatBoost no validação:\n",
      "2025-02-12 21:43:43,262 - model.model_trainer.ModelTrainer - INFO - - accuracy: 0.8251\n",
      "2025-02-12 21:43:43,262 - model.model_trainer.ModelTrainer - INFO - - precision: 0.8235\n",
      "2025-02-12 21:43:43,263 - model.model_trainer.ModelTrainer - INFO - - recall: 0.8251\n",
      "2025-02-12 21:43:43,263 - model.model_trainer.ModelTrainer - INFO - - f1: 0.8238\n",
      "2025-02-12 21:43:43,264 - model.model_trainer.ModelTrainer - INFO - - roc_auc: 0.9460\n",
      "2025-02-12 21:43:43,265 - model.model_trainer.ModelTrainer - INFO - Avaliando modelo CatBoost no teste...\n",
      "2025-02-12 21:43:43,326 - model.model_trainer.ModelTrainer - INFO - Métricas do modelo CatBoost no teste:\n",
      "2025-02-12 21:43:43,327 - model.model_trainer.ModelTrainer - INFO - - accuracy: 0.8178\n",
      "2025-02-12 21:43:43,328 - model.model_trainer.ModelTrainer - INFO - - precision: 0.8169\n",
      "2025-02-12 21:43:43,328 - model.model_trainer.ModelTrainer - INFO - - recall: 0.8178\n",
      "2025-02-12 21:43:43,329 - model.model_trainer.ModelTrainer - INFO - - f1: 0.8173\n",
      "2025-02-12 21:43:43,330 - model.model_trainer.ModelTrainer - INFO - - roc_auc: 0.9442\n",
      "2025-02-12 21:43:43,330 - model.model_trainer.ModelTrainer - INFO - Realizando validação cruzada do modelo CatBoost...\n",
      "2025-02-12 21:43:47,382 - model.model_trainer.ModelTrainer - INFO - Resultados da validação cruzada (5 folds):\n",
      "2025-02-12 21:43:47,383 - model.model_trainer.ModelTrainer - INFO - - Média f1_weighted: 0.8113 (+/- 0.0203)\n",
      "2025-02-12 21:43:47,391 - model.model_result_saver.ModelResultsSaver - INFO - Metricas salvas em: model_results\\20250212_214323\\CatBoost\\metrics.json\n",
      "2025-02-12 21:43:48,207 - model.model_result_saver.ModelResultsSaver - INFO - Plots salvos em: model_results\\20250212_214323\\CatBoost\n",
      "2025-02-12 21:43:48,208 - model.model_result_saver.ModelResultsSaver - INFO - Resumo do modelo salvo em: model_results\\20250212_214323\\CatBoost\\model_summary.txt\n",
      "2025-02-12 21:43:48,209 - pipelines.model_pipeline - INFO - \n",
      "Processando modelo: Naive Bayes\n",
      "2025-02-12 21:43:48,210 - model.model_trainer.ModelTrainer - INFO - Iniciando treinamento do modelo Naive Bayes...\n",
      "2025-02-12 21:43:48,249 - model.model_trainer.ModelTrainer - INFO - Treinamento do modelo Naive Bayes finalizado\n",
      "2025-02-12 21:43:48,250 - model.model_trainer.ModelTrainer - INFO - Avaliando modelo Naive Bayes no treino...\n",
      "2025-02-12 21:43:48,589 - model.model_trainer.ModelTrainer - INFO - Métricas do modelo Naive Bayes no treino:\n",
      "2025-02-12 21:43:48,590 - model.model_trainer.ModelTrainer - INFO - - accuracy: 0.7582\n",
      "2025-02-12 21:43:48,591 - model.model_trainer.ModelTrainer - INFO - - precision: 0.7719\n",
      "2025-02-12 21:43:48,591 - model.model_trainer.ModelTrainer - INFO - - recall: 0.7582\n",
      "2025-02-12 21:43:48,592 - model.model_trainer.ModelTrainer - INFO - - f1: 0.7157\n",
      "2025-02-12 21:43:48,593 - model.model_trainer.ModelTrainer - INFO - - roc_auc: 0.9258\n",
      "2025-02-12 21:43:48,594 - model.model_trainer.ModelTrainer - INFO - Avaliando modelo Naive Bayes no validação...\n",
      "2025-02-12 21:43:48,656 - model.model_trainer.ModelTrainer - INFO - Métricas do modelo Naive Bayes no validação:\n",
      "2025-02-12 21:43:48,657 - model.model_trainer.ModelTrainer - INFO - - accuracy: 0.8037\n",
      "2025-02-12 21:43:48,658 - model.model_trainer.ModelTrainer - INFO - - precision: 0.7959\n",
      "2025-02-12 21:43:48,658 - model.model_trainer.ModelTrainer - INFO - - recall: 0.8037\n",
      "2025-02-12 21:43:48,659 - model.model_trainer.ModelTrainer - INFO - - f1: 0.7762\n",
      "2025-02-12 21:43:48,659 - model.model_trainer.ModelTrainer - INFO - - roc_auc: 0.9324\n",
      "2025-02-12 21:43:48,660 - model.model_trainer.ModelTrainer - INFO - Avaliando modelo Naive Bayes no teste...\n",
      "2025-02-12 21:43:48,751 - model.model_trainer.ModelTrainer - INFO - Métricas do modelo Naive Bayes no teste:\n",
      "2025-02-12 21:43:48,753 - model.model_trainer.ModelTrainer - INFO - - accuracy: 0.8037\n",
      "2025-02-12 21:43:48,753 - model.model_trainer.ModelTrainer - INFO - - precision: 0.7959\n",
      "2025-02-12 21:43:48,754 - model.model_trainer.ModelTrainer - INFO - - recall: 0.8037\n",
      "2025-02-12 21:43:48,755 - model.model_trainer.ModelTrainer - INFO - - f1: 0.7757\n",
      "2025-02-12 21:43:48,756 - model.model_trainer.ModelTrainer - INFO - - roc_auc: 0.9327\n",
      "2025-02-12 21:43:48,757 - model.model_trainer.ModelTrainer - INFO - Realizando validação cruzada do modelo Naive Bayes...\n",
      "2025-02-12 21:43:49,059 - model.model_trainer.ModelTrainer - INFO - Resultados da validação cruzada (5 folds):\n",
      "2025-02-12 21:43:49,060 - model.model_trainer.ModelTrainer - INFO - - Média f1_weighted: 0.7208 (+/- 0.0526)\n",
      "2025-02-12 21:43:49,131 - model.non_tree_model_saver.NonTreeResultsSaver - INFO - Métricas salvas em: model_results\\non_tree_models\\Naive_Bayes\\metrics.json\n",
      "2025-02-12 21:43:49,839 - model.non_tree_model_saver.NonTreeResultsSaver - INFO - Plots salvos em: model_results\\non_tree_models\\Naive_Bayes\n",
      "2025-02-12 21:43:49,841 - model.model_result_saver.ModelResultsSaver - INFO - Resumo do modelo salvo em: model_results\\20250212_214323\\Naive_Bayes\\model_summary.txt\n",
      "2025-02-12 21:43:49,841 - pipelines.model_pipeline - INFO - \n",
      "Processando modelo: KNN\n",
      "2025-02-12 21:43:49,842 - model.model_trainer.ModelTrainer - INFO - Iniciando treinamento do modelo KNN...\n",
      "2025-02-12 21:43:49,874 - model.model_trainer.ModelTrainer - INFO - Treinamento do modelo KNN finalizado\n",
      "2025-02-12 21:43:49,875 - model.model_trainer.ModelTrainer - INFO - Avaliando modelo KNN no treino...\n",
      "2025-02-12 21:43:52,521 - model.model_trainer.ModelTrainer - INFO - Métricas do modelo KNN no treino:\n",
      "2025-02-12 21:43:52,522 - model.model_trainer.ModelTrainer - INFO - - accuracy: 0.9994\n",
      "2025-02-12 21:43:52,523 - model.model_trainer.ModelTrainer - INFO - - precision: 0.9994\n",
      "2025-02-12 21:43:52,524 - model.model_trainer.ModelTrainer - INFO - - recall: 0.9994\n",
      "2025-02-12 21:43:52,524 - model.model_trainer.ModelTrainer - INFO - - f1: 0.9994\n",
      "2025-02-12 21:43:52,525 - model.model_trainer.ModelTrainer - INFO - - roc_auc: 1.0000\n",
      "2025-02-12 21:43:52,526 - model.model_trainer.ModelTrainer - INFO - Avaliando modelo KNN no validação...\n",
      "2025-02-12 21:43:53,120 - model.model_trainer.ModelTrainer - INFO - Métricas do modelo KNN no validação:\n",
      "2025-02-12 21:43:53,121 - model.model_trainer.ModelTrainer - INFO - - accuracy: 0.5047\n",
      "2025-02-12 21:43:53,121 - model.model_trainer.ModelTrainer - INFO - - precision: 0.5515\n",
      "2025-02-12 21:43:53,122 - model.model_trainer.ModelTrainer - INFO - - recall: 0.5047\n",
      "2025-02-12 21:43:53,123 - model.model_trainer.ModelTrainer - INFO - - f1: 0.5225\n",
      "2025-02-12 21:43:53,124 - model.model_trainer.ModelTrainer - INFO - - roc_auc: 0.7171\n",
      "2025-02-12 21:43:53,124 - model.model_trainer.ModelTrainer - INFO - Avaliando modelo KNN no teste...\n",
      "2025-02-12 21:43:53,750 - model.model_trainer.ModelTrainer - INFO - Métricas do modelo KNN no teste:\n",
      "2025-02-12 21:43:53,751 - model.model_trainer.ModelTrainer - INFO - - accuracy: 0.5111\n",
      "2025-02-12 21:43:53,752 - model.model_trainer.ModelTrainer - INFO - - precision: 0.5579\n",
      "2025-02-12 21:43:53,753 - model.model_trainer.ModelTrainer - INFO - - recall: 0.5111\n",
      "2025-02-12 21:43:53,754 - model.model_trainer.ModelTrainer - INFO - - f1: 0.5287\n",
      "2025-02-12 21:43:53,755 - model.model_trainer.ModelTrainer - INFO - - roc_auc: 0.7178\n",
      "2025-02-12 21:43:53,755 - model.model_trainer.ModelTrainer - INFO - Realizando validação cruzada do modelo KNN...\n",
      "2025-02-12 21:43:55,159 - model.model_trainer.ModelTrainer - INFO - Resultados da validação cruzada (5 folds):\n",
      "2025-02-12 21:43:55,160 - model.model_trainer.ModelTrainer - INFO - - Média f1_weighted: 0.7399 (+/- 0.0964)\n",
      "2025-02-12 21:43:55,773 - model.non_tree_model_saver.NonTreeResultsSaver - INFO - Métricas salvas em: model_results\\non_tree_models\\KNN\\metrics.json\n",
      "2025-02-12 21:43:56,655 - model.non_tree_model_saver.NonTreeResultsSaver - INFO - Plots salvos em: model_results\\non_tree_models\\KNN\n",
      "2025-02-12 21:43:56,658 - model.model_result_saver.ModelResultsSaver - INFO - Resumo do modelo salvo em: model_results\\20250212_214323\\KNN\\model_summary.txt\n",
      "2025-02-12 21:43:56,658 - pipelines.model_pipeline - INFO - \n",
      "Processando modelo: Logistic Regression\n",
      "2025-02-12 21:43:56,660 - model.model_trainer.ModelTrainer - INFO - Iniciando treinamento do modelo Logistic Regression...\n",
      "d:\\projetos\\roadSafeAi\\RoadSafeAI\\env\\lib\\site-packages\\sklearn\\linear_model\\_logistic.py:1247: FutureWarning: 'multi_class' was deprecated in version 1.5 and will be removed in 1.7. From then on, it will always use 'multinomial'. Leave it to its default value to avoid this warning.\n",
      "  warnings.warn(\n",
      "d:\\projetos\\roadSafeAi\\RoadSafeAI\\env\\lib\\site-packages\\sklearn\\linear_model\\_logistic.py:465: ConvergenceWarning: lbfgs failed to converge (status=1):\n",
      "STOP: TOTAL NO. of ITERATIONS REACHED LIMIT.\n",
      "\n",
      "Increase the number of iterations (max_iter) or scale the data as shown in:\n",
      "    https://scikit-learn.org/stable/modules/preprocessing.html\n",
      "Please also refer to the documentation for alternative solver options:\n",
      "    https://scikit-learn.org/stable/modules/linear_model.html#logistic-regression\n",
      "  n_iter_i = _check_optimize_result(\n",
      "2025-02-12 21:44:01,565 - model.model_trainer.ModelTrainer - INFO - Treinamento do modelo Logistic Regression finalizado\n",
      "2025-02-12 21:44:01,565 - model.model_trainer.ModelTrainer - INFO - Avaliando modelo Logistic Regression no treino...\n",
      "2025-02-12 21:44:01,938 - model.model_trainer.ModelTrainer - INFO - Métricas do modelo Logistic Regression no treino:\n",
      "2025-02-12 21:44:01,939 - model.model_trainer.ModelTrainer - INFO - - accuracy: 0.7606\n",
      "2025-02-12 21:44:01,939 - model.model_trainer.ModelTrainer - INFO - - precision: 0.7608\n",
      "2025-02-12 21:44:01,940 - model.model_trainer.ModelTrainer - INFO - - recall: 0.7606\n",
      "2025-02-12 21:44:01,941 - model.model_trainer.ModelTrainer - INFO - - f1: 0.7603\n",
      "2025-02-12 21:44:01,942 - model.model_trainer.ModelTrainer - INFO - - roc_auc: 0.9268\n",
      "2025-02-12 21:44:01,943 - model.model_trainer.ModelTrainer - INFO - Avaliando modelo Logistic Regression no validação...\n",
      "2025-02-12 21:44:02,012 - model.model_trainer.ModelTrainer - INFO - Métricas do modelo Logistic Regression no validação:\n",
      "2025-02-12 21:44:02,013 - model.model_trainer.ModelTrainer - INFO - - accuracy: 0.7709\n",
      "2025-02-12 21:44:02,015 - model.model_trainer.ModelTrainer - INFO - - precision: 0.7720\n",
      "2025-02-12 21:44:02,015 - model.model_trainer.ModelTrainer - INFO - - recall: 0.7709\n",
      "2025-02-12 21:44:02,016 - model.model_trainer.ModelTrainer - INFO - - f1: 0.7709\n",
      "2025-02-12 21:44:02,017 - model.model_trainer.ModelTrainer - INFO - - roc_auc: 0.9298\n",
      "2025-02-12 21:44:02,017 - model.model_trainer.ModelTrainer - INFO - Avaliando modelo Logistic Regression no teste...\n",
      "2025-02-12 21:44:02,086 - model.model_trainer.ModelTrainer - INFO - Métricas do modelo Logistic Regression no teste:\n",
      "2025-02-12 21:44:02,087 - model.model_trainer.ModelTrainer - INFO - - accuracy: 0.7736\n",
      "2025-02-12 21:44:02,089 - model.model_trainer.ModelTrainer - INFO - - precision: 0.7739\n",
      "2025-02-12 21:44:02,089 - model.model_trainer.ModelTrainer - INFO - - recall: 0.7736\n",
      "2025-02-12 21:44:02,090 - model.model_trainer.ModelTrainer - INFO - - f1: 0.7733\n",
      "2025-02-12 21:44:02,091 - model.model_trainer.ModelTrainer - INFO - - roc_auc: 0.9299\n",
      "2025-02-12 21:44:02,092 - model.model_trainer.ModelTrainer - INFO - Realizando validação cruzada do modelo Logistic Regression...\n",
      "d:\\projetos\\roadSafeAi\\RoadSafeAI\\env\\lib\\site-packages\\sklearn\\linear_model\\_logistic.py:1247: FutureWarning: 'multi_class' was deprecated in version 1.5 and will be removed in 1.7. From then on, it will always use 'multinomial'. Leave it to its default value to avoid this warning.\n",
      "  warnings.warn(\n",
      "d:\\projetos\\roadSafeAi\\RoadSafeAI\\env\\lib\\site-packages\\sklearn\\linear_model\\_logistic.py:465: ConvergenceWarning: lbfgs failed to converge (status=1):\n",
      "STOP: TOTAL NO. of ITERATIONS REACHED LIMIT.\n",
      "\n",
      "Increase the number of iterations (max_iter) or scale the data as shown in:\n",
      "    https://scikit-learn.org/stable/modules/preprocessing.html\n",
      "Please also refer to the documentation for alternative solver options:\n",
      "    https://scikit-learn.org/stable/modules/linear_model.html#logistic-regression\n",
      "  n_iter_i = _check_optimize_result(\n",
      "d:\\projetos\\roadSafeAi\\RoadSafeAI\\env\\lib\\site-packages\\sklearn\\linear_model\\_logistic.py:1247: FutureWarning: 'multi_class' was deprecated in version 1.5 and will be removed in 1.7. From then on, it will always use 'multinomial'. Leave it to its default value to avoid this warning.\n",
      "  warnings.warn(\n",
      "d:\\projetos\\roadSafeAi\\RoadSafeAI\\env\\lib\\site-packages\\sklearn\\linear_model\\_logistic.py:465: ConvergenceWarning: lbfgs failed to converge (status=1):\n",
      "STOP: TOTAL NO. of ITERATIONS REACHED LIMIT.\n",
      "\n",
      "Increase the number of iterations (max_iter) or scale the data as shown in:\n",
      "    https://scikit-learn.org/stable/modules/preprocessing.html\n",
      "Please also refer to the documentation for alternative solver options:\n",
      "    https://scikit-learn.org/stable/modules/linear_model.html#logistic-regression\n",
      "  n_iter_i = _check_optimize_result(\n",
      "d:\\projetos\\roadSafeAi\\RoadSafeAI\\env\\lib\\site-packages\\sklearn\\linear_model\\_logistic.py:1247: FutureWarning: 'multi_class' was deprecated in version 1.5 and will be removed in 1.7. From then on, it will always use 'multinomial'. Leave it to its default value to avoid this warning.\n",
      "  warnings.warn(\n",
      "d:\\projetos\\roadSafeAi\\RoadSafeAI\\env\\lib\\site-packages\\sklearn\\linear_model\\_logistic.py:465: ConvergenceWarning: lbfgs failed to converge (status=1):\n",
      "STOP: TOTAL NO. of ITERATIONS REACHED LIMIT.\n",
      "\n",
      "Increase the number of iterations (max_iter) or scale the data as shown in:\n",
      "    https://scikit-learn.org/stable/modules/preprocessing.html\n",
      "Please also refer to the documentation for alternative solver options:\n",
      "    https://scikit-learn.org/stable/modules/linear_model.html#logistic-regression\n",
      "  n_iter_i = _check_optimize_result(\n",
      "d:\\projetos\\roadSafeAi\\RoadSafeAI\\env\\lib\\site-packages\\sklearn\\linear_model\\_logistic.py:1247: FutureWarning: 'multi_class' was deprecated in version 1.5 and will be removed in 1.7. From then on, it will always use 'multinomial'. Leave it to its default value to avoid this warning.\n",
      "  warnings.warn(\n",
      "d:\\projetos\\roadSafeAi\\RoadSafeAI\\env\\lib\\site-packages\\sklearn\\linear_model\\_logistic.py:465: ConvergenceWarning: lbfgs failed to converge (status=1):\n",
      "STOP: TOTAL NO. of ITERATIONS REACHED LIMIT.\n",
      "\n",
      "Increase the number of iterations (max_iter) or scale the data as shown in:\n",
      "    https://scikit-learn.org/stable/modules/preprocessing.html\n",
      "Please also refer to the documentation for alternative solver options:\n",
      "    https://scikit-learn.org/stable/modules/linear_model.html#logistic-regression\n",
      "  n_iter_i = _check_optimize_result(\n",
      "d:\\projetos\\roadSafeAi\\RoadSafeAI\\env\\lib\\site-packages\\sklearn\\linear_model\\_logistic.py:1247: FutureWarning: 'multi_class' was deprecated in version 1.5 and will be removed in 1.7. From then on, it will always use 'multinomial'. Leave it to its default value to avoid this warning.\n",
      "  warnings.warn(\n",
      "d:\\projetos\\roadSafeAi\\RoadSafeAI\\env\\lib\\site-packages\\sklearn\\linear_model\\_logistic.py:465: ConvergenceWarning: lbfgs failed to converge (status=1):\n",
      "STOP: TOTAL NO. of ITERATIONS REACHED LIMIT.\n",
      "\n",
      "Increase the number of iterations (max_iter) or scale the data as shown in:\n",
      "    https://scikit-learn.org/stable/modules/preprocessing.html\n",
      "Please also refer to the documentation for alternative solver options:\n",
      "    https://scikit-learn.org/stable/modules/linear_model.html#logistic-regression\n",
      "  n_iter_i = _check_optimize_result(\n",
      "2025-02-12 21:44:17,323 - model.model_trainer.ModelTrainer - INFO - Resultados da validação cruzada (5 folds):\n",
      "2025-02-12 21:44:17,324 - model.model_trainer.ModelTrainer - INFO - - Média f1_weighted: 0.7641 (+/- 0.0149)\n",
      "2025-02-12 21:44:17,421 - model.non_tree_model_saver.NonTreeResultsSaver - INFO - Métricas salvas em: model_results\\non_tree_models\\Logistic_Regression\\metrics.json\n",
      "2025-02-12 21:44:18,133 - model.non_tree_model_saver.NonTreeResultsSaver - INFO - Plots salvos em: model_results\\non_tree_models\\Logistic_Regression\n",
      "2025-02-12 21:44:18,134 - model.model_result_saver.ModelResultsSaver - INFO - Resumo do modelo salvo em: model_results\\20250212_214323\\Logistic_Regression\\model_summary.txt\n",
      "2025-02-12 21:44:19,442 - model.non_tree_model_saver.NonTreeResultsSaver - INFO - Comparação dos modelos salva em: model_results\\non_tree_models\n",
      "2025-02-12 21:44:20,093 - model.model_result_saver.ModelResultsSaver - INFO - Resultados comparativos salvos em: model_results\\20250212_214323\n",
      "2025-02-12 21:44:20,095 - __main__ - INFO - \n",
      "Comparação final dos modelos:\n",
      "2025-02-12 21:44:20,099 - __main__ - INFO - \n",
      "                 Model      Type  Accuracy  Precision    Recall  F1-Score\n",
      "0        Decision Tree      Tree  0.790568   0.792135  0.790568  0.791174\n",
      "1        Random Forest      Tree  0.813415   0.812211  0.813415  0.812636\n",
      "2             CatBoost      Tree  0.817809   0.816918  0.817809  0.817262\n",
      "3          Naive Bayes  Non-Tree  0.803749   0.795877  0.803749  0.775715\n",
      "4                  KNN  Non-Tree  0.511131   0.557905  0.511131  0.528746\n",
      "5  Logistic Regression  Non-Tree  0.773579   0.773886  0.773579  0.773297\n"
     ]
    },
    {
     "data": {
      "text/plain": [
       "<Figure size 1200x600 with 0 Axes>"
      ]
     },
     "metadata": {},
     "output_type": "display_data"
    },
    {
     "data": {
      "text/plain": [
       "<Figure size 1200x600 with 0 Axes>"
      ]
     },
     "metadata": {},
     "output_type": "display_data"
    },
    {
     "data": {
      "text/plain": [
       "<Figure size 1200x600 with 0 Axes>"
      ]
     },
     "metadata": {},
     "output_type": "display_data"
    },
    {
     "data": {
      "text/plain": [
       "<Figure size 1200x600 with 0 Axes>"
      ]
     },
     "metadata": {},
     "output_type": "display_data"
    },
    {
     "data": {
      "text/plain": [
       "<Figure size 1200x600 with 0 Axes>"
      ]
     },
     "metadata": {},
     "output_type": "display_data"
    },
    {
     "data": {
      "text/plain": [
       "<Figure size 1200x600 with 0 Axes>"
      ]
     },
     "metadata": {},
     "output_type": "display_data"
    }
   ],
   "source": [
    "# Cria os modelos\n",
    "from model.non_tree_models import get_non_tree_models\n",
    "from pipelines.model_pipeline import ModelingPipeline, create_tree_based_models\n",
    "\n",
    "# Cria os modelos baseados em árvore\n",
    "tree_models = create_tree_based_models(random_state=42, n_estimators=100)\n",
    "\n",
    "# Obtém os modelos não baseados em árvore\n",
    "non_tree_models = get_non_tree_models(random_state=42)\n",
    "\n",
    "# Combina todos os modelos\n",
    "all_models = tree_models + non_tree_models\n",
    "\n",
    "# Inicializa o pipeline\n",
    "pipeline = ModelingPipeline(all_models)\n",
    "\n",
    "# Inicializa o pipeline de pré-processamento\n",
    "preprocessing = PreprocessingPipeline(\n",
    "    collect_new_data=True,\n",
    "    dataset_type='base',\n",
    "    test_size=0.2,\n",
    "    valid_size=0.2,\n",
    "    balance_strategy='smote',\n",
    "    random_state=42\n",
    ")\n",
    "\n",
    "# Processa os dados\n",
    "X_train, X_valid, X_test, y_train, y_valid, y_test = preprocessing.process_data()\n",
    "\n",
    "# Define as classes com base nos dados reais\n",
    "classes = sorted(y_train.unique())\n",
    "\n",
    "# Executa o pipeline\n",
    "results, comparison_df = pipeline.run_pipeline(\n",
    "    X_train, X_valid, X_test,\n",
    "    y_train, y_valid, y_test,\n",
    "    classes=classes\n",
    ")\n",
    "\n",
    "logger.info(\"\\nComparação final dos modelos:\")\n",
    "logger.info(\"\\n\" + str(comparison_df))"
   ]
  },
  {
   "cell_type": "code",
   "execution_count": null,
   "metadata": {},
   "outputs": [],
   "source": []
  }
 ],
 "metadata": {
  "kernelspec": {
   "display_name": "env",
   "language": "python",
   "name": "python3"
  },
  "language_info": {
   "codemirror_mode": {
    "name": "ipython",
    "version": 3
   },
   "file_extension": ".py",
   "mimetype": "text/x-python",
   "name": "python",
   "nbconvert_exporter": "python",
   "pygments_lexer": "ipython3",
   "version": "3.9.0"
  }
 },
 "nbformat": 4,
 "nbformat_minor": 2
}
