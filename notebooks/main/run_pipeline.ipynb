{
 "cells": [
  {
   "cell_type": "code",
   "execution_count": 1,
   "metadata": {},
   "outputs": [],
   "source": [
    "import sys\n",
    "import os\n",
    "from pathlib import Path\n",
    "import pandas as pd\n",
    "import matplotlib.pyplot as plt\n",
    "import seaborn as sns\n",
    "import logging"
   ]
  },
  {
   "cell_type": "code",
   "execution_count": 2,
   "metadata": {},
   "outputs": [],
   "source": [
    "logging.basicConfig(\n",
    "    level=logging.INFO,\n",
    "    format='%(asctime)s - %(name)s - %(levelname)s - %(message)s'\n",
    ")\n",
    "logger = logging.getLogger(__name__)"
   ]
  },
  {
   "cell_type": "code",
   "execution_count": 3,
   "metadata": {},
   "outputs": [],
   "source": [
    "notebook_path = Path.cwd()\n",
    "project_root = str(notebook_path.parent.parent) + \"\\\\src\"\n",
    "sys.path.append(project_root)"
   ]
  },
  {
   "cell_type": "code",
   "execution_count": 4,
   "metadata": {},
   "outputs": [
    {
     "data": {
      "text/plain": [
       "'d:\\\\projetos\\\\roadSafeAi\\\\RoadSafeAI\\\\src'"
      ]
     },
     "execution_count": 4,
     "metadata": {},
     "output_type": "execute_result"
    }
   ],
   "source": [
    "project_root"
   ]
  },
  {
   "cell_type": "code",
   "execution_count": 5,
   "metadata": {},
   "outputs": [
    {
     "name": "stderr",
     "output_type": "stream",
     "text": [
      "d:\\projetos\\roadSafeAi\\RoadSafeAI\\env\\lib\\site-packages\\requests\\__init__.py:86: RequestsDependencyWarning: Unable to find acceptable character detection dependency (chardet or charset_normalizer).\n",
      "  warnings.warn(\n"
     ]
    }
   ],
   "source": [
    "from pipeline import PreprocessingPipeline"
   ]
  },
  {
   "cell_type": "code",
   "execution_count": 6,
   "metadata": {},
   "outputs": [
    {
     "name": "stderr",
     "output_type": "stream",
     "text": [
      "2025-02-10 21:08:27,510 - pipeline - INFO - Iniciando pipeline completo de pré-processamento (usando dataset base)...\n",
      "2025-02-10 21:08:27,513 - pipeline - INFO - Iniciando coleta de dados...\n",
      "2025-02-10 21:08:27,514 - root - WARNING - Folder RoadSafeAI/files já existe. Não será feito novo download\n",
      "2025-02-10 21:08:27,514 - pipeline - INFO - Coleta de dados concluída com sucesso\n",
      "2025-02-10 21:08:27,515 - pipeline - INFO - Iniciando união dos datasets (usando dataset base)...\n",
      "2025-02-10 21:08:27,517 - data_collection.merge_datasets - INFO - 18 arquivos CSV encontrados para o período 2007-2024.\n",
      "2025-02-10 21:08:27,518 - data_collection.merge_datasets - INFO - Processando dataset do ano 2007: datatran2007.csv\n"
     ]
    },
    {
     "name": "stdout",
     "output_type": "stream",
     "text": [
      "FileName: datatran2007.csv\n",
      "FileName: datatran2008.csv\n",
      "FileName: datatran2009.csv\n",
      "FileName: datatran2010.csv\n",
      "FileName: datatran2011.csv\n",
      "FileName: datatran2012.csv\n",
      "FileName: datatran2013.csv\n",
      "FileName: datatran2014.csv\n",
      "FileName: datatran2015.csv\n",
      "FileName: datatran2016.csv\n",
      "FileName: datatran2017.csv\n",
      "FileName: datatran2018.csv\n",
      "FileName: datatran2019.csv\n",
      "FileName: datatran2020.csv\n",
      "FileName: datatran2021.csv\n",
      "FileName: datatran2022.csv\n",
      "FileName: datatran2023.csv\n",
      "FileName: datatran2024.csv\n",
      "FileName: datatran2007.csv\n"
     ]
    },
    {
     "name": "stderr",
     "output_type": "stream",
     "text": [
      "d:\\projetos\\roadSafeAi\\RoadSafeAI\\src\\data_collection\\file_read_pandas.py:16: DtypeWarning: Columns (5,6) have mixed types. Specify dtype option on import or set low_memory=False.\n",
      "  return pd.read_csv(file_path, encoding='cp1252', sep=';')\n",
      "2025-02-10 21:08:27,820 - data_collection.merge_datasets - INFO - Processando dataset do ano 2008: datatran2008.csv\n"
     ]
    },
    {
     "name": "stdout",
     "output_type": "stream",
     "text": [
      "FileName: datatran2008.csv\n"
     ]
    },
    {
     "name": "stderr",
     "output_type": "stream",
     "text": [
      "d:\\projetos\\roadSafeAi\\RoadSafeAI\\src\\data_collection\\file_read_pandas.py:16: DtypeWarning: Columns (5,6) have mixed types. Specify dtype option on import or set low_memory=False.\n",
      "  return pd.read_csv(file_path, encoding='cp1252', sep=';')\n",
      "2025-02-10 21:08:28,161 - data_collection.merge_datasets - INFO - Processando dataset do ano 2009: datatran2009.csv\n"
     ]
    },
    {
     "name": "stdout",
     "output_type": "stream",
     "text": [
      "FileName: datatran2009.csv\n"
     ]
    },
    {
     "name": "stderr",
     "output_type": "stream",
     "text": [
      "2025-02-10 21:08:28,504 - data_collection.merge_datasets - INFO - Processando dataset do ano 2010: datatran2010.csv\n"
     ]
    },
    {
     "name": "stdout",
     "output_type": "stream",
     "text": [
      "FileName: datatran2010.csv\n"
     ]
    },
    {
     "name": "stderr",
     "output_type": "stream",
     "text": [
      "2025-02-10 21:08:28,928 - data_collection.merge_datasets - INFO - Processando dataset do ano 2011: datatran2011.csv\n"
     ]
    },
    {
     "name": "stdout",
     "output_type": "stream",
     "text": [
      "FileName: datatran2011.csv\n"
     ]
    },
    {
     "name": "stderr",
     "output_type": "stream",
     "text": [
      "2025-02-10 21:08:29,342 - data_collection.merge_datasets - INFO - Processando dataset do ano 2012: datatran2012.csv\n"
     ]
    },
    {
     "name": "stdout",
     "output_type": "stream",
     "text": [
      "FileName: datatran2012.csv\n"
     ]
    },
    {
     "name": "stderr",
     "output_type": "stream",
     "text": [
      "d:\\projetos\\roadSafeAi\\RoadSafeAI\\src\\data_collection\\file_read_pandas.py:16: DtypeWarning: Columns (5,6) have mixed types. Specify dtype option on import or set low_memory=False.\n",
      "  return pd.read_csv(file_path, encoding='cp1252', sep=';')\n",
      "2025-02-10 21:08:29,754 - data_collection.merge_datasets - INFO - Processando dataset do ano 2013: datatran2013.csv\n"
     ]
    },
    {
     "name": "stdout",
     "output_type": "stream",
     "text": [
      "FileName: datatran2013.csv\n"
     ]
    },
    {
     "name": "stderr",
     "output_type": "stream",
     "text": [
      "2025-02-10 21:08:30,183 - data_collection.merge_datasets - INFO - Processando dataset do ano 2014: datatran2014.csv\n"
     ]
    },
    {
     "name": "stdout",
     "output_type": "stream",
     "text": [
      "FileName: datatran2014.csv\n"
     ]
    },
    {
     "name": "stderr",
     "output_type": "stream",
     "text": [
      "2025-02-10 21:08:30,566 - data_collection.merge_datasets - INFO - Processando dataset do ano 2015: datatran2015.csv\n"
     ]
    },
    {
     "name": "stdout",
     "output_type": "stream",
     "text": [
      "FileName: datatran2015.csv\n"
     ]
    },
    {
     "name": "stderr",
     "output_type": "stream",
     "text": [
      "2025-02-10 21:08:30,860 - data_collection.merge_datasets - INFO - Processando dataset do ano 2016: datatran2016.csv\n"
     ]
    },
    {
     "name": "stdout",
     "output_type": "stream",
     "text": [
      "FileName: datatran2016.csv\n"
     ]
    },
    {
     "name": "stderr",
     "output_type": "stream",
     "text": [
      "2025-02-10 21:08:31,100 - data_collection.merge_datasets - INFO - Processando dataset do ano 2017: datatran2017.csv\n"
     ]
    },
    {
     "name": "stdout",
     "output_type": "stream",
     "text": [
      "FileName: datatran2017.csv\n"
     ]
    },
    {
     "name": "stderr",
     "output_type": "stream",
     "text": [
      "2025-02-10 21:08:31,511 - data_collection.merge_datasets - INFO - Processando dataset do ano 2018: datatran2018.csv\n"
     ]
    },
    {
     "name": "stdout",
     "output_type": "stream",
     "text": [
      "FileName: datatran2018.csv\n"
     ]
    },
    {
     "name": "stderr",
     "output_type": "stream",
     "text": [
      "2025-02-10 21:08:31,902 - data_collection.merge_datasets - INFO - Processando dataset do ano 2019: datatran2019.csv\n"
     ]
    },
    {
     "name": "stdout",
     "output_type": "stream",
     "text": [
      "FileName: datatran2019.csv\n"
     ]
    },
    {
     "name": "stderr",
     "output_type": "stream",
     "text": [
      "2025-02-10 21:08:32,232 - data_collection.merge_datasets - INFO - Processando dataset do ano 2020: datatran2020.csv\n"
     ]
    },
    {
     "name": "stdout",
     "output_type": "stream",
     "text": [
      "FileName: datatran2020.csv\n"
     ]
    },
    {
     "name": "stderr",
     "output_type": "stream",
     "text": [
      "2025-02-10 21:08:32,530 - data_collection.merge_datasets - INFO - Processando dataset do ano 2021: datatran2021.csv\n"
     ]
    },
    {
     "name": "stdout",
     "output_type": "stream",
     "text": [
      "FileName: datatran2021.csv\n"
     ]
    },
    {
     "name": "stderr",
     "output_type": "stream",
     "text": [
      "2025-02-10 21:08:32,800 - data_collection.merge_datasets - INFO - Processando dataset do ano 2022: datatran2022.csv\n"
     ]
    },
    {
     "name": "stdout",
     "output_type": "stream",
     "text": [
      "FileName: datatran2022.csv\n"
     ]
    },
    {
     "name": "stderr",
     "output_type": "stream",
     "text": [
      "2025-02-10 21:08:33,131 - data_collection.merge_datasets - INFO - Processando dataset do ano 2023: datatran2023.csv\n"
     ]
    },
    {
     "name": "stdout",
     "output_type": "stream",
     "text": [
      "FileName: datatran2023.csv\n"
     ]
    },
    {
     "name": "stderr",
     "output_type": "stream",
     "text": [
      "2025-02-10 21:08:33,464 - data_collection.merge_datasets - INFO - Processando dataset do ano 2024: datatran2024.csv\n"
     ]
    },
    {
     "name": "stdout",
     "output_type": "stream",
     "text": [
      "FileName: datatran2024.csv\n"
     ]
    },
    {
     "name": "stderr",
     "output_type": "stream",
     "text": [
      "2025-02-10 21:08:33,833 - data_collection.merge_datasets - INFO - Total de registros do Maranhão: 34153\n",
      "2025-02-10 21:08:34,125 - data_collection.merge_datasets - INFO - Dataset do Maranhão unificado salvo em D:\\projetos\\roadSafeAi\\RoadSafeAI\\files\\processed\\maranhao\\datatran_ma_merged_base_2007_2024.csv\n",
      "2025-02-10 21:08:34,128 - data_collection.merge_datasets - INFO - Metadados do Maranhão salvos em D:\\projetos\\roadSafeAi\\RoadSafeAI\\files\\processed\\maranhao\\metadata_ma.txt\n",
      "2025-02-10 21:08:34,130 - data_collection.merge_datasets - INFO - 8 arquivos CSV encontrados para o período 2017-2024.\n",
      "2025-02-10 21:08:34,131 - data_collection.merge_datasets - INFO - Processando dataset do ano 2017: datatran2017.csv\n"
     ]
    },
    {
     "name": "stdout",
     "output_type": "stream",
     "text": [
      "FileName: datatran2007.csv\n",
      "FileName: datatran2008.csv\n",
      "FileName: datatran2009.csv\n",
      "FileName: datatran2010.csv\n",
      "FileName: datatran2011.csv\n",
      "FileName: datatran2012.csv\n",
      "FileName: datatran2013.csv\n",
      "FileName: datatran2014.csv\n",
      "FileName: datatran2015.csv\n",
      "FileName: datatran2016.csv\n",
      "FileName: datatran2017.csv\n",
      "FileName: datatran2018.csv\n",
      "FileName: datatran2019.csv\n",
      "FileName: datatran2020.csv\n",
      "FileName: datatran2021.csv\n",
      "FileName: datatran2022.csv\n",
      "FileName: datatran2023.csv\n",
      "FileName: datatran2024.csv\n",
      "FileName: datatran2017.csv\n"
     ]
    },
    {
     "name": "stderr",
     "output_type": "stream",
     "text": [
      "2025-02-10 21:08:34,541 - data_collection.merge_datasets - INFO - Processando dataset do ano 2018: datatran2018.csv\n"
     ]
    },
    {
     "name": "stdout",
     "output_type": "stream",
     "text": [
      "FileName: datatran2018.csv\n"
     ]
    },
    {
     "name": "stderr",
     "output_type": "stream",
     "text": [
      "2025-02-10 21:08:34,875 - data_collection.merge_datasets - INFO - Processando dataset do ano 2019: datatran2019.csv\n"
     ]
    },
    {
     "name": "stdout",
     "output_type": "stream",
     "text": [
      "FileName: datatran2019.csv\n"
     ]
    },
    {
     "name": "stderr",
     "output_type": "stream",
     "text": [
      "2025-02-10 21:08:35,182 - data_collection.merge_datasets - INFO - Processando dataset do ano 2020: datatran2020.csv\n"
     ]
    },
    {
     "name": "stdout",
     "output_type": "stream",
     "text": [
      "FileName: datatran2020.csv\n"
     ]
    },
    {
     "name": "stderr",
     "output_type": "stream",
     "text": [
      "2025-02-10 21:08:35,507 - data_collection.merge_datasets - INFO - Processando dataset do ano 2021: datatran2021.csv\n"
     ]
    },
    {
     "name": "stdout",
     "output_type": "stream",
     "text": [
      "FileName: datatran2021.csv\n"
     ]
    },
    {
     "name": "stderr",
     "output_type": "stream",
     "text": [
      "2025-02-10 21:08:35,802 - data_collection.merge_datasets - INFO - Processando dataset do ano 2022: datatran2022.csv\n"
     ]
    },
    {
     "name": "stdout",
     "output_type": "stream",
     "text": [
      "FileName: datatran2022.csv\n"
     ]
    },
    {
     "name": "stderr",
     "output_type": "stream",
     "text": [
      "2025-02-10 21:08:36,072 - data_collection.merge_datasets - INFO - Processando dataset do ano 2023: datatran2023.csv\n"
     ]
    },
    {
     "name": "stdout",
     "output_type": "stream",
     "text": [
      "FileName: datatran2023.csv\n"
     ]
    },
    {
     "name": "stderr",
     "output_type": "stream",
     "text": [
      "2025-02-10 21:08:36,411 - data_collection.merge_datasets - INFO - Processando dataset do ano 2024: datatran2024.csv\n"
     ]
    },
    {
     "name": "stdout",
     "output_type": "stream",
     "text": [
      "FileName: datatran2024.csv\n"
     ]
    },
    {
     "name": "stderr",
     "output_type": "stream",
     "text": [
      "2025-02-10 21:08:36,781 - data_collection.merge_datasets - INFO - Total de registros do Maranhão: 9609\n",
      "2025-02-10 21:08:36,875 - data_collection.merge_datasets - INFO - Dataset do Maranhão unificado salvo em D:\\projetos\\roadSafeAi\\RoadSafeAI\\files\\processed\\maranhao\\datatran_ma_merged_complete_2017_2024.csv\n",
      "2025-02-10 21:08:36,878 - data_collection.merge_datasets - INFO - Metadados do Maranhão salvos em D:\\projetos\\roadSafeAi\\RoadSafeAI\\files\\processed\\maranhao\\metadata_ma.txt\n",
      "2025-02-10 21:08:36,879 - pipeline - INFO - Dataset base selecionado:\n",
      "2025-02-10 21:08:36,880 - pipeline - INFO - Dimensões: (34153, 25)\n",
      "2025-02-10 21:08:36,882 - pipeline - INFO - Período: 2007-01-01 00:00:00 até 2024-12-31 00:00:00\n",
      "2025-02-10 21:08:36,882 - pipeline - INFO - Colunas: ['id', 'data_inversa', 'dia_semana', 'horario', 'uf', 'br', 'km', 'municipio', 'causa_acidente', 'tipo_acidente', 'classificacao_acidente', 'fase_dia', 'sentido_via', 'condicao_metereologica', 'tipo_pista', 'tracado_via', 'uso_solo', 'pessoas', 'mortos', 'feridos_leves', 'feridos_graves', 'ilesos', 'ignorados', 'feridos', 'veiculos']\n",
      "2025-02-10 21:08:36,884 - pipeline - INFO - Iniciando limpeza de dados...\n",
      "2025-02-10 21:08:36,884 - preprocessing.data_cleaning_01 - INFO - Iniciando processo de limpeza do dataset...\n",
      "2025-02-10 21:08:36,889 - preprocessing.data_cleaning_01 - INFO - Colunas removidas: ['id', 'uf', 'tracado_via', 'feridos', 'fase_dia']\n",
      "d:\\projetos\\roadSafeAi\\RoadSafeAI\\src\\preprocessing\\data_cleaning_01.py:52: UserWarning: Boolean Series key will be reindexed to match DataFrame index.\n",
      "  df_clean = df_clean[~mascara_espacos['remove']]\n",
      "2025-02-10 21:08:37,093 - preprocessing.data_cleaning_01 - INFO - Estatísticas de limpeza:\n",
      "2025-02-10 21:08:37,094 - preprocessing.data_cleaning_01 - INFO - - Linhas no dataset original: 34153\n",
      "2025-02-10 21:08:37,094 - preprocessing.data_cleaning_01 - INFO - - Linhas removidas: 3\n",
      "2025-02-10 21:08:37,095 - preprocessing.data_cleaning_01 - INFO - - Percentual removido: 0.0088%\n",
      "2025-02-10 21:08:37,095 - preprocessing.data_cleaning_01 - INFO - - Linhas no dataset final: 34150\n",
      "2025-02-10 21:08:37,130 - preprocessing.data_cleaning_01 - INFO - Removidos 13 registros duplicados.\n",
      "2025-02-10 21:08:37,133 - preprocessing.data_cleaning_01 - INFO - Processo de limpeza concluído com sucesso!\n",
      "2025-02-10 21:08:37,136 - pipeline - INFO - Iniciando padronização de dados...\n",
      "2025-02-10 21:08:37,138 - preprocessing.data_standardize_02 - INFO - Iniciando padronização do dataset...\n",
      "2025-02-10 21:08:37,185 - preprocessing.data_standardize_02 - INFO - Coluna km padronizada. Range: [0, 684]\n",
      "2025-02-10 21:08:37,217 - preprocessing.data_standardize_02 - INFO - Coluna pessoas padronizada. Range: [1, 54]\n",
      "2025-02-10 21:08:37,248 - preprocessing.data_standardize_02 - INFO - Coluna mortos padronizada. Range: [0, 11]\n",
      "2025-02-10 21:08:37,282 - preprocessing.data_standardize_02 - INFO - Coluna feridos_leves padronizada. Range: [0, 37]\n",
      "2025-02-10 21:08:37,314 - preprocessing.data_standardize_02 - INFO - Coluna feridos_graves padronizada. Range: [0, 20]\n",
      "2025-02-10 21:08:37,345 - preprocessing.data_standardize_02 - INFO - Coluna ilesos padronizada. Range: [0, 49]\n",
      "2025-02-10 21:08:37,377 - preprocessing.data_standardize_02 - INFO - Coluna ignorados padronizada. Range: [0, 35]\n",
      "2025-02-10 21:08:37,411 - preprocessing.data_standardize_02 - INFO - Coluna veiculos padronizada. Range: [1, 17]\n",
      "2025-02-10 21:08:37,412 - preprocessing.data_standardize_02 - INFO - Valores numéricos padronizados\n",
      "2025-02-10 21:08:37,430 - preprocessing.data_standardize_02 - INFO - Coluna data_inversa convertida para datetime e renomeada para 'data'\n",
      "2025-02-10 21:08:37,447 - preprocessing.data_standardize_02 - INFO - Distribuição dos períodos do dia:\n",
      "2025-02-10 21:08:37,448 - preprocessing.data_standardize_02 - INFO - - tarde: 11467\n",
      "2025-02-10 21:08:37,448 - preprocessing.data_standardize_02 - INFO - - manha: 9587\n",
      "2025-02-10 21:08:37,449 - preprocessing.data_standardize_02 - INFO - - noite: 9393\n",
      "2025-02-10 21:08:37,450 - preprocessing.data_standardize_02 - INFO - - madrugada: 3690\n",
      "2025-02-10 21:08:37,452 - preprocessing.data_standardize_02 - INFO - Valores temporais padronizados\n",
      "2025-02-10 21:08:37,461 - preprocessing.data_standardize_02 - INFO - Valores únicos originais em uso_solo: ['Rural' 'Urbano' 'Não' 'Sim']\n",
      "2025-02-10 21:08:37,469 - preprocessing.data_standardize_02 - INFO - Valores únicos após padronização em uso_solo: ['Não' 'Sim']\n",
      "2025-02-10 21:08:37,472 - preprocessing.data_standardize_02 - INFO - Coluna uso_solo padronizada\n",
      "2025-02-10 21:08:37,481 - preprocessing.data_standardize_02 - INFO - Valores únicos originais em dia_semana: ['Segunda' 'Quinta' 'Domingo' 'Terça' 'Sexta' 'Quarta' 'Sábado' 'domingo'\n",
      " 'segunda-feira' 'terça-feira' 'quarta-feira' 'quinta-feira' 'sexta-feira'\n",
      " 'sábado']\n",
      "2025-02-10 21:08:37,494 - preprocessing.data_standardize_02 - INFO - Valores únicos após padronização em dia_semana: ['segunda-feira' 'quinta-feira' 'domingo' 'terca-feira' 'sexta-feira'\n",
      " 'quarta-feira' 'sabado']\n",
      "2025-02-10 21:08:37,496 - preprocessing.data_standardize_02 - INFO - Coluna dia_semana padronizada\n",
      "2025-02-10 21:08:37,498 - pipeline - INFO - Iniciando engenharia de features...\n",
      "2025-02-10 21:08:37,499 - preprocessing.feature_engineering_03 - INFO - Iniciando criação de novas features...\n",
      "2025-02-10 21:08:37,530 - preprocessing.feature_engineering_03 - INFO - Distribuição dos períodos do dia:\n",
      "2025-02-10 21:08:37,536 - preprocessing.feature_engineering_03 - INFO - Removendo horario exato, adotado periodo do dia:\n",
      "2025-02-10 21:08:37,537 - preprocessing.feature_engineering_03 - INFO - - tarde: 11467 registros\n",
      "2025-02-10 21:08:37,539 - preprocessing.feature_engineering_03 - INFO - - manha: 9587 registros\n",
      "2025-02-10 21:08:37,540 - preprocessing.feature_engineering_03 - INFO - - noite: 9393 registros\n",
      "2025-02-10 21:08:37,540 - preprocessing.feature_engineering_03 - INFO - - madrugada: 3690 registros\n",
      "2025-02-10 21:08:37,541 - preprocessing.feature_engineering_03 - INFO - Feature 'periodo_dia' criada com sucesso\n",
      "2025-02-10 21:08:37,912 - preprocessing.feature_engineering_03 - INFO - Distribuição das gravidades dos acidentes:\n",
      "2025-02-10 21:08:37,913 - preprocessing.feature_engineering_03 - INFO - - sem_vitimas: 14641 registros\n",
      "2025-02-10 21:08:37,914 - preprocessing.feature_engineering_03 - INFO - - leve: 13938 registros\n",
      "2025-02-10 21:08:37,914 - preprocessing.feature_engineering_03 - INFO - - fatal: 3886 registros\n",
      "2025-02-10 21:08:37,915 - preprocessing.feature_engineering_03 - INFO - - grave: 1672 registros\n",
      "2025-02-10 21:08:37,917 - preprocessing.feature_engineering_03 - INFO - Feature 'gravidade_acidente' criada com sucesso\n",
      "2025-02-10 21:08:37,930 - preprocessing.feature_engineering_03 - INFO - Distribuição final das causas agrupadas:\n",
      "2025-02-10 21:08:37,931 - preprocessing.feature_engineering_03 - INFO - - falha_atencao: 11127 registros\n",
      "2025-02-10 21:08:37,932 - preprocessing.feature_engineering_03 - INFO - - outros: 11088 registros\n",
      "2025-02-10 21:08:37,933 - preprocessing.feature_engineering_03 - INFO - - comportamento_risco: 5384 registros\n",
      "2025-02-10 21:08:37,933 - preprocessing.feature_engineering_03 - INFO - - fatores_externos_animais: 1987 registros\n",
      "2025-02-10 21:08:37,934 - preprocessing.feature_engineering_03 - INFO - - problemas_tecnicos_via: 1292 registros\n",
      "2025-02-10 21:08:37,934 - preprocessing.feature_engineering_03 - INFO - - problemas_tecnicos_veiculo: 1231 registros\n",
      "2025-02-10 21:08:37,935 - preprocessing.feature_engineering_03 - INFO - - condutor_alcool_drogas: 1114 registros\n",
      "2025-02-10 21:08:37,935 - preprocessing.feature_engineering_03 - INFO - - condutor_fadiga: 884 registros\n",
      "2025-02-10 21:08:37,936 - preprocessing.feature_engineering_03 - INFO - - fatores_ambientais: 30 registros\n",
      "2025-02-10 21:08:37,939 - preprocessing.feature_engineering_03 - INFO - Feature 'causa_acidente_grupo' criada com sucesso\n",
      "2025-02-10 21:08:37,940 - preprocessing.feature_engineering_03 - INFO - Todas as features foram criadas com sucesso!\n",
      "2025-02-10 21:08:38,100 - preprocessing.feature_engineering_03 - INFO - Dataset processado salvo em: d:\\projetos\\roadSafeAi\\RoadSafeAI\\files\\processed\\datatran_ma_processado.csv\n",
      "2025-02-10 21:08:38,102 - pipeline - INFO - Ajustando codificador de dados...\n",
      "2025-02-10 21:08:38,103 - preprocessing.data_encoding_04 - INFO - Iniciando fit dos encoders...\n",
      "2025-02-10 21:08:38,112 - preprocessing.data_encoding_04 - INFO - Removidas as colunas: ['feridos_graves', 'mortos', 'feridos_leves', 'ilesos']\n",
      "2025-02-10 21:08:38,117 - preprocessing.data_encoding_04 - INFO - Coluna municipio: 110 valores únicos\n",
      "2025-02-10 21:08:38,120 - preprocessing.data_encoding_04 - INFO - Coluna causa_acidente: 92 valores únicos\n",
      "2025-02-10 21:08:38,123 - preprocessing.data_encoding_04 - INFO - Coluna tipo_acidente: 30 valores únicos\n",
      "2025-02-10 21:08:38,125 - preprocessing.data_encoding_04 - INFO - Coluna classificacao_acidente: 4 valores únicos\n",
      "2025-02-10 21:08:38,128 - preprocessing.data_encoding_04 - INFO - Coluna sentido_via: 3 valores únicos\n",
      "2025-02-10 21:08:38,129 - preprocessing.data_encoding_04 - INFO - Coluna condicao_metereologica: 13 valores únicos\n",
      "2025-02-10 21:08:38,131 - preprocessing.data_encoding_04 - INFO - Coluna tipo_pista: 3 valores únicos\n",
      "2025-02-10 21:08:38,133 - preprocessing.data_encoding_04 - INFO - Coluna uso_solo: 2 valores únicos\n",
      "2025-02-10 21:08:38,135 - preprocessing.data_encoding_04 - INFO - Coluna causa_acidente_grupo: 9 valores únicos\n",
      "2025-02-10 21:08:38,135 - preprocessing.data_encoding_04 - INFO - Label Encoder ajustado para periodo_dia\n",
      "2025-02-10 21:08:38,137 - preprocessing.data_encoding_04 - INFO - Label Encoder ajustado para dia_semana\n",
      "2025-02-10 21:08:38,166 - preprocessing.data_encoding_04 - INFO - OneHot Encoder ajustado para ['classificacao_acidente', 'sentido_via', 'tipo_pista', 'uso_solo']\n",
      "2025-02-10 21:08:38,229 - preprocessing.data_encoding_04 - INFO - Target Encoder ajustado para municipio\n",
      "2025-02-10 21:08:38,292 - preprocessing.data_encoding_04 - INFO - Target Encoder ajustado para causa_acidente\n",
      "2025-02-10 21:08:38,355 - preprocessing.data_encoding_04 - INFO - Target Encoder ajustado para tipo_acidente\n",
      "2025-02-10 21:08:38,418 - preprocessing.data_encoding_04 - INFO - Target Encoder ajustado para condicao_metereologica\n",
      "2025-02-10 21:08:38,483 - preprocessing.data_encoding_04 - INFO - Target Encoder ajustado para causa_acidente_grupo\n",
      "2025-02-10 21:08:38,484 - pipeline - INFO - Iniciando codificação de dados...\n",
      "2025-02-10 21:08:38,494 - preprocessing.data_encoding_04 - INFO - Removidas as colunas: ['feridos_graves', 'mortos', 'feridos_leves', 'ilesos']\n",
      "2025-02-10 21:08:38,509 - preprocessing.data_encoding_04 - INFO - Label Encoding aplicado em periodo_dia\n",
      "2025-02-10 21:08:38,526 - preprocessing.data_encoding_04 - INFO - Label Encoding aplicado em dia_semana\n",
      "2025-02-10 21:08:38,566 - preprocessing.data_encoding_04 - INFO - OneHot Encoding aplicado em ['classificacao_acidente', 'sentido_via', 'tipo_pista', 'uso_solo']\n",
      "2025-02-10 21:08:38,577 - preprocessing.data_encoding_04 - INFO - Target Encoding aplicado em municipio\n",
      "2025-02-10 21:08:38,586 - preprocessing.data_encoding_04 - INFO - Target Encoding aplicado em causa_acidente\n",
      "2025-02-10 21:08:38,596 - preprocessing.data_encoding_04 - INFO - Target Encoding aplicado em tipo_acidente\n",
      "2025-02-10 21:08:38,604 - preprocessing.data_encoding_04 - INFO - Target Encoding aplicado em condicao_metereologica\n",
      "2025-02-10 21:08:38,611 - preprocessing.data_encoding_04 - INFO - Target Encoding aplicado em causa_acidente_grupo\n",
      "2025-02-10 21:08:38,613 - pipeline - INFO - Dimensões após pré-processamento: (34137, 22)\n",
      "2025-02-10 21:08:38,614 - preprocessing.data_split_05 - INFO - Iniciando preparação dos dados...\n",
      "2025-02-10 21:08:38,619 - preprocessing.data_split_05 - INFO - Colunas removidas: ['data', 'causa_acidente']\n",
      "2025-02-10 21:08:38,623 - preprocessing.data_split_05 - INFO - Distribuição inicial das classes:\n",
      "2025-02-10 21:08:38,626 - preprocessing.data_split_05 - INFO - \n",
      "Distribuição das classes:\n",
      "2025-02-10 21:08:38,627 - preprocessing.data_split_05 - INFO - - Classe sem_vitimas: 42.89%\n",
      "2025-02-10 21:08:38,627 - preprocessing.data_split_05 - INFO - - Classe leve: 40.83%\n",
      "2025-02-10 21:08:38,628 - preprocessing.data_split_05 - INFO - - Classe fatal: 11.38%\n",
      "2025-02-10 21:08:38,629 - preprocessing.data_split_05 - INFO - - Classe grave: 4.90%\n",
      "2025-02-10 21:08:38,674 - preprocessing.data_split_05 - INFO - \n",
      "Dimensões dos conjuntos:\n",
      "2025-02-10 21:08:38,675 - preprocessing.data_split_05 - INFO - - Treino: (20481, 19)\n",
      "2025-02-10 21:08:38,675 - preprocessing.data_split_05 - INFO - - Validação: (6828, 19)\n",
      "2025-02-10 21:08:38,675 - preprocessing.data_split_05 - INFO - - Teste: (6828, 19)\n",
      "2025-02-10 21:08:38,678 - preprocessing.data_split_05 - INFO - \n",
      "Distribuição das classes - Treino:\n",
      "2025-02-10 21:08:38,679 - preprocessing.data_split_05 - INFO - - Classe sem_vitimas: 42.89%\n",
      "2025-02-10 21:08:38,679 - preprocessing.data_split_05 - INFO - - Classe leve: 40.83%\n",
      "2025-02-10 21:08:38,680 - preprocessing.data_split_05 - INFO - - Classe fatal: 11.39%\n",
      "2025-02-10 21:08:38,680 - preprocessing.data_split_05 - INFO - - Classe grave: 4.90%\n",
      "2025-02-10 21:08:38,682 - preprocessing.data_split_05 - INFO - \n",
      "Distribuição das classes - Validação:\n",
      "2025-02-10 21:08:38,682 - preprocessing.data_split_05 - INFO - - Classe sem_vitimas: 42.88%\n",
      "2025-02-10 21:08:38,683 - preprocessing.data_split_05 - INFO - - Classe leve: 40.83%\n",
      "2025-02-10 21:08:38,683 - preprocessing.data_split_05 - INFO - - Classe fatal: 11.38%\n",
      "2025-02-10 21:08:38,684 - preprocessing.data_split_05 - INFO - - Classe grave: 4.91%\n",
      "2025-02-10 21:08:38,685 - preprocessing.data_split_05 - INFO - \n",
      "Distribuição das classes - Teste:\n",
      "2025-02-10 21:08:38,687 - preprocessing.data_split_05 - INFO - - Classe sem_vitimas: 42.90%\n",
      "2025-02-10 21:08:38,688 - preprocessing.data_split_05 - INFO - - Classe leve: 40.83%\n",
      "2025-02-10 21:08:38,689 - preprocessing.data_split_05 - INFO - - Classe fatal: 11.38%\n",
      "2025-02-10 21:08:38,690 - preprocessing.data_split_05 - INFO - - Classe grave: 4.89%\n",
      "2025-02-10 21:08:38,691 - preprocessing.data_split_05 - INFO - Preparação dos dados concluída!\n",
      "2025-02-10 21:08:38,702 - pipeline - INFO - Tipos de dados após conversão:\n",
      "2025-02-10 21:08:38,703 - pipeline - INFO - - dia_semana: int32\n",
      "2025-02-10 21:08:38,705 - pipeline - INFO - - br: float64\n",
      "2025-02-10 21:08:38,706 - pipeline - INFO - - km: int32\n",
      "2025-02-10 21:08:38,706 - pipeline - INFO - - municipio: float64\n",
      "2025-02-10 21:08:38,707 - pipeline - INFO - - tipo_acidente: float64\n",
      "2025-02-10 21:08:38,709 - pipeline - INFO - - condicao_metereologica: float64\n",
      "2025-02-10 21:08:38,710 - pipeline - INFO - - pessoas: int32\n",
      "2025-02-10 21:08:38,710 - pipeline - INFO - - ignorados: int32\n",
      "2025-02-10 21:08:38,711 - pipeline - INFO - - veiculos: int32\n",
      "2025-02-10 21:08:38,712 - pipeline - INFO - - periodo_dia: int32\n",
      "2025-02-10 21:08:38,713 - pipeline - INFO - - causa_acidente_grupo: float64\n",
      "2025-02-10 21:08:38,713 - pipeline - INFO - - classificacao_acidente_Com Vítimas Feridas: float64\n",
      "2025-02-10 21:08:38,714 - pipeline - INFO - - classificacao_acidente_Ignorado: float64\n",
      "2025-02-10 21:08:38,716 - pipeline - INFO - - classificacao_acidente_Sem Vítimas: float64\n",
      "2025-02-10 21:08:38,716 - pipeline - INFO - - sentido_via_Decrescente: float64\n",
      "2025-02-10 21:08:38,717 - pipeline - INFO - - sentido_via_Não Informado: float64\n",
      "2025-02-10 21:08:38,717 - pipeline - INFO - - tipo_pista_Múltipla: float64\n",
      "2025-02-10 21:08:38,718 - pipeline - INFO - - tipo_pista_Simples: float64\n",
      "2025-02-10 21:08:38,719 - pipeline - INFO - - uso_solo_Sim: float64\n",
      "2025-02-10 21:08:38,721 - pipeline - INFO - Aplicando estratégia de balanceamento combined...\n",
      "2025-02-10 21:08:38,721 - preprocessing.data_balancing_06 - INFO - Aplicando estratégia combinada de sampling...\n",
      "2025-02-10 21:08:38,724 - preprocessing.data_balancing_06 - INFO - \n",
      "Distribuição das classes - original:\n",
      "2025-02-10 21:08:38,724 - preprocessing.data_balancing_06 - INFO - - Classe sem_vitimas: 8784 amostras (42.89%)\n",
      "2025-02-10 21:08:38,731 - preprocessing.data_balancing_06 - INFO - - Classe leve: 8362 amostras (40.83%)\n",
      "2025-02-10 21:08:38,733 - preprocessing.data_balancing_06 - INFO - - Classe fatal: 2332 amostras (11.39%)\n",
      "2025-02-10 21:08:38,734 - preprocessing.data_balancing_06 - INFO - - Classe grave: 1003 amostras (4.90%)\n",
      "2025-02-10 21:08:38,735 - preprocessing.data_balancing_06 - INFO - Aplicando Random Undersampling...\n",
      "2025-02-10 21:08:38,741 - preprocessing.data_balancing_06 - INFO - \n",
      "Distribuição das classes - antes do undersampling:\n",
      "2025-02-10 21:08:38,743 - preprocessing.data_balancing_06 - INFO - - Classe sem_vitimas: 8784 amostras (42.89%)\n",
      "2025-02-10 21:08:38,744 - preprocessing.data_balancing_06 - INFO - - Classe leve: 8362 amostras (40.83%)\n",
      "2025-02-10 21:08:38,745 - preprocessing.data_balancing_06 - INFO - - Classe fatal: 2332 amostras (11.39%)\n",
      "2025-02-10 21:08:38,746 - preprocessing.data_balancing_06 - INFO - - Classe grave: 1003 amostras (4.90%)\n",
      "d:\\projetos\\roadSafeAi\\RoadSafeAI\\env\\lib\\site-packages\\sklearn\\base.py:484: FutureWarning: `BaseEstimator._check_n_features` is deprecated in 1.6 and will be removed in 1.7. Use `sklearn.utils.validation._check_n_features` instead.\n",
      "  warnings.warn(\n",
      "d:\\projetos\\roadSafeAi\\RoadSafeAI\\env\\lib\\site-packages\\sklearn\\base.py:493: FutureWarning: `BaseEstimator._check_feature_names` is deprecated in 1.6 and will be removed in 1.7. Use `sklearn.utils.validation._check_feature_names` instead.\n",
      "  warnings.warn(\n",
      "2025-02-10 21:08:38,798 - preprocessing.data_balancing_06 - INFO - \n",
      "Distribuição das classes - após undersampling:\n",
      "2025-02-10 21:08:38,798 - preprocessing.data_balancing_06 - INFO - - Classe fatal: 1003 amostras (25.00%)\n",
      "2025-02-10 21:08:38,799 - preprocessing.data_balancing_06 - INFO - - Classe grave: 1003 amostras (25.00%)\n",
      "2025-02-10 21:08:38,800 - preprocessing.data_balancing_06 - INFO - - Classe leve: 1003 amostras (25.00%)\n",
      "2025-02-10 21:08:38,800 - preprocessing.data_balancing_06 - INFO - - Classe sem_vitimas: 1003 amostras (25.00%)\n",
      "2025-02-10 21:08:38,800 - preprocessing.data_balancing_06 - INFO - Aplicando SMOTE...\n",
      "2025-02-10 21:08:38,801 - preprocessing.data_balancing_06 - INFO - \n",
      "Distribuição das classes - antes do SMOTE:\n",
      "2025-02-10 21:08:38,802 - preprocessing.data_balancing_06 - INFO - - Classe fatal: 1003 amostras (25.00%)\n",
      "2025-02-10 21:08:38,802 - preprocessing.data_balancing_06 - INFO - - Classe grave: 1003 amostras (25.00%)\n",
      "2025-02-10 21:08:38,803 - preprocessing.data_balancing_06 - INFO - - Classe leve: 1003 amostras (25.00%)\n",
      "2025-02-10 21:08:38,803 - preprocessing.data_balancing_06 - INFO - - Classe sem_vitimas: 1003 amostras (25.00%)\n",
      "d:\\projetos\\roadSafeAi\\RoadSafeAI\\env\\lib\\site-packages\\sklearn\\base.py:474: FutureWarning: `BaseEstimator._validate_data` is deprecated in 1.6 and will be removed in 1.7. Use `sklearn.utils.validation.validate_data` instead. This function becomes public and is part of the scikit-learn developer API.\n",
      "  warnings.warn(\n",
      "2025-02-10 21:08:38,813 - preprocessing.data_balancing_06 - INFO - \n",
      "Distribuição das classes - após SMOTE:\n",
      "2025-02-10 21:08:38,815 - preprocessing.data_balancing_06 - INFO - - Classe fatal: 1003 amostras (25.00%)\n",
      "2025-02-10 21:08:38,816 - preprocessing.data_balancing_06 - INFO - - Classe grave: 1003 amostras (25.00%)\n",
      "2025-02-10 21:08:38,816 - preprocessing.data_balancing_06 - INFO - - Classe leve: 1003 amostras (25.00%)\n",
      "2025-02-10 21:08:38,817 - preprocessing.data_balancing_06 - INFO - - Classe sem_vitimas: 1003 amostras (25.00%)\n",
      "2025-02-10 21:08:38,819 - __main__ - INFO - \n",
      "Pré-processamento finalizado com sucesso!\n",
      "2025-02-10 21:08:38,820 - __main__ - INFO - Formato dados de treino: (4012, 19)\n",
      "2025-02-10 21:08:38,821 - __main__ - INFO - Formato dados de validação: (6828, 19)\n",
      "2025-02-10 21:08:38,822 - __main__ - INFO - Formato dados de teste: (6828, 19)\n",
      "2025-02-10 21:08:38,823 - __main__ - INFO - \n",
      "Features:\n",
      "2025-02-10 21:08:38,824 - __main__ - INFO - - ordinal_encoded: 2 features\n",
      "2025-02-10 21:08:38,825 - __main__ - INFO - - onehot_encoded: 4 features\n",
      "2025-02-10 21:08:38,826 - __main__ - INFO - - target_encoded: 5 features\n",
      "2025-02-10 21:08:38,827 - __main__ - INFO - - removed_columns: 4 features\n"
     ]
    }
   ],
   "source": [
    "pipeline = PreprocessingPipeline(\n",
    "    collect_new_data=True,\n",
    "    dataset_type='base',\n",
    "    test_size=0.2,\n",
    "    valid_size=0.2,\n",
    "    balance_strategy=\"combined\",\n",
    "    random_state=42\n",
    ")\n",
    "\n",
    "X_train, X_valid, X_test, y_train, y_valid, y_test = pipeline.process_data()\n",
    "\n",
    "feature_names = pipeline.get_feature_names()\n",
    "\n",
    "logger.info(\"\\nPré-processamento finalizado com sucesso!\")\n",
    "logger.info(f\"Formato dados de treino: {X_train.shape}\")\n",
    "logger.info(f\"Formato dados de validação: {X_valid.shape}\")\n",
    "logger.info(f\"Formato dados de teste: {X_test.shape}\")\n",
    "logger.info(\"\\nFeatures:\")\n",
    "for feature_type, features in feature_names.items():\n",
    "    logger.info(f\"- {feature_type}: {len(features)} features\")"
   ]
  },
  {
   "cell_type": "code",
   "execution_count": 7,
   "metadata": {},
   "outputs": [
    {
     "data": {
      "text/html": [
       "<div>\n",
       "<style scoped>\n",
       "    .dataframe tbody tr th:only-of-type {\n",
       "        vertical-align: middle;\n",
       "    }\n",
       "\n",
       "    .dataframe tbody tr th {\n",
       "        vertical-align: top;\n",
       "    }\n",
       "\n",
       "    .dataframe thead th {\n",
       "        text-align: right;\n",
       "    }\n",
       "</style>\n",
       "<table border=\"1\" class=\"dataframe\">\n",
       "  <thead>\n",
       "    <tr style=\"text-align: right;\">\n",
       "      <th></th>\n",
       "      <th>dia_semana</th>\n",
       "      <th>br</th>\n",
       "      <th>km</th>\n",
       "      <th>municipio</th>\n",
       "      <th>tipo_acidente</th>\n",
       "      <th>condicao_metereologica</th>\n",
       "      <th>pessoas</th>\n",
       "      <th>ignorados</th>\n",
       "      <th>veiculos</th>\n",
       "      <th>periodo_dia</th>\n",
       "      <th>causa_acidente_grupo</th>\n",
       "      <th>classificacao_acidente_Com Vítimas Feridas</th>\n",
       "      <th>classificacao_acidente_Ignorado</th>\n",
       "      <th>classificacao_acidente_Sem Vítimas</th>\n",
       "      <th>sentido_via_Decrescente</th>\n",
       "      <th>sentido_via_Não Informado</th>\n",
       "      <th>tipo_pista_Múltipla</th>\n",
       "      <th>tipo_pista_Simples</th>\n",
       "      <th>uso_solo_Sim</th>\n",
       "    </tr>\n",
       "  </thead>\n",
       "  <tbody>\n",
       "    <tr>\n",
       "      <th>31968</th>\n",
       "      <td>2</td>\n",
       "      <td>226.0</td>\n",
       "      <td>241</td>\n",
       "      <td>0.248964</td>\n",
       "      <td>0.249995</td>\n",
       "      <td>0.250000</td>\n",
       "      <td>2</td>\n",
       "      <td>1</td>\n",
       "      <td>2</td>\n",
       "      <td>1</td>\n",
       "      <td>0.249999</td>\n",
       "      <td>1.0</td>\n",
       "      <td>0.0</td>\n",
       "      <td>0.0</td>\n",
       "      <td>0.0</td>\n",
       "      <td>0.0</td>\n",
       "      <td>0.0</td>\n",
       "      <td>1.0</td>\n",
       "      <td>0.0</td>\n",
       "    </tr>\n",
       "    <tr>\n",
       "      <th>32067</th>\n",
       "      <td>6</td>\n",
       "      <td>316.0</td>\n",
       "      <td>80</td>\n",
       "      <td>0.246196</td>\n",
       "      <td>0.249949</td>\n",
       "      <td>0.249996</td>\n",
       "      <td>2</td>\n",
       "      <td>0</td>\n",
       "      <td>2</td>\n",
       "      <td>3</td>\n",
       "      <td>0.249992</td>\n",
       "      <td>0.0</td>\n",
       "      <td>0.0</td>\n",
       "      <td>0.0</td>\n",
       "      <td>0.0</td>\n",
       "      <td>0.0</td>\n",
       "      <td>0.0</td>\n",
       "      <td>1.0</td>\n",
       "      <td>1.0</td>\n",
       "    </tr>\n",
       "    <tr>\n",
       "      <th>2632</th>\n",
       "      <td>3</td>\n",
       "      <td>402.0</td>\n",
       "      <td>54</td>\n",
       "      <td>0.246761</td>\n",
       "      <td>0.249999</td>\n",
       "      <td>0.250000</td>\n",
       "      <td>3</td>\n",
       "      <td>0</td>\n",
       "      <td>1</td>\n",
       "      <td>3</td>\n",
       "      <td>0.249991</td>\n",
       "      <td>0.0</td>\n",
       "      <td>0.0</td>\n",
       "      <td>0.0</td>\n",
       "      <td>0.0</td>\n",
       "      <td>0.0</td>\n",
       "      <td>0.0</td>\n",
       "      <td>1.0</td>\n",
       "      <td>1.0</td>\n",
       "    </tr>\n",
       "    <tr>\n",
       "      <th>5658</th>\n",
       "      <td>1</td>\n",
       "      <td>135.0</td>\n",
       "      <td>34</td>\n",
       "      <td>0.249995</td>\n",
       "      <td>0.249949</td>\n",
       "      <td>0.250000</td>\n",
       "      <td>3</td>\n",
       "      <td>0</td>\n",
       "      <td>2</td>\n",
       "      <td>2</td>\n",
       "      <td>0.249999</td>\n",
       "      <td>1.0</td>\n",
       "      <td>0.0</td>\n",
       "      <td>0.0</td>\n",
       "      <td>1.0</td>\n",
       "      <td>0.0</td>\n",
       "      <td>0.0</td>\n",
       "      <td>1.0</td>\n",
       "      <td>0.0</td>\n",
       "    </tr>\n",
       "    <tr>\n",
       "      <th>24622</th>\n",
       "      <td>0</td>\n",
       "      <td>222.0</td>\n",
       "      <td>506</td>\n",
       "      <td>0.249756</td>\n",
       "      <td>0.249998</td>\n",
       "      <td>0.249996</td>\n",
       "      <td>2</td>\n",
       "      <td>0</td>\n",
       "      <td>2</td>\n",
       "      <td>3</td>\n",
       "      <td>0.250000</td>\n",
       "      <td>1.0</td>\n",
       "      <td>0.0</td>\n",
       "      <td>0.0</td>\n",
       "      <td>1.0</td>\n",
       "      <td>0.0</td>\n",
       "      <td>0.0</td>\n",
       "      <td>1.0</td>\n",
       "      <td>0.0</td>\n",
       "    </tr>\n",
       "    <tr>\n",
       "      <th>...</th>\n",
       "      <td>...</td>\n",
       "      <td>...</td>\n",
       "      <td>...</td>\n",
       "      <td>...</td>\n",
       "      <td>...</td>\n",
       "      <td>...</td>\n",
       "      <td>...</td>\n",
       "      <td>...</td>\n",
       "      <td>...</td>\n",
       "      <td>...</td>\n",
       "      <td>...</td>\n",
       "      <td>...</td>\n",
       "      <td>...</td>\n",
       "      <td>...</td>\n",
       "      <td>...</td>\n",
       "      <td>...</td>\n",
       "      <td>...</td>\n",
       "      <td>...</td>\n",
       "      <td>...</td>\n",
       "    </tr>\n",
       "    <tr>\n",
       "      <th>6247</th>\n",
       "      <td>4</td>\n",
       "      <td>135.0</td>\n",
       "      <td>13</td>\n",
       "      <td>0.249998</td>\n",
       "      <td>0.249949</td>\n",
       "      <td>0.249999</td>\n",
       "      <td>2</td>\n",
       "      <td>0</td>\n",
       "      <td>2</td>\n",
       "      <td>1</td>\n",
       "      <td>0.249999</td>\n",
       "      <td>0.0</td>\n",
       "      <td>0.0</td>\n",
       "      <td>1.0</td>\n",
       "      <td>1.0</td>\n",
       "      <td>0.0</td>\n",
       "      <td>0.0</td>\n",
       "      <td>1.0</td>\n",
       "      <td>1.0</td>\n",
       "    </tr>\n",
       "    <tr>\n",
       "      <th>5303</th>\n",
       "      <td>1</td>\n",
       "      <td>230.0</td>\n",
       "      <td>399</td>\n",
       "      <td>0.249996</td>\n",
       "      <td>0.249998</td>\n",
       "      <td>0.250000</td>\n",
       "      <td>2</td>\n",
       "      <td>0</td>\n",
       "      <td>2</td>\n",
       "      <td>3</td>\n",
       "      <td>0.250000</td>\n",
       "      <td>0.0</td>\n",
       "      <td>0.0</td>\n",
       "      <td>1.0</td>\n",
       "      <td>1.0</td>\n",
       "      <td>0.0</td>\n",
       "      <td>0.0</td>\n",
       "      <td>1.0</td>\n",
       "      <td>0.0</td>\n",
       "    </tr>\n",
       "    <tr>\n",
       "      <th>12809</th>\n",
       "      <td>5</td>\n",
       "      <td>222.0</td>\n",
       "      <td>673</td>\n",
       "      <td>0.249998</td>\n",
       "      <td>0.249998</td>\n",
       "      <td>0.250000</td>\n",
       "      <td>2</td>\n",
       "      <td>0</td>\n",
       "      <td>2</td>\n",
       "      <td>3</td>\n",
       "      <td>0.250000</td>\n",
       "      <td>0.0</td>\n",
       "      <td>0.0</td>\n",
       "      <td>1.0</td>\n",
       "      <td>1.0</td>\n",
       "      <td>0.0</td>\n",
       "      <td>0.0</td>\n",
       "      <td>1.0</td>\n",
       "      <td>1.0</td>\n",
       "    </tr>\n",
       "    <tr>\n",
       "      <th>749</th>\n",
       "      <td>3</td>\n",
       "      <td>230.0</td>\n",
       "      <td>340</td>\n",
       "      <td>0.249811</td>\n",
       "      <td>0.249998</td>\n",
       "      <td>0.250000</td>\n",
       "      <td>5</td>\n",
       "      <td>0</td>\n",
       "      <td>3</td>\n",
       "      <td>2</td>\n",
       "      <td>0.250000</td>\n",
       "      <td>0.0</td>\n",
       "      <td>0.0</td>\n",
       "      <td>0.0</td>\n",
       "      <td>1.0</td>\n",
       "      <td>0.0</td>\n",
       "      <td>0.0</td>\n",
       "      <td>1.0</td>\n",
       "      <td>0.0</td>\n",
       "    </tr>\n",
       "    <tr>\n",
       "      <th>28283</th>\n",
       "      <td>1</td>\n",
       "      <td>135.0</td>\n",
       "      <td>178</td>\n",
       "      <td>0.249946</td>\n",
       "      <td>0.249998</td>\n",
       "      <td>0.249996</td>\n",
       "      <td>4</td>\n",
       "      <td>0</td>\n",
       "      <td>2</td>\n",
       "      <td>2</td>\n",
       "      <td>0.249999</td>\n",
       "      <td>1.0</td>\n",
       "      <td>0.0</td>\n",
       "      <td>0.0</td>\n",
       "      <td>0.0</td>\n",
       "      <td>0.0</td>\n",
       "      <td>0.0</td>\n",
       "      <td>1.0</td>\n",
       "      <td>0.0</td>\n",
       "    </tr>\n",
       "  </tbody>\n",
       "</table>\n",
       "<p>6828 rows × 19 columns</p>\n",
       "</div>"
      ],
      "text/plain": [
       "       dia_semana     br   km  municipio  tipo_acidente  \\\n",
       "31968           2  226.0  241   0.248964       0.249995   \n",
       "32067           6  316.0   80   0.246196       0.249949   \n",
       "2632            3  402.0   54   0.246761       0.249999   \n",
       "5658            1  135.0   34   0.249995       0.249949   \n",
       "24622           0  222.0  506   0.249756       0.249998   \n",
       "...           ...    ...  ...        ...            ...   \n",
       "6247            4  135.0   13   0.249998       0.249949   \n",
       "5303            1  230.0  399   0.249996       0.249998   \n",
       "12809           5  222.0  673   0.249998       0.249998   \n",
       "749             3  230.0  340   0.249811       0.249998   \n",
       "28283           1  135.0  178   0.249946       0.249998   \n",
       "\n",
       "       condicao_metereologica  pessoas  ignorados  veiculos  periodo_dia  \\\n",
       "31968                0.250000        2          1         2            1   \n",
       "32067                0.249996        2          0         2            3   \n",
       "2632                 0.250000        3          0         1            3   \n",
       "5658                 0.250000        3          0         2            2   \n",
       "24622                0.249996        2          0         2            3   \n",
       "...                       ...      ...        ...       ...          ...   \n",
       "6247                 0.249999        2          0         2            1   \n",
       "5303                 0.250000        2          0         2            3   \n",
       "12809                0.250000        2          0         2            3   \n",
       "749                  0.250000        5          0         3            2   \n",
       "28283                0.249996        4          0         2            2   \n",
       "\n",
       "       causa_acidente_grupo  classificacao_acidente_Com Vítimas Feridas  \\\n",
       "31968              0.249999                                         1.0   \n",
       "32067              0.249992                                         0.0   \n",
       "2632               0.249991                                         0.0   \n",
       "5658               0.249999                                         1.0   \n",
       "24622              0.250000                                         1.0   \n",
       "...                     ...                                         ...   \n",
       "6247               0.249999                                         0.0   \n",
       "5303               0.250000                                         0.0   \n",
       "12809              0.250000                                         0.0   \n",
       "749                0.250000                                         0.0   \n",
       "28283              0.249999                                         1.0   \n",
       "\n",
       "       classificacao_acidente_Ignorado  classificacao_acidente_Sem Vítimas  \\\n",
       "31968                              0.0                                 0.0   \n",
       "32067                              0.0                                 0.0   \n",
       "2632                               0.0                                 0.0   \n",
       "5658                               0.0                                 0.0   \n",
       "24622                              0.0                                 0.0   \n",
       "...                                ...                                 ...   \n",
       "6247                               0.0                                 1.0   \n",
       "5303                               0.0                                 1.0   \n",
       "12809                              0.0                                 1.0   \n",
       "749                                0.0                                 0.0   \n",
       "28283                              0.0                                 0.0   \n",
       "\n",
       "       sentido_via_Decrescente  sentido_via_Não Informado  \\\n",
       "31968                      0.0                        0.0   \n",
       "32067                      0.0                        0.0   \n",
       "2632                       0.0                        0.0   \n",
       "5658                       1.0                        0.0   \n",
       "24622                      1.0                        0.0   \n",
       "...                        ...                        ...   \n",
       "6247                       1.0                        0.0   \n",
       "5303                       1.0                        0.0   \n",
       "12809                      1.0                        0.0   \n",
       "749                        1.0                        0.0   \n",
       "28283                      0.0                        0.0   \n",
       "\n",
       "       tipo_pista_Múltipla  tipo_pista_Simples  uso_solo_Sim  \n",
       "31968                  0.0                 1.0           0.0  \n",
       "32067                  0.0                 1.0           1.0  \n",
       "2632                   0.0                 1.0           1.0  \n",
       "5658                   0.0                 1.0           0.0  \n",
       "24622                  0.0                 1.0           0.0  \n",
       "...                    ...                 ...           ...  \n",
       "6247                   0.0                 1.0           1.0  \n",
       "5303                   0.0                 1.0           0.0  \n",
       "12809                  0.0                 1.0           1.0  \n",
       "749                    0.0                 1.0           0.0  \n",
       "28283                  0.0                 1.0           0.0  \n",
       "\n",
       "[6828 rows x 19 columns]"
      ]
     },
     "execution_count": 7,
     "metadata": {},
     "output_type": "execute_result"
    }
   ],
   "source": [
    "X_test"
   ]
  },
  {
   "cell_type": "markdown",
   "metadata": {},
   "source": [
    "### Proximo passo: Desenvolvimento de pipeline de modelagem para classificação de gravidade de acidentes"
   ]
  },
  {
   "cell_type": "code",
   "execution_count": 8,
   "metadata": {},
   "outputs": [
    {
     "name": "stderr",
     "output_type": "stream",
     "text": [
      "2025-02-10 21:08:38,920 - pipeline - INFO - Iniciando pipeline completo de pré-processamento (usando dataset base)...\n",
      "2025-02-10 21:08:38,922 - pipeline - INFO - Iniciando coleta de dados...\n",
      "2025-02-10 21:08:38,923 - root - WARNING - Folder RoadSafeAI/files já existe. Não será feito novo download\n",
      "2025-02-10 21:08:38,924 - pipeline - INFO - Coleta de dados concluída com sucesso\n",
      "2025-02-10 21:08:38,925 - pipeline - INFO - Iniciando união dos datasets (usando dataset base)...\n",
      "2025-02-10 21:08:38,926 - data_collection.merge_datasets - INFO - 18 arquivos CSV encontrados para o período 2007-2024.\n",
      "2025-02-10 21:08:38,928 - data_collection.merge_datasets - INFO - Processando dataset do ano 2007: datatran2007.csv\n"
     ]
    },
    {
     "name": "stdout",
     "output_type": "stream",
     "text": [
      "FileName: datatran2007.csv\n",
      "FileName: datatran2008.csv\n",
      "FileName: datatran2009.csv\n",
      "FileName: datatran2010.csv\n",
      "FileName: datatran2011.csv\n",
      "FileName: datatran2012.csv\n",
      "FileName: datatran2013.csv\n",
      "FileName: datatran2014.csv\n",
      "FileName: datatran2015.csv\n",
      "FileName: datatran2016.csv\n",
      "FileName: datatran2017.csv\n",
      "FileName: datatran2018.csv\n",
      "FileName: datatran2019.csv\n",
      "FileName: datatran2020.csv\n",
      "FileName: datatran2021.csv\n",
      "FileName: datatran2022.csv\n",
      "FileName: datatran2023.csv\n",
      "FileName: datatran2024.csv\n",
      "FileName: datatran2007.csv\n"
     ]
    },
    {
     "name": "stderr",
     "output_type": "stream",
     "text": [
      "d:\\projetos\\roadSafeAi\\RoadSafeAI\\src\\data_collection\\file_read_pandas.py:16: DtypeWarning: Columns (5,6) have mixed types. Specify dtype option on import or set low_memory=False.\n",
      "  return pd.read_csv(file_path, encoding='cp1252', sep=';')\n",
      "2025-02-10 21:08:39,222 - data_collection.merge_datasets - INFO - Processando dataset do ano 2008: datatran2008.csv\n"
     ]
    },
    {
     "name": "stdout",
     "output_type": "stream",
     "text": [
      "FileName: datatran2008.csv\n"
     ]
    },
    {
     "name": "stderr",
     "output_type": "stream",
     "text": [
      "d:\\projetos\\roadSafeAi\\RoadSafeAI\\src\\data_collection\\file_read_pandas.py:16: DtypeWarning: Columns (5,6) have mixed types. Specify dtype option on import or set low_memory=False.\n",
      "  return pd.read_csv(file_path, encoding='cp1252', sep=';')\n",
      "2025-02-10 21:08:39,548 - data_collection.merge_datasets - INFO - Processando dataset do ano 2009: datatran2009.csv\n"
     ]
    },
    {
     "name": "stdout",
     "output_type": "stream",
     "text": [
      "FileName: datatran2009.csv\n"
     ]
    },
    {
     "name": "stderr",
     "output_type": "stream",
     "text": [
      "2025-02-10 21:08:39,916 - data_collection.merge_datasets - INFO - Processando dataset do ano 2010: datatran2010.csv\n"
     ]
    },
    {
     "name": "stdout",
     "output_type": "stream",
     "text": [
      "FileName: datatran2010.csv\n"
     ]
    },
    {
     "name": "stderr",
     "output_type": "stream",
     "text": [
      "2025-02-10 21:08:40,336 - data_collection.merge_datasets - INFO - Processando dataset do ano 2011: datatran2011.csv\n"
     ]
    },
    {
     "name": "stdout",
     "output_type": "stream",
     "text": [
      "FileName: datatran2011.csv\n"
     ]
    },
    {
     "name": "stderr",
     "output_type": "stream",
     "text": [
      "2025-02-10 21:08:40,835 - data_collection.merge_datasets - INFO - Processando dataset do ano 2012: datatran2012.csv\n"
     ]
    },
    {
     "name": "stdout",
     "output_type": "stream",
     "text": [
      "FileName: datatran2012.csv\n"
     ]
    },
    {
     "name": "stderr",
     "output_type": "stream",
     "text": [
      "d:\\projetos\\roadSafeAi\\RoadSafeAI\\src\\data_collection\\file_read_pandas.py:16: DtypeWarning: Columns (5,6) have mixed types. Specify dtype option on import or set low_memory=False.\n",
      "  return pd.read_csv(file_path, encoding='cp1252', sep=';')\n",
      "2025-02-10 21:08:41,296 - data_collection.merge_datasets - INFO - Processando dataset do ano 2013: datatran2013.csv\n"
     ]
    },
    {
     "name": "stdout",
     "output_type": "stream",
     "text": [
      "FileName: datatran2013.csv\n"
     ]
    },
    {
     "name": "stderr",
     "output_type": "stream",
     "text": [
      "2025-02-10 21:08:41,769 - data_collection.merge_datasets - INFO - Processando dataset do ano 2014: datatran2014.csv\n"
     ]
    },
    {
     "name": "stdout",
     "output_type": "stream",
     "text": [
      "FileName: datatran2014.csv\n"
     ]
    },
    {
     "name": "stderr",
     "output_type": "stream",
     "text": [
      "2025-02-10 21:08:42,178 - data_collection.merge_datasets - INFO - Processando dataset do ano 2015: datatran2015.csv\n"
     ]
    },
    {
     "name": "stdout",
     "output_type": "stream",
     "text": [
      "FileName: datatran2015.csv\n"
     ]
    },
    {
     "name": "stderr",
     "output_type": "stream",
     "text": [
      "2025-02-10 21:08:42,481 - data_collection.merge_datasets - INFO - Processando dataset do ano 2016: datatran2016.csv\n"
     ]
    },
    {
     "name": "stdout",
     "output_type": "stream",
     "text": [
      "FileName: datatran2016.csv\n"
     ]
    },
    {
     "name": "stderr",
     "output_type": "stream",
     "text": [
      "2025-02-10 21:08:42,725 - data_collection.merge_datasets - INFO - Processando dataset do ano 2017: datatran2017.csv\n"
     ]
    },
    {
     "name": "stdout",
     "output_type": "stream",
     "text": [
      "FileName: datatran2017.csv\n"
     ]
    },
    {
     "name": "stderr",
     "output_type": "stream",
     "text": [
      "2025-02-10 21:08:43,156 - data_collection.merge_datasets - INFO - Processando dataset do ano 2018: datatran2018.csv\n"
     ]
    },
    {
     "name": "stdout",
     "output_type": "stream",
     "text": [
      "FileName: datatran2018.csv\n"
     ]
    },
    {
     "name": "stderr",
     "output_type": "stream",
     "text": [
      "2025-02-10 21:08:43,483 - data_collection.merge_datasets - INFO - Processando dataset do ano 2019: datatran2019.csv\n"
     ]
    },
    {
     "name": "stdout",
     "output_type": "stream",
     "text": [
      "FileName: datatran2019.csv\n"
     ]
    },
    {
     "name": "stderr",
     "output_type": "stream",
     "text": [
      "2025-02-10 21:08:43,793 - data_collection.merge_datasets - INFO - Processando dataset do ano 2020: datatran2020.csv\n"
     ]
    },
    {
     "name": "stdout",
     "output_type": "stream",
     "text": [
      "FileName: datatran2020.csv\n"
     ]
    },
    {
     "name": "stderr",
     "output_type": "stream",
     "text": [
      "2025-02-10 21:08:44,058 - data_collection.merge_datasets - INFO - Processando dataset do ano 2021: datatran2021.csv\n"
     ]
    },
    {
     "name": "stdout",
     "output_type": "stream",
     "text": [
      "FileName: datatran2021.csv\n"
     ]
    },
    {
     "name": "stderr",
     "output_type": "stream",
     "text": [
      "2025-02-10 21:08:44,360 - data_collection.merge_datasets - INFO - Processando dataset do ano 2022: datatran2022.csv\n"
     ]
    },
    {
     "name": "stdout",
     "output_type": "stream",
     "text": [
      "FileName: datatran2022.csv\n"
     ]
    },
    {
     "name": "stderr",
     "output_type": "stream",
     "text": [
      "2025-02-10 21:08:44,660 - data_collection.merge_datasets - INFO - Processando dataset do ano 2023: datatran2023.csv\n"
     ]
    },
    {
     "name": "stdout",
     "output_type": "stream",
     "text": [
      "FileName: datatran2023.csv\n"
     ]
    },
    {
     "name": "stderr",
     "output_type": "stream",
     "text": [
      "2025-02-10 21:08:44,955 - data_collection.merge_datasets - INFO - Processando dataset do ano 2024: datatran2024.csv\n"
     ]
    },
    {
     "name": "stdout",
     "output_type": "stream",
     "text": [
      "FileName: datatran2024.csv\n"
     ]
    },
    {
     "name": "stderr",
     "output_type": "stream",
     "text": [
      "2025-02-10 21:08:45,314 - data_collection.merge_datasets - INFO - Total de registros do Maranhão: 34153\n",
      "2025-02-10 21:08:45,563 - data_collection.merge_datasets - INFO - Dataset do Maranhão unificado salvo em D:\\projetos\\roadSafeAi\\RoadSafeAI\\files\\processed\\maranhao\\datatran_ma_merged_base_2007_2024.csv\n",
      "2025-02-10 21:08:45,565 - data_collection.merge_datasets - INFO - Metadados do Maranhão salvos em D:\\projetos\\roadSafeAi\\RoadSafeAI\\files\\processed\\maranhao\\metadata_ma.txt\n",
      "2025-02-10 21:08:45,567 - data_collection.merge_datasets - INFO - 8 arquivos CSV encontrados para o período 2017-2024.\n",
      "2025-02-10 21:08:45,567 - data_collection.merge_datasets - INFO - Processando dataset do ano 2017: datatran2017.csv\n"
     ]
    },
    {
     "name": "stdout",
     "output_type": "stream",
     "text": [
      "FileName: datatran2007.csv\n",
      "FileName: datatran2008.csv\n",
      "FileName: datatran2009.csv\n",
      "FileName: datatran2010.csv\n",
      "FileName: datatran2011.csv\n",
      "FileName: datatran2012.csv\n",
      "FileName: datatran2013.csv\n",
      "FileName: datatran2014.csv\n",
      "FileName: datatran2015.csv\n",
      "FileName: datatran2016.csv\n",
      "FileName: datatran2017.csv\n",
      "FileName: datatran2018.csv\n",
      "FileName: datatran2019.csv\n",
      "FileName: datatran2020.csv\n",
      "FileName: datatran2021.csv\n",
      "FileName: datatran2022.csv\n",
      "FileName: datatran2023.csv\n",
      "FileName: datatran2024.csv\n",
      "FileName: datatran2017.csv\n"
     ]
    },
    {
     "name": "stderr",
     "output_type": "stream",
     "text": [
      "2025-02-10 21:08:45,954 - data_collection.merge_datasets - INFO - Processando dataset do ano 2018: datatran2018.csv\n"
     ]
    },
    {
     "name": "stdout",
     "output_type": "stream",
     "text": [
      "FileName: datatran2018.csv\n"
     ]
    },
    {
     "name": "stderr",
     "output_type": "stream",
     "text": [
      "2025-02-10 21:08:46,297 - data_collection.merge_datasets - INFO - Processando dataset do ano 2019: datatran2019.csv\n"
     ]
    },
    {
     "name": "stdout",
     "output_type": "stream",
     "text": [
      "FileName: datatran2019.csv\n"
     ]
    },
    {
     "name": "stderr",
     "output_type": "stream",
     "text": [
      "2025-02-10 21:08:46,600 - data_collection.merge_datasets - INFO - Processando dataset do ano 2020: datatran2020.csv\n"
     ]
    },
    {
     "name": "stdout",
     "output_type": "stream",
     "text": [
      "FileName: datatran2020.csv\n"
     ]
    },
    {
     "name": "stderr",
     "output_type": "stream",
     "text": [
      "2025-02-10 21:08:46,920 - data_collection.merge_datasets - INFO - Processando dataset do ano 2021: datatran2021.csv\n"
     ]
    },
    {
     "name": "stdout",
     "output_type": "stream",
     "text": [
      "FileName: datatran2021.csv\n"
     ]
    },
    {
     "name": "stderr",
     "output_type": "stream",
     "text": [
      "2025-02-10 21:08:47,204 - data_collection.merge_datasets - INFO - Processando dataset do ano 2022: datatran2022.csv\n"
     ]
    },
    {
     "name": "stdout",
     "output_type": "stream",
     "text": [
      "FileName: datatran2022.csv\n"
     ]
    },
    {
     "name": "stderr",
     "output_type": "stream",
     "text": [
      "2025-02-10 21:08:47,513 - data_collection.merge_datasets - INFO - Processando dataset do ano 2023: datatran2023.csv\n"
     ]
    },
    {
     "name": "stdout",
     "output_type": "stream",
     "text": [
      "FileName: datatran2023.csv\n"
     ]
    },
    {
     "name": "stderr",
     "output_type": "stream",
     "text": [
      "2025-02-10 21:08:47,822 - data_collection.merge_datasets - INFO - Processando dataset do ano 2024: datatran2024.csv\n"
     ]
    },
    {
     "name": "stdout",
     "output_type": "stream",
     "text": [
      "FileName: datatran2024.csv\n"
     ]
    },
    {
     "name": "stderr",
     "output_type": "stream",
     "text": [
      "2025-02-10 21:08:48,139 - data_collection.merge_datasets - INFO - Total de registros do Maranhão: 9609\n",
      "2025-02-10 21:08:48,236 - data_collection.merge_datasets - INFO - Dataset do Maranhão unificado salvo em D:\\projetos\\roadSafeAi\\RoadSafeAI\\files\\processed\\maranhao\\datatran_ma_merged_complete_2017_2024.csv\n",
      "2025-02-10 21:08:48,238 - data_collection.merge_datasets - INFO - Metadados do Maranhão salvos em D:\\projetos\\roadSafeAi\\RoadSafeAI\\files\\processed\\maranhao\\metadata_ma.txt\n",
      "2025-02-10 21:08:48,239 - pipeline - INFO - Dataset base selecionado:\n",
      "2025-02-10 21:08:48,239 - pipeline - INFO - Dimensões: (34153, 25)\n",
      "2025-02-10 21:08:48,241 - pipeline - INFO - Período: 2007-01-01 00:00:00 até 2024-12-31 00:00:00\n",
      "2025-02-10 21:08:48,241 - pipeline - INFO - Colunas: ['id', 'data_inversa', 'dia_semana', 'horario', 'uf', 'br', 'km', 'municipio', 'causa_acidente', 'tipo_acidente', 'classificacao_acidente', 'fase_dia', 'sentido_via', 'condicao_metereologica', 'tipo_pista', 'tracado_via', 'uso_solo', 'pessoas', 'mortos', 'feridos_leves', 'feridos_graves', 'ilesos', 'ignorados', 'feridos', 'veiculos']\n",
      "2025-02-10 21:08:48,243 - pipeline - INFO - Iniciando limpeza de dados...\n",
      "2025-02-10 21:08:48,244 - preprocessing.data_cleaning_01 - INFO - Iniciando processo de limpeza do dataset...\n",
      "2025-02-10 21:08:48,247 - preprocessing.data_cleaning_01 - INFO - Colunas removidas: ['id', 'uf', 'tracado_via', 'feridos', 'fase_dia']\n",
      "d:\\projetos\\roadSafeAi\\RoadSafeAI\\src\\preprocessing\\data_cleaning_01.py:52: UserWarning: Boolean Series key will be reindexed to match DataFrame index.\n",
      "  df_clean = df_clean[~mascara_espacos['remove']]\n",
      "2025-02-10 21:08:48,426 - preprocessing.data_cleaning_01 - INFO - Estatísticas de limpeza:\n",
      "2025-02-10 21:08:48,427 - preprocessing.data_cleaning_01 - INFO - - Linhas no dataset original: 34153\n",
      "2025-02-10 21:08:48,427 - preprocessing.data_cleaning_01 - INFO - - Linhas removidas: 3\n",
      "2025-02-10 21:08:48,428 - preprocessing.data_cleaning_01 - INFO - - Percentual removido: 0.0088%\n",
      "2025-02-10 21:08:48,429 - preprocessing.data_cleaning_01 - INFO - - Linhas no dataset final: 34150\n",
      "2025-02-10 21:08:48,460 - preprocessing.data_cleaning_01 - INFO - Removidos 13 registros duplicados.\n",
      "2025-02-10 21:08:48,462 - preprocessing.data_cleaning_01 - INFO - Processo de limpeza concluído com sucesso!\n",
      "2025-02-10 21:08:48,465 - pipeline - INFO - Iniciando padronização de dados...\n",
      "2025-02-10 21:08:48,466 - preprocessing.data_standardize_02 - INFO - Iniciando padronização do dataset...\n",
      "2025-02-10 21:08:48,503 - preprocessing.data_standardize_02 - INFO - Coluna km padronizada. Range: [0, 684]\n",
      "2025-02-10 21:08:48,534 - preprocessing.data_standardize_02 - INFO - Coluna pessoas padronizada. Range: [1, 54]\n",
      "2025-02-10 21:08:48,565 - preprocessing.data_standardize_02 - INFO - Coluna mortos padronizada. Range: [0, 11]\n",
      "2025-02-10 21:08:48,596 - preprocessing.data_standardize_02 - INFO - Coluna feridos_leves padronizada. Range: [0, 37]\n",
      "2025-02-10 21:08:48,626 - preprocessing.data_standardize_02 - INFO - Coluna feridos_graves padronizada. Range: [0, 20]\n",
      "2025-02-10 21:08:48,656 - preprocessing.data_standardize_02 - INFO - Coluna ilesos padronizada. Range: [0, 49]\n",
      "2025-02-10 21:08:48,685 - preprocessing.data_standardize_02 - INFO - Coluna ignorados padronizada. Range: [0, 35]\n",
      "2025-02-10 21:08:48,717 - preprocessing.data_standardize_02 - INFO - Coluna veiculos padronizada. Range: [1, 17]\n",
      "2025-02-10 21:08:48,718 - preprocessing.data_standardize_02 - INFO - Valores numéricos padronizados\n",
      "2025-02-10 21:08:48,733 - preprocessing.data_standardize_02 - INFO - Coluna data_inversa convertida para datetime e renomeada para 'data'\n",
      "2025-02-10 21:08:48,749 - preprocessing.data_standardize_02 - INFO - Distribuição dos períodos do dia:\n",
      "2025-02-10 21:08:48,749 - preprocessing.data_standardize_02 - INFO - - tarde: 11467\n",
      "2025-02-10 21:08:48,750 - preprocessing.data_standardize_02 - INFO - - manha: 9587\n",
      "2025-02-10 21:08:48,751 - preprocessing.data_standardize_02 - INFO - - noite: 9393\n",
      "2025-02-10 21:08:48,752 - preprocessing.data_standardize_02 - INFO - - madrugada: 3690\n",
      "2025-02-10 21:08:48,753 - preprocessing.data_standardize_02 - INFO - Valores temporais padronizados\n",
      "2025-02-10 21:08:48,761 - preprocessing.data_standardize_02 - INFO - Valores únicos originais em uso_solo: ['Rural' 'Urbano' 'Não' 'Sim']\n",
      "2025-02-10 21:08:48,767 - preprocessing.data_standardize_02 - INFO - Valores únicos após padronização em uso_solo: ['Não' 'Sim']\n",
      "2025-02-10 21:08:48,770 - preprocessing.data_standardize_02 - INFO - Coluna uso_solo padronizada\n",
      "2025-02-10 21:08:48,778 - preprocessing.data_standardize_02 - INFO - Valores únicos originais em dia_semana: ['Segunda' 'Quinta' 'Domingo' 'Terça' 'Sexta' 'Quarta' 'Sábado' 'domingo'\n",
      " 'segunda-feira' 'terça-feira' 'quarta-feira' 'quinta-feira' 'sexta-feira'\n",
      " 'sábado']\n",
      "2025-02-10 21:08:48,790 - preprocessing.data_standardize_02 - INFO - Valores únicos após padronização em dia_semana: ['segunda-feira' 'quinta-feira' 'domingo' 'terca-feira' 'sexta-feira'\n",
      " 'quarta-feira' 'sabado']\n",
      "2025-02-10 21:08:48,793 - preprocessing.data_standardize_02 - INFO - Coluna dia_semana padronizada\n",
      "2025-02-10 21:08:48,796 - pipeline - INFO - Iniciando engenharia de features...\n",
      "2025-02-10 21:08:48,797 - preprocessing.feature_engineering_03 - INFO - Iniciando criação de novas features...\n",
      "2025-02-10 21:08:48,820 - preprocessing.feature_engineering_03 - INFO - Distribuição dos períodos do dia:\n",
      "2025-02-10 21:08:48,826 - preprocessing.feature_engineering_03 - INFO - Removendo horario exato, adotado periodo do dia:\n",
      "2025-02-10 21:08:48,827 - preprocessing.feature_engineering_03 - INFO - - tarde: 11467 registros\n",
      "2025-02-10 21:08:48,827 - preprocessing.feature_engineering_03 - INFO - - manha: 9587 registros\n",
      "2025-02-10 21:08:48,828 - preprocessing.feature_engineering_03 - INFO - - noite: 9393 registros\n",
      "2025-02-10 21:08:48,829 - preprocessing.feature_engineering_03 - INFO - - madrugada: 3690 registros\n",
      "2025-02-10 21:08:48,829 - preprocessing.feature_engineering_03 - INFO - Feature 'periodo_dia' criada com sucesso\n",
      "2025-02-10 21:08:49,120 - preprocessing.feature_engineering_03 - INFO - Distribuição das gravidades dos acidentes:\n",
      "2025-02-10 21:08:49,120 - preprocessing.feature_engineering_03 - INFO - - sem_vitimas: 14641 registros\n",
      "2025-02-10 21:08:49,121 - preprocessing.feature_engineering_03 - INFO - - leve: 13938 registros\n",
      "2025-02-10 21:08:49,121 - preprocessing.feature_engineering_03 - INFO - - fatal: 3886 registros\n",
      "2025-02-10 21:08:49,122 - preprocessing.feature_engineering_03 - INFO - - grave: 1672 registros\n",
      "2025-02-10 21:08:49,124 - preprocessing.feature_engineering_03 - INFO - Feature 'gravidade_acidente' criada com sucesso\n",
      "2025-02-10 21:08:49,137 - preprocessing.feature_engineering_03 - INFO - Distribuição final das causas agrupadas:\n",
      "2025-02-10 21:08:49,138 - preprocessing.feature_engineering_03 - INFO - - falha_atencao: 11127 registros\n",
      "2025-02-10 21:08:49,140 - preprocessing.feature_engineering_03 - INFO - - outros: 11088 registros\n",
      "2025-02-10 21:08:49,140 - preprocessing.feature_engineering_03 - INFO - - comportamento_risco: 5384 registros\n",
      "2025-02-10 21:08:49,141 - preprocessing.feature_engineering_03 - INFO - - fatores_externos_animais: 1987 registros\n",
      "2025-02-10 21:08:49,141 - preprocessing.feature_engineering_03 - INFO - - problemas_tecnicos_via: 1292 registros\n",
      "2025-02-10 21:08:49,142 - preprocessing.feature_engineering_03 - INFO - - problemas_tecnicos_veiculo: 1231 registros\n",
      "2025-02-10 21:08:49,143 - preprocessing.feature_engineering_03 - INFO - - condutor_alcool_drogas: 1114 registros\n",
      "2025-02-10 21:08:49,143 - preprocessing.feature_engineering_03 - INFO - - condutor_fadiga: 884 registros\n",
      "2025-02-10 21:08:49,143 - preprocessing.feature_engineering_03 - INFO - - fatores_ambientais: 30 registros\n",
      "2025-02-10 21:08:49,145 - preprocessing.feature_engineering_03 - INFO - Feature 'causa_acidente_grupo' criada com sucesso\n",
      "2025-02-10 21:08:49,146 - preprocessing.feature_engineering_03 - INFO - Todas as features foram criadas com sucesso!\n",
      "2025-02-10 21:08:49,311 - preprocessing.feature_engineering_03 - INFO - Dataset processado salvo em: d:\\projetos\\roadSafeAi\\RoadSafeAI\\files\\processed\\datatran_ma_processado.csv\n",
      "2025-02-10 21:08:49,313 - pipeline - INFO - Ajustando codificador de dados...\n",
      "2025-02-10 21:08:49,314 - preprocessing.data_encoding_04 - INFO - Iniciando fit dos encoders...\n",
      "2025-02-10 21:08:49,324 - preprocessing.data_encoding_04 - INFO - Removidas as colunas: ['feridos_graves', 'mortos', 'feridos_leves', 'ilesos']\n",
      "2025-02-10 21:08:49,330 - preprocessing.data_encoding_04 - INFO - Coluna municipio: 110 valores únicos\n",
      "2025-02-10 21:08:49,333 - preprocessing.data_encoding_04 - INFO - Coluna causa_acidente: 92 valores únicos\n",
      "2025-02-10 21:08:49,336 - preprocessing.data_encoding_04 - INFO - Coluna tipo_acidente: 30 valores únicos\n",
      "2025-02-10 21:08:49,338 - preprocessing.data_encoding_04 - INFO - Coluna classificacao_acidente: 4 valores únicos\n",
      "2025-02-10 21:08:49,341 - preprocessing.data_encoding_04 - INFO - Coluna sentido_via: 3 valores únicos\n",
      "2025-02-10 21:08:49,343 - preprocessing.data_encoding_04 - INFO - Coluna condicao_metereologica: 13 valores únicos\n",
      "2025-02-10 21:08:49,345 - preprocessing.data_encoding_04 - INFO - Coluna tipo_pista: 3 valores únicos\n",
      "2025-02-10 21:08:49,347 - preprocessing.data_encoding_04 - INFO - Coluna uso_solo: 2 valores únicos\n",
      "2025-02-10 21:08:49,350 - preprocessing.data_encoding_04 - INFO - Coluna causa_acidente_grupo: 9 valores únicos\n",
      "2025-02-10 21:08:49,352 - preprocessing.data_encoding_04 - INFO - Label Encoder ajustado para periodo_dia\n",
      "2025-02-10 21:08:49,352 - preprocessing.data_encoding_04 - INFO - Label Encoder ajustado para dia_semana\n",
      "2025-02-10 21:08:49,388 - preprocessing.data_encoding_04 - INFO - OneHot Encoder ajustado para ['classificacao_acidente', 'sentido_via', 'tipo_pista', 'uso_solo']\n",
      "2025-02-10 21:08:49,466 - preprocessing.data_encoding_04 - INFO - Target Encoder ajustado para municipio\n",
      "2025-02-10 21:08:49,539 - preprocessing.data_encoding_04 - INFO - Target Encoder ajustado para causa_acidente\n",
      "2025-02-10 21:08:49,600 - preprocessing.data_encoding_04 - INFO - Target Encoder ajustado para tipo_acidente\n",
      "2025-02-10 21:08:49,675 - preprocessing.data_encoding_04 - INFO - Target Encoder ajustado para condicao_metereologica\n",
      "2025-02-10 21:08:49,737 - preprocessing.data_encoding_04 - INFO - Target Encoder ajustado para causa_acidente_grupo\n",
      "2025-02-10 21:08:49,739 - pipeline - INFO - Iniciando codificação de dados...\n",
      "2025-02-10 21:08:49,747 - preprocessing.data_encoding_04 - INFO - Removidas as colunas: ['feridos_graves', 'mortos', 'feridos_leves', 'ilesos']\n",
      "2025-02-10 21:08:49,762 - preprocessing.data_encoding_04 - INFO - Label Encoding aplicado em periodo_dia\n",
      "2025-02-10 21:08:49,777 - preprocessing.data_encoding_04 - INFO - Label Encoding aplicado em dia_semana\n",
      "2025-02-10 21:08:49,808 - preprocessing.data_encoding_04 - INFO - OneHot Encoding aplicado em ['classificacao_acidente', 'sentido_via', 'tipo_pista', 'uso_solo']\n",
      "2025-02-10 21:08:49,816 - preprocessing.data_encoding_04 - INFO - Target Encoding aplicado em municipio\n",
      "2025-02-10 21:08:49,824 - preprocessing.data_encoding_04 - INFO - Target Encoding aplicado em causa_acidente\n",
      "2025-02-10 21:08:49,831 - preprocessing.data_encoding_04 - INFO - Target Encoding aplicado em tipo_acidente\n",
      "2025-02-10 21:08:49,837 - preprocessing.data_encoding_04 - INFO - Target Encoding aplicado em condicao_metereologica\n",
      "2025-02-10 21:08:49,847 - preprocessing.data_encoding_04 - INFO - Target Encoding aplicado em causa_acidente_grupo\n",
      "2025-02-10 21:08:49,849 - pipeline - INFO - Dimensões após pré-processamento: (34137, 22)\n",
      "2025-02-10 21:08:49,850 - preprocessing.data_split_05 - INFO - Iniciando preparação dos dados...\n",
      "2025-02-10 21:08:49,855 - preprocessing.data_split_05 - INFO - Colunas removidas: ['data', 'causa_acidente']\n",
      "2025-02-10 21:08:49,856 - preprocessing.data_split_05 - INFO - Distribuição inicial das classes:\n",
      "2025-02-10 21:08:49,859 - preprocessing.data_split_05 - INFO - \n",
      "Distribuição das classes:\n",
      "2025-02-10 21:08:49,860 - preprocessing.data_split_05 - INFO - - Classe sem_vitimas: 42.89%\n",
      "2025-02-10 21:08:49,861 - preprocessing.data_split_05 - INFO - - Classe leve: 40.83%\n",
      "2025-02-10 21:08:49,863 - preprocessing.data_split_05 - INFO - - Classe fatal: 11.38%\n",
      "2025-02-10 21:08:49,863 - preprocessing.data_split_05 - INFO - - Classe grave: 4.90%\n",
      "2025-02-10 21:08:49,898 - preprocessing.data_split_05 - INFO - \n",
      "Dimensões dos conjuntos:\n",
      "2025-02-10 21:08:49,899 - preprocessing.data_split_05 - INFO - - Treino: (20481, 19)\n",
      "2025-02-10 21:08:49,900 - preprocessing.data_split_05 - INFO - - Validação: (6828, 19)\n",
      "2025-02-10 21:08:49,901 - preprocessing.data_split_05 - INFO - - Teste: (6828, 19)\n",
      "2025-02-10 21:08:49,903 - preprocessing.data_split_05 - INFO - \n",
      "Distribuição das classes - Treino:\n",
      "2025-02-10 21:08:49,903 - preprocessing.data_split_05 - INFO - - Classe sem_vitimas: 42.89%\n",
      "2025-02-10 21:08:49,904 - preprocessing.data_split_05 - INFO - - Classe leve: 40.83%\n",
      "2025-02-10 21:08:49,905 - preprocessing.data_split_05 - INFO - - Classe fatal: 11.39%\n",
      "2025-02-10 21:08:49,905 - preprocessing.data_split_05 - INFO - - Classe grave: 4.90%\n",
      "2025-02-10 21:08:49,907 - preprocessing.data_split_05 - INFO - \n",
      "Distribuição das classes - Validação:\n",
      "2025-02-10 21:08:49,907 - preprocessing.data_split_05 - INFO - - Classe sem_vitimas: 42.88%\n",
      "2025-02-10 21:08:49,908 - preprocessing.data_split_05 - INFO - - Classe leve: 40.83%\n",
      "2025-02-10 21:08:49,909 - preprocessing.data_split_05 - INFO - - Classe fatal: 11.38%\n",
      "2025-02-10 21:08:49,909 - preprocessing.data_split_05 - INFO - - Classe grave: 4.91%\n",
      "2025-02-10 21:08:49,910 - preprocessing.data_split_05 - INFO - \n",
      "Distribuição das classes - Teste:\n",
      "2025-02-10 21:08:49,912 - preprocessing.data_split_05 - INFO - - Classe sem_vitimas: 42.90%\n",
      "2025-02-10 21:08:49,912 - preprocessing.data_split_05 - INFO - - Classe leve: 40.83%\n",
      "2025-02-10 21:08:49,913 - preprocessing.data_split_05 - INFO - - Classe fatal: 11.38%\n",
      "2025-02-10 21:08:49,914 - preprocessing.data_split_05 - INFO - - Classe grave: 4.89%\n",
      "2025-02-10 21:08:49,915 - preprocessing.data_split_05 - INFO - Preparação dos dados concluída!\n",
      "2025-02-10 21:08:49,923 - pipeline - INFO - Tipos de dados após conversão:\n",
      "2025-02-10 21:08:49,924 - pipeline - INFO - - dia_semana: int32\n",
      "2025-02-10 21:08:49,925 - pipeline - INFO - - br: float64\n",
      "2025-02-10 21:08:49,925 - pipeline - INFO - - km: int32\n",
      "2025-02-10 21:08:49,926 - pipeline - INFO - - municipio: float64\n",
      "2025-02-10 21:08:49,927 - pipeline - INFO - - tipo_acidente: float64\n",
      "2025-02-10 21:08:49,928 - pipeline - INFO - - condicao_metereologica: float64\n",
      "2025-02-10 21:08:49,928 - pipeline - INFO - - pessoas: int32\n",
      "2025-02-10 21:08:49,929 - pipeline - INFO - - ignorados: int32\n",
      "2025-02-10 21:08:49,929 - pipeline - INFO - - veiculos: int32\n",
      "2025-02-10 21:08:49,930 - pipeline - INFO - - periodo_dia: int32\n",
      "2025-02-10 21:08:49,930 - pipeline - INFO - - causa_acidente_grupo: float64\n",
      "2025-02-10 21:08:49,931 - pipeline - INFO - - classificacao_acidente_Com Vítimas Feridas: float64\n",
      "2025-02-10 21:08:49,931 - pipeline - INFO - - classificacao_acidente_Ignorado: float64\n",
      "2025-02-10 21:08:49,932 - pipeline - INFO - - classificacao_acidente_Sem Vítimas: float64\n",
      "2025-02-10 21:08:49,933 - pipeline - INFO - - sentido_via_Decrescente: float64\n",
      "2025-02-10 21:08:49,934 - pipeline - INFO - - sentido_via_Não Informado: float64\n",
      "2025-02-10 21:08:49,935 - pipeline - INFO - - tipo_pista_Múltipla: float64\n",
      "2025-02-10 21:08:49,935 - pipeline - INFO - - tipo_pista_Simples: float64\n",
      "2025-02-10 21:08:49,936 - pipeline - INFO - - uso_solo_Sim: float64\n",
      "2025-02-10 21:08:49,936 - pipeline - INFO - Aplicando estratégia de balanceamento smote...\n",
      "2025-02-10 21:08:49,937 - preprocessing.data_balancing_06 - INFO - Aplicando SMOTE...\n",
      "2025-02-10 21:08:49,939 - preprocessing.data_balancing_06 - INFO - \n",
      "Distribuição das classes - antes do SMOTE:\n",
      "2025-02-10 21:08:49,940 - preprocessing.data_balancing_06 - INFO - - Classe sem_vitimas: 8784 amostras (42.89%)\n",
      "2025-02-10 21:08:49,941 - preprocessing.data_balancing_06 - INFO - - Classe leve: 8362 amostras (40.83%)\n",
      "2025-02-10 21:08:49,941 - preprocessing.data_balancing_06 - INFO - - Classe fatal: 2332 amostras (11.39%)\n",
      "2025-02-10 21:08:49,942 - preprocessing.data_balancing_06 - INFO - - Classe grave: 1003 amostras (4.90%)\n",
      "d:\\projetos\\roadSafeAi\\RoadSafeAI\\env\\lib\\site-packages\\sklearn\\base.py:474: FutureWarning: `BaseEstimator._validate_data` is deprecated in 1.6 and will be removed in 1.7. Use `sklearn.utils.validation.validate_data` instead. This function becomes public and is part of the scikit-learn developer API.\n",
      "  warnings.warn(\n",
      "2025-02-10 21:08:50,263 - preprocessing.data_balancing_06 - INFO - \n",
      "Distribuição das classes - após SMOTE:\n",
      "2025-02-10 21:08:50,264 - preprocessing.data_balancing_06 - INFO - - Classe grave: 8784 amostras (25.00%)\n",
      "2025-02-10 21:08:50,266 - preprocessing.data_balancing_06 - INFO - - Classe leve: 8784 amostras (25.00%)\n",
      "2025-02-10 21:08:50,267 - preprocessing.data_balancing_06 - INFO - - Classe sem_vitimas: 8784 amostras (25.00%)\n",
      "2025-02-10 21:08:50,267 - preprocessing.data_balancing_06 - INFO - - Classe fatal: 8784 amostras (25.00%)\n",
      "2025-02-10 21:08:50,272 - model_pipeline - INFO - \n",
      "Processando modelo: Decision Tree\n",
      "2025-02-10 21:08:50,272 - model.model_trainer - INFO - Iniciando treinamento do modelo Decision Tree...\n",
      "2025-02-10 21:08:50,425 - model.model_trainer - INFO - Treinamento do modelo Decision Tree finalizado\n",
      "2025-02-10 21:08:50,426 - model.model_trainer - INFO - Avaliando modelo Decision Tree no treino...\n",
      "2025-02-10 21:08:50,761 - model.model_trainer - INFO - Métricas do modelo Decision Tree no treino:\n",
      "2025-02-10 21:08:50,762 - model.model_trainer - INFO - - accuracy: 0.9999\n",
      "2025-02-10 21:08:50,762 - model.model_trainer - INFO - - precision: 0.9999\n",
      "2025-02-10 21:08:50,763 - model.model_trainer - INFO - - recall: 0.9999\n",
      "2025-02-10 21:08:50,764 - model.model_trainer - INFO - - f1: 0.9999\n",
      "2025-02-10 21:08:50,764 - model.model_trainer - INFO - - roc_auc: 1.0000\n",
      "2025-02-10 21:08:50,765 - model.model_trainer - INFO - Avaliando modelo Decision Tree no validação...\n",
      "2025-02-10 21:08:50,829 - model.model_trainer - INFO - Métricas do modelo Decision Tree no validação:\n",
      "2025-02-10 21:08:50,830 - model.model_trainer - INFO - - accuracy: 0.9291\n",
      "2025-02-10 21:08:50,831 - model.model_trainer - INFO - - precision: 0.9394\n",
      "2025-02-10 21:08:50,832 - model.model_trainer - INFO - - recall: 0.9291\n",
      "2025-02-10 21:08:50,832 - model.model_trainer - INFO - - f1: 0.9337\n",
      "2025-02-10 21:08:50,833 - model.model_trainer - INFO - - roc_auc: 0.9068\n",
      "2025-02-10 21:08:50,834 - model.model_trainer - INFO - Avaliando modelo Decision Tree no teste...\n",
      "2025-02-10 21:08:50,896 - model.model_trainer - INFO - Métricas do modelo Decision Tree no teste:\n",
      "2025-02-10 21:08:50,897 - model.model_trainer - INFO - - accuracy: 0.9269\n",
      "2025-02-10 21:08:50,897 - model.model_trainer - INFO - - precision: 0.9374\n",
      "2025-02-10 21:08:50,899 - model.model_trainer - INFO - - recall: 0.9269\n",
      "2025-02-10 21:08:50,899 - model.model_trainer - INFO - - f1: 0.9316\n",
      "2025-02-10 21:08:50,900 - model.model_trainer - INFO - - roc_auc: 0.9030\n",
      "2025-02-10 21:08:50,900 - model.model_trainer - INFO - Realizando validação cruzada do modelo Decision Tree...\n",
      "2025-02-10 21:08:51,688 - model.model_trainer - INFO - Resultados da validação cruzada (5 folds):\n",
      "2025-02-10 21:08:51,689 - model.model_trainer - INFO - - Média f1_weighted: 0.9401 (+/- 0.0566)\n",
      "2025-02-10 21:08:51,694 - model.model_result_saver - INFO - Metricas salvas em: model_results\\20250210_210838\\Decision_Tree\\metrics.json\n",
      "2025-02-10 21:08:52,525 - model.model_result_saver - INFO - Plots salvos em: model_results\\20250210_210838\\Decision_Tree\n",
      "2025-02-10 21:08:52,527 - model.model_result_saver - INFO - Resumo do modelo salvo em: model_results\\20250210_210838\\Decision_Tree\\model_summary.txt\n",
      "2025-02-10 21:08:52,528 - model_pipeline - INFO - \n",
      "Processando modelo: Random Forest\n",
      "2025-02-10 21:08:52,528 - model.model_trainer - INFO - Iniciando treinamento do modelo Random Forest...\n",
      "2025-02-10 21:08:52,990 - model.model_trainer - INFO - Treinamento do modelo Random Forest finalizado\n",
      "2025-02-10 21:08:52,992 - model.model_trainer - INFO - Avaliando modelo Random Forest no treino...\n",
      "2025-02-10 21:08:53,447 - model.model_trainer - INFO - Métricas do modelo Random Forest no treino:\n",
      "2025-02-10 21:08:53,448 - model.model_trainer - INFO - - accuracy: 0.9999\n",
      "2025-02-10 21:08:53,448 - model.model_trainer - INFO - - precision: 0.9999\n",
      "2025-02-10 21:08:53,449 - model.model_trainer - INFO - - recall: 0.9999\n",
      "2025-02-10 21:08:53,450 - model.model_trainer - INFO - - f1: 0.9999\n",
      "2025-02-10 21:08:53,450 - model.model_trainer - INFO - - roc_auc: 1.0000\n",
      "2025-02-10 21:08:53,451 - model.model_trainer - INFO - Avaliando modelo Random Forest no validação...\n",
      "2025-02-10 21:08:53,577 - model.model_trainer - INFO - Métricas do modelo Random Forest no validação:\n",
      "2025-02-10 21:08:53,578 - model.model_trainer - INFO - - accuracy: 0.9515\n",
      "2025-02-10 21:08:53,579 - model.model_trainer - INFO - - precision: 0.9468\n",
      "2025-02-10 21:08:53,579 - model.model_trainer - INFO - - recall: 0.9515\n",
      "2025-02-10 21:08:53,580 - model.model_trainer - INFO - - f1: 0.9487\n",
      "2025-02-10 21:08:53,580 - model.model_trainer - INFO - - roc_auc: 0.9792\n",
      "2025-02-10 21:08:53,581 - model.model_trainer - INFO - Avaliando modelo Random Forest no teste...\n",
      "2025-02-10 21:08:53,694 - model.model_trainer - INFO - Métricas do modelo Random Forest no teste:\n",
      "2025-02-10 21:08:53,695 - model.model_trainer - INFO - - accuracy: 0.9474\n",
      "2025-02-10 21:08:53,696 - model.model_trainer - INFO - - precision: 0.9422\n",
      "2025-02-10 21:08:53,697 - model.model_trainer - INFO - - recall: 0.9474\n",
      "2025-02-10 21:08:53,697 - model.model_trainer - INFO - - f1: 0.9444\n",
      "2025-02-10 21:08:53,699 - model.model_trainer - INFO - - roc_auc: 0.9794\n",
      "2025-02-10 21:08:53,699 - model.model_trainer - INFO - Realizando validação cruzada do modelo Random Forest...\n",
      "2025-02-10 21:08:56,145 - model.model_trainer - INFO - Resultados da validação cruzada (5 folds):\n",
      "2025-02-10 21:08:56,147 - model.model_trainer - INFO - - Média f1_weighted: 0.9623 (+/- 0.0589)\n",
      "2025-02-10 21:08:56,227 - model.model_result_saver - INFO - Metricas salvas em: model_results\\20250210_210838\\Random_Forest\\metrics.json\n",
      "2025-02-10 21:08:57,116 - model.model_result_saver - INFO - Plots salvos em: model_results\\20250210_210838\\Random_Forest\n",
      "2025-02-10 21:08:57,118 - model.model_result_saver - INFO - Resumo do modelo salvo em: model_results\\20250210_210838\\Random_Forest\\model_summary.txt\n",
      "2025-02-10 21:08:57,120 - model_pipeline - INFO - \n",
      "Processando modelo: CatBoost\n",
      "2025-02-10 21:08:57,120 - model.model_trainer - INFO - Iniciando treinamento do modelo CatBoost...\n",
      "2025-02-10 21:08:58,338 - model.model_trainer - INFO - Treinamento do modelo CatBoost finalizado\n",
      "2025-02-10 21:08:58,340 - model.model_trainer - INFO - Avaliando modelo CatBoost no treino...\n",
      "2025-02-10 21:08:58,693 - model.model_trainer - INFO - Métricas do modelo CatBoost no treino:\n",
      "2025-02-10 21:08:58,694 - model.model_trainer - INFO - - accuracy: 0.9546\n",
      "2025-02-10 21:08:58,694 - model.model_trainer - INFO - - precision: 0.9547\n",
      "2025-02-10 21:08:58,695 - model.model_trainer - INFO - - recall: 0.9546\n",
      "2025-02-10 21:08:58,695 - model.model_trainer - INFO - - f1: 0.9546\n",
      "2025-02-10 21:08:58,696 - model.model_trainer - INFO - - roc_auc: 0.9950\n",
      "2025-02-10 21:08:58,697 - model.model_trainer - INFO - Avaliando modelo CatBoost no validação...\n",
      "2025-02-10 21:08:58,760 - model.model_trainer - INFO - Métricas do modelo CatBoost no validação:\n",
      "2025-02-10 21:08:58,761 - model.model_trainer - INFO - - accuracy: 0.9490\n",
      "2025-02-10 21:08:58,761 - model.model_trainer - INFO - - precision: 0.9497\n",
      "2025-02-10 21:08:58,763 - model.model_trainer - INFO - - recall: 0.9490\n",
      "2025-02-10 21:08:58,763 - model.model_trainer - INFO - - f1: 0.9494\n",
      "2025-02-10 21:08:58,764 - model.model_trainer - INFO - - roc_auc: 0.9837\n",
      "2025-02-10 21:08:58,765 - model.model_trainer - INFO - Avaliando modelo CatBoost no teste...\n",
      "2025-02-10 21:08:58,827 - model.model_trainer - INFO - Métricas do modelo CatBoost no teste:\n",
      "2025-02-10 21:08:58,828 - model.model_trainer - INFO - - accuracy: 0.9486\n",
      "2025-02-10 21:08:58,828 - model.model_trainer - INFO - - precision: 0.9485\n",
      "2025-02-10 21:08:58,829 - model.model_trainer - INFO - - recall: 0.9486\n",
      "2025-02-10 21:08:58,830 - model.model_trainer - INFO - - f1: 0.9486\n",
      "2025-02-10 21:08:58,830 - model.model_trainer - INFO - - roc_auc: 0.9814\n",
      "2025-02-10 21:08:58,830 - model.model_trainer - INFO - Realizando validação cruzada do modelo CatBoost...\n",
      "2025-02-10 21:09:03,529 - model.model_trainer - INFO - Resultados da validação cruzada (5 folds):\n",
      "2025-02-10 21:09:03,530 - model.model_trainer - INFO - - Média f1_weighted: 0.9433 (+/- 0.0685)\n",
      "2025-02-10 21:09:03,536 - model.model_result_saver - INFO - Metricas salvas em: model_results\\20250210_210838\\CatBoost\\metrics.json\n",
      "2025-02-10 21:09:04,339 - model.model_result_saver - INFO - Plots salvos em: model_results\\20250210_210838\\CatBoost\n",
      "2025-02-10 21:09:04,342 - model.model_result_saver - INFO - Resumo do modelo salvo em: model_results\\20250210_210838\\CatBoost\\model_summary.txt\n",
      "2025-02-10 21:09:04,342 - model_pipeline - INFO - \n",
      "Processando modelo: Naive Bayes\n",
      "2025-02-10 21:09:04,344 - model.model_trainer - INFO - Iniciando treinamento do modelo Naive Bayes...\n",
      "2025-02-10 21:09:04,381 - model.model_trainer - INFO - Treinamento do modelo Naive Bayes finalizado\n",
      "2025-02-10 21:09:04,381 - model.model_trainer - INFO - Avaliando modelo Naive Bayes no treino...\n",
      "2025-02-10 21:09:04,715 - model.model_trainer - INFO - Métricas do modelo Naive Bayes no treino:\n",
      "2025-02-10 21:09:04,716 - model.model_trainer - INFO - - accuracy: 0.8223\n",
      "2025-02-10 21:09:04,717 - model.model_trainer - INFO - - precision: 0.8406\n",
      "2025-02-10 21:09:04,718 - model.model_trainer - INFO - - recall: 0.8223\n",
      "2025-02-10 21:09:04,719 - model.model_trainer - INFO - - f1: 0.8131\n",
      "2025-02-10 21:09:04,719 - model.model_trainer - INFO - - roc_auc: 0.9631\n",
      "2025-02-10 21:09:04,720 - model.model_trainer - INFO - Avaliando modelo Naive Bayes no validação...\n",
      "2025-02-10 21:09:04,778 - model.model_trainer - INFO - Métricas do modelo Naive Bayes no validação:\n",
      "2025-02-10 21:09:04,779 - model.model_trainer - INFO - - accuracy: 0.7538\n",
      "2025-02-10 21:09:04,779 - model.model_trainer - INFO - - precision: 0.9369\n",
      "2025-02-10 21:09:04,780 - model.model_trainer - INFO - - recall: 0.7538\n",
      "2025-02-10 21:09:04,781 - model.model_trainer - INFO - - f1: 0.7921\n",
      "2025-02-10 21:09:04,781 - model.model_trainer - INFO - - roc_auc: 0.9658\n",
      "2025-02-10 21:09:04,781 - model.model_trainer - INFO - Avaliando modelo Naive Bayes no teste...\n",
      "2025-02-10 21:09:04,840 - model.model_trainer - INFO - Métricas do modelo Naive Bayes no teste:\n",
      "2025-02-10 21:09:04,841 - model.model_trainer - INFO - - accuracy: 0.7548\n",
      "2025-02-10 21:09:04,842 - model.model_trainer - INFO - - precision: 0.9334\n",
      "2025-02-10 21:09:04,842 - model.model_trainer - INFO - - recall: 0.7548\n",
      "2025-02-10 21:09:04,844 - model.model_trainer - INFO - - f1: 0.7939\n",
      "2025-02-10 21:09:04,845 - model.model_trainer - INFO - - roc_auc: 0.9625\n",
      "2025-02-10 21:09:04,845 - model.model_trainer - INFO - Realizando validação cruzada do modelo Naive Bayes...\n",
      "2025-02-10 21:09:05,154 - model.model_trainer - INFO - Resultados da validação cruzada (5 folds):\n",
      "2025-02-10 21:09:05,155 - model.model_trainer - INFO - - Média f1_weighted: 0.8139 (+/- 0.0217)\n",
      "2025-02-10 21:09:05,216 - model.non_tree_model_saver - INFO - Métricas salvas em: model_results\\non_tree_models\\Naive_Bayes\\metrics.json\n",
      "2025-02-10 21:09:05,941 - model.non_tree_model_saver - INFO - Plots salvos em: model_results\\non_tree_models\\Naive_Bayes\n",
      "2025-02-10 21:09:05,944 - model.model_result_saver - INFO - Resumo do modelo salvo em: model_results\\20250210_210838\\Naive_Bayes\\model_summary.txt\n",
      "2025-02-10 21:09:05,945 - model_pipeline - INFO - \n",
      "Processando modelo: KNN\n",
      "2025-02-10 21:09:05,945 - model.model_trainer - INFO - Iniciando treinamento do modelo KNN...\n",
      "2025-02-10 21:09:05,998 - model.model_trainer - INFO - Treinamento do modelo KNN finalizado\n",
      "2025-02-10 21:09:05,999 - model.model_trainer - INFO - Avaliando modelo KNN no treino...\n",
      "2025-02-10 21:09:08,714 - model.model_trainer - INFO - Métricas do modelo KNN no treino:\n",
      "2025-02-10 21:09:08,715 - model.model_trainer - INFO - - accuracy: 0.9995\n",
      "2025-02-10 21:09:08,715 - model.model_trainer - INFO - - precision: 0.9995\n",
      "2025-02-10 21:09:08,716 - model.model_trainer - INFO - - recall: 0.9995\n",
      "2025-02-10 21:09:08,717 - model.model_trainer - INFO - - f1: 0.9995\n",
      "2025-02-10 21:09:08,718 - model.model_trainer - INFO - - roc_auc: 1.0000\n",
      "2025-02-10 21:09:08,718 - model.model_trainer - INFO - Avaliando modelo KNN no validação...\n",
      "2025-02-10 21:09:09,356 - model.model_trainer - INFO - Métricas do modelo KNN no validação:\n",
      "2025-02-10 21:09:09,358 - model.model_trainer - INFO - - accuracy: 0.6465\n",
      "2025-02-10 21:09:09,358 - model.model_trainer - INFO - - precision: 0.7321\n",
      "2025-02-10 21:09:09,358 - model.model_trainer - INFO - - recall: 0.6465\n",
      "2025-02-10 21:09:09,360 - model.model_trainer - INFO - - f1: 0.6781\n",
      "2025-02-10 21:09:09,360 - model.model_trainer - INFO - - roc_auc: 0.8013\n",
      "2025-02-10 21:09:09,360 - model.model_trainer - INFO - Avaliando modelo KNN no teste...\n",
      "2025-02-10 21:09:09,938 - model.model_trainer - INFO - Métricas do modelo KNN no teste:\n",
      "2025-02-10 21:09:09,939 - model.model_trainer - INFO - - accuracy: 0.6473\n",
      "2025-02-10 21:09:09,940 - model.model_trainer - INFO - - precision: 0.7311\n",
      "2025-02-10 21:09:09,941 - model.model_trainer - INFO - - recall: 0.6473\n",
      "2025-02-10 21:09:09,941 - model.model_trainer - INFO - - f1: 0.6793\n",
      "2025-02-10 21:09:09,942 - model.model_trainer - INFO - - roc_auc: 0.7974\n",
      "2025-02-10 21:09:09,942 - model.model_trainer - INFO - Realizando validação cruzada do modelo KNN...\n",
      "2025-02-10 21:09:11,206 - model.model_trainer - INFO - Resultados da validação cruzada (5 folds):\n",
      "2025-02-10 21:09:11,207 - model.model_trainer - INFO - - Média f1_weighted: 0.7985 (+/- 0.0235)\n",
      "2025-02-10 21:09:11,825 - model.non_tree_model_saver - INFO - Métricas salvas em: model_results\\non_tree_models\\KNN\\metrics.json\n",
      "2025-02-10 21:09:12,632 - model.non_tree_model_saver - INFO - Plots salvos em: model_results\\non_tree_models\\KNN\n",
      "2025-02-10 21:09:12,633 - model.model_result_saver - INFO - Resumo do modelo salvo em: model_results\\20250210_210838\\KNN\\model_summary.txt\n",
      "2025-02-10 21:09:12,635 - model_pipeline - INFO - \n",
      "Processando modelo: Logistic Regression\n",
      "2025-02-10 21:09:12,636 - model.model_trainer - INFO - Iniciando treinamento do modelo Logistic Regression...\n",
      "d:\\projetos\\roadSafeAi\\RoadSafeAI\\env\\lib\\site-packages\\sklearn\\linear_model\\_logistic.py:1247: FutureWarning: 'multi_class' was deprecated in version 1.5 and will be removed in 1.7. From then on, it will always use 'multinomial'. Leave it to its default value to avoid this warning.\n",
      "  warnings.warn(\n",
      "d:\\projetos\\roadSafeAi\\RoadSafeAI\\env\\lib\\site-packages\\sklearn\\linear_model\\_logistic.py:465: ConvergenceWarning: lbfgs failed to converge (status=1):\n",
      "STOP: TOTAL NO. of ITERATIONS REACHED LIMIT.\n",
      "\n",
      "Increase the number of iterations (max_iter) or scale the data as shown in:\n",
      "    https://scikit-learn.org/stable/modules/preprocessing.html\n",
      "Please also refer to the documentation for alternative solver options:\n",
      "    https://scikit-learn.org/stable/modules/linear_model.html#logistic-regression\n",
      "  n_iter_i = _check_optimize_result(\n",
      "2025-02-10 21:09:18,001 - model.model_trainer - INFO - Treinamento do modelo Logistic Regression finalizado\n",
      "2025-02-10 21:09:18,002 - model.model_trainer - INFO - Avaliando modelo Logistic Regression no treino...\n",
      "2025-02-10 21:09:18,475 - model.model_trainer - INFO - Métricas do modelo Logistic Regression no treino:\n",
      "2025-02-10 21:09:18,476 - model.model_trainer - INFO - - accuracy: 0.8963\n",
      "2025-02-10 21:09:18,477 - model.model_trainer - INFO - - precision: 0.8971\n",
      "2025-02-10 21:09:18,478 - model.model_trainer - INFO - - recall: 0.8963\n",
      "2025-02-10 21:09:18,478 - model.model_trainer - INFO - - f1: 0.8961\n",
      "2025-02-10 21:09:18,480 - model.model_trainer - INFO - - roc_auc: 0.9797\n",
      "2025-02-10 21:09:18,480 - model.model_trainer - INFO - Avaliando modelo Logistic Regression no validação...\n",
      "2025-02-10 21:09:18,565 - model.model_trainer - INFO - Métricas do modelo Logistic Regression no validação:\n",
      "2025-02-10 21:09:18,567 - model.model_trainer - INFO - - accuracy: 0.9129\n",
      "2025-02-10 21:09:18,568 - model.model_trainer - INFO - - precision: 0.9441\n",
      "2025-02-10 21:09:18,568 - model.model_trainer - INFO - - recall: 0.9129\n",
      "2025-02-10 21:09:18,569 - model.model_trainer - INFO - - f1: 0.9239\n",
      "2025-02-10 21:09:18,570 - model.model_trainer - INFO - - roc_auc: 0.9814\n",
      "2025-02-10 21:09:18,571 - model.model_trainer - INFO - Avaliando modelo Logistic Regression no teste...\n",
      "2025-02-10 21:09:18,649 - model.model_trainer - INFO - Métricas do modelo Logistic Regression no teste:\n",
      "2025-02-10 21:09:18,651 - model.model_trainer - INFO - - accuracy: 0.9127\n",
      "2025-02-10 21:09:18,651 - model.model_trainer - INFO - - precision: 0.9437\n",
      "2025-02-10 21:09:18,652 - model.model_trainer - INFO - - recall: 0.9127\n",
      "2025-02-10 21:09:18,653 - model.model_trainer - INFO - - f1: 0.9239\n",
      "2025-02-10 21:09:18,653 - model.model_trainer - INFO - - roc_auc: 0.9783\n",
      "2025-02-10 21:09:18,653 - model.model_trainer - INFO - Realizando validação cruzada do modelo Logistic Regression...\n",
      "d:\\projetos\\roadSafeAi\\RoadSafeAI\\env\\lib\\site-packages\\sklearn\\linear_model\\_logistic.py:1247: FutureWarning: 'multi_class' was deprecated in version 1.5 and will be removed in 1.7. From then on, it will always use 'multinomial'. Leave it to its default value to avoid this warning.\n",
      "  warnings.warn(\n",
      "d:\\projetos\\roadSafeAi\\RoadSafeAI\\env\\lib\\site-packages\\sklearn\\linear_model\\_logistic.py:465: ConvergenceWarning: lbfgs failed to converge (status=1):\n",
      "STOP: TOTAL NO. of ITERATIONS REACHED LIMIT.\n",
      "\n",
      "Increase the number of iterations (max_iter) or scale the data as shown in:\n",
      "    https://scikit-learn.org/stable/modules/preprocessing.html\n",
      "Please also refer to the documentation for alternative solver options:\n",
      "    https://scikit-learn.org/stable/modules/linear_model.html#logistic-regression\n",
      "  n_iter_i = _check_optimize_result(\n",
      "d:\\projetos\\roadSafeAi\\RoadSafeAI\\env\\lib\\site-packages\\sklearn\\linear_model\\_logistic.py:1247: FutureWarning: 'multi_class' was deprecated in version 1.5 and will be removed in 1.7. From then on, it will always use 'multinomial'. Leave it to its default value to avoid this warning.\n",
      "  warnings.warn(\n",
      "d:\\projetos\\roadSafeAi\\RoadSafeAI\\env\\lib\\site-packages\\sklearn\\linear_model\\_logistic.py:465: ConvergenceWarning: lbfgs failed to converge (status=1):\n",
      "STOP: TOTAL NO. of ITERATIONS REACHED LIMIT.\n",
      "\n",
      "Increase the number of iterations (max_iter) or scale the data as shown in:\n",
      "    https://scikit-learn.org/stable/modules/preprocessing.html\n",
      "Please also refer to the documentation for alternative solver options:\n",
      "    https://scikit-learn.org/stable/modules/linear_model.html#logistic-regression\n",
      "  n_iter_i = _check_optimize_result(\n",
      "d:\\projetos\\roadSafeAi\\RoadSafeAI\\env\\lib\\site-packages\\sklearn\\linear_model\\_logistic.py:1247: FutureWarning: 'multi_class' was deprecated in version 1.5 and will be removed in 1.7. From then on, it will always use 'multinomial'. Leave it to its default value to avoid this warning.\n",
      "  warnings.warn(\n",
      "d:\\projetos\\roadSafeAi\\RoadSafeAI\\env\\lib\\site-packages\\sklearn\\linear_model\\_logistic.py:465: ConvergenceWarning: lbfgs failed to converge (status=1):\n",
      "STOP: TOTAL NO. of ITERATIONS REACHED LIMIT.\n",
      "\n",
      "Increase the number of iterations (max_iter) or scale the data as shown in:\n",
      "    https://scikit-learn.org/stable/modules/preprocessing.html\n",
      "Please also refer to the documentation for alternative solver options:\n",
      "    https://scikit-learn.org/stable/modules/linear_model.html#logistic-regression\n",
      "  n_iter_i = _check_optimize_result(\n",
      "d:\\projetos\\roadSafeAi\\RoadSafeAI\\env\\lib\\site-packages\\sklearn\\linear_model\\_logistic.py:1247: FutureWarning: 'multi_class' was deprecated in version 1.5 and will be removed in 1.7. From then on, it will always use 'multinomial'. Leave it to its default value to avoid this warning.\n",
      "  warnings.warn(\n",
      "d:\\projetos\\roadSafeAi\\RoadSafeAI\\env\\lib\\site-packages\\sklearn\\linear_model\\_logistic.py:465: ConvergenceWarning: lbfgs failed to converge (status=1):\n",
      "STOP: TOTAL NO. of ITERATIONS REACHED LIMIT.\n",
      "\n",
      "Increase the number of iterations (max_iter) or scale the data as shown in:\n",
      "    https://scikit-learn.org/stable/modules/preprocessing.html\n",
      "Please also refer to the documentation for alternative solver options:\n",
      "    https://scikit-learn.org/stable/modules/linear_model.html#logistic-regression\n",
      "  n_iter_i = _check_optimize_result(\n",
      "d:\\projetos\\roadSafeAi\\RoadSafeAI\\env\\lib\\site-packages\\sklearn\\linear_model\\_logistic.py:1247: FutureWarning: 'multi_class' was deprecated in version 1.5 and will be removed in 1.7. From then on, it will always use 'multinomial'. Leave it to its default value to avoid this warning.\n",
      "  warnings.warn(\n",
      "d:\\projetos\\roadSafeAi\\RoadSafeAI\\env\\lib\\site-packages\\sklearn\\linear_model\\_logistic.py:465: ConvergenceWarning: lbfgs failed to converge (status=1):\n",
      "STOP: TOTAL NO. of ITERATIONS REACHED LIMIT.\n",
      "\n",
      "Increase the number of iterations (max_iter) or scale the data as shown in:\n",
      "    https://scikit-learn.org/stable/modules/preprocessing.html\n",
      "Please also refer to the documentation for alternative solver options:\n",
      "    https://scikit-learn.org/stable/modules/linear_model.html#logistic-regression\n",
      "  n_iter_i = _check_optimize_result(\n",
      "2025-02-10 21:09:38,347 - model.model_trainer - INFO - Resultados da validação cruzada (5 folds):\n",
      "2025-02-10 21:09:38,349 - model.model_trainer - INFO - - Média f1_weighted: 0.8965 (+/- 0.0104)\n",
      "2025-02-10 21:09:38,652 - model.non_tree_model_saver - INFO - Métricas salvas em: model_results\\non_tree_models\\Logistic_Regression\\metrics.json\n",
      "2025-02-10 21:09:40,072 - model.non_tree_model_saver - INFO - Plots salvos em: model_results\\non_tree_models\\Logistic_Regression\n",
      "2025-02-10 21:09:40,074 - model.model_result_saver - INFO - Resumo do modelo salvo em: model_results\\20250210_210838\\Logistic_Regression\\model_summary.txt\n",
      "2025-02-10 21:09:41,733 - model.non_tree_model_saver - INFO - Comparação dos modelos salva em: model_results\\non_tree_models\n",
      "2025-02-10 21:09:42,479 - model.model_result_saver - INFO - Resultados comparativos salvos em: model_results\\20250210_210838\n",
      "2025-02-10 21:09:42,480 - __main__ - INFO - \n",
      "Comparação final dos modelos:\n",
      "2025-02-10 21:09:42,484 - __main__ - INFO - \n",
      "                 Model      Type  Accuracy  Precision    Recall  F1-Score\n",
      "0        Decision Tree      Tree  0.926919   0.937395  0.926919  0.931582\n",
      "1        Random Forest      Tree  0.947422   0.942233  0.947422  0.944446\n",
      "2             CatBoost      Tree  0.948594   0.948526  0.948594  0.948560\n",
      "3          Naive Bayes  Non-Tree  0.754833   0.933418  0.754833  0.793863\n",
      "4                  KNN  Non-Tree  0.647335   0.731068  0.647335  0.679326\n",
      "5  Logistic Regression  Non-Tree  0.912712   0.943661  0.912712  0.923920\n"
     ]
    },
    {
     "data": {
      "text/plain": [
       "<Figure size 1200x600 with 0 Axes>"
      ]
     },
     "metadata": {},
     "output_type": "display_data"
    },
    {
     "data": {
      "text/plain": [
       "<Figure size 1200x600 with 0 Axes>"
      ]
     },
     "metadata": {},
     "output_type": "display_data"
    },
    {
     "data": {
      "text/plain": [
       "<Figure size 1200x600 with 0 Axes>"
      ]
     },
     "metadata": {},
     "output_type": "display_data"
    },
    {
     "data": {
      "text/plain": [
       "<Figure size 1200x600 with 0 Axes>"
      ]
     },
     "metadata": {},
     "output_type": "display_data"
    },
    {
     "data": {
      "text/plain": [
       "<Figure size 1200x600 with 0 Axes>"
      ]
     },
     "metadata": {},
     "output_type": "display_data"
    },
    {
     "data": {
      "text/plain": [
       "<Figure size 1200x600 with 0 Axes>"
      ]
     },
     "metadata": {},
     "output_type": "display_data"
    }
   ],
   "source": [
    "# Cria os modelos\n",
    "from model.non_tree_models import get_non_tree_models\n",
    "from model.tree_model_evaluator import TreeModelEvaluator\n",
    "from model_pipeline import ModelingPipeline, create_tree_based_models\n",
    "\n",
    "# Cria os modelos baseados em árvore\n",
    "tree_models = create_tree_based_models(random_state=42, n_estimators=100)\n",
    "\n",
    "# Obtém os modelos não baseados em árvore\n",
    "non_tree_models = get_non_tree_models(random_state=42)\n",
    "\n",
    "# Combina todos os modelos\n",
    "all_models = tree_models + non_tree_models\n",
    "\n",
    "# Inicializa o pipeline\n",
    "pipeline = ModelingPipeline(all_models)\n",
    "\n",
    "# Inicializa o pipeline de pré-processamento\n",
    "preprocessing = PreprocessingPipeline(\n",
    "    collect_new_data=True,\n",
    "    dataset_type='base',\n",
    "    test_size=0.2,\n",
    "    valid_size=0.2,\n",
    "    balance_strategy='smote',\n",
    "    random_state=42\n",
    ")\n",
    "\n",
    "# Processa os dados\n",
    "X_train, X_valid, X_test, y_train, y_valid, y_test = preprocessing.process_data()\n",
    "\n",
    "# Define as classes com base nos dados reais\n",
    "classes = sorted(y_train.unique())\n",
    "\n",
    "# Executa o pipeline\n",
    "results, comparison_df = pipeline.run_pipeline(\n",
    "    X_train, X_valid, X_test,\n",
    "    y_train, y_valid, y_test,\n",
    "    classes=classes\n",
    ")\n",
    "\n",
    "logger.info(\"\\nComparação final dos modelos:\")\n",
    "logger.info(\"\\n\" + str(comparison_df))"
   ]
  },
  {
   "cell_type": "code",
   "execution_count": null,
   "metadata": {},
   "outputs": [],
   "source": []
  }
 ],
 "metadata": {
  "kernelspec": {
   "display_name": "env",
   "language": "python",
   "name": "python3"
  },
  "language_info": {
   "codemirror_mode": {
    "name": "ipython",
    "version": 3
   },
   "file_extension": ".py",
   "mimetype": "text/x-python",
   "name": "python",
   "nbconvert_exporter": "python",
   "pygments_lexer": "ipython3",
   "version": "3.9.0"
  }
 },
 "nbformat": 4,
 "nbformat_minor": 2
}
