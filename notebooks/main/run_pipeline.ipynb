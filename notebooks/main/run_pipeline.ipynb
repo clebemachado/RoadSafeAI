{
 "cells": [
  {
   "cell_type": "code",
   "execution_count": 1,
   "metadata": {},
   "outputs": [],
   "source": [
    "import sys\n",
    "import os\n",
    "from pathlib import Path\n",
    "import pandas as pd\n",
    "import matplotlib.pyplot as plt\n",
    "import seaborn as sns\n",
    "import logging"
   ]
  },
  {
   "cell_type": "code",
   "execution_count": 2,
   "metadata": {},
   "outputs": [],
   "source": [
    "logging.basicConfig(\n",
    "    level=logging.INFO,\n",
    "    format='%(asctime)s - %(name)s - %(levelname)s - %(message)s'\n",
    ")\n",
    "logger = logging.getLogger(__name__)"
   ]
  },
  {
   "cell_type": "code",
   "execution_count": 3,
   "metadata": {},
   "outputs": [],
   "source": [
    "notebook_path = Path.cwd()\n",
    "project_root = str(notebook_path.parent.parent) + \"\\\\src\"\n",
    "sys.path.append(project_root)"
   ]
  },
  {
   "cell_type": "code",
   "execution_count": 4,
   "metadata": {},
   "outputs": [
    {
     "data": {
      "text/plain": [
       "'d:\\\\projetos\\\\roadSafeAi\\\\RoadSafeAI\\\\src'"
      ]
     },
     "execution_count": 4,
     "metadata": {},
     "output_type": "execute_result"
    }
   ],
   "source": [
    "project_root"
   ]
  },
  {
   "cell_type": "code",
   "execution_count": 5,
   "metadata": {},
   "outputs": [],
   "source": [
    "from pipeline import PreprocessingPipeline"
   ]
  },
  {
   "cell_type": "code",
   "execution_count": 6,
   "metadata": {},
   "outputs": [
    {
     "name": "stderr",
     "output_type": "stream",
     "text": [
      "2025-02-02 16:24:12,421 - pipeline - INFO - Iniciando pipeline completo de pré-processamento (usando dataset base)...\n",
      "2025-02-02 16:24:12,423 - pipeline - INFO - Iniciando coleta de dados...\n",
      "2025-02-02 16:24:12,424 - root - WARNING - Folder RoadSafeAI/files já existe. Não será feito novo download\n",
      "2025-02-02 16:24:12,424 - pipeline - INFO - Coleta de dados concluída com sucesso\n",
      "2025-02-02 16:24:12,425 - pipeline - INFO - Iniciando união dos datasets (usando dataset base)...\n",
      "2025-02-02 16:24:12,426 - data_collection.merge_datasets - INFO - 18 arquivos CSV encontrados para o período 2007-2024.\n",
      "2025-02-02 16:24:12,427 - data_collection.merge_datasets - INFO - Processando dataset do ano 2007: datatran2007.csv\n"
     ]
    },
    {
     "name": "stdout",
     "output_type": "stream",
     "text": [
      "FileName: datatran2007.csv\n",
      "FileName: datatran2008.csv\n",
      "FileName: datatran2009.csv\n",
      "FileName: datatran2010.csv\n",
      "FileName: datatran2011.csv\n",
      "FileName: datatran2012.csv\n",
      "FileName: datatran2013.csv\n",
      "FileName: datatran2014.csv\n",
      "FileName: datatran2015.csv\n",
      "FileName: datatran2016.csv\n",
      "FileName: datatran2017.csv\n",
      "FileName: datatran2018.csv\n",
      "FileName: datatran2019.csv\n",
      "FileName: datatran2020.csv\n",
      "FileName: datatran2021.csv\n",
      "FileName: datatran2022.csv\n",
      "FileName: datatran2023.csv\n",
      "FileName: datatran2024.csv\n",
      "FileName: datatran2007.csv\n"
     ]
    },
    {
     "name": "stderr",
     "output_type": "stream",
     "text": [
      "d:\\projetos\\roadSafeAi\\RoadSafeAI\\src\\data_collection\\file_read_pandas.py:16: DtypeWarning: Columns (5,6) have mixed types. Specify dtype option on import or set low_memory=False.\n",
      "  return pd.read_csv(file_path, encoding='cp1252', sep=';')\n",
      "2025-02-02 16:24:12,707 - data_collection.merge_datasets - INFO - Processando dataset do ano 2008: datatran2008.csv\n"
     ]
    },
    {
     "name": "stdout",
     "output_type": "stream",
     "text": [
      "FileName: datatran2008.csv\n"
     ]
    },
    {
     "name": "stderr",
     "output_type": "stream",
     "text": [
      "d:\\projetos\\roadSafeAi\\RoadSafeAI\\src\\data_collection\\file_read_pandas.py:16: DtypeWarning: Columns (5,6) have mixed types. Specify dtype option on import or set low_memory=False.\n",
      "  return pd.read_csv(file_path, encoding='cp1252', sep=';')\n",
      "2025-02-02 16:24:13,030 - data_collection.merge_datasets - INFO - Processando dataset do ano 2009: datatran2009.csv\n"
     ]
    },
    {
     "name": "stdout",
     "output_type": "stream",
     "text": [
      "FileName: datatran2009.csv\n"
     ]
    },
    {
     "name": "stderr",
     "output_type": "stream",
     "text": [
      "2025-02-02 16:24:13,374 - data_collection.merge_datasets - INFO - Processando dataset do ano 2010: datatran2010.csv\n"
     ]
    },
    {
     "name": "stdout",
     "output_type": "stream",
     "text": [
      "FileName: datatran2010.csv\n"
     ]
    },
    {
     "name": "stderr",
     "output_type": "stream",
     "text": [
      "2025-02-02 16:24:13,771 - data_collection.merge_datasets - INFO - Processando dataset do ano 2011: datatran2011.csv\n"
     ]
    },
    {
     "name": "stdout",
     "output_type": "stream",
     "text": [
      "FileName: datatran2011.csv\n"
     ]
    },
    {
     "name": "stderr",
     "output_type": "stream",
     "text": [
      "2025-02-02 16:24:14,193 - data_collection.merge_datasets - INFO - Processando dataset do ano 2012: datatran2012.csv\n"
     ]
    },
    {
     "name": "stdout",
     "output_type": "stream",
     "text": [
      "FileName: datatran2012.csv\n"
     ]
    },
    {
     "name": "stderr",
     "output_type": "stream",
     "text": [
      "d:\\projetos\\roadSafeAi\\RoadSafeAI\\src\\data_collection\\file_read_pandas.py:16: DtypeWarning: Columns (5,6) have mixed types. Specify dtype option on import or set low_memory=False.\n",
      "  return pd.read_csv(file_path, encoding='cp1252', sep=';')\n",
      "2025-02-02 16:24:14,609 - data_collection.merge_datasets - INFO - Processando dataset do ano 2013: datatran2013.csv\n"
     ]
    },
    {
     "name": "stdout",
     "output_type": "stream",
     "text": [
      "FileName: datatran2013.csv\n"
     ]
    },
    {
     "name": "stderr",
     "output_type": "stream",
     "text": [
      "2025-02-02 16:24:15,062 - data_collection.merge_datasets - INFO - Processando dataset do ano 2014: datatran2014.csv\n"
     ]
    },
    {
     "name": "stdout",
     "output_type": "stream",
     "text": [
      "FileName: datatran2014.csv\n"
     ]
    },
    {
     "name": "stderr",
     "output_type": "stream",
     "text": [
      "2025-02-02 16:24:15,462 - data_collection.merge_datasets - INFO - Processando dataset do ano 2015: datatran2015.csv\n"
     ]
    },
    {
     "name": "stdout",
     "output_type": "stream",
     "text": [
      "FileName: datatran2015.csv\n"
     ]
    },
    {
     "name": "stderr",
     "output_type": "stream",
     "text": [
      "2025-02-02 16:24:15,754 - data_collection.merge_datasets - INFO - Processando dataset do ano 2016: datatran2016.csv\n"
     ]
    },
    {
     "name": "stdout",
     "output_type": "stream",
     "text": [
      "FileName: datatran2016.csv\n"
     ]
    },
    {
     "name": "stderr",
     "output_type": "stream",
     "text": [
      "2025-02-02 16:24:15,992 - data_collection.merge_datasets - INFO - Processando dataset do ano 2017: datatran2017.csv\n"
     ]
    },
    {
     "name": "stdout",
     "output_type": "stream",
     "text": [
      "FileName: datatran2017.csv\n"
     ]
    },
    {
     "name": "stderr",
     "output_type": "stream",
     "text": [
      "2025-02-02 16:24:16,346 - data_collection.merge_datasets - INFO - Processando dataset do ano 2018: datatran2018.csv\n"
     ]
    },
    {
     "name": "stdout",
     "output_type": "stream",
     "text": [
      "FileName: datatran2018.csv\n"
     ]
    },
    {
     "name": "stderr",
     "output_type": "stream",
     "text": [
      "2025-02-02 16:24:16,626 - data_collection.merge_datasets - INFO - Processando dataset do ano 2019: datatran2019.csv\n"
     ]
    },
    {
     "name": "stdout",
     "output_type": "stream",
     "text": [
      "FileName: datatran2019.csv\n"
     ]
    },
    {
     "name": "stderr",
     "output_type": "stream",
     "text": [
      "2025-02-02 16:24:16,899 - data_collection.merge_datasets - INFO - Processando dataset do ano 2020: datatran2020.csv\n"
     ]
    },
    {
     "name": "stdout",
     "output_type": "stream",
     "text": [
      "FileName: datatran2020.csv\n"
     ]
    },
    {
     "name": "stderr",
     "output_type": "stream",
     "text": [
      "2025-02-02 16:24:17,175 - data_collection.merge_datasets - INFO - Processando dataset do ano 2021: datatran2021.csv\n"
     ]
    },
    {
     "name": "stdout",
     "output_type": "stream",
     "text": [
      "FileName: datatran2021.csv\n"
     ]
    },
    {
     "name": "stderr",
     "output_type": "stream",
     "text": [
      "2025-02-02 16:24:17,505 - data_collection.merge_datasets - INFO - Processando dataset do ano 2022: datatran2022.csv\n"
     ]
    },
    {
     "name": "stdout",
     "output_type": "stream",
     "text": [
      "FileName: datatran2022.csv\n"
     ]
    },
    {
     "name": "stderr",
     "output_type": "stream",
     "text": [
      "2025-02-02 16:24:17,765 - data_collection.merge_datasets - INFO - Processando dataset do ano 2023: datatran2023.csv\n"
     ]
    },
    {
     "name": "stdout",
     "output_type": "stream",
     "text": [
      "FileName: datatran2023.csv\n"
     ]
    },
    {
     "name": "stderr",
     "output_type": "stream",
     "text": [
      "2025-02-02 16:24:18,095 - data_collection.merge_datasets - INFO - Processando dataset do ano 2024: datatran2024.csv\n"
     ]
    },
    {
     "name": "stdout",
     "output_type": "stream",
     "text": [
      "FileName: datatran2024.csv\n"
     ]
    },
    {
     "name": "stderr",
     "output_type": "stream",
     "text": [
      "2025-02-02 16:24:18,440 - data_collection.merge_datasets - INFO - Total de registros do Maranhão: 34153\n",
      "2025-02-02 16:24:18,712 - data_collection.merge_datasets - INFO - Dataset do Maranhão unificado salvo em D:\\projetos\\roadSafeAi\\RoadSafeAI\\files\\processed\\maranhao\\datatran_ma_merged_base_2007_2024.csv\n",
      "2025-02-02 16:24:18,714 - data_collection.merge_datasets - INFO - Metadados do Maranhão salvos em D:\\projetos\\roadSafeAi\\RoadSafeAI\\files\\processed\\maranhao\\metadata_ma.txt\n",
      "2025-02-02 16:24:18,716 - data_collection.merge_datasets - INFO - 8 arquivos CSV encontrados para o período 2017-2024.\n",
      "2025-02-02 16:24:18,716 - data_collection.merge_datasets - INFO - Processando dataset do ano 2017: datatran2017.csv\n"
     ]
    },
    {
     "name": "stdout",
     "output_type": "stream",
     "text": [
      "FileName: datatran2007.csv\n",
      "FileName: datatran2008.csv\n",
      "FileName: datatran2009.csv\n",
      "FileName: datatran2010.csv\n",
      "FileName: datatran2011.csv\n",
      "FileName: datatran2012.csv\n",
      "FileName: datatran2013.csv\n",
      "FileName: datatran2014.csv\n",
      "FileName: datatran2015.csv\n",
      "FileName: datatran2016.csv\n",
      "FileName: datatran2017.csv\n",
      "FileName: datatran2018.csv\n",
      "FileName: datatran2019.csv\n",
      "FileName: datatran2020.csv\n",
      "FileName: datatran2021.csv\n",
      "FileName: datatran2022.csv\n",
      "FileName: datatran2023.csv\n",
      "FileName: datatran2024.csv\n",
      "FileName: datatran2017.csv\n"
     ]
    },
    {
     "name": "stderr",
     "output_type": "stream",
     "text": [
      "2025-02-02 16:24:19,123 - data_collection.merge_datasets - INFO - Processando dataset do ano 2018: datatran2018.csv\n"
     ]
    },
    {
     "name": "stdout",
     "output_type": "stream",
     "text": [
      "FileName: datatran2018.csv\n"
     ]
    },
    {
     "name": "stderr",
     "output_type": "stream",
     "text": [
      "2025-02-02 16:24:19,484 - data_collection.merge_datasets - INFO - Processando dataset do ano 2019: datatran2019.csv\n"
     ]
    },
    {
     "name": "stdout",
     "output_type": "stream",
     "text": [
      "FileName: datatran2019.csv\n"
     ]
    },
    {
     "name": "stderr",
     "output_type": "stream",
     "text": [
      "2025-02-02 16:24:19,777 - data_collection.merge_datasets - INFO - Processando dataset do ano 2020: datatran2020.csv\n"
     ]
    },
    {
     "name": "stdout",
     "output_type": "stream",
     "text": [
      "FileName: datatran2020.csv\n"
     ]
    },
    {
     "name": "stderr",
     "output_type": "stream",
     "text": [
      "2025-02-02 16:24:20,040 - data_collection.merge_datasets - INFO - Processando dataset do ano 2021: datatran2021.csv\n"
     ]
    },
    {
     "name": "stdout",
     "output_type": "stream",
     "text": [
      "FileName: datatran2021.csv\n"
     ]
    },
    {
     "name": "stderr",
     "output_type": "stream",
     "text": [
      "2025-02-02 16:24:20,309 - data_collection.merge_datasets - INFO - Processando dataset do ano 2022: datatran2022.csv\n"
     ]
    },
    {
     "name": "stdout",
     "output_type": "stream",
     "text": [
      "FileName: datatran2022.csv\n"
     ]
    },
    {
     "name": "stderr",
     "output_type": "stream",
     "text": [
      "2025-02-02 16:24:20,587 - data_collection.merge_datasets - INFO - Processando dataset do ano 2023: datatran2023.csv\n"
     ]
    },
    {
     "name": "stdout",
     "output_type": "stream",
     "text": [
      "FileName: datatran2023.csv\n"
     ]
    },
    {
     "name": "stderr",
     "output_type": "stream",
     "text": [
      "2025-02-02 16:24:20,898 - data_collection.merge_datasets - INFO - Processando dataset do ano 2024: datatran2024.csv\n"
     ]
    },
    {
     "name": "stdout",
     "output_type": "stream",
     "text": [
      "FileName: datatran2024.csv\n"
     ]
    },
    {
     "name": "stderr",
     "output_type": "stream",
     "text": [
      "2025-02-02 16:24:21,253 - data_collection.merge_datasets - INFO - Total de registros do Maranhão: 9609\n",
      "2025-02-02 16:24:21,351 - data_collection.merge_datasets - INFO - Dataset do Maranhão unificado salvo em D:\\projetos\\roadSafeAi\\RoadSafeAI\\files\\processed\\maranhao\\datatran_ma_merged_complete_2017_2024.csv\n",
      "2025-02-02 16:24:21,353 - data_collection.merge_datasets - INFO - Metadados do Maranhão salvos em D:\\projetos\\roadSafeAi\\RoadSafeAI\\files\\processed\\maranhao\\metadata_ma.txt\n",
      "2025-02-02 16:24:21,354 - pipeline - INFO - Dataset base selecionado:\n",
      "2025-02-02 16:24:21,354 - pipeline - INFO - Dimensões: (34153, 25)\n",
      "2025-02-02 16:24:21,355 - pipeline - INFO - Período: 2007-01-01 00:00:00 até 2024-12-31 00:00:00\n",
      "2025-02-02 16:24:21,356 - pipeline - INFO - Colunas: ['id', 'data_inversa', 'dia_semana', 'horario', 'uf', 'br', 'km', 'municipio', 'causa_acidente', 'tipo_acidente', 'classificacao_acidente', 'fase_dia', 'sentido_via', 'condicao_metereologica', 'tipo_pista', 'tracado_via', 'uso_solo', 'pessoas', 'mortos', 'feridos_leves', 'feridos_graves', 'ilesos', 'ignorados', 'feridos', 'veiculos']\n",
      "2025-02-02 16:24:21,357 - pipeline - INFO - Iniciando limpeza de dados...\n",
      "2025-02-02 16:24:21,358 - preprocessing.data_cleaning_01 - INFO - Iniciando processo de limpeza do dataset...\n",
      "2025-02-02 16:24:21,361 - preprocessing.data_cleaning_01 - INFO - Colunas removidas: ['id', 'uf', 'tracado_via', 'feridos', 'fase_dia']\n",
      "d:\\projetos\\roadSafeAi\\RoadSafeAI\\src\\preprocessing\\data_cleaning_01.py:52: UserWarning: Boolean Series key will be reindexed to match DataFrame index.\n",
      "  df_clean = df_clean[~mascara_espacos['remove']]\n",
      "2025-02-02 16:24:21,575 - preprocessing.data_cleaning_01 - INFO - Estatísticas de limpeza:\n",
      "2025-02-02 16:24:21,576 - preprocessing.data_cleaning_01 - INFO - - Linhas no dataset original: 34153\n",
      "2025-02-02 16:24:21,576 - preprocessing.data_cleaning_01 - INFO - - Linhas removidas: 3\n",
      "2025-02-02 16:24:21,577 - preprocessing.data_cleaning_01 - INFO - - Percentual removido: 0.0088%\n",
      "2025-02-02 16:24:21,577 - preprocessing.data_cleaning_01 - INFO - - Linhas no dataset final: 34150\n",
      "2025-02-02 16:24:21,609 - preprocessing.data_cleaning_01 - INFO - Removidos 13 registros duplicados.\n",
      "2025-02-02 16:24:21,611 - preprocessing.data_cleaning_01 - INFO - Processo de limpeza concluído com sucesso!\n",
      "2025-02-02 16:24:21,613 - pipeline - INFO - Iniciando padronização de dados...\n",
      "2025-02-02 16:24:21,613 - preprocessing.data_standardize_02 - INFO - Iniciando padronização do dataset...\n",
      "2025-02-02 16:24:21,654 - preprocessing.data_standardize_02 - INFO - Coluna km padronizada. Range: [0, 684]\n",
      "2025-02-02 16:24:21,683 - preprocessing.data_standardize_02 - INFO - Coluna pessoas padronizada. Range: [1, 54]\n",
      "2025-02-02 16:24:21,713 - preprocessing.data_standardize_02 - INFO - Coluna mortos padronizada. Range: [0, 11]\n",
      "2025-02-02 16:24:21,743 - preprocessing.data_standardize_02 - INFO - Coluna feridos_leves padronizada. Range: [0, 37]\n",
      "2025-02-02 16:24:21,772 - preprocessing.data_standardize_02 - INFO - Coluna feridos_graves padronizada. Range: [0, 20]\n",
      "2025-02-02 16:24:21,802 - preprocessing.data_standardize_02 - INFO - Coluna ilesos padronizada. Range: [0, 49]\n",
      "2025-02-02 16:24:21,832 - preprocessing.data_standardize_02 - INFO - Coluna ignorados padronizada. Range: [0, 35]\n",
      "2025-02-02 16:24:21,862 - preprocessing.data_standardize_02 - INFO - Coluna veiculos padronizada. Range: [1, 17]\n",
      "2025-02-02 16:24:21,863 - preprocessing.data_standardize_02 - INFO - Valores numéricos padronizados\n",
      "2025-02-02 16:24:21,879 - preprocessing.data_standardize_02 - INFO - Coluna data_inversa convertida para datetime e renomeada para 'data'\n",
      "2025-02-02 16:24:21,880 - preprocessing.data_standardize_02 - INFO - Valores temporais padronizados\n",
      "2025-02-02 16:24:21,885 - preprocessing.data_standardize_02 - INFO - Valores únicos originais em uso_solo: ['Rural' 'Urbano' 'Não' 'Sim']\n",
      "2025-02-02 16:24:21,891 - preprocessing.data_standardize_02 - INFO - Valores únicos após padronização em uso_solo: ['Não' 'Sim']\n",
      "2025-02-02 16:24:21,893 - preprocessing.data_standardize_02 - INFO - Coluna uso_solo padronizada\n",
      "2025-02-02 16:24:21,913 - preprocessing.data_standardize_02 - INFO - Coluna tipo_acidente padronizada. Valores únicos: 24\n",
      "2025-02-02 16:24:21,927 - preprocessing.data_standardize_02 - INFO - Coluna classificacao_acidente padronizada. Valores únicos: 4\n",
      "2025-02-02 16:24:21,929 - preprocessing.data_standardize_02 - INFO - Coluna tipo_acidente e classificacao_acidente padronizada\n",
      "2025-02-02 16:24:21,937 - preprocessing.data_standardize_02 - INFO - Valores únicos originais em dia_semana: ['Segunda' 'Quinta' 'Domingo' 'Terça' 'Sexta' 'Quarta' 'Sábado' 'domingo'\n",
      " 'segunda-feira' 'terça-feira' 'quarta-feira' 'quinta-feira' 'sexta-feira'\n",
      " 'sábado']\n",
      "2025-02-02 16:24:21,949 - preprocessing.data_standardize_02 - INFO - Valores únicos após padronização em dia_semana: ['segunda-feira' 'quinta-feira' 'domingo' 'terca-feira' 'sexta-feira'\n",
      " 'quarta-feira' 'sabado']\n",
      "2025-02-02 16:24:21,950 - preprocessing.data_standardize_02 - INFO - Coluna dia_semana padronizada\n",
      "2025-02-02 16:24:21,952 - pipeline - INFO - Iniciando engenharia de features...\n",
      "2025-02-02 16:24:21,953 - preprocessing.feature_engineering_03 - INFO - Iniciando criação de novas features...\n",
      "2025-02-02 16:24:21,975 - preprocessing.feature_engineering_03 - INFO - Distribuição dos períodos do dia:\n",
      "2025-02-02 16:24:21,980 - preprocessing.feature_engineering_03 - INFO - Removendo horario exato, adotado periodo do dia:\n",
      "2025-02-02 16:24:21,981 - preprocessing.feature_engineering_03 - INFO - - tarde: 11467 registros\n",
      "2025-02-02 16:24:21,981 - preprocessing.feature_engineering_03 - INFO - - manha: 9587 registros\n",
      "2025-02-02 16:24:21,982 - preprocessing.feature_engineering_03 - INFO - - noite: 9393 registros\n",
      "2025-02-02 16:24:21,983 - preprocessing.feature_engineering_03 - INFO - - madrugada: 3690 registros\n",
      "2025-02-02 16:24:21,983 - preprocessing.feature_engineering_03 - INFO - Feature 'periodo_dia' criada com sucesso\n",
      "2025-02-02 16:24:22,210 - preprocessing.feature_engineering_03 - INFO - Distribuição das gravidades dos acidentes:\n",
      "2025-02-02 16:24:22,211 - preprocessing.feature_engineering_03 - INFO - - sem_vitimas: 14641 registros\n",
      "2025-02-02 16:24:22,211 - preprocessing.feature_engineering_03 - INFO - - leve: 8844 registros\n",
      "2025-02-02 16:24:22,212 - preprocessing.feature_engineering_03 - INFO - - grave: 6766 registros\n",
      "2025-02-02 16:24:22,212 - preprocessing.feature_engineering_03 - INFO - - fatal: 3886 registros\n",
      "2025-02-02 16:24:22,214 - preprocessing.feature_engineering_03 - INFO - Feature 'gravidade_acidente' criada com sucesso\n",
      "2025-02-02 16:24:22,229 - preprocessing.feature_engineering_03 - INFO - Distribuição final das causas agrupadas:\n",
      "2025-02-02 16:24:22,230 - preprocessing.feature_engineering_03 - INFO - - falha_atencao: 11127 registros\n",
      "2025-02-02 16:24:22,231 - preprocessing.feature_engineering_03 - INFO - - outros: 11088 registros\n",
      "2025-02-02 16:24:22,231 - preprocessing.feature_engineering_03 - INFO - - comportamento_risco: 5384 registros\n",
      "2025-02-02 16:24:22,232 - preprocessing.feature_engineering_03 - INFO - - fatores_externos_animais: 1987 registros\n",
      "2025-02-02 16:24:22,232 - preprocessing.feature_engineering_03 - INFO - - problemas_tecnicos_via: 1292 registros\n",
      "2025-02-02 16:24:22,233 - preprocessing.feature_engineering_03 - INFO - - problemas_tecnicos_veiculo: 1231 registros\n",
      "2025-02-02 16:24:22,233 - preprocessing.feature_engineering_03 - INFO - - condutor_alcool_drogas: 1114 registros\n",
      "2025-02-02 16:24:22,234 - preprocessing.feature_engineering_03 - INFO - - condutor_fadiga: 884 registros\n",
      "2025-02-02 16:24:22,234 - preprocessing.feature_engineering_03 - INFO - - fatores_ambientais: 30 registros\n",
      "2025-02-02 16:24:22,236 - preprocessing.feature_engineering_03 - INFO - Feature 'causa_acidente_grupo' criada com sucesso\n",
      "2025-02-02 16:24:22,237 - preprocessing.feature_engineering_03 - INFO - Todas as features foram criadas com sucesso!\n",
      "2025-02-02 16:24:22,410 - preprocessing.feature_engineering_03 - INFO - Dataset processado salvo em: d:\\projetos\\roadSafeAi\\RoadSafeAI\\files\\processed\\datatran_ma_processado.csv\n",
      "2025-02-02 16:24:22,413 - pipeline - INFO - Ajustando codificador de dados...\n",
      "2025-02-02 16:24:22,413 - preprocessing.data_encoding_04 - INFO - Iniciando fit dos encoders...\n",
      "2025-02-02 16:24:22,421 - preprocessing.data_encoding_04 - INFO - Coluna municipio: 110 valores únicos\n",
      "2025-02-02 16:24:22,424 - preprocessing.data_encoding_04 - INFO - Coluna causa_acidente: 92 valores únicos\n",
      "2025-02-02 16:24:22,428 - preprocessing.data_encoding_04 - INFO - Coluna tipo_acidente: 24 valores únicos\n",
      "2025-02-02 16:24:22,430 - preprocessing.data_encoding_04 - INFO - Coluna classificacao_acidente: 4 valores únicos\n",
      "2025-02-02 16:24:22,432 - preprocessing.data_encoding_04 - INFO - Coluna sentido_via: 3 valores únicos\n",
      "2025-02-02 16:24:22,434 - preprocessing.data_encoding_04 - INFO - Coluna condicao_metereologica: 13 valores únicos\n",
      "2025-02-02 16:24:22,435 - preprocessing.data_encoding_04 - INFO - Coluna tipo_pista: 3 valores únicos\n",
      "2025-02-02 16:24:22,437 - preprocessing.data_encoding_04 - INFO - Coluna uso_solo: 2 valores únicos\n",
      "2025-02-02 16:24:22,439 - preprocessing.data_encoding_04 - INFO - Coluna causa_acidente_grupo: 9 valores únicos\n",
      "2025-02-02 16:24:22,440 - preprocessing.data_encoding_04 - INFO - Label Encoder ajustado para periodo_dia\n",
      "2025-02-02 16:24:22,441 - preprocessing.data_encoding_04 - INFO - Label Encoder ajustado para dia_semana\n",
      "2025-02-02 16:24:22,469 - preprocessing.data_encoding_04 - INFO - OneHot Encoder ajustado para ['classificacao_acidente', 'sentido_via', 'tipo_pista', 'uso_solo']\n",
      "2025-02-02 16:24:22,533 - preprocessing.data_encoding_04 - INFO - Target Encoder ajustado para municipio\n",
      "2025-02-02 16:24:22,597 - preprocessing.data_encoding_04 - INFO - Target Encoder ajustado para causa_acidente\n",
      "2025-02-02 16:24:22,671 - preprocessing.data_encoding_04 - INFO - Target Encoder ajustado para tipo_acidente\n",
      "2025-02-02 16:24:22,740 - preprocessing.data_encoding_04 - INFO - Target Encoder ajustado para condicao_metereologica\n",
      "2025-02-02 16:24:22,801 - preprocessing.data_encoding_04 - INFO - Target Encoder ajustado para causa_acidente_grupo\n",
      "2025-02-02 16:24:22,803 - pipeline - INFO - Iniciando codificação de dados...\n",
      "2025-02-02 16:24:22,823 - preprocessing.data_encoding_04 - INFO - Label Encoding aplicado em periodo_dia\n",
      "2025-02-02 16:24:22,838 - preprocessing.data_encoding_04 - INFO - Label Encoding aplicado em dia_semana\n",
      "2025-02-02 16:24:22,869 - preprocessing.data_encoding_04 - INFO - OneHot Encoding aplicado em ['classificacao_acidente', 'sentido_via', 'tipo_pista', 'uso_solo']\n",
      "2025-02-02 16:24:22,877 - preprocessing.data_encoding_04 - INFO - Target Encoding aplicado em municipio\n",
      "2025-02-02 16:24:22,884 - preprocessing.data_encoding_04 - INFO - Target Encoding aplicado em causa_acidente\n",
      "2025-02-02 16:24:22,891 - preprocessing.data_encoding_04 - INFO - Target Encoding aplicado em tipo_acidente\n",
      "2025-02-02 16:24:22,898 - preprocessing.data_encoding_04 - INFO - Target Encoding aplicado em condicao_metereologica\n",
      "2025-02-02 16:24:22,903 - preprocessing.data_encoding_04 - INFO - Target Encoding aplicado em causa_acidente_grupo\n",
      "2025-02-02 16:24:22,905 - pipeline - INFO - Dimensões após pré-processamento: (34137, 27)\n",
      "2025-02-02 16:24:22,906 - preprocessing.data_split_05 - INFO - Iniciando preparação dos dados...\n",
      "2025-02-02 16:24:22,912 - preprocessing.data_split_05 - INFO - Colunas removidas: ['data', 'causa_acidente']\n",
      "2025-02-02 16:24:22,914 - preprocessing.data_split_05 - INFO - Distribuição inicial das classes:\n",
      "2025-02-02 16:24:22,917 - preprocessing.data_split_05 - INFO - \n",
      "Distribuição das classes:\n",
      "2025-02-02 16:24:22,918 - preprocessing.data_split_05 - INFO - - Classe sem_vitimas: 42.89%\n",
      "2025-02-02 16:24:22,918 - preprocessing.data_split_05 - INFO - - Classe leve: 25.91%\n",
      "2025-02-02 16:24:22,919 - preprocessing.data_split_05 - INFO - - Classe grave: 19.82%\n",
      "2025-02-02 16:24:22,919 - preprocessing.data_split_05 - INFO - - Classe fatal: 11.38%\n",
      "2025-02-02 16:24:22,957 - preprocessing.data_split_05 - INFO - \n",
      "Dimensões dos conjuntos:\n",
      "2025-02-02 16:24:22,958 - preprocessing.data_split_05 - INFO - - Treino: (20481, 24)\n",
      "2025-02-02 16:24:22,959 - preprocessing.data_split_05 - INFO - - Validação: (6828, 24)\n",
      "2025-02-02 16:24:22,960 - preprocessing.data_split_05 - INFO - - Teste: (6828, 24)\n",
      "2025-02-02 16:24:22,962 - preprocessing.data_split_05 - INFO - \n",
      "Distribuição das classes - Treino:\n",
      "2025-02-02 16:24:22,963 - preprocessing.data_split_05 - INFO - - Classe sem_vitimas: 42.89%\n",
      "2025-02-02 16:24:22,963 - preprocessing.data_split_05 - INFO - - Classe leve: 25.91%\n",
      "2025-02-02 16:24:22,964 - preprocessing.data_split_05 - INFO - - Classe grave: 19.82%\n",
      "2025-02-02 16:24:22,964 - preprocessing.data_split_05 - INFO - - Classe fatal: 11.39%\n",
      "2025-02-02 16:24:22,966 - preprocessing.data_split_05 - INFO - \n",
      "Distribuição das classes - Validação:\n",
      "2025-02-02 16:24:22,967 - preprocessing.data_split_05 - INFO - - Classe sem_vitimas: 42.88%\n",
      "2025-02-02 16:24:22,967 - preprocessing.data_split_05 - INFO - - Classe leve: 25.91%\n",
      "2025-02-02 16:24:22,968 - preprocessing.data_split_05 - INFO - - Classe grave: 19.83%\n",
      "2025-02-02 16:24:22,968 - preprocessing.data_split_05 - INFO - - Classe fatal: 11.38%\n",
      "2025-02-02 16:24:22,969 - preprocessing.data_split_05 - INFO - \n",
      "Distribuição das classes - Teste:\n",
      "2025-02-02 16:24:22,970 - preprocessing.data_split_05 - INFO - - Classe sem_vitimas: 42.90%\n",
      "2025-02-02 16:24:22,971 - preprocessing.data_split_05 - INFO - - Classe leve: 25.91%\n",
      "2025-02-02 16:24:22,971 - preprocessing.data_split_05 - INFO - - Classe grave: 19.82%\n",
      "2025-02-02 16:24:22,971 - preprocessing.data_split_05 - INFO - - Classe fatal: 11.38%\n",
      "2025-02-02 16:24:22,972 - preprocessing.data_split_05 - INFO - Preparação dos dados concluída!\n",
      "2025-02-02 16:24:22,988 - pipeline - INFO - Tipos de dados após conversão:\n",
      "2025-02-02 16:24:22,989 - pipeline - INFO - - dia_semana: int32\n",
      "2025-02-02 16:24:22,989 - pipeline - INFO - - br: float64\n",
      "2025-02-02 16:24:22,990 - pipeline - INFO - - km: int32\n",
      "2025-02-02 16:24:22,991 - pipeline - INFO - - municipio: float64\n",
      "2025-02-02 16:24:22,992 - pipeline - INFO - - tipo_acidente: float64\n",
      "2025-02-02 16:24:22,993 - pipeline - INFO - - condicao_metereologica: float64\n",
      "2025-02-02 16:24:22,993 - pipeline - INFO - - pessoas: int32\n",
      "2025-02-02 16:24:22,994 - pipeline - INFO - - mortos: int32\n",
      "2025-02-02 16:24:22,994 - pipeline - INFO - - feridos_leves: int32\n",
      "2025-02-02 16:24:22,995 - pipeline - INFO - - feridos_graves: int32\n",
      "2025-02-02 16:24:22,995 - pipeline - INFO - - ilesos: int32\n",
      "2025-02-02 16:24:22,996 - pipeline - INFO - - ignorados: int32\n",
      "2025-02-02 16:24:22,996 - pipeline - INFO - - veiculos: int32\n",
      "2025-02-02 16:24:22,996 - pipeline - INFO - - ano: int32\n",
      "2025-02-02 16:24:22,997 - pipeline - INFO - - periodo_dia: int32\n",
      "2025-02-02 16:24:22,997 - pipeline - INFO - - causa_acidente_grupo: float64\n",
      "2025-02-02 16:24:22,998 - pipeline - INFO - - classificacao_acidente_com vitimas feridas: float64\n",
      "2025-02-02 16:24:22,998 - pipeline - INFO - - classificacao_acidente_ignorado: float64\n",
      "2025-02-02 16:24:22,999 - pipeline - INFO - - classificacao_acidente_sem vitimas: float64\n",
      "2025-02-02 16:24:22,999 - pipeline - INFO - - sentido_via_Decrescente: float64\n",
      "2025-02-02 16:24:23,000 - pipeline - INFO - - sentido_via_Não Informado: float64\n",
      "2025-02-02 16:24:23,000 - pipeline - INFO - - tipo_pista_Múltipla: float64\n",
      "2025-02-02 16:24:23,000 - pipeline - INFO - - tipo_pista_Simples: float64\n",
      "2025-02-02 16:24:23,001 - pipeline - INFO - - uso_solo_Sim: float64\n",
      "2025-02-02 16:24:23,002 - pipeline - INFO - Aplicando estratégia de balanceamento smote...\n",
      "2025-02-02 16:24:23,002 - preprocessing.data_balancing_06 - INFO - Aplicando SMOTE...\n",
      "2025-02-02 16:24:23,004 - preprocessing.data_balancing_06 - INFO - \n",
      "Distribuição das classes - antes do SMOTE:\n",
      "2025-02-02 16:24:23,004 - preprocessing.data_balancing_06 - INFO - - Classe sem_vitimas: 8784 amostras (42.89%)\n",
      "2025-02-02 16:24:23,005 - preprocessing.data_balancing_06 - INFO - - Classe leve: 5306 amostras (25.91%)\n",
      "2025-02-02 16:24:23,006 - preprocessing.data_balancing_06 - INFO - - Classe grave: 4059 amostras (19.82%)\n",
      "2025-02-02 16:24:23,007 - preprocessing.data_balancing_06 - INFO - - Classe fatal: 2332 amostras (11.39%)\n",
      "d:\\projetos\\roadSafeAi\\RoadSafeAI\\env\\lib\\site-packages\\sklearn\\base.py:474: FutureWarning: `BaseEstimator._validate_data` is deprecated in 1.6 and will be removed in 1.7. Use `sklearn.utils.validation.validate_data` instead. This function becomes public and is part of the scikit-learn developer API.\n",
      "  warnings.warn(\n",
      "2025-02-02 16:24:23,312 - preprocessing.data_balancing_06 - INFO - \n",
      "Distribuição das classes - após SMOTE:\n",
      "2025-02-02 16:24:23,314 - preprocessing.data_balancing_06 - INFO - - Classe grave: 8784 amostras (25.00%)\n",
      "2025-02-02 16:24:23,314 - preprocessing.data_balancing_06 - INFO - - Classe sem_vitimas: 8784 amostras (25.00%)\n",
      "2025-02-02 16:24:23,315 - preprocessing.data_balancing_06 - INFO - - Classe leve: 8784 amostras (25.00%)\n",
      "2025-02-02 16:24:23,315 - preprocessing.data_balancing_06 - INFO - - Classe fatal: 8784 amostras (25.00%)\n",
      "2025-02-02 16:24:23,318 - __main__ - INFO - \n",
      "Pré-processamento finalizado com sucesso!\n",
      "2025-02-02 16:24:23,319 - __main__ - INFO - Formato dados de treino: (35136, 24)\n",
      "2025-02-02 16:24:23,319 - __main__ - INFO - Formato dados de validação: (6828, 24)\n",
      "2025-02-02 16:24:23,320 - __main__ - INFO - Formato dados de teste: (6828, 24)\n",
      "2025-02-02 16:24:23,320 - __main__ - INFO - \n",
      "Features:\n",
      "2025-02-02 16:24:23,321 - __main__ - INFO - - ordinal_encoded: 2 features\n",
      "2025-02-02 16:24:23,321 - __main__ - INFO - - onehot_encoded: 4 features\n",
      "2025-02-02 16:24:23,322 - __main__ - INFO - - target_encoded: 5 features\n"
     ]
    }
   ],
   "source": [
    "pipeline = PreprocessingPipeline(\n",
    "    collect_new_data=True,\n",
    "    dataset_type='base',\n",
    "    test_size=0.2,\n",
    "    valid_size=0.2,\n",
    "    balance_strategy='smote',\n",
    "    random_state=42\n",
    ")\n",
    "\n",
    "X_train, X_valid, X_test, y_train, y_valid, y_test = pipeline.process_data()\n",
    "\n",
    "feature_names = pipeline.get_feature_names()\n",
    "\n",
    "logger.info(\"\\nPré-processamento finalizado com sucesso!\")\n",
    "logger.info(f\"Formato dados de treino: {X_train.shape}\")\n",
    "logger.info(f\"Formato dados de validação: {X_valid.shape}\")\n",
    "logger.info(f\"Formato dados de teste: {X_test.shape}\")\n",
    "logger.info(\"\\nFeatures:\")\n",
    "for feature_type, features in feature_names.items():\n",
    "    logger.info(f\"- {feature_type}: {len(features)} features\")"
   ]
  },
  {
   "cell_type": "markdown",
   "metadata": {},
   "source": [
    "### Proximo passo: Desenvolvimento de pipeline de modelagem para classificação de gravidade de acidentes"
   ]
  }
 ],
 "metadata": {
  "kernelspec": {
   "display_name": "env",
   "language": "python",
   "name": "python3"
  },
  "language_info": {
   "codemirror_mode": {
    "name": "ipython",
    "version": 3
   },
   "file_extension": ".py",
   "mimetype": "text/x-python",
   "name": "python",
   "nbconvert_exporter": "python",
   "pygments_lexer": "ipython3",
   "version": "3.9.0"
  }
 },
 "nbformat": 4,
 "nbformat_minor": 2
}
