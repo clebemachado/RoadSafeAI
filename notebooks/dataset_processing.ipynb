{
 "cells": [
  {
   "cell_type": "code",
   "execution_count": 1,
   "metadata": {},
   "outputs": [],
   "source": [
    "import sys\n",
    "import os\n",
    "from pathlib import Path\n",
    "import pandas as pd\n",
    "import matplotlib.pyplot as plt\n",
    "import seaborn as sns"
   ]
  },
  {
   "cell_type": "code",
   "execution_count": 2,
   "metadata": {},
   "outputs": [],
   "source": [
    "notebook_path = Path.cwd()\n",
    "project_root = notebook_path.parent\n",
    "sys.path.append(str(project_root))"
   ]
  },
  {
   "cell_type": "code",
   "execution_count": 3,
   "metadata": {},
   "outputs": [
    {
     "data": {
      "text/plain": [
       "WindowsPath('d:/projetos/roadSafeAi/RoadSafeAI')"
      ]
     },
     "execution_count": 3,
     "metadata": {},
     "output_type": "execute_result"
    }
   ],
   "source": [
    "project_root"
   ]
  },
  {
   "cell_type": "code",
   "execution_count": 4,
   "metadata": {},
   "outputs": [],
   "source": [
    "from src.preprocessing.merge_datasets import DatasetMerger"
   ]
  },
  {
   "cell_type": "code",
   "execution_count": 5,
   "metadata": {},
   "outputs": [],
   "source": [
    "merger = DatasetMerger()"
   ]
  },
  {
   "cell_type": "code",
   "execution_count": 6,
   "metadata": {},
   "outputs": [
    {
     "data": {
      "text/plain": [
       "WindowsPath('d:/projetos/roadSafeAi/RoadSafeAI')"
      ]
     },
     "execution_count": 6,
     "metadata": {},
     "output_type": "execute_result"
    }
   ],
   "source": [
    "merger.project_root"
   ]
  },
  {
   "cell_type": "code",
   "execution_count": 7,
   "metadata": {},
   "outputs": [
    {
     "name": "stdout",
     "output_type": "stream",
     "text": [
      "Arquivos encontrados:\n",
      "- datatran2007.csv\n",
      "- datatran2008.csv\n",
      "- datatran2009.csv\n",
      "- datatran2010.csv\n",
      "- datatran2011.csv\n",
      "- datatran2012.csv\n",
      "- datatran2013.csv\n",
      "- datatran2014.csv\n",
      "- datatran2015.csv\n",
      "- datatran2016.csv\n",
      "- datatran2017.csv\n",
      "- datatran2018.csv\n",
      "- datatran2019.csv\n",
      "- datatran2020.csv\n",
      "- datatran2021.csv\n",
      "- datatran2022.csv\n",
      "- datatran2023.csv\n",
      "- datatran2024.csv\n"
     ]
    }
   ],
   "source": [
    "available_files = sorted(Path(merger.data_dir).glob('datatran*.csv'))\n",
    "print(\"Arquivos encontrados:\")\n",
    "for file in available_files:\n",
    "  print(f\"- {file.name}\")"
   ]
  },
  {
   "cell_type": "code",
   "execution_count": 8,
   "metadata": {},
   "outputs": [
    {
     "name": "stdout",
     "output_type": "stream",
     "text": [
      "f\n",
      "Analisando {file_path.name}:\n",
      "d:\\projetos\\roadSafeAi\\RoadSafeAI\\data\\raw\\datatran2007.csv\n",
      "\n",
      "Dimensões: (127675, 26)\n",
      "\n",
      "Colunas presentes:\n",
      "- id\n",
      "- data_inversa\n",
      "- dia_semana\n",
      "- horario\n",
      "- uf\n",
      "- br\n",
      "- km\n",
      "- municipio\n",
      "- causa_acidente\n",
      "- tipo_acidente\n",
      "- classificacao_acidente\n",
      "- fase_dia\n",
      "- sentido_via\n",
      "- condicao_metereologica\n",
      "- tipo_pista\n",
      "- tracado_via\n",
      "- uso_solo\n",
      "- ano\n",
      "- pessoas\n",
      "- mortos\n",
      "- feridos_leves\n",
      "- feridos_graves\n",
      "- ilesos\n",
      "- ignorados\n",
      "- feridos\n",
      "- veiculos\n",
      "\n",
      "Primeiras linhas:\n"
     ]
    },
    {
     "name": "stderr",
     "output_type": "stream",
     "text": [
      "d:\\projetos\\roadSafeAi\\RoadSafeAI\\src\\preprocessing\\merge_datasets.py:48: DtypeWarning: Columns (5,6) have mixed types. Specify dtype option on import or set low_memory=False.\n",
      "  df = pd.read_csv(file_path, encoding='cp1252', sep=';')\n"
     ]
    },
    {
     "data": {
      "text/html": [
       "<div>\n",
       "<style scoped>\n",
       "    .dataframe tbody tr th:only-of-type {\n",
       "        vertical-align: middle;\n",
       "    }\n",
       "\n",
       "    .dataframe tbody tr th {\n",
       "        vertical-align: top;\n",
       "    }\n",
       "\n",
       "    .dataframe thead th {\n",
       "        text-align: right;\n",
       "    }\n",
       "</style>\n",
       "<table border=\"1\" class=\"dataframe\">\n",
       "  <thead>\n",
       "    <tr style=\"text-align: right;\">\n",
       "      <th></th>\n",
       "      <th>id</th>\n",
       "      <th>data_inversa</th>\n",
       "      <th>dia_semana</th>\n",
       "      <th>horario</th>\n",
       "      <th>uf</th>\n",
       "      <th>br</th>\n",
       "      <th>km</th>\n",
       "      <th>municipio</th>\n",
       "      <th>causa_acidente</th>\n",
       "      <th>tipo_acidente</th>\n",
       "      <th>...</th>\n",
       "      <th>uso_solo</th>\n",
       "      <th>ano</th>\n",
       "      <th>pessoas</th>\n",
       "      <th>mortos</th>\n",
       "      <th>feridos_leves</th>\n",
       "      <th>feridos_graves</th>\n",
       "      <th>ilesos</th>\n",
       "      <th>ignorados</th>\n",
       "      <th>feridos</th>\n",
       "      <th>veiculos</th>\n",
       "    </tr>\n",
       "  </thead>\n",
       "  <tbody>\n",
       "    <tr>\n",
       "      <th>0</th>\n",
       "      <td>10</td>\n",
       "      <td>11/06/2007</td>\n",
       "      <td>Segunda</td>\n",
       "      <td>15:30:00</td>\n",
       "      <td>MG</td>\n",
       "      <td>381</td>\n",
       "      <td>623.2</td>\n",
       "      <td>OLIVEIRA</td>\n",
       "      <td>Falta de atenção</td>\n",
       "      <td>Colisão frontal</td>\n",
       "      <td>...</td>\n",
       "      <td>Rural</td>\n",
       "      <td>2007</td>\n",
       "      <td>9</td>\n",
       "      <td>0</td>\n",
       "      <td>4</td>\n",
       "      <td>0</td>\n",
       "      <td>5</td>\n",
       "      <td>0</td>\n",
       "      <td>4</td>\n",
       "      <td>6</td>\n",
       "    </tr>\n",
       "    <tr>\n",
       "      <th>1</th>\n",
       "      <td>10</td>\n",
       "      <td>11/06/2007</td>\n",
       "      <td>Segunda</td>\n",
       "      <td>15:30:00</td>\n",
       "      <td>MG</td>\n",
       "      <td>381</td>\n",
       "      <td>623.2</td>\n",
       "      <td>OLIVEIRA</td>\n",
       "      <td>Falta de atenção</td>\n",
       "      <td>Colisão frontal</td>\n",
       "      <td>...</td>\n",
       "      <td>Rural</td>\n",
       "      <td>2007</td>\n",
       "      <td>9</td>\n",
       "      <td>0</td>\n",
       "      <td>4</td>\n",
       "      <td>0</td>\n",
       "      <td>5</td>\n",
       "      <td>0</td>\n",
       "      <td>4</td>\n",
       "      <td>6</td>\n",
       "    </tr>\n",
       "    <tr>\n",
       "      <th>2</th>\n",
       "      <td>1032898</td>\n",
       "      <td>13/08/2007</td>\n",
       "      <td>Segunda</td>\n",
       "      <td>14:25:00</td>\n",
       "      <td>MG</td>\n",
       "      <td>40</td>\n",
       "      <td>585.5</td>\n",
       "      <td>ITABIRITO</td>\n",
       "      <td>Outras</td>\n",
       "      <td>Saída de Pista</td>\n",
       "      <td>...</td>\n",
       "      <td>Rural</td>\n",
       "      <td>2007</td>\n",
       "      <td>3</td>\n",
       "      <td>0</td>\n",
       "      <td>0</td>\n",
       "      <td>1</td>\n",
       "      <td>2</td>\n",
       "      <td>0</td>\n",
       "      <td>1</td>\n",
       "      <td>1</td>\n",
       "    </tr>\n",
       "    <tr>\n",
       "      <th>3</th>\n",
       "      <td>1051130</td>\n",
       "      <td>12/02/2007</td>\n",
       "      <td>Segunda</td>\n",
       "      <td>02:10:00</td>\n",
       "      <td>MA</td>\n",
       "      <td>135</td>\n",
       "      <td>11.0</td>\n",
       "      <td>SAO LUIS</td>\n",
       "      <td>Animais na Pista</td>\n",
       "      <td>Atropelamento de animal</td>\n",
       "      <td>...</td>\n",
       "      <td>Urbano</td>\n",
       "      <td>2007</td>\n",
       "      <td>5</td>\n",
       "      <td>2</td>\n",
       "      <td>2</td>\n",
       "      <td>1</td>\n",
       "      <td>0</td>\n",
       "      <td>0</td>\n",
       "      <td>3</td>\n",
       "      <td>1</td>\n",
       "    </tr>\n",
       "    <tr>\n",
       "      <th>4</th>\n",
       "      <td>1066824</td>\n",
       "      <td>20/11/2007</td>\n",
       "      <td>Terça</td>\n",
       "      <td>05:30:00</td>\n",
       "      <td>CE</td>\n",
       "      <td>222</td>\n",
       "      <td>30.8</td>\n",
       "      <td>CAUCAIA</td>\n",
       "      <td>Defeito mecânico em veículo</td>\n",
       "      <td>Capotamento</td>\n",
       "      <td>...</td>\n",
       "      <td>Rural</td>\n",
       "      <td>2007</td>\n",
       "      <td>1</td>\n",
       "      <td>0</td>\n",
       "      <td>1</td>\n",
       "      <td>0</td>\n",
       "      <td>0</td>\n",
       "      <td>0</td>\n",
       "      <td>1</td>\n",
       "      <td>1</td>\n",
       "    </tr>\n",
       "  </tbody>\n",
       "</table>\n",
       "<p>5 rows × 26 columns</p>\n",
       "</div>"
      ],
      "text/plain": [
       "        id data_inversa dia_semana   horario  uf   br     km  municipio  \\\n",
       "0       10   11/06/2007    Segunda  15:30:00  MG  381  623.2   OLIVEIRA   \n",
       "1       10   11/06/2007    Segunda  15:30:00  MG  381  623.2   OLIVEIRA   \n",
       "2  1032898   13/08/2007    Segunda  14:25:00  MG   40  585.5  ITABIRITO   \n",
       "3  1051130   12/02/2007    Segunda  02:10:00  MA  135   11.0   SAO LUIS   \n",
       "4  1066824   20/11/2007      Terça  05:30:00  CE  222   30.8    CAUCAIA   \n",
       "\n",
       "                causa_acidente            tipo_acidente  ... uso_solo   ano  \\\n",
       "0             Falta de atenção          Colisão frontal  ...    Rural  2007   \n",
       "1             Falta de atenção          Colisão frontal  ...    Rural  2007   \n",
       "2                       Outras           Saída de Pista  ...    Rural  2007   \n",
       "3             Animais na Pista  Atropelamento de animal  ...   Urbano  2007   \n",
       "4  Defeito mecânico em veículo              Capotamento  ...    Rural  2007   \n",
       "\n",
       "  pessoas mortos feridos_leves feridos_graves ilesos  ignorados  feridos  \\\n",
       "0       9      0             4              0      5          0        4   \n",
       "1       9      0             4              0      5          0        4   \n",
       "2       3      0             0              1      2          0        1   \n",
       "3       5      2             2              1      0          0        3   \n",
       "4       1      0             1              0      0          0        1   \n",
       "\n",
       "   veiculos  \n",
       "0         6  \n",
       "1         6  \n",
       "2         1  \n",
       "3         1  \n",
       "4         1  \n",
       "\n",
       "[5 rows x 26 columns]"
      ]
     },
     "metadata": {},
     "output_type": "display_data"
    },
    {
     "name": "stdout",
     "output_type": "stream",
     "text": [
      "f\n",
      "Analisando {file_path.name}:\n",
      "d:\\projetos\\roadSafeAi\\RoadSafeAI\\data\\raw\\datatran2024.csv\n",
      "\n",
      "Dimensões: (66527, 30)\n",
      "\n",
      "Colunas presentes:\n",
      "- id\n",
      "- data_inversa\n",
      "- dia_semana\n",
      "- horario\n",
      "- uf\n",
      "- br\n",
      "- km\n",
      "- municipio\n",
      "- causa_acidente\n",
      "- tipo_acidente\n",
      "- classificacao_acidente\n",
      "- fase_dia\n",
      "- sentido_via\n",
      "- condicao_metereologica\n",
      "- tipo_pista\n",
      "- tracado_via\n",
      "- uso_solo\n",
      "- pessoas\n",
      "- mortos\n",
      "- feridos_leves\n",
      "- feridos_graves\n",
      "- ilesos\n",
      "- ignorados\n",
      "- feridos\n",
      "- veiculos\n",
      "- latitude\n",
      "- longitude\n",
      "- regional\n",
      "- delegacia\n",
      "- uop\n",
      "\n",
      "Primeiras linhas:\n"
     ]
    },
    {
     "data": {
      "text/html": [
       "<div>\n",
       "<style scoped>\n",
       "    .dataframe tbody tr th:only-of-type {\n",
       "        vertical-align: middle;\n",
       "    }\n",
       "\n",
       "    .dataframe tbody tr th {\n",
       "        vertical-align: top;\n",
       "    }\n",
       "\n",
       "    .dataframe thead th {\n",
       "        text-align: right;\n",
       "    }\n",
       "</style>\n",
       "<table border=\"1\" class=\"dataframe\">\n",
       "  <thead>\n",
       "    <tr style=\"text-align: right;\">\n",
       "      <th></th>\n",
       "      <th>id</th>\n",
       "      <th>data_inversa</th>\n",
       "      <th>dia_semana</th>\n",
       "      <th>horario</th>\n",
       "      <th>uf</th>\n",
       "      <th>br</th>\n",
       "      <th>km</th>\n",
       "      <th>municipio</th>\n",
       "      <th>causa_acidente</th>\n",
       "      <th>tipo_acidente</th>\n",
       "      <th>...</th>\n",
       "      <th>feridos_graves</th>\n",
       "      <th>ilesos</th>\n",
       "      <th>ignorados</th>\n",
       "      <th>feridos</th>\n",
       "      <th>veiculos</th>\n",
       "      <th>latitude</th>\n",
       "      <th>longitude</th>\n",
       "      <th>regional</th>\n",
       "      <th>delegacia</th>\n",
       "      <th>uop</th>\n",
       "    </tr>\n",
       "  </thead>\n",
       "  <tbody>\n",
       "    <tr>\n",
       "      <th>0</th>\n",
       "      <td>571789.0</td>\n",
       "      <td>2024-01-01</td>\n",
       "      <td>segunda-feira</td>\n",
       "      <td>03:56:00</td>\n",
       "      <td>ES</td>\n",
       "      <td>101</td>\n",
       "      <td>38</td>\n",
       "      <td>CONCEICAO DA BARRA</td>\n",
       "      <td>Ultrapassagem Indevida</td>\n",
       "      <td>Colisão lateral sentido oposto</td>\n",
       "      <td>...</td>\n",
       "      <td>1</td>\n",
       "      <td>1</td>\n",
       "      <td>1</td>\n",
       "      <td>1</td>\n",
       "      <td>3</td>\n",
       "      <td>-18,48261</td>\n",
       "      <td>-39,92379</td>\n",
       "      <td>SPRF-ES</td>\n",
       "      <td>DEL04-ES</td>\n",
       "      <td>UOP02-DEL04-ES</td>\n",
       "    </tr>\n",
       "    <tr>\n",
       "      <th>1</th>\n",
       "      <td>571804.0</td>\n",
       "      <td>2024-01-01</td>\n",
       "      <td>segunda-feira</td>\n",
       "      <td>04:50:00</td>\n",
       "      <td>PI</td>\n",
       "      <td>343</td>\n",
       "      <td>185</td>\n",
       "      <td>PIRIPIRI</td>\n",
       "      <td>Manobra de mudança de faixa</td>\n",
       "      <td>Colisão frontal</td>\n",
       "      <td>...</td>\n",
       "      <td>0</td>\n",
       "      <td>1</td>\n",
       "      <td>0</td>\n",
       "      <td>0</td>\n",
       "      <td>2</td>\n",
       "      <td>-4,29603281</td>\n",
       "      <td>-41,76732659</td>\n",
       "      <td>SPRF-PI</td>\n",
       "      <td>DEL02-PI</td>\n",
       "      <td>UOP01-DEL02-PI</td>\n",
       "    </tr>\n",
       "    <tr>\n",
       "      <th>2</th>\n",
       "      <td>571806.0</td>\n",
       "      <td>2024-01-01</td>\n",
       "      <td>segunda-feira</td>\n",
       "      <td>04:30:00</td>\n",
       "      <td>BA</td>\n",
       "      <td>116</td>\n",
       "      <td>578</td>\n",
       "      <td>BREJOES</td>\n",
       "      <td>Ingestão de álcool pelo condutor</td>\n",
       "      <td>Colisão frontal</td>\n",
       "      <td>...</td>\n",
       "      <td>0</td>\n",
       "      <td>1</td>\n",
       "      <td>2</td>\n",
       "      <td>0</td>\n",
       "      <td>4</td>\n",
       "      <td>-13,07158302</td>\n",
       "      <td>-39,9611107</td>\n",
       "      <td>SPRF-BA</td>\n",
       "      <td>DEL03-BA</td>\n",
       "      <td>UOP02-DEL03-BA</td>\n",
       "    </tr>\n",
       "    <tr>\n",
       "      <th>3</th>\n",
       "      <td>571818.0</td>\n",
       "      <td>2024-01-01</td>\n",
       "      <td>segunda-feira</td>\n",
       "      <td>06:30:00</td>\n",
       "      <td>SE</td>\n",
       "      <td>101</td>\n",
       "      <td>18</td>\n",
       "      <td>MALHADA DOS BOIS</td>\n",
       "      <td>Reação tardia ou ineficiente do condutor</td>\n",
       "      <td>Saída de leito carroçável</td>\n",
       "      <td>...</td>\n",
       "      <td>1</td>\n",
       "      <td>0</td>\n",
       "      <td>2</td>\n",
       "      <td>1</td>\n",
       "      <td>3</td>\n",
       "      <td>-10,35601949</td>\n",
       "      <td>-36,90552235</td>\n",
       "      <td>SPRF-SE</td>\n",
       "      <td>DEL02-SE</td>\n",
       "      <td>UOP02-DEL02-SE</td>\n",
       "    </tr>\n",
       "    <tr>\n",
       "      <th>4</th>\n",
       "      <td>571838.0</td>\n",
       "      <td>2024-01-01</td>\n",
       "      <td>segunda-feira</td>\n",
       "      <td>05:00:00</td>\n",
       "      <td>MT</td>\n",
       "      <td>364</td>\n",
       "      <td>240</td>\n",
       "      <td>RONDONOPOLIS</td>\n",
       "      <td>Condutor deixou de manter distância do veículo...</td>\n",
       "      <td>Colisão traseira</td>\n",
       "      <td>...</td>\n",
       "      <td>0</td>\n",
       "      <td>2</td>\n",
       "      <td>1</td>\n",
       "      <td>0</td>\n",
       "      <td>3</td>\n",
       "      <td>-16,17914141</td>\n",
       "      <td>-54,78905337</td>\n",
       "      <td>SPRF-MT</td>\n",
       "      <td>DEL02-MT</td>\n",
       "      <td>UOP01-DEL02-MT</td>\n",
       "    </tr>\n",
       "  </tbody>\n",
       "</table>\n",
       "<p>5 rows × 30 columns</p>\n",
       "</div>"
      ],
      "text/plain": [
       "         id data_inversa     dia_semana   horario  uf   br   km  \\\n",
       "0  571789.0   2024-01-01  segunda-feira  03:56:00  ES  101   38   \n",
       "1  571804.0   2024-01-01  segunda-feira  04:50:00  PI  343  185   \n",
       "2  571806.0   2024-01-01  segunda-feira  04:30:00  BA  116  578   \n",
       "3  571818.0   2024-01-01  segunda-feira  06:30:00  SE  101   18   \n",
       "4  571838.0   2024-01-01  segunda-feira  05:00:00  MT  364  240   \n",
       "\n",
       "            municipio                                     causa_acidente  \\\n",
       "0  CONCEICAO DA BARRA                             Ultrapassagem Indevida   \n",
       "1            PIRIPIRI                        Manobra de mudança de faixa   \n",
       "2             BREJOES                   Ingestão de álcool pelo condutor   \n",
       "3    MALHADA DOS BOIS           Reação tardia ou ineficiente do condutor   \n",
       "4        RONDONOPOLIS  Condutor deixou de manter distância do veículo...   \n",
       "\n",
       "                    tipo_acidente  ... feridos_graves ilesos ignorados  \\\n",
       "0  Colisão lateral sentido oposto  ...              1      1         1   \n",
       "1                 Colisão frontal  ...              0      1         0   \n",
       "2                 Colisão frontal  ...              0      1         2   \n",
       "3       Saída de leito carroçável  ...              1      0         2   \n",
       "4                Colisão traseira  ...              0      2         1   \n",
       "\n",
       "  feridos veiculos      latitude     longitude  regional  delegacia  \\\n",
       "0       1        3     -18,48261     -39,92379   SPRF-ES   DEL04-ES   \n",
       "1       0        2   -4,29603281  -41,76732659   SPRF-PI   DEL02-PI   \n",
       "2       0        4  -13,07158302   -39,9611107   SPRF-BA   DEL03-BA   \n",
       "3       1        3  -10,35601949  -36,90552235   SPRF-SE   DEL02-SE   \n",
       "4       0        3  -16,17914141  -54,78905337   SPRF-MT   DEL02-MT   \n",
       "\n",
       "              uop  \n",
       "0  UOP02-DEL04-ES  \n",
       "1  UOP01-DEL02-PI  \n",
       "2  UOP02-DEL03-BA  \n",
       "3  UOP02-DEL02-SE  \n",
       "4  UOP01-DEL02-MT  \n",
       "\n",
       "[5 rows x 30 columns]"
      ]
     },
     "metadata": {},
     "output_type": "display_data"
    }
   ],
   "source": [
    "def analyze_dataset(file_path):\n",
    "  print(\"f\\nAnalisando {file_path.name}:\")\n",
    "  df = merger.read_csv_file(file_path)\n",
    "  \n",
    "  print(f\"\\nDimensões: {df.shape}\")\n",
    "  print(f\"\\nColunas presentes:\")\n",
    "  for col in df.columns:\n",
    "    print(f\"- {col}\")\n",
    "    \n",
    "  print(f\"\\nPrimeiras linhas:\")\n",
    "  display(df.head())\n",
    "  \n",
    "  return df\n",
    "\n",
    "oldest_file = min(available_files)\n",
    "newes_file = max(available_files)\n",
    "\n",
    "df_old = analyze_dataset(oldest_file)\n",
    "df_new = analyze_dataset(newes_file)"
   ]
  },
  {
   "cell_type": "code",
   "execution_count": 9,
   "metadata": {},
   "outputs": [
    {
     "name": "stderr",
     "output_type": "stream",
     "text": [
      "2025-01-24 09:39:38,398 - src.preprocessing.merge_datasets - INFO - Processando dataset do ano 2007\n"
     ]
    },
    {
     "name": "stdout",
     "output_type": "stream",
     "text": [
      "Iniciando processo de unificação...\n",
      "d:\\projetos\\roadSafeAi\\RoadSafeAI\\data\\raw\\datatran2007.csv\n"
     ]
    },
    {
     "name": "stderr",
     "output_type": "stream",
     "text": [
      "d:\\projetos\\roadSafeAi\\RoadSafeAI\\src\\preprocessing\\merge_datasets.py:48: DtypeWarning: Columns (5,6) have mixed types. Specify dtype option on import or set low_memory=False.\n",
      "  df = pd.read_csv(file_path, encoding='cp1252', sep=';')\n",
      "2025-01-24 09:39:38,836 - src.preprocessing.merge_datasets - INFO - Processando dataset do ano 2008\n"
     ]
    },
    {
     "name": "stdout",
     "output_type": "stream",
     "text": [
      "d:\\projetos\\roadSafeAi\\RoadSafeAI\\data\\raw\\datatran2008.csv\n"
     ]
    },
    {
     "name": "stderr",
     "output_type": "stream",
     "text": [
      "d:\\projetos\\roadSafeAi\\RoadSafeAI\\src\\preprocessing\\merge_datasets.py:48: DtypeWarning: Columns (5,6) have mixed types. Specify dtype option on import or set low_memory=False.\n",
      "  df = pd.read_csv(file_path, encoding='cp1252', sep=';')\n",
      "2025-01-24 09:39:39,300 - src.preprocessing.merge_datasets - INFO - Processando dataset do ano 2009\n"
     ]
    },
    {
     "name": "stdout",
     "output_type": "stream",
     "text": [
      "d:\\projetos\\roadSafeAi\\RoadSafeAI\\data\\raw\\datatran2009.csv\n"
     ]
    },
    {
     "name": "stderr",
     "output_type": "stream",
     "text": [
      "2025-01-24 09:39:39,664 - src.preprocessing.merge_datasets - INFO - Processando dataset do ano 2010\n"
     ]
    },
    {
     "name": "stdout",
     "output_type": "stream",
     "text": [
      "d:\\projetos\\roadSafeAi\\RoadSafeAI\\data\\raw\\datatran2010.csv\n"
     ]
    },
    {
     "name": "stderr",
     "output_type": "stream",
     "text": [
      "2025-01-24 09:39:40,063 - src.preprocessing.merge_datasets - INFO - Processando dataset do ano 2011\n"
     ]
    },
    {
     "name": "stdout",
     "output_type": "stream",
     "text": [
      "d:\\projetos\\roadSafeAi\\RoadSafeAI\\data\\raw\\datatran2011.csv\n"
     ]
    },
    {
     "name": "stderr",
     "output_type": "stream",
     "text": [
      "2025-01-24 09:39:40,475 - src.preprocessing.merge_datasets - INFO - Processando dataset do ano 2012\n"
     ]
    },
    {
     "name": "stdout",
     "output_type": "stream",
     "text": [
      "d:\\projetos\\roadSafeAi\\RoadSafeAI\\data\\raw\\datatran2012.csv\n"
     ]
    },
    {
     "name": "stderr",
     "output_type": "stream",
     "text": [
      "d:\\projetos\\roadSafeAi\\RoadSafeAI\\src\\preprocessing\\merge_datasets.py:48: DtypeWarning: Columns (5,6) have mixed types. Specify dtype option on import or set low_memory=False.\n",
      "  df = pd.read_csv(file_path, encoding='cp1252', sep=';')\n",
      "2025-01-24 09:39:41,081 - src.preprocessing.merge_datasets - INFO - Processando dataset do ano 2013\n"
     ]
    },
    {
     "name": "stdout",
     "output_type": "stream",
     "text": [
      "d:\\projetos\\roadSafeAi\\RoadSafeAI\\data\\raw\\datatran2013.csv\n"
     ]
    },
    {
     "name": "stderr",
     "output_type": "stream",
     "text": [
      "2025-01-24 09:39:41,516 - src.preprocessing.merge_datasets - INFO - Processando dataset do ano 2014\n"
     ]
    },
    {
     "name": "stdout",
     "output_type": "stream",
     "text": [
      "d:\\projetos\\roadSafeAi\\RoadSafeAI\\data\\raw\\datatran2014.csv\n"
     ]
    },
    {
     "name": "stderr",
     "output_type": "stream",
     "text": [
      "2025-01-24 09:39:41,899 - src.preprocessing.merge_datasets - INFO - Processando dataset do ano 2015\n"
     ]
    },
    {
     "name": "stdout",
     "output_type": "stream",
     "text": [
      "d:\\projetos\\roadSafeAi\\RoadSafeAI\\data\\raw\\datatran2015.csv\n"
     ]
    },
    {
     "name": "stderr",
     "output_type": "stream",
     "text": [
      "2025-01-24 09:39:42,172 - src.preprocessing.merge_datasets - INFO - Processando dataset do ano 2016\n"
     ]
    },
    {
     "name": "stdout",
     "output_type": "stream",
     "text": [
      "d:\\projetos\\roadSafeAi\\RoadSafeAI\\data\\raw\\datatran2016.csv\n"
     ]
    },
    {
     "name": "stderr",
     "output_type": "stream",
     "text": [
      "2025-01-24 09:39:42,452 - src.preprocessing.merge_datasets - INFO - Processando dataset do ano 2017\n"
     ]
    },
    {
     "name": "stdout",
     "output_type": "stream",
     "text": [
      "d:\\projetos\\roadSafeAi\\RoadSafeAI\\data\\raw\\datatran2017.csv\n"
     ]
    },
    {
     "name": "stderr",
     "output_type": "stream",
     "text": [
      "2025-01-24 09:39:42,876 - src.preprocessing.merge_datasets - INFO - Processando dataset do ano 2018\n"
     ]
    },
    {
     "name": "stdout",
     "output_type": "stream",
     "text": [
      "d:\\projetos\\roadSafeAi\\RoadSafeAI\\data\\raw\\datatran2018.csv\n"
     ]
    },
    {
     "name": "stderr",
     "output_type": "stream",
     "text": [
      "2025-01-24 09:39:43,191 - src.preprocessing.merge_datasets - INFO - Processando dataset do ano 2019\n"
     ]
    },
    {
     "name": "stdout",
     "output_type": "stream",
     "text": [
      "d:\\projetos\\roadSafeAi\\RoadSafeAI\\data\\raw\\datatran2019.csv\n"
     ]
    },
    {
     "name": "stderr",
     "output_type": "stream",
     "text": [
      "2025-01-24 09:39:43,482 - src.preprocessing.merge_datasets - INFO - Processando dataset do ano 2020\n"
     ]
    },
    {
     "name": "stdout",
     "output_type": "stream",
     "text": [
      "d:\\projetos\\roadSafeAi\\RoadSafeAI\\data\\raw\\datatran2020.csv\n"
     ]
    },
    {
     "name": "stderr",
     "output_type": "stream",
     "text": [
      "2025-01-24 09:39:43,753 - src.preprocessing.merge_datasets - INFO - Processando dataset do ano 2021\n"
     ]
    },
    {
     "name": "stdout",
     "output_type": "stream",
     "text": [
      "d:\\projetos\\roadSafeAi\\RoadSafeAI\\data\\raw\\datatran2021.csv\n"
     ]
    },
    {
     "name": "stderr",
     "output_type": "stream",
     "text": [
      "2025-01-24 09:39:44,090 - src.preprocessing.merge_datasets - INFO - Processando dataset do ano 2022\n"
     ]
    },
    {
     "name": "stdout",
     "output_type": "stream",
     "text": [
      "d:\\projetos\\roadSafeAi\\RoadSafeAI\\data\\raw\\datatran2022.csv\n"
     ]
    },
    {
     "name": "stderr",
     "output_type": "stream",
     "text": [
      "2025-01-24 09:39:44,425 - src.preprocessing.merge_datasets - INFO - Processando dataset do ano 2023\n"
     ]
    },
    {
     "name": "stdout",
     "output_type": "stream",
     "text": [
      "d:\\projetos\\roadSafeAi\\RoadSafeAI\\data\\raw\\datatran2023.csv\n"
     ]
    },
    {
     "name": "stderr",
     "output_type": "stream",
     "text": [
      "2025-01-24 09:39:44,713 - src.preprocessing.merge_datasets - INFO - Processando dataset do ano 2024\n"
     ]
    },
    {
     "name": "stdout",
     "output_type": "stream",
     "text": [
      "d:\\projetos\\roadSafeAi\\RoadSafeAI\\data\\raw\\datatran2024.csv\n",
      "\n",
      "Dataset unificado criado com sucesso!\n",
      "Dimensões finais: (2115709, 26)\n"
     ]
    }
   ],
   "source": [
    "print(\"Iniciando processo de unificação...\")\n",
    "merged_df_base = merger.merge_dataset_base()\n",
    "print(f\"\\nDataset unificado criado com sucesso!\")\n",
    "print(f\"Dimensões finais: {merged_df_base.shape}\")\n"
   ]
  },
  {
   "cell_type": "code",
   "execution_count": 10,
   "metadata": {},
   "outputs": [
    {
     "name": "stderr",
     "output_type": "stream",
     "text": [
      "2025-01-24 09:40:04,380 - src.preprocessing.merge_datasets - INFO - Dataset unificado salvo em d:\\projetos\\roadSafeAi\\RoadSafeAI\\data\\processed\\datatran_merged.csv\n",
      "2025-01-24 09:40:04,391 - src.preprocessing.merge_datasets - INFO - Metadados salvos em d:\\projetos\\roadSafeAi\\RoadSafeAI\\data\\processed\\metadata.txt\n"
     ]
    },
    {
     "name": "stdout",
     "output_type": "stream",
     "text": [
      "Dataset salvo com sucesso!\n"
     ]
    }
   ],
   "source": [
    "merger.save_merged_dataset(merged_df_base)\n",
    "print(\"Dataset salvo com sucesso!\")"
   ]
  },
  {
   "cell_type": "code",
   "execution_count": 11,
   "metadata": {},
   "outputs": [
    {
     "name": "stdout",
     "output_type": "stream",
     "text": [
      "\n",
      "Tamanho do arquivo: 389.34 MB\n"
     ]
    }
   ],
   "source": [
    "output_file_base = Path(merger.output_dir) / 'datatran_merged.csv'\n",
    "file_size_mb_base = output_file_base.stat().st_size / (1024 * 1024)\n",
    "print(f\"\\nTamanho do arquivo: {file_size_mb_base:.2f} MB\")"
   ]
  },
  {
   "cell_type": "code",
   "execution_count": 12,
   "metadata": {},
   "outputs": [
    {
     "data": {
      "text/html": [
       "<div>\n",
       "<style scoped>\n",
       "    .dataframe tbody tr th:only-of-type {\n",
       "        vertical-align: middle;\n",
       "    }\n",
       "\n",
       "    .dataframe tbody tr th {\n",
       "        vertical-align: top;\n",
       "    }\n",
       "\n",
       "    .dataframe thead th {\n",
       "        text-align: right;\n",
       "    }\n",
       "</style>\n",
       "<table border=\"1\" class=\"dataframe\">\n",
       "  <thead>\n",
       "    <tr style=\"text-align: right;\">\n",
       "      <th></th>\n",
       "      <th>id</th>\n",
       "      <th>data_inversa</th>\n",
       "      <th>dia_semana</th>\n",
       "      <th>horario</th>\n",
       "      <th>uf</th>\n",
       "      <th>br</th>\n",
       "      <th>km</th>\n",
       "      <th>municipio</th>\n",
       "      <th>causa_acidente</th>\n",
       "      <th>tipo_acidente</th>\n",
       "      <th>...</th>\n",
       "      <th>uso_solo</th>\n",
       "      <th>ano</th>\n",
       "      <th>pessoas</th>\n",
       "      <th>mortos</th>\n",
       "      <th>feridos_leves</th>\n",
       "      <th>feridos_graves</th>\n",
       "      <th>ilesos</th>\n",
       "      <th>ignorados</th>\n",
       "      <th>feridos</th>\n",
       "      <th>veiculos</th>\n",
       "    </tr>\n",
       "  </thead>\n",
       "  <tbody>\n",
       "    <tr>\n",
       "      <th>0</th>\n",
       "      <td>175582.0</td>\n",
       "      <td>2007-01-01</td>\n",
       "      <td>Segunda</td>\n",
       "      <td>18:25:00</td>\n",
       "      <td>ES</td>\n",
       "      <td>101.0</td>\n",
       "      <td>268.2</td>\n",
       "      <td>SERRA</td>\n",
       "      <td>Falta de atenção</td>\n",
       "      <td>Colisão traseira</td>\n",
       "      <td>...</td>\n",
       "      <td>Urbano</td>\n",
       "      <td>2007</td>\n",
       "      <td>2</td>\n",
       "      <td>0</td>\n",
       "      <td>0</td>\n",
       "      <td>0</td>\n",
       "      <td>1</td>\n",
       "      <td>1</td>\n",
       "      <td>0</td>\n",
       "      <td>2</td>\n",
       "    </tr>\n",
       "    <tr>\n",
       "      <th>1</th>\n",
       "      <td>175133.0</td>\n",
       "      <td>2007-01-01</td>\n",
       "      <td>Segunda</td>\n",
       "      <td>01:52:00</td>\n",
       "      <td>RR</td>\n",
       "      <td>174.0</td>\n",
       "      <td>505.0</td>\n",
       "      <td>BOA VISTA</td>\n",
       "      <td>Falta de atenção</td>\n",
       "      <td>Colisão traseira</td>\n",
       "      <td>...</td>\n",
       "      <td>Urbano</td>\n",
       "      <td>2007</td>\n",
       "      <td>3</td>\n",
       "      <td>0</td>\n",
       "      <td>0</td>\n",
       "      <td>0</td>\n",
       "      <td>3</td>\n",
       "      <td>0</td>\n",
       "      <td>0</td>\n",
       "      <td>3</td>\n",
       "    </tr>\n",
       "    <tr>\n",
       "      <th>2</th>\n",
       "      <td>175131.0</td>\n",
       "      <td>2007-01-01</td>\n",
       "      <td>Segunda</td>\n",
       "      <td>04:10:00</td>\n",
       "      <td>SP</td>\n",
       "      <td>116.0</td>\n",
       "      <td>334.0</td>\n",
       "      <td>JUQUITIBA</td>\n",
       "      <td>Falta de atenção</td>\n",
       "      <td>Saída de Pista</td>\n",
       "      <td>...</td>\n",
       "      <td>Rural</td>\n",
       "      <td>2007</td>\n",
       "      <td>3</td>\n",
       "      <td>0</td>\n",
       "      <td>1</td>\n",
       "      <td>1</td>\n",
       "      <td>1</td>\n",
       "      <td>0</td>\n",
       "      <td>2</td>\n",
       "      <td>1</td>\n",
       "    </tr>\n",
       "    <tr>\n",
       "      <th>3</th>\n",
       "      <td>175124.0</td>\n",
       "      <td>2007-01-01</td>\n",
       "      <td>Segunda</td>\n",
       "      <td>05:30:00</td>\n",
       "      <td>SE</td>\n",
       "      <td>235.0</td>\n",
       "      <td>107.7</td>\n",
       "      <td>CARIRA</td>\n",
       "      <td>Falta de atenção</td>\n",
       "      <td>Saída de Pista</td>\n",
       "      <td>...</td>\n",
       "      <td>Rural</td>\n",
       "      <td>2007</td>\n",
       "      <td>2</td>\n",
       "      <td>0</td>\n",
       "      <td>0</td>\n",
       "      <td>2</td>\n",
       "      <td>0</td>\n",
       "      <td>0</td>\n",
       "      <td>2</td>\n",
       "      <td>1</td>\n",
       "    </tr>\n",
       "    <tr>\n",
       "      <th>4</th>\n",
       "      <td>175122.0</td>\n",
       "      <td>2007-01-01</td>\n",
       "      <td>Segunda</td>\n",
       "      <td>12:00:00</td>\n",
       "      <td>SP</td>\n",
       "      <td>116.0</td>\n",
       "      <td>352.0</td>\n",
       "      <td>MIRACATU</td>\n",
       "      <td>Falta de atenção</td>\n",
       "      <td>Colisão traseira</td>\n",
       "      <td>...</td>\n",
       "      <td>Rural</td>\n",
       "      <td>2007</td>\n",
       "      <td>3</td>\n",
       "      <td>0</td>\n",
       "      <td>0</td>\n",
       "      <td>0</td>\n",
       "      <td>3</td>\n",
       "      <td>0</td>\n",
       "      <td>0</td>\n",
       "      <td>3</td>\n",
       "    </tr>\n",
       "  </tbody>\n",
       "</table>\n",
       "<p>5 rows × 26 columns</p>\n",
       "</div>"
      ],
      "text/plain": [
       "         id data_inversa dia_semana   horario  uf     br     km  municipio  \\\n",
       "0  175582.0   2007-01-01    Segunda  18:25:00  ES  101.0  268.2      SERRA   \n",
       "1  175133.0   2007-01-01    Segunda  01:52:00  RR  174.0  505.0  BOA VISTA   \n",
       "2  175131.0   2007-01-01    Segunda  04:10:00  SP  116.0  334.0  JUQUITIBA   \n",
       "3  175124.0   2007-01-01    Segunda  05:30:00  SE  235.0  107.7     CARIRA   \n",
       "4  175122.0   2007-01-01    Segunda  12:00:00  SP  116.0  352.0   MIRACATU   \n",
       "\n",
       "     causa_acidente     tipo_acidente  ... uso_solo   ano pessoas mortos  \\\n",
       "0  Falta de atenção  Colisão traseira  ...   Urbano  2007       2      0   \n",
       "1  Falta de atenção  Colisão traseira  ...   Urbano  2007       3      0   \n",
       "2  Falta de atenção    Saída de Pista  ...    Rural  2007       3      0   \n",
       "3  Falta de atenção    Saída de Pista  ...    Rural  2007       2      0   \n",
       "4  Falta de atenção  Colisão traseira  ...    Rural  2007       3      0   \n",
       "\n",
       "  feridos_leves feridos_graves ilesos  ignorados  feridos  veiculos  \n",
       "0             0              0      1          1        0         2  \n",
       "1             0              0      3          0        0         3  \n",
       "2             1              1      1          0        2         1  \n",
       "3             0              2      0          0        2         1  \n",
       "4             0              0      3          0        0         3  \n",
       "\n",
       "[5 rows x 26 columns]"
      ]
     },
     "execution_count": 12,
     "metadata": {},
     "output_type": "execute_result"
    }
   ],
   "source": [
    "df_merged = pd.read_csv(output_file_base,sep=\";\")\n",
    "df_merged.head()"
   ]
  },
  {
   "cell_type": "code",
   "execution_count": 13,
   "metadata": {},
   "outputs": [
    {
     "name": "stderr",
     "output_type": "stream",
     "text": [
      "2025-01-24 09:41:41,111 - src.preprocessing.merge_datasets - INFO - Processando dataset do ano 2017\n"
     ]
    },
    {
     "name": "stdout",
     "output_type": "stream",
     "text": [
      "Iniciando processo de unificação dataset 2017 a 2024...\n",
      "d:\\projetos\\roadSafeAi\\RoadSafeAI\\data\\raw\\datatran2017.csv\n"
     ]
    },
    {
     "name": "stderr",
     "output_type": "stream",
     "text": [
      "2025-01-24 09:41:41,647 - src.preprocessing.merge_datasets - INFO - Processando dataset do ano 2018\n"
     ]
    },
    {
     "name": "stdout",
     "output_type": "stream",
     "text": [
      "d:\\projetos\\roadSafeAi\\RoadSafeAI\\data\\raw\\datatran2018.csv\n"
     ]
    },
    {
     "name": "stderr",
     "output_type": "stream",
     "text": [
      "2025-01-24 09:41:42,078 - src.preprocessing.merge_datasets - INFO - Processando dataset do ano 2019\n"
     ]
    },
    {
     "name": "stdout",
     "output_type": "stream",
     "text": [
      "d:\\projetos\\roadSafeAi\\RoadSafeAI\\data\\raw\\datatran2019.csv\n"
     ]
    },
    {
     "name": "stderr",
     "output_type": "stream",
     "text": [
      "2025-01-24 09:41:42,480 - src.preprocessing.merge_datasets - INFO - Processando dataset do ano 2020\n"
     ]
    },
    {
     "name": "stdout",
     "output_type": "stream",
     "text": [
      "d:\\projetos\\roadSafeAi\\RoadSafeAI\\data\\raw\\datatran2020.csv\n"
     ]
    },
    {
     "name": "stderr",
     "output_type": "stream",
     "text": [
      "2025-01-24 09:41:42,811 - src.preprocessing.merge_datasets - INFO - Processando dataset do ano 2021\n"
     ]
    },
    {
     "name": "stdout",
     "output_type": "stream",
     "text": [
      "d:\\projetos\\roadSafeAi\\RoadSafeAI\\data\\raw\\datatran2021.csv\n"
     ]
    },
    {
     "name": "stderr",
     "output_type": "stream",
     "text": [
      "2025-01-24 09:41:43,177 - src.preprocessing.merge_datasets - INFO - Processando dataset do ano 2022\n"
     ]
    },
    {
     "name": "stdout",
     "output_type": "stream",
     "text": [
      "d:\\projetos\\roadSafeAi\\RoadSafeAI\\data\\raw\\datatran2022.csv\n"
     ]
    },
    {
     "name": "stderr",
     "output_type": "stream",
     "text": [
      "2025-01-24 09:41:43,525 - src.preprocessing.merge_datasets - INFO - Processando dataset do ano 2023\n"
     ]
    },
    {
     "name": "stdout",
     "output_type": "stream",
     "text": [
      "d:\\projetos\\roadSafeAi\\RoadSafeAI\\data\\raw\\datatran2023.csv\n"
     ]
    },
    {
     "name": "stderr",
     "output_type": "stream",
     "text": [
      "2025-01-24 09:41:43,895 - src.preprocessing.merge_datasets - INFO - Processando dataset do ano 2024\n"
     ]
    },
    {
     "name": "stdout",
     "output_type": "stream",
     "text": [
      "d:\\projetos\\roadSafeAi\\RoadSafeAI\\data\\raw\\datatran2024.csv\n",
      "\n",
      "Dataset unificado criado com sucesso!\n",
      "Dimensões finais: (553509, 31)\n"
     ]
    }
   ],
   "source": [
    "print(\"Iniciando processo de unificação dataset 2017 a 2024...\")\n",
    "merged_df_complete = merger.merge_dataset_complete()\n",
    "print(f\"\\nDataset unificado criado com sucesso!\")\n",
    "print(f\"Dimensões finais: {merged_df_complete.shape}\")\n"
   ]
  },
  {
   "cell_type": "code",
   "execution_count": 14,
   "metadata": {},
   "outputs": [
    {
     "name": "stderr",
     "output_type": "stream",
     "text": [
      "2025-01-24 09:41:50,259 - src.preprocessing.merge_datasets - INFO - Dataset unificado salvo em d:\\projetos\\roadSafeAi\\RoadSafeAI\\data\\processed\\datatran_merged_2017_2024.csv\n",
      "2025-01-24 09:41:50,262 - src.preprocessing.merge_datasets - INFO - Metadados salvos em d:\\projetos\\roadSafeAi\\RoadSafeAI\\data\\processed\\metadata.txt\n"
     ]
    },
    {
     "name": "stdout",
     "output_type": "stream",
     "text": [
      "Dataset salvo com sucesso!\n"
     ]
    }
   ],
   "source": [
    "merger.save_merged_dataset(merged_df_complete, \"datatran_merged_2017_2024.csv\")\n",
    "print(\"Dataset salvo com sucesso!\")"
   ]
  },
  {
   "cell_type": "code",
   "execution_count": 15,
   "metadata": {},
   "outputs": [
    {
     "name": "stdout",
     "output_type": "stream",
     "text": [
      "\n",
      "Tamanho do arquivo: 141.49 MB\n"
     ]
    }
   ],
   "source": [
    "output_file_complete = Path(merger.output_dir) / 'datatran_merged_2017_2024.csv'\n",
    "file_size_mb_complete = output_file_complete.stat().st_size / (1024 * 1024)\n",
    "print(f\"\\nTamanho do arquivo: {file_size_mb_complete:.2f} MB\")"
   ]
  },
  {
   "cell_type": "code",
   "execution_count": 16,
   "metadata": {},
   "outputs": [
    {
     "data": {
      "text/html": [
       "<div>\n",
       "<style scoped>\n",
       "    .dataframe tbody tr th:only-of-type {\n",
       "        vertical-align: middle;\n",
       "    }\n",
       "\n",
       "    .dataframe tbody tr th {\n",
       "        vertical-align: top;\n",
       "    }\n",
       "\n",
       "    .dataframe thead th {\n",
       "        text-align: right;\n",
       "    }\n",
       "</style>\n",
       "<table border=\"1\" class=\"dataframe\">\n",
       "  <thead>\n",
       "    <tr style=\"text-align: right;\">\n",
       "      <th></th>\n",
       "      <th>id</th>\n",
       "      <th>data_inversa</th>\n",
       "      <th>dia_semana</th>\n",
       "      <th>horario</th>\n",
       "      <th>uf</th>\n",
       "      <th>br</th>\n",
       "      <th>km</th>\n",
       "      <th>municipio</th>\n",
       "      <th>causa_acidente</th>\n",
       "      <th>tipo_acidente</th>\n",
       "      <th>...</th>\n",
       "      <th>ilesos</th>\n",
       "      <th>ignorados</th>\n",
       "      <th>feridos</th>\n",
       "      <th>veiculos</th>\n",
       "      <th>latitude</th>\n",
       "      <th>longitude</th>\n",
       "      <th>regional</th>\n",
       "      <th>delegacia</th>\n",
       "      <th>uop</th>\n",
       "      <th>ano</th>\n",
       "    </tr>\n",
       "  </thead>\n",
       "  <tbody>\n",
       "    <tr>\n",
       "      <th>0</th>\n",
       "      <td>17.0</td>\n",
       "      <td>2017-01-01</td>\n",
       "      <td>domingo</td>\n",
       "      <td>01:45:00</td>\n",
       "      <td>RS</td>\n",
       "      <td>116</td>\n",
       "      <td>34.9</td>\n",
       "      <td>VACARIA</td>\n",
       "      <td>Defeito Mecânico no Veículo</td>\n",
       "      <td>Colisão traseira</td>\n",
       "      <td>...</td>\n",
       "      <td>2</td>\n",
       "      <td>0</td>\n",
       "      <td>4</td>\n",
       "      <td>2</td>\n",
       "      <td>-28.507120</td>\n",
       "      <td>-50.941176</td>\n",
       "      <td>SPRF-RS</td>\n",
       "      <td>DEL05-RS</td>\n",
       "      <td>UOP03-DEL05-RS</td>\n",
       "      <td>2017</td>\n",
       "    </tr>\n",
       "    <tr>\n",
       "      <th>1</th>\n",
       "      <td>83.0</td>\n",
       "      <td>2017-01-01</td>\n",
       "      <td>domingo</td>\n",
       "      <td>08:04:00</td>\n",
       "      <td>PR</td>\n",
       "      <td>116</td>\n",
       "      <td>168.0</td>\n",
       "      <td>QUITANDINHA</td>\n",
       "      <td>Falta de Atenção à Condução</td>\n",
       "      <td>Colisão transversal</td>\n",
       "      <td>...</td>\n",
       "      <td>0</td>\n",
       "      <td>0</td>\n",
       "      <td>8</td>\n",
       "      <td>2</td>\n",
       "      <td>-25.886716</td>\n",
       "      <td>-49.506733</td>\n",
       "      <td>SPRF-PR</td>\n",
       "      <td>DEL01-PR</td>\n",
       "      <td>UOP03-DEL01-PR</td>\n",
       "      <td>2017</td>\n",
       "    </tr>\n",
       "    <tr>\n",
       "      <th>2</th>\n",
       "      <td>81.0</td>\n",
       "      <td>2017-01-01</td>\n",
       "      <td>domingo</td>\n",
       "      <td>07:50:00</td>\n",
       "      <td>MG</td>\n",
       "      <td>40</td>\n",
       "      <td>774.8</td>\n",
       "      <td>JUIZ DE FORA</td>\n",
       "      <td>Condutor Dormindo</td>\n",
       "      <td>Colisão com objeto estático</td>\n",
       "      <td>...</td>\n",
       "      <td>0</td>\n",
       "      <td>0</td>\n",
       "      <td>2</td>\n",
       "      <td>1</td>\n",
       "      <td>-21.658987</td>\n",
       "      <td>-43.434045</td>\n",
       "      <td>SPRF-MG</td>\n",
       "      <td>DEL05-MG</td>\n",
       "      <td>UOP01-DEL05-MG</td>\n",
       "      <td>2017</td>\n",
       "    </tr>\n",
       "    <tr>\n",
       "      <th>3</th>\n",
       "      <td>80.0</td>\n",
       "      <td>2017-01-01</td>\n",
       "      <td>domingo</td>\n",
       "      <td>00:01:00</td>\n",
       "      <td>CE</td>\n",
       "      <td>222</td>\n",
       "      <td>0.3</td>\n",
       "      <td>FORTALEZA</td>\n",
       "      <td>Desobediência às normas de trânsito pelo condutor</td>\n",
       "      <td>Colisão transversal</td>\n",
       "      <td>...</td>\n",
       "      <td>0</td>\n",
       "      <td>1</td>\n",
       "      <td>1</td>\n",
       "      <td>2</td>\n",
       "      <td>-3.736959</td>\n",
       "      <td>-38.572086</td>\n",
       "      <td>SPRF-CE</td>\n",
       "      <td>DEL01-CE</td>\n",
       "      <td>UOP01-DEL01-CE</td>\n",
       "      <td>2017</td>\n",
       "    </tr>\n",
       "    <tr>\n",
       "      <th>4</th>\n",
       "      <td>79.0</td>\n",
       "      <td>2017-01-01</td>\n",
       "      <td>domingo</td>\n",
       "      <td>06:20:00</td>\n",
       "      <td>BA</td>\n",
       "      <td>324</td>\n",
       "      <td>625.9</td>\n",
       "      <td>SALVADOR</td>\n",
       "      <td>Falta de Atenção à Condução</td>\n",
       "      <td>Colisão traseira</td>\n",
       "      <td>...</td>\n",
       "      <td>2</td>\n",
       "      <td>0</td>\n",
       "      <td>0</td>\n",
       "      <td>2</td>\n",
       "      <td>-12.960058</td>\n",
       "      <td>-38.473526</td>\n",
       "      <td>SPRF-BA</td>\n",
       "      <td>DEL01-BA</td>\n",
       "      <td>UOP01-DEL01-BA</td>\n",
       "      <td>2017</td>\n",
       "    </tr>\n",
       "  </tbody>\n",
       "</table>\n",
       "<p>5 rows × 31 columns</p>\n",
       "</div>"
      ],
      "text/plain": [
       "     id data_inversa dia_semana   horario  uf   br     km     municipio  \\\n",
       "0  17.0   2017-01-01    domingo  01:45:00  RS  116   34.9       VACARIA   \n",
       "1  83.0   2017-01-01    domingo  08:04:00  PR  116  168.0   QUITANDINHA   \n",
       "2  81.0   2017-01-01    domingo  07:50:00  MG   40  774.8  JUIZ DE FORA   \n",
       "3  80.0   2017-01-01    domingo  00:01:00  CE  222    0.3     FORTALEZA   \n",
       "4  79.0   2017-01-01    domingo  06:20:00  BA  324  625.9      SALVADOR   \n",
       "\n",
       "                                      causa_acidente  \\\n",
       "0                        Defeito Mecânico no Veículo   \n",
       "1                        Falta de Atenção à Condução   \n",
       "2                                  Condutor Dormindo   \n",
       "3  Desobediência às normas de trânsito pelo condutor   \n",
       "4                        Falta de Atenção à Condução   \n",
       "\n",
       "                 tipo_acidente  ... ilesos ignorados feridos veiculos  \\\n",
       "0             Colisão traseira  ...      2         0       4        2   \n",
       "1          Colisão transversal  ...      0         0       8        2   \n",
       "2  Colisão com objeto estático  ...      0         0       2        1   \n",
       "3          Colisão transversal  ...      0         1       1        2   \n",
       "4             Colisão traseira  ...      2         0       0        2   \n",
       "\n",
       "    latitude  longitude regional  delegacia             uop   ano  \n",
       "0 -28.507120 -50.941176  SPRF-RS   DEL05-RS  UOP03-DEL05-RS  2017  \n",
       "1 -25.886716 -49.506733  SPRF-PR   DEL01-PR  UOP03-DEL01-PR  2017  \n",
       "2 -21.658987 -43.434045  SPRF-MG   DEL05-MG  UOP01-DEL05-MG  2017  \n",
       "3  -3.736959 -38.572086  SPRF-CE   DEL01-CE  UOP01-DEL01-CE  2017  \n",
       "4 -12.960058 -38.473526  SPRF-BA   DEL01-BA  UOP01-DEL01-BA  2017  \n",
       "\n",
       "[5 rows x 31 columns]"
      ]
     },
     "execution_count": 16,
     "metadata": {},
     "output_type": "execute_result"
    }
   ],
   "source": [
    "df_merged = pd.read_csv(output_file_complete,sep=\";\")\n",
    "df_merged.head()"
   ]
  },
  {
   "cell_type": "code",
   "execution_count": 17,
   "metadata": {},
   "outputs": [
    {
     "data": {
      "text/html": [
       "<div>\n",
       "<style scoped>\n",
       "    .dataframe tbody tr th:only-of-type {\n",
       "        vertical-align: middle;\n",
       "    }\n",
       "\n",
       "    .dataframe tbody tr th {\n",
       "        vertical-align: top;\n",
       "    }\n",
       "\n",
       "    .dataframe thead th {\n",
       "        text-align: right;\n",
       "    }\n",
       "</style>\n",
       "<table border=\"1\" class=\"dataframe\">\n",
       "  <thead>\n",
       "    <tr style=\"text-align: right;\">\n",
       "      <th></th>\n",
       "      <th>id</th>\n",
       "      <th>data_inversa</th>\n",
       "      <th>dia_semana</th>\n",
       "      <th>horario</th>\n",
       "      <th>uf</th>\n",
       "      <th>br</th>\n",
       "      <th>km</th>\n",
       "      <th>municipio</th>\n",
       "      <th>causa_acidente</th>\n",
       "      <th>tipo_acidente</th>\n",
       "      <th>...</th>\n",
       "      <th>ilesos</th>\n",
       "      <th>ignorados</th>\n",
       "      <th>feridos</th>\n",
       "      <th>veiculos</th>\n",
       "      <th>latitude</th>\n",
       "      <th>longitude</th>\n",
       "      <th>regional</th>\n",
       "      <th>delegacia</th>\n",
       "      <th>uop</th>\n",
       "      <th>ano</th>\n",
       "    </tr>\n",
       "  </thead>\n",
       "  <tbody>\n",
       "    <tr>\n",
       "      <th>0</th>\n",
       "      <td>17.0</td>\n",
       "      <td>2017-01-01</td>\n",
       "      <td>domingo</td>\n",
       "      <td>01:45:00</td>\n",
       "      <td>RS</td>\n",
       "      <td>116</td>\n",
       "      <td>34.9</td>\n",
       "      <td>VACARIA</td>\n",
       "      <td>Defeito Mecânico no Veículo</td>\n",
       "      <td>Colisão traseira</td>\n",
       "      <td>...</td>\n",
       "      <td>2</td>\n",
       "      <td>0</td>\n",
       "      <td>4</td>\n",
       "      <td>2</td>\n",
       "      <td>-28.507120</td>\n",
       "      <td>-50.941176</td>\n",
       "      <td>SPRF-RS</td>\n",
       "      <td>DEL05-RS</td>\n",
       "      <td>UOP03-DEL05-RS</td>\n",
       "      <td>2017</td>\n",
       "    </tr>\n",
       "    <tr>\n",
       "      <th>1</th>\n",
       "      <td>83.0</td>\n",
       "      <td>2017-01-01</td>\n",
       "      <td>domingo</td>\n",
       "      <td>08:04:00</td>\n",
       "      <td>PR</td>\n",
       "      <td>116</td>\n",
       "      <td>168.0</td>\n",
       "      <td>QUITANDINHA</td>\n",
       "      <td>Falta de Atenção à Condução</td>\n",
       "      <td>Colisão transversal</td>\n",
       "      <td>...</td>\n",
       "      <td>0</td>\n",
       "      <td>0</td>\n",
       "      <td>8</td>\n",
       "      <td>2</td>\n",
       "      <td>-25.886716</td>\n",
       "      <td>-49.506733</td>\n",
       "      <td>SPRF-PR</td>\n",
       "      <td>DEL01-PR</td>\n",
       "      <td>UOP03-DEL01-PR</td>\n",
       "      <td>2017</td>\n",
       "    </tr>\n",
       "    <tr>\n",
       "      <th>2</th>\n",
       "      <td>81.0</td>\n",
       "      <td>2017-01-01</td>\n",
       "      <td>domingo</td>\n",
       "      <td>07:50:00</td>\n",
       "      <td>MG</td>\n",
       "      <td>40</td>\n",
       "      <td>774.8</td>\n",
       "      <td>JUIZ DE FORA</td>\n",
       "      <td>Condutor Dormindo</td>\n",
       "      <td>Colisão com objeto estático</td>\n",
       "      <td>...</td>\n",
       "      <td>0</td>\n",
       "      <td>0</td>\n",
       "      <td>2</td>\n",
       "      <td>1</td>\n",
       "      <td>-21.658987</td>\n",
       "      <td>-43.434045</td>\n",
       "      <td>SPRF-MG</td>\n",
       "      <td>DEL05-MG</td>\n",
       "      <td>UOP01-DEL05-MG</td>\n",
       "      <td>2017</td>\n",
       "    </tr>\n",
       "    <tr>\n",
       "      <th>3</th>\n",
       "      <td>80.0</td>\n",
       "      <td>2017-01-01</td>\n",
       "      <td>domingo</td>\n",
       "      <td>00:01:00</td>\n",
       "      <td>CE</td>\n",
       "      <td>222</td>\n",
       "      <td>0.3</td>\n",
       "      <td>FORTALEZA</td>\n",
       "      <td>Desobediência às normas de trânsito pelo condutor</td>\n",
       "      <td>Colisão transversal</td>\n",
       "      <td>...</td>\n",
       "      <td>0</td>\n",
       "      <td>1</td>\n",
       "      <td>1</td>\n",
       "      <td>2</td>\n",
       "      <td>-3.736959</td>\n",
       "      <td>-38.572086</td>\n",
       "      <td>SPRF-CE</td>\n",
       "      <td>DEL01-CE</td>\n",
       "      <td>UOP01-DEL01-CE</td>\n",
       "      <td>2017</td>\n",
       "    </tr>\n",
       "    <tr>\n",
       "      <th>4</th>\n",
       "      <td>79.0</td>\n",
       "      <td>2017-01-01</td>\n",
       "      <td>domingo</td>\n",
       "      <td>06:20:00</td>\n",
       "      <td>BA</td>\n",
       "      <td>324</td>\n",
       "      <td>625.9</td>\n",
       "      <td>SALVADOR</td>\n",
       "      <td>Falta de Atenção à Condução</td>\n",
       "      <td>Colisão traseira</td>\n",
       "      <td>...</td>\n",
       "      <td>2</td>\n",
       "      <td>0</td>\n",
       "      <td>0</td>\n",
       "      <td>2</td>\n",
       "      <td>-12.960058</td>\n",
       "      <td>-38.473526</td>\n",
       "      <td>SPRF-BA</td>\n",
       "      <td>DEL01-BA</td>\n",
       "      <td>UOP01-DEL01-BA</td>\n",
       "      <td>2017</td>\n",
       "    </tr>\n",
       "    <tr>\n",
       "      <th>...</th>\n",
       "      <td>...</td>\n",
       "      <td>...</td>\n",
       "      <td>...</td>\n",
       "      <td>...</td>\n",
       "      <td>...</td>\n",
       "      <td>...</td>\n",
       "      <td>...</td>\n",
       "      <td>...</td>\n",
       "      <td>...</td>\n",
       "      <td>...</td>\n",
       "      <td>...</td>\n",
       "      <td>...</td>\n",
       "      <td>...</td>\n",
       "      <td>...</td>\n",
       "      <td>...</td>\n",
       "      <td>...</td>\n",
       "      <td>...</td>\n",
       "      <td>...</td>\n",
       "      <td>...</td>\n",
       "      <td>...</td>\n",
       "      <td>...</td>\n",
       "    </tr>\n",
       "    <tr>\n",
       "      <th>553504</th>\n",
       "      <td>645249.0</td>\n",
       "      <td>2024-11-30</td>\n",
       "      <td>sábado</td>\n",
       "      <td>17:17:00</td>\n",
       "      <td>PR</td>\n",
       "      <td>376</td>\n",
       "      <td>134.2</td>\n",
       "      <td>NOVA ESPERANCA</td>\n",
       "      <td>Manobra de mudança de faixa</td>\n",
       "      <td>Colisão traseira</td>\n",
       "      <td>...</td>\n",
       "      <td>3</td>\n",
       "      <td>0</td>\n",
       "      <td>0</td>\n",
       "      <td>2</td>\n",
       "      <td>-23.194995</td>\n",
       "      <td>-52.202680</td>\n",
       "      <td>SPRF-PR</td>\n",
       "      <td>DEL09-PR</td>\n",
       "      <td>UOP02-DEL09-PR</td>\n",
       "      <td>2024</td>\n",
       "    </tr>\n",
       "    <tr>\n",
       "      <th>553505</th>\n",
       "      <td>645247.0</td>\n",
       "      <td>2024-11-30</td>\n",
       "      <td>sábado</td>\n",
       "      <td>10:20:00</td>\n",
       "      <td>GO</td>\n",
       "      <td>158</td>\n",
       "      <td>26.4</td>\n",
       "      <td>BOM JARDIM DE GOIAS</td>\n",
       "      <td>Reação tardia ou ineficiente do condutor</td>\n",
       "      <td>Colisão traseira</td>\n",
       "      <td>...</td>\n",
       "      <td>2</td>\n",
       "      <td>0</td>\n",
       "      <td>1</td>\n",
       "      <td>3</td>\n",
       "      <td>-16.083664</td>\n",
       "      <td>-52.168446</td>\n",
       "      <td>SPRF-GO</td>\n",
       "      <td>DEL04-GO</td>\n",
       "      <td>UOP02-DEL04-GO</td>\n",
       "      <td>2024</td>\n",
       "    </tr>\n",
       "    <tr>\n",
       "      <th>553506</th>\n",
       "      <td>645246.0</td>\n",
       "      <td>2024-11-30</td>\n",
       "      <td>sábado</td>\n",
       "      <td>16:30:00</td>\n",
       "      <td>SE</td>\n",
       "      <td>235</td>\n",
       "      <td>52.0</td>\n",
       "      <td>ITABAIANA</td>\n",
       "      <td>Avarias e/ou desgaste excessivo no pneu</td>\n",
       "      <td>Colisão com objeto</td>\n",
       "      <td>...</td>\n",
       "      <td>0</td>\n",
       "      <td>0</td>\n",
       "      <td>1</td>\n",
       "      <td>1</td>\n",
       "      <td>-10.693279</td>\n",
       "      <td>-37.437557</td>\n",
       "      <td>SPRF-SE</td>\n",
       "      <td>DEL01-SE</td>\n",
       "      <td>UOP02-DEL01-SE</td>\n",
       "      <td>2024</td>\n",
       "    </tr>\n",
       "    <tr>\n",
       "      <th>553507</th>\n",
       "      <td>645244.0</td>\n",
       "      <td>2024-11-30</td>\n",
       "      <td>sábado</td>\n",
       "      <td>17:00:00</td>\n",
       "      <td>SC</td>\n",
       "      <td>470</td>\n",
       "      <td>142.3</td>\n",
       "      <td>RIO DO SUL</td>\n",
       "      <td>Ultrapassagem Indevida</td>\n",
       "      <td>Colisão frontal</td>\n",
       "      <td>...</td>\n",
       "      <td>1</td>\n",
       "      <td>1</td>\n",
       "      <td>3</td>\n",
       "      <td>2</td>\n",
       "      <td>-27.229801</td>\n",
       "      <td>-49.669300</td>\n",
       "      <td>SPRF-SC</td>\n",
       "      <td>DEL04-SC</td>\n",
       "      <td>UOP02-DEL04-SC</td>\n",
       "      <td>2024</td>\n",
       "    </tr>\n",
       "    <tr>\n",
       "      <th>553508</th>\n",
       "      <td>645178.0</td>\n",
       "      <td>2024-11-30</td>\n",
       "      <td>sábado</td>\n",
       "      <td>07:58:00</td>\n",
       "      <td>MA</td>\n",
       "      <td>330</td>\n",
       "      <td>6.0</td>\n",
       "      <td>BALSAS</td>\n",
       "      <td>Acessar a via sem observar a presença dos outr...</td>\n",
       "      <td>Colisão transversal</td>\n",
       "      <td>...</td>\n",
       "      <td>2</td>\n",
       "      <td>1</td>\n",
       "      <td>1</td>\n",
       "      <td>3</td>\n",
       "      <td>-7.560447</td>\n",
       "      <td>-46.019018</td>\n",
       "      <td>SPRF-MA</td>\n",
       "      <td>DEL05-MA</td>\n",
       "      <td>UOP01-DEL05-MA</td>\n",
       "      <td>2024</td>\n",
       "    </tr>\n",
       "  </tbody>\n",
       "</table>\n",
       "<p>553509 rows × 31 columns</p>\n",
       "</div>"
      ],
      "text/plain": [
       "              id data_inversa dia_semana   horario  uf   br     km  \\\n",
       "0           17.0   2017-01-01    domingo  01:45:00  RS  116   34.9   \n",
       "1           83.0   2017-01-01    domingo  08:04:00  PR  116  168.0   \n",
       "2           81.0   2017-01-01    domingo  07:50:00  MG   40  774.8   \n",
       "3           80.0   2017-01-01    domingo  00:01:00  CE  222    0.3   \n",
       "4           79.0   2017-01-01    domingo  06:20:00  BA  324  625.9   \n",
       "...          ...          ...        ...       ...  ..  ...    ...   \n",
       "553504  645249.0   2024-11-30     sábado  17:17:00  PR  376  134.2   \n",
       "553505  645247.0   2024-11-30     sábado  10:20:00  GO  158   26.4   \n",
       "553506  645246.0   2024-11-30     sábado  16:30:00  SE  235   52.0   \n",
       "553507  645244.0   2024-11-30     sábado  17:00:00  SC  470  142.3   \n",
       "553508  645178.0   2024-11-30     sábado  07:58:00  MA  330    6.0   \n",
       "\n",
       "                  municipio  \\\n",
       "0                   VACARIA   \n",
       "1               QUITANDINHA   \n",
       "2              JUIZ DE FORA   \n",
       "3                 FORTALEZA   \n",
       "4                  SALVADOR   \n",
       "...                     ...   \n",
       "553504       NOVA ESPERANCA   \n",
       "553505  BOM JARDIM DE GOIAS   \n",
       "553506            ITABAIANA   \n",
       "553507           RIO DO SUL   \n",
       "553508               BALSAS   \n",
       "\n",
       "                                           causa_acidente  \\\n",
       "0                             Defeito Mecânico no Veículo   \n",
       "1                             Falta de Atenção à Condução   \n",
       "2                                       Condutor Dormindo   \n",
       "3       Desobediência às normas de trânsito pelo condutor   \n",
       "4                             Falta de Atenção à Condução   \n",
       "...                                                   ...   \n",
       "553504                        Manobra de mudança de faixa   \n",
       "553505           Reação tardia ou ineficiente do condutor   \n",
       "553506            Avarias e/ou desgaste excessivo no pneu   \n",
       "553507                             Ultrapassagem Indevida   \n",
       "553508  Acessar a via sem observar a presença dos outr...   \n",
       "\n",
       "                      tipo_acidente  ... ilesos ignorados feridos veiculos  \\\n",
       "0                  Colisão traseira  ...      2         0       4        2   \n",
       "1               Colisão transversal  ...      0         0       8        2   \n",
       "2       Colisão com objeto estático  ...      0         0       2        1   \n",
       "3               Colisão transversal  ...      0         1       1        2   \n",
       "4                  Colisão traseira  ...      2         0       0        2   \n",
       "...                             ...  ...    ...       ...     ...      ...   \n",
       "553504             Colisão traseira  ...      3         0       0        2   \n",
       "553505             Colisão traseira  ...      2         0       1        3   \n",
       "553506           Colisão com objeto  ...      0         0       1        1   \n",
       "553507              Colisão frontal  ...      1         1       3        2   \n",
       "553508          Colisão transversal  ...      2         1       1        3   \n",
       "\n",
       "         latitude  longitude regional  delegacia             uop   ano  \n",
       "0      -28.507120 -50.941176  SPRF-RS   DEL05-RS  UOP03-DEL05-RS  2017  \n",
       "1      -25.886716 -49.506733  SPRF-PR   DEL01-PR  UOP03-DEL01-PR  2017  \n",
       "2      -21.658987 -43.434045  SPRF-MG   DEL05-MG  UOP01-DEL05-MG  2017  \n",
       "3       -3.736959 -38.572086  SPRF-CE   DEL01-CE  UOP01-DEL01-CE  2017  \n",
       "4      -12.960058 -38.473526  SPRF-BA   DEL01-BA  UOP01-DEL01-BA  2017  \n",
       "...           ...        ...      ...        ...             ...   ...  \n",
       "553504 -23.194995 -52.202680  SPRF-PR   DEL09-PR  UOP02-DEL09-PR  2024  \n",
       "553505 -16.083664 -52.168446  SPRF-GO   DEL04-GO  UOP02-DEL04-GO  2024  \n",
       "553506 -10.693279 -37.437557  SPRF-SE   DEL01-SE  UOP02-DEL01-SE  2024  \n",
       "553507 -27.229801 -49.669300  SPRF-SC   DEL04-SC  UOP02-DEL04-SC  2024  \n",
       "553508  -7.560447 -46.019018  SPRF-MA   DEL05-MA  UOP01-DEL05-MA  2024  \n",
       "\n",
       "[553509 rows x 31 columns]"
      ]
     },
     "execution_count": 17,
     "metadata": {},
     "output_type": "execute_result"
    }
   ],
   "source": [
    "df_merged"
   ]
  },
  {
   "cell_type": "code",
   "execution_count": null,
   "metadata": {},
   "outputs": [],
   "source": []
  }
 ],
 "metadata": {
  "kernelspec": {
   "display_name": "env",
   "language": "python",
   "name": "python3"
  },
  "language_info": {
   "codemirror_mode": {
    "name": "ipython",
    "version": 3
   },
   "file_extension": ".py",
   "mimetype": "text/x-python",
   "name": "python",
   "nbconvert_exporter": "python",
   "pygments_lexer": "ipython3",
   "version": "3.9.0"
  }
 },
 "nbformat": 4,
 "nbformat_minor": 2
}
